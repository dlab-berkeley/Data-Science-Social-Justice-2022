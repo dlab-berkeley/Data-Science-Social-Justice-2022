{
 "cells": [
  {
   "cell_type": "markdown",
   "metadata": {},
   "source": [
    "# Data Science for Social Justice Workshop: Module 1 Solutions"
   ]
  },
  {
   "cell_type": "markdown",
   "metadata": {
    "id": "Nn9yXxHCWt9L"
   },
   "source": [
    "### Exercise 1\n",
    "\n",
    "Now, write your own line of code here. Use the `print()` function to print out any line of text (don't forget to use quotation marks!)."
   ]
  },
  {
   "cell_type": "code",
   "execution_count": null,
   "metadata": {
    "id": "XTsLW-FgWt9N"
   },
   "outputs": [],
   "source": [
    "print('Welcome to the course!')"
   ]
  },
  {
   "cell_type": "markdown",
   "metadata": {},
   "source": [
    "### Exercise 2\n",
    "\n",
    "In the cell below, write code which assigns a text value to a variable, then print the variable."
   ]
  },
  {
   "cell_type": "code",
   "execution_count": null,
   "metadata": {
    "colab": {
     "base_uri": "https://localhost:8080/",
     "height": 35
    },
    "executionInfo": {
     "elapsed": 8,
     "status": "ok",
     "timestamp": 1647446354495,
     "user": {
      "displayName": "Tom van Nuenen",
      "photoUrl": "https://lh3.googleusercontent.com/a-/AOh14GhuBmxDvW5I_LJfZtwlPqMFD8QGLVPP3skvpkTnuQ=s64",
      "userId": "10012302451096885058"
     },
     "user_tz": 300
    },
    "id": "ZpU-Pbx5Wt9Y",
    "outputId": "cd5d91ae-1ccd-406b-e887-c4f53254edfd"
   },
   "outputs": [],
   "source": [
    "my_variable = \"Exercise 2\"\n",
    "print(my_variable)"
   ]
  },
  {
   "cell_type": "markdown",
   "metadata": {
    "id": "Nb2freRXWt9n"
   },
   "source": [
    "### Exercise 3\n",
    "\n",
    "In the cell below there are some variables. Using `print()` statements, print out the type of each variable."
   ]
  },
  {
   "cell_type": "code",
   "execution_count": null,
   "metadata": {
    "id": "89WqaZaWWt9o"
   },
   "outputs": [],
   "source": [
    "lumberjack = \"okay\"\n",
    "my_age = 30\n",
    "i_deserve = 10000.00\n",
    "my_list = [1, 2, 3]\n",
    "my_dict = {\"eggs\": 12, \"cheese wheels\": 3}\n",
    "\n",
    "print(type(lumberjack))\n",
    "print(type(my_age))\n",
    "print(type(i_deserve))\n",
    "print(type(my_list))\n",
    "print(type(my_dict))"
   ]
  },
  {
   "cell_type": "markdown",
   "metadata": {
    "id": "WO9-SEH0Wt-9"
   },
   "source": [
    "### Exercise 4\n",
    "\n",
    "So far, we've only used operators on integers. However, you can also use some operators on strings, too.\n",
    "\n",
    "In the cells below, try using the addition and and multiplication operators on strings. What do you expect to happen?\n"
   ]
  },
  {
   "cell_type": "code",
   "execution_count": null,
   "metadata": {
    "id": "i7V6oQlHWt--"
   },
   "outputs": [],
   "source": [
    "# Define a string variable\n",
    "dog = \"woof!\"\n",
    "cat = \"meow!\"\n",
    "\n",
    "# Multiply the variable 'dog' by two and print the result\n",
    "print(dog * 2)\n",
    "\n",
    "# Add the variables 'dog' and 'cat' and print the result\n",
    "print(dog + cat)"
   ]
  },
  {
   "cell_type": "markdown",
   "metadata": {
    "id": "wDF_1HNzWt_p"
   },
   "source": [
    "### Exercise 5\n",
    "\n",
    "Create a dictionary containing different items (keys) and their quantity (values) in this classroom, and write some code that loops over this dictionary and prints out both these keys and values."
   ]
  },
  {
   "cell_type": "code",
   "execution_count": null,
   "metadata": {
    "id": "NMGgzXZ_Wt_p"
   },
   "outputs": [],
   "source": [
    "classroom = {'pencils': 2, 'crayons': 3, 'computers': 4}\n",
    "\n",
    "for item, quantity in classroom.items():\n",
    "    print(\"Item\", item, \"has quantity\", quantity)"
   ]
  },
  {
   "cell_type": "markdown",
   "metadata": {
    "id": "R0VpACFCWt_y"
   },
   "source": [
    "### Exercise 6\n",
    "\n",
    "In the code cell below, write two functions, one (called `multiply_together()` which takes three arguments, multiplies them together and prints out the result, and another (called `add_together()`) which takes two arguments, adds them together and prints the result. When you have finished and run the cell without any errors, the code in the next cell should work and print out the correct values. "
   ]
  },
  {
   "cell_type": "code",
   "execution_count": null,
   "metadata": {
    "id": "fG2vOIlGWt_z"
   },
   "outputs": [],
   "source": [
    "def multiply_together(a, b, c):\n",
    "    print(a * b * c)\n",
    "    \n",
    "def add_together(a, b):\n",
    "    print(a + b)"
   ]
  },
  {
   "cell_type": "code",
   "execution_count": null,
   "metadata": {
    "id": "RI_-9SpAWt_3"
   },
   "outputs": [],
   "source": [
    "multiply_together(2, 3, 4)  # should print 24\n",
    "add_together(10, 90)  # should print 100 "
   ]
  },
  {
   "cell_type": "markdown",
   "metadata": {
    "id": "LizSoBQzWuAB"
   },
   "source": [
    "### Exercise 7\n",
    "\n",
    "Change the code below so that it always says it's buying a loaf of bread, but will buy either 6 eggs or no eggs depending on whether `shop_has_eggs` is `True` or `False`."
   ]
  },
  {
   "cell_type": "code",
   "execution_count": null,
   "metadata": {
    "id": "s_dBy4urWuAC"
   },
   "outputs": [],
   "source": [
    "# First, define our \"shop has eggs\" variable\n",
    "shop_has_eggs = False  # Change this to False and see what happens when you run it again\n",
    "\n",
    "# Everything above will always execute\n",
    "print('I am going to the shop.')\n",
    "\n",
    "# Conditional execution\n",
    "if shop_has_eggs:\n",
    "    # When shop_has_eggs is True, this block executes\n",
    "    print('The shop has eggs. Therefore, I will buy a loaf of bread and 6 eggs.')\n",
    "else:\n",
    "    # When it's False, this block executes\n",
    "    print('The shop has no eggs. Therefore, I will buy a loaf of bread and no eggs.')\n",
    "    \n",
    "# Everything below will always execute\n",
    "print('Now I am walking home.')"
   ]
  }
 ],
 "metadata": {
  "colab": {
   "collapsed_sections": [
    "s39dQl1pWt_Z"
   ],
   "name": "Week 1 OPTIONAL - Python Basics I.ipynb",
   "provenance": []
  },
  "kernelspec": {
   "display_name": "Python 3 (ipykernel)",
   "language": "python",
   "name": "python3"
  },
  "language_info": {
   "codemirror_mode": {
    "name": "ipython",
    "version": 3
   },
   "file_extension": ".py",
   "mimetype": "text/x-python",
   "name": "python",
   "nbconvert_exporter": "python",
   "pygments_lexer": "ipython3",
   "version": "3.8.12"
  }
 },
 "nbformat": 4,
 "nbformat_minor": 4
}
