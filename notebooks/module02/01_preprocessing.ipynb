{
 "cells": [
  {
   "cell_type": "markdown",
   "metadata": {
    "id": "WClw_VPOmwXd"
   },
   "source": [
    "# Data Science for Social Justice Workshop: Module 02\n"
   ]
  },
  {
   "cell_type": "markdown",
   "metadata": {
    "id": "36-_8ZvxmwXf"
   },
   "source": [
    "## Preprocessing Text Data\n",
    "\n",
    "One type of data that we often work with is text data. This includes social media posts, novels, customer reviews, or interview transcripts. Text is a powerful source of information, but requires specific preprocessing in order to be used in machine learning contexts. In particular, machine learning algorithms are designed to work with numbers, so the end goal of text preprocessing is to have numeric features associated with each text in the dataset. In this notebook we will go over a preprocessing **pipeline** (or series of sequential steps) for text, which is the first step that we need to take in order to analyze text using our data science techniques.\n",
    "\n",
    "This notebook is designed to help you: \n",
    "\n",
    "1. Read, manipulate, and write .csv files in a Pandas Dataframe;\n",
    "2. Preprocess text with the following key skills: tokenizing, stopword removal, N-grams extraction, and lemmatization using spaCy;\n",
    "\n",
    "In module 1, you completed an introduction to Python fundamentals, including the basics of the Pandas package, which we will use extensively in this notebook. The present module is designed to accelerate your coding skills so that you can use Python effectively for generating research results. However, if you have less experience with Python, some of this will be overwhelming. That's totally normal, since it takes more than a couple of hours to learn how to code! \n",
    "\n",
    "If you are feeling overwhelmed, it can be helpful to focus on the broader purpose of the functions in the notebook for now and how we can use them to further our research purposes, rather than the details of the algorithms to cold. It can also help to remember that you don't need to memorize every function you want to use. Even programmers who have been working with Python for years will regularly refer to documentation and resources (like this notebook!) while they are developing a project. With time and experience as you progress through the notebooks you will get more comfortable with the Python code underlying this notebook.\n",
    "\n",
    "**Note**: In this notebook, swap out the data in the code for the data you plan to use for your project from the `Data` folder.\n",
    "\n",
    "**Note**: Some of the code will take a long time to execute. The `*` on the left side of the cell will indicate that the cell is still running. The nice thing about preprocessing is that once we have the pipeline complete, we will save our results so we don't need to re-run these cells.\n",
    "\n"
   ]
  },
  {
   "cell_type": "markdown",
   "metadata": {
    "id": "5YUirSNPmwXf"
   },
   "source": [
    "## Changing the Working Directory\n",
    "\n",
    "First, we will use `!pwd` to check the location of our **working directory**. This is the folder that the program is looking into when you are loading and saving files. The default the folder that the current Jupyter Notebook is in. "
   ]
  },
  {
   "cell_type": "code",
   "execution_count": null,
   "metadata": {
    "colab": {
     "base_uri": "https://localhost:8080/"
    },
    "executionInfo": {
     "elapsed": 282,
     "status": "ok",
     "timestamp": 1647459224432,
     "user": {
      "displayName": "Tom van Nuenen",
      "photoUrl": "https://lh3.googleusercontent.com/a-/AOh14GhuBmxDvW5I_LJfZtwlPqMFD8QGLVPP3skvpkTnuQ=s64",
      "userId": "10012302451096885058"
     },
     "user_tz": 300
    },
    "id": "BWrHsWO2Bhii",
    "outputId": "4960f553-b1e6-46dc-c637-4b44c27e973e"
   },
   "outputs": [],
   "source": [
    "# \"print\" working directory\n",
    "!pwd"
   ]
  },
  {
   "cell_type": "markdown",
   "metadata": {
    "id": "bd6CI1oAbEJq"
   },
   "source": [
    "We can also navigate around by importing the `os` module and using the `chdir()` ('change directory') method."
   ]
  },
  {
   "cell_type": "markdown",
   "metadata": {},
   "source": [
    "Our default working directory is wherever we launched the notebook - in our case the ```module02``` folder. We want to access the \"Data\" folder, which is two levels \"up\".\n",
    "\n",
    "We can change the file path using the following code:  `os.chdir(\"../../Data\")`\n",
    "\n",
    "This means \"go up two levels from the current directory, then go into the folder 'Data'\". You can think of this as the computer navigating the file tree. \n",
    "\n",
    "**Note:** If you run the code below twice, you will get an error. Why? Hint: Think about the starting point for the `chdir()` operation each time you run the code.\n"
   ]
  },
  {
   "cell_type": "code",
   "execution_count": null,
   "metadata": {
    "scrolled": true
   },
   "outputs": [],
   "source": [
    "import os\n",
    "# We include two ../ because we want to go two levels up in the file structure\n",
    "os.chdir('../../Data')"
   ]
  },
  {
   "cell_type": "markdown",
   "metadata": {},
   "source": [
    "Since the Data folder will always be on the same **relative path** to all of our Jupyter notebooks, we can re-use this line of code whenever we want to change our working directory to the 'Data' folder (Just make sure to import `os` as well!)\n",
    "\n",
    "Now let's check our working directory again."
   ]
  },
  {
   "cell_type": "code",
   "execution_count": null,
   "metadata": {},
   "outputs": [],
   "source": [
    "%pwd"
   ]
  },
  {
   "cell_type": "markdown",
   "metadata": {},
   "source": [
    "Great! Now we can use another function from `os` called `listdir()` ('list directory') which returns a list of all of the files in the working directory. We will use this code to make sure we are in the right place (do you see the data `.csv` files in the list?)"
   ]
  },
  {
   "cell_type": "code",
   "execution_count": null,
   "metadata": {},
   "outputs": [],
   "source": [
    "list_of_files = os.listdir()\n",
    "print(list_of_files)"
   ]
  },
  {
   "cell_type": "markdown",
   "metadata": {},
   "source": [
    "If your file paths get messed up in all of this navigation, reset the notebook is to restart your kernel using Kernel--> Restart Kernel. This is a helpful trick at any point if the code seems to start behaving unexpectedly: restart the kernel and rerun all cells in order until you find the issue.\n"
   ]
  },
  {
   "cell_type": "markdown",
   "metadata": {
    "id": "NgBDYstgmwX6"
   },
   "source": [
    "## Importing Data with Pandas\n",
    "\n",
    "First step complete! We see our .csv files with data in it. The next step is to **import** the data we are going to work with into Python so that we can work with it. The best way to do that is to import the .csv file as a Pandas dataframe, which will make a data table that we can work with. \n",
    "\n",
    "In this course we will use a dataset taken from [r/amitheasshole](reddit.com/r/AmItheAsshole). \n",
    "\n",
    "The subreddit describes itself as \"A catharsis for the frustrated moral philosopher in all of us, and a place to finally find out if you were wrong in an argument that's been bothering you. Tell us about any non-violent conflict you have experienced; give us both sides of the story, and find out if you're right, or you're the asshole.\"\n",
    "\n",
    "The subreddit has structures in place that the community follow to come to a decision about the situation. First, OP (original poster) writes up the situation, asking AITA (Am I The Asshole). In response, for eighteen hours, the community of the subreddit will respond to the post with one of five judgments: YTA (You’re The Asshole), NTA (Not The Asshole), ESH (Everyone Sucks Here), NAH (No Assholes Here), or INFO (Not Enough Info).\n",
    "\n",
    "For more info on the subreddit, see [here]('https://www.inverse.com/culture/am-i-the-asshole/amp'). \n",
    "\n",
    "First, we have to retrieve the data. We'll use a subset of the full dataset consisting of the top most popular posts, the assumption being that this will yield the most interesting results (`aita_sub_top_sm.csv`). The full dataset is available as well (in `aita_sub_full.csv`). We will use `pd.read_csv()` to import the .csv file as a DataFrame.\n"
   ]
  },
  {
   "cell_type": "code",
   "execution_count": null,
   "metadata": {
    "colab": {
     "base_uri": "https://localhost:8080/"
    },
    "executionInfo": {
     "elapsed": 2525,
     "status": "ok",
     "timestamp": 1647459522220,
     "user": {
      "displayName": "Tom van Nuenen",
      "photoUrl": "https://lh3.googleusercontent.com/a-/AOh14GhuBmxDvW5I_LJfZtwlPqMFD8QGLVPP3skvpkTnuQ=s64",
      "userId": "10012302451096885058"
     },
     "user_tz": 300
    },
    "id": "bIB1SsShP9iL",
    "outputId": "ab2ec235-c74b-4f81-f7dc-d41825605164"
   },
   "outputs": [],
   "source": [
    "import pandas as pd \n",
    "\n",
    "# importing file in df\n",
    "df = pd.read_csv('aita_sub_top_sm.csv')\n"
   ]
  },
  {
   "cell_type": "markdown",
   "metadata": {},
   "source": [
    "Now that we've loaded in the file, let's take a look at what's been imported `df.shape` will give you the number of rows and columns of the DataFrame. How many posts are in this dataset? How many columns?"
   ]
  },
  {
   "cell_type": "code",
   "execution_count": null,
   "metadata": {},
   "outputs": [],
   "source": [
    "df.shape"
   ]
  },
  {
   "cell_type": "markdown",
   "metadata": {
    "id": "yzhPGc5HEe7x"
   },
   "source": [
    "We can show the first few lines of the dataframe using the `.head()` method. This helps confirm that the file imported properly, and see examples of each column."
   ]
  },
  {
   "cell_type": "code",
   "execution_count": null,
   "metadata": {
    "colab": {
     "base_uri": "https://localhost:8080/",
     "height": 773
    },
    "executionInfo": {
     "elapsed": 313,
     "status": "ok",
     "timestamp": 1647459542614,
     "user": {
      "displayName": "Tom van Nuenen",
      "photoUrl": "https://lh3.googleusercontent.com/a-/AOh14GhuBmxDvW5I_LJfZtwlPqMFD8QGLVPP3skvpkTnuQ=s64",
      "userId": "10012302451096885058"
     },
     "user_tz": 300
    },
    "id": "TkI-FuY2mwX6",
    "outputId": "87472d59-a42b-4a76-ff02-3aaa0f474e78",
    "scrolled": true
   },
   "outputs": [],
   "source": [
    "df.head()"
   ]
  },
  {
   "cell_type": "markdown",
   "metadata": {
    "id": "RzrQAWgVqgwD"
   },
   "source": [
    "This particular dataset only includes the original posts in the subreddit (so not the comments on the posts). \n",
    "\n",
    "There is one row per post in the dataset. Only one column contains the actual text of the post (in this case `selftext`), and the reset of the columns contain metadata that can augment the text data itself in your analyses. \n",
    "\n",
    "- `created`: the time of the post's creation\n",
    "- `score`: amount of upvotes minus downvotes\n",
    "- `textlen`: amount of words\n",
    "- `num_comments`: the amount of comments\n",
    "- `distinguish`: posts that have been moderated\n",
    "- `nsfw`: posts flagged for NSFW content\n",
    "- `flair_text`: a 'tag' that users within a subreddit can add\n",
    "- `augmented_count`: how often a user or moderator has edited the text\n",
    "\n",
    "**Note:** Numeric data needs preprocessing too! You can refer to the preprocessing notebook [here](https://github.com/dlab-berkeley/Python-Machine-Learning-Fundamentals/blob/main/2_regression.ipynb) for steps for preprocessing numeric data.\n",
    "\n",
    "If you need to see which columns you have in your dataframe, you can call `list()` to quickly make a list of all columns in the dataframe."
   ]
  },
  {
   "cell_type": "code",
   "execution_count": null,
   "metadata": {
    "colab": {
     "base_uri": "https://localhost:8080/"
    },
    "executionInfo": {
     "elapsed": 3,
     "status": "ok",
     "timestamp": 1639763489064,
     "user": {
      "displayName": "Tom van Nuenen",
      "photoUrl": "https://lh3.googleusercontent.com/a-/AOh14GhuBmxDvW5I_LJfZtwlPqMFD8QGLVPP3skvpkTnuQ=s64",
      "userId": "10012302451096885058"
     },
     "user_tz": -60
    },
    "id": "7oZfTJi2rA6Z",
    "outputId": "88d7211b-3e6e-447c-87da-fcffadc71a58"
   },
   "outputs": [],
   "source": [
    "# This allows you to quickly see which columns you have\n",
    "list(df)"
   ]
  },
  {
   "cell_type": "markdown",
   "metadata": {},
   "source": [
    "## Drop Columns and Missing Values\n",
    "\n",
    "Now that we have imported the data and confirmed the import worked, let's start preprocessing the **raw data** into **processed data**. Let's first remove some columns that we are not going to use. This is helpful in keeping the data more manageable.\n",
    "`NaN` labels in a DataFrame indicate missing values. Missing values are like holes in the DataFrame, and dealing with missing values is an important part of preprocessing. \n",
    "\n",
    "[`df.drop()`](https://pandas.pydata.org/docs/reference/api/pandas.DataFrame.drop.html) takes a list of items to drop (columns or row names). The axis argument indicates whether to drop rows (`axis=0`) or columns (`axis=1`)."
   ]
  },
  {
   "cell_type": "markdown",
   "metadata": {},
   "source": [
    "Let's first remove some columns that we are not going to use."
   ]
  },
  {
   "cell_type": "code",
   "execution_count": null,
   "metadata": {},
   "outputs": [],
   "source": [
    "df = df.drop(['self','url', 'subreddit', 'augmented_at', 'augmented_count'], axis = 1)"
   ]
  },
  {
   "cell_type": "markdown",
   "metadata": {
    "id": "uaH8ZNOv50it"
   },
   "source": [
    "Nowe, let's get rid of some missing values. First, we want to select the rows of deleted posts. On Reddit, removed posts get flagged as \"[removed]\" or \"[deleted]\", so we have to get rid of this too. We can do that with the [`isin()`](https://pandas.pydata.org/docs/reference/api/pandas.DataFrame.isin.html) method. Then we can check the new length of the DataFrame to see how many rows are left.\n",
    "\n",
    "The following line of code will select all lines that do not have 'removed' or 'deleted' in the post's text. The `~` is Python syntax for 'not'. About how many posts are left in the dataset?"
   ]
  },
  {
   "cell_type": "code",
   "execution_count": null,
   "metadata": {},
   "outputs": [],
   "source": [
    "#select all rows that don't have 'removed' or 'deleted'\n",
    "df = df.loc[~df['selftext'].isin(['[removed]', '[deleted]' ]),:]\n",
    "df.shape"
   ]
  },
  {
   "cell_type": "markdown",
   "metadata": {},
   "source": [
    "Next, we need to drop **null values** These are values that are totally missing, for example if the webscraper wasn't able to extract text for the post. They are replaced with **NaN** which stands for a null value in pandas. We need to deal with null values in any column that we plan to use for analysis, which in this case is the `selftext` column. We can use [`dropna()`](https://pandas.pydata.org/docs/reference/api/pandas.DataFrame.dropna.html?highlight=dropna#pandas.DataFrame.dropna) to remove the rows with null values in the target column. "
   ]
  },
  {
   "cell_type": "code",
   "execution_count": null,
   "metadata": {},
   "outputs": [],
   "source": [
    "df = df.dropna(subset=['selftext'])"
   ]
  },
  {
   "cell_type": "markdown",
   "metadata": {
    "id": "X-Vy6u-1ZWy9"
   },
   "source": [
    "## Cleaning Text Data\n",
    "\n",
    "Text data collected in the real world is always going to be variable, which poses a challenge for analysis. But by reducing some of this variation, we can help improve our results. For example if we are counting instances of \"weather\" in text, we might want \"weather\", \"weather.\", \"Weather\" to all be counted as instances of the same word, but in raw text form, these would be treated as separate words. But by  Some common preprocessing steps are:\n",
    "\n",
    "- Removing punctuation\n",
    "- Removing URLs\n",
    "- Removing stopwords (non-content words like a, the, is)\n",
    "- Lowercasing\n",
    "- Tokenization (e.g. splitting a sentence into words)\n",
    "- Stemming (e.g. places -> place)\n",
    "- Lemmatization (changing words to 'dictionary form' e.g. runs, running, run -> run)\n",
    "\n",
    "Fortunately, we don't need to code every one of these steps. Instead, we will use [spaCy](https://spacy.io/) to do these things. If the text you'd like to process is general-purpose English language text (i.e., not domain-specific, like medical literature), spaCy is ready to use out-of-the-box. We will use the [`en_core_web_sm`](https://spacy.io/models/en/#en_core_web_sm) pipeline to cover the steps listed above. \n"
   ]
  },
  {
   "cell_type": "code",
   "execution_count": null,
   "metadata": {
    "executionInfo": {
     "elapsed": 1405,
     "status": "ok",
     "timestamp": 1647462821529,
     "user": {
      "displayName": "Tom van Nuenen",
      "photoUrl": "https://lh3.googleusercontent.com/a-/AOh14GhuBmxDvW5I_LJfZtwlPqMFD8QGLVPP3skvpkTnuQ=s64",
      "userId": "10012302451096885058"
     },
     "user_tz": 300
    },
    "id": "XYssvJqaKnua"
   },
   "outputs": [],
   "source": [
    "import spacy\n",
    "#load the English preprocessing pipeline\n",
    "nlp = spacy.load('en_core_web_sm')\n",
    "\n",
    "#parse the first reddit post in the dataset\n",
    "parsed_sub = nlp(df.selftext[0])\n",
    "print(parsed_sub)"
   ]
  },
  {
   "cell_type": "markdown",
   "metadata": {
    "id": "n94uTq2ZK3X-"
   },
   "source": [
    "The base text looks the same, but we can take a closer look at `parsed_sub` to see what happened under the hood."
   ]
  },
  {
   "cell_type": "code",
   "execution_count": null,
   "metadata": {
    "id": "49r2HQiZK23a"
   },
   "outputs": [],
   "source": [
    "#print each sentence in the parse\n",
    "for num, sentence in enumerate(parsed_sub.sents):\n",
    "    print('Sentence {}:'.format(num + 1))\n",
    "    print(sentence)\n",
    "    print('')"
   ]
  },
  {
   "cell_type": "markdown",
   "metadata": {
    "id": "er_QkUK0RmwU"
   },
   "source": [
    "We can also print out a DataFrame with some of the information spaCy has extracted from our text. \n"
   ]
  },
  {
   "cell_type": "code",
   "execution_count": null,
   "metadata": {
    "colab": {
     "base_uri": "https://localhost:8080/",
     "height": 519
    },
    "executionInfo": {
     "elapsed": 244,
     "status": "ok",
     "timestamp": 1639763496316,
     "user": {
      "displayName": "Tom van Nuenen",
      "photoUrl": "https://lh3.googleusercontent.com/a-/AOh14GhuBmxDvW5I_LJfZtwlPqMFD8QGLVPP3skvpkTnuQ=s64",
      "userId": "10012302451096885058"
     },
     "user_tz": -60
    },
    "id": "-bLDqUnULOij",
    "outputId": "c1bb5d1c-1e37-4c76-8847-c69312df02e3"
   },
   "outputs": [],
   "source": [
    "#extract the first 15 items for the following properties of the parse\n",
    "#orthography \n",
    "token_text = [token.orth_ for token in parsed_sub][:15]   \n",
    "#part of speech \n",
    "token_pos = [token.pos_ for token in parsed_sub][:15]   \n",
    "#lemma (or 'dictionary form')\n",
    "token_lemma = [token.lemma_ for token in parsed_sub][:15]\n",
    "\n",
    "#stop word? t/f\n",
    "token_stop = [token.is_stop for token in parsed_sub][:15]\n",
    "\n",
    "#puncutation? t/f\n",
    "token_punct = [token.is_punct for token in parsed_sub][:15]\n",
    "\n",
    "#make a dataframe with these items\n",
    "pd.DataFrame(zip(token_text, token_pos, token_lemma, token_stop, token_punct),\n",
    "             columns=['token_text','part_of_speech','token_lemma', 'token_stop', 'token_punct'])"
   ]
  },
  {
   "cell_type": "markdown",
   "metadata": {
    "id": "ynLOmKULRtwz"
   },
   "source": [
    "Turns out spaCy does a *lot* of work. \n",
    "\n",
    "- It did part of speech tagging (nouns, verbs etc.)\n",
    "- It identified stop words and punctuation\n",
    "- It lemmatized the text. The goal of lemmatization is to reduce inflectional forms and sometimes derivationally related forms of a word to a common base form called a lemma. For instance, \"been\" $\\Rightarrow$ \"be\".\n"
   ]
  },
  {
   "cell_type": "markdown",
   "metadata": {
    "id": "1ist25mezRy8"
   },
   "source": [
    "## Leftover Tokens\n",
    "\n",
    "While spaCy does a great deal of processing for us,it does not get rid of the need to know your data. Different genres of text will have specific preprocessing needs that may need to be addressed in addition to the standard steps above. Knowing common tendencies and patterns in a particular dataset can help us optimize this processing pipeline.\n",
    "\n",
    "For example, while spaCy's tokenizer is great, it has limitations (like any tokenizer). Language is always domain-specific and our data might contain text that spaCy doesn't properly deal with. \n",
    "\n",
    "It is always worth going over some test data to check if your tokenizer works well, and then make some adjustments where needed. For instance, see the following sentence. As a test, we can process the sentence \"That's actually not true\" and check the lemmatized tokens."
   ]
  },
  {
   "cell_type": "code",
   "execution_count": null,
   "metadata": {
    "colab": {
     "base_uri": "https://localhost:8080/",
     "height": 200
    },
    "executionInfo": {
     "elapsed": 271,
     "status": "error",
     "timestamp": 1647461221106,
     "user": {
      "displayName": "Tom van Nuenen",
      "photoUrl": "https://lh3.googleusercontent.com/a-/AOh14GhuBmxDvW5I_LJfZtwlPqMFD8QGLVPP3skvpkTnuQ=s64",
      "userId": "10012302451096885058"
     },
     "user_tz": 300
    },
    "id": "SHYYe-IlnPAq",
    "outputId": "c038f1b6-c4f7-4526-a75e-bac41702820d"
   },
   "outputs": [],
   "source": [
    "#preprocess the sentence\n",
    "test = nlp(\"That’s actually not true\")\n",
    "tokens = []\n",
    "#for each token in the processed object\n",
    "for token in test:\n",
    "    #check if the token is punctuation\n",
    "    if not token.is_punct:\n",
    "        #append the lower-case lemma to the list\n",
    "        tokens.append(token.lemma_.lower())\n",
    "print(tokens)"
   ]
  },
  {
   "cell_type": "markdown",
   "metadata": {
    "id": "BSub1OMt05kB"
   },
   "source": [
    "Even though we are using an if-statement to filter out punctuation, the apostrophe in `that's` is not getting marked as punctuation in the processing.\n",
    "\n",
    "Let's further investigate with an example with many apostrophes:"
   ]
  },
  {
   "cell_type": "code",
   "execution_count": null,
   "metadata": {
    "colab": {
     "base_uri": "https://localhost:8080/"
    },
    "executionInfo": {
     "elapsed": 6,
     "status": "ok",
     "timestamp": 1639836207497,
     "user": {
      "displayName": "Tom van Nuenen",
      "photoUrl": "https://lh3.googleusercontent.com/a-/AOh14GhuBmxDvW5I_LJfZtwlPqMFD8QGLVPP3skvpkTnuQ=s64",
      "userId": "10012302451096885058"
     },
     "user_tz": -60
    },
    "id": "to96M9Iu0eg-",
    "outputId": "0163422e-b34e-4ea2-bfcb-596d2fe13adb"
   },
   "outputs": [],
   "source": [
    "test = nlp(\"I’m you're he's he’s That’s that's he’s he's father’s father's\")\n",
    "tokens = [token.lemma_.lower() for token in test if not token.is_punct]\n",
    "for i, tokens in enumerate(tokens):\n",
    "    print(i, tokens)"
   ]
  },
  {
   "cell_type": "markdown",
   "metadata": {
    "id": "FCm-8IuD1moC"
   },
   "source": [
    "We can add our own process to enhance the automatic parser in order to deal with these cases. For example, let's remove lemmas that are associated with the possesive \"'s\". How about just adding a little rule of our own: after our first pass, let's add another if-statement to remove problematic lemmas. "
   ]
  },
  {
   "cell_type": "code",
   "execution_count": null,
   "metadata": {
    "colab": {
     "base_uri": "https://localhost:8080/"
    },
    "executionInfo": {
     "elapsed": 196,
     "status": "ok",
     "timestamp": 1639836309108,
     "user": {
      "displayName": "Tom van Nuenen",
      "photoUrl": "https://lh3.googleusercontent.com/a-/AOh14GhuBmxDvW5I_LJfZtwlPqMFD8QGLVPP3skvpkTnuQ=s64",
      "userId": "10012302451096885058"
     },
     "user_tz": -60
    },
    "id": "uG3MXlgWmsoS",
    "outputId": "aaffa863-5b39-4618-d3d0-b4597d3d12a2"
   },
   "outputs": [],
   "source": [
    "test = nlp(\"I’m you're he's he’s That’s that's he’s he's father’s father's\")\n",
    "tokens = [token.lemma_.lower() if token.lemma_ != '-PRON-' else token.lower_ for token in test if not token.is_punct and not token.is_digit]\n",
    "leftover = [\"'s\",  \"’s\", \"’\"]\n",
    "tokens_c = [token for token in tokens if not token in leftover]\n",
    "tokens = []\n",
    "for token in test:\n",
    "    if not token.is_punct and not token.is_digit:\n",
    "        if not token.lemma_.lower() in leftover:\n",
    "            tokens.append(token.lemma_.lower())\n",
    "\n",
    "\n",
    "for i, t in enumerate(tokens):\n",
    "    print(i, t)"
   ]
  },
  {
   "cell_type": "markdown",
   "metadata": {},
   "source": [
    "It's still not perfect, but now a lot of those apostrophe's are gone as lemmas. At this point, you can continue to fine tune the automatic text processing pipeline until you are happy with the final result. After that, the next step is to process all of the items in the dataset with that processor."
   ]
  },
  {
   "cell_type": "markdown",
   "metadata": {
    "id": "OA0wy-ttNE7u"
   },
   "source": [
    "## Preprocessing all data\n",
    "Now we can scale up this process to our whole dataset. Up until this point, we have run the preprocessing pipeline on a single post, but we want to automate our code to process all posts at once. \n",
    "\n",
    "To do this, Let's define a few helper functions that we'll use for text normalization. In particular, the `lemmatized_sentence_corpus ` generator function will use spaCy to:\n",
    "\n",
    "- Iterate over the DataFrame\n",
    "- Segment the threads into individual sentences\n",
    "- Remove punctuation and excess whitespace\n",
    "- Lemmatize the text\n",
    "\n",
    "These helper functions will automate the preprocessing for the posts in this dataset. Don't worry too much about deciphering each line of code, the main goal of these helper functions is to do a lot of the preprocessing for you so that you can use the text in analysis going forward. We can use these functions wholesale, especially the `preprocess()` function to preprocess our reddit data. "
   ]
  },
  {
   "cell_type": "code",
   "execution_count": null,
   "metadata": {
    "executionInfo": {
     "elapsed": 1487,
     "status": "ok",
     "timestamp": 1647460151917,
     "user": {
      "displayName": "Tom van Nuenen",
      "photoUrl": "https://lh3.googleusercontent.com/a-/AOh14GhuBmxDvW5I_LJfZtwlPqMFD8QGLVPP3skvpkTnuQ=s64",
      "userId": "10012302451096885058"
     },
     "user_tz": 300
    },
    "id": "qtrgcSZH4Rnb"
   },
   "outputs": [],
   "source": [
    "import spacy\n",
    "nlp = spacy.load('en_core_web_sm')\n",
    "from gensim.models.phrases import Phrases, Phraser\n",
    "\n",
    "def clean(token):\n",
    "    \"\"\"\n",
    "    helper function to eliminate tokens\n",
    "    that are pure punctuation, whitespace, or digits\n",
    "    \"\"\"\n",
    "    return token.is_punct or token.is_space or token.is_digit\n",
    "\n",
    "def line_read(df):\n",
    "    \"\"\"\n",
    "    generator function to read in text from df\n",
    "    and get rid of line breaks in the text\n",
    "    \"\"\"    \n",
    "    for text in df.selftext:\n",
    "        yield text.replace('\\n', '')\n",
    "\n",
    "def preprocess(df, allowed_postags=['NOUN', 'ADJ']):\n",
    "    #preprocess a dataframe\n",
    "    for parsed in nlp.pipe(line_read(df), batch_size=1000, disable=[\"tok2vec\", \"ner\"]):\n",
    "        lemmas = [token.lemma_.lower() if token.lemma_ != '-PRON-' else token.lower_ for token in parsed if not clean(token)]\n",
    "        lemmas_c = [l for l in lemmas if not l in [\"'s\",  \"’s\", \"’\"]]\n",
    "        nostops = [term for term in lemmas_c if term not in spacy.lang.en.stop_words.STOP_WORDS]\n",
    "        yield ' '.join(nostops)\n"
   ]
  },
  {
   "cell_type": "markdown",
   "metadata": {},
   "source": [
    "Now let's run `preprocess()` over our DataFrame and look at the first output. Although it looks less like coherent text, it is cleaner and will be much easier for the computer to process."
   ]
  },
  {
   "cell_type": "code",
   "execution_count": null,
   "metadata": {
    "id": "OjbgskrlDg16"
   },
   "outputs": [],
   "source": [
    "# This will take a while\n",
    "\n",
    "lemmas = [line for line in preprocess(df)]"
   ]
  },
  {
   "cell_type": "code",
   "execution_count": null,
   "metadata": {
    "colab": {
     "base_uri": "https://localhost:8080/",
     "height": 157
    },
    "executionInfo": {
     "elapsed": 262,
     "status": "ok",
     "timestamp": 1639843861051,
     "user": {
      "displayName": "Tom van Nuenen",
      "photoUrl": "https://lh3.googleusercontent.com/a-/AOh14GhuBmxDvW5I_LJfZtwlPqMFD8QGLVPP3skvpkTnuQ=s64",
      "userId": "10012302451096885058"
     },
     "user_tz": -60
    },
    "id": "e8fBm9qk-tEb",
    "outputId": "018f2ee6-5596-4715-8a3a-84912495f07d"
   },
   "outputs": [],
   "source": [
    "lemmas[0]"
   ]
  },
  {
   "cell_type": "markdown",
   "metadata": {
    "id": "jNQTjb50E1Fm"
   },
   "source": [
    "## Phrase modeling with Gensim\n",
    "\n",
    "Many kinds of NLP methods work better when using **N-grams**. An n-gram treats small groups of words as tokens rather than single words. This allows words that frequently appearing together to be concatenated (e.g. \"new york\" means something different and more specific than \"new\" and \"york\" separately). Most commonly, a **bigram** = 2-word phrases and a **trigram** = 3-word phrases.\n",
    "\n",
    "**Phrase modeling** is an approach to learning combinations of tokens that together represent meaningful multi-word concepts. So rather than treating every pair of words as a n-gram, we look for pairs that occur together frequently and identify those as n-grams. This constrains the token space by limiting the number of multi-word tokens, but requires information about what words co-occur together frequently, which is where **phrase models** come in. We can develop phrase models by looping over the the words in our lemmatized dataset and looking for words that co-occur (i.e., appear one after another) together much more frequently than you would expect them to by random chance. \n",
    "\n",
    "Gensim’s [`Phrases`](https://radimrehurek.com/gensim/models/phrases.html) model implements bigrams, trigrams, quadgrams, etc. `Phrases` detects phrases based on collocation counts. It builds a model of input text that you then can use on other data.\n",
    "\n",
    "\n",
    "Gensim detects a bigram if a scoring function for two words exceeds a threshold. The two important arguments to `Phrases` are `min_count` and `threshold`. The higher the values of these parameters, the harder it is for words to be combined to bigrams. We can change the value of these parameters to fine-tune our model. Try changing `min count` and `threshold` below. How does that change the output?"
   ]
  },
  {
   "cell_type": "code",
   "execution_count": null,
   "metadata": {
    "colab": {
     "base_uri": "https://localhost:8080/"
    },
    "executionInfo": {
     "elapsed": 215,
     "status": "ok",
     "timestamp": 1639840527645,
     "user": {
      "displayName": "Tom van Nuenen",
      "photoUrl": "https://lh3.googleusercontent.com/a-/AOh14GhuBmxDvW5I_LJfZtwlPqMFD8QGLVPP3skvpkTnuQ=s64",
      "userId": "10012302451096885058"
     },
     "user_tz": -60
    },
    "id": "B_VI6UYEBirn",
    "outputId": "d38f9936-85b7-4d98-a847-f4da9a438ecf"
   },
   "outputs": [],
   "source": [
    "from gensim.models.phrases import Phrases, Phraser\n",
    "\n",
    "docs = ['new york is great', 'new york is in the united states',\n",
    "        'i love to stay in new york', 'people visit the united states']\n",
    "\n",
    "tokens = [doc.split(\" \") for doc in docs]\n",
    "bigram = Phrases(tokens, min_count=2, threshold=3,delimiter='_')\n",
    "bigram_phraser = Phraser(bigram)\n",
    "[bigram_phraser[token] for token in tokens]"
   ]
  },
  {
   "cell_type": "markdown",
   "metadata": {},
   "source": [
    "Now let's make a bigram and trigram model for our data. Starting from the preprocessed lemmas from the `preprocess()` function above, we can use the gensim models to identify bigrams and trigrams in the dataset. Again, the `min_count` and `threshold` arguments can be modified to change the output of the model. \n",
    "\n",
    "In the code below we make a bigram model using the gensim `Phrases` object, and then build a trigram model on top of that bigram model. Finally, we use the lemmas from the preprocessed text to make a trigram model of the data. We are processing the whole dataset in this cell, so it may take a little while to run."
   ]
  },
  {
   "cell_type": "code",
   "execution_count": null,
   "metadata": {
    "colab": {
     "base_uri": "https://localhost:8080/"
    },
    "executionInfo": {
     "elapsed": 63667,
     "status": "ok",
     "timestamp": 1639846696683,
     "user": {
      "displayName": "Tom van Nuenen",
      "photoUrl": "https://lh3.googleusercontent.com/a-/AOh14GhuBmxDvW5I_LJfZtwlPqMFD8QGLVPP3skvpkTnuQ=s64",
      "userId": "10012302451096885058"
     },
     "user_tz": -60
    },
    "id": "MxeZ7mc9DeMj",
    "outputId": "a478fee9-f5b1-4562-e3a6-860e244e5719"
   },
   "outputs": [],
   "source": [
    "# create bigram and trigram models\n",
    "lemmas_s = [doc.split(\" \") for doc in lemmas]\n",
    "bigram = Phrases(lemmas_s, min_count=10, threshold=100)\n",
    "trigram = Phrases(bigram[lemmas_s], min_count=10, threshold=50)  \n",
    "bigram_phraser = Phraser(bigram)\n",
    "trigram_phraser = Phraser(trigram)\n",
    "\n",
    "def make_bigrams(texts):\n",
    "    return [bigram_phraser[doc] for doc in texts]\n",
    "\n",
    "def make_trigrams(texts):\n",
    "    return [' '.join(trigram_phraser[bigram_phraser[doc]]) for doc in texts]\n",
    "\n",
    "# Form trigrams\n",
    "trigrams = make_trigrams(lemmas_s)"
   ]
  },
  {
   "cell_type": "code",
   "execution_count": null,
   "metadata": {
    "colab": {
     "base_uri": "https://localhost:8080/",
     "height": 157
    },
    "executionInfo": {
     "elapsed": 9,
     "status": "ok",
     "timestamp": 1639846157869,
     "user": {
      "displayName": "Tom van Nuenen",
      "photoUrl": "https://lh3.googleusercontent.com/a-/AOh14GhuBmxDvW5I_LJfZtwlPqMFD8QGLVPP3skvpkTnuQ=s64",
      "userId": "10012302451096885058"
     },
     "user_tz": -60
    },
    "id": "ic7Il8lyVHpk",
    "outputId": "0ddd51f2-47b4-4a97-dc1d-8fc6db2f85dc"
   },
   "outputs": [],
   "source": [
    "trigrams[1]"
   ]
  },
  {
   "cell_type": "markdown",
   "metadata": {
    "id": "eh5peeC6Fi6H"
   },
   "source": [
    "Once our phrase model has been trained on our total dataset, we can apply it to new text. When our model encounters two tokens in new text that identifies as a phrase, it will merge the two into a single new token.\n"
   ]
  },
  {
   "cell_type": "code",
   "execution_count": null,
   "metadata": {
    "colab": {
     "base_uri": "https://localhost:8080/"
    },
    "executionInfo": {
     "elapsed": 188,
     "status": "ok",
     "timestamp": 1639846257823,
     "user": {
      "displayName": "Tom van Nuenen",
      "photoUrl": "https://lh3.googleusercontent.com/a-/AOh14GhuBmxDvW5I_LJfZtwlPqMFD8QGLVPP3skvpkTnuQ=s64",
      "userId": "10012302451096885058"
     },
     "user_tz": -60
    },
    "id": "FCR6DWQeFjt8",
    "outputId": "0c7b6e9c-ebe1-400d-e073-7c104aeddd02"
   },
   "outputs": [],
   "source": [
    "trigram_phraser[\"That\", \"was\", \"not\", \"a\", \"big\", \"deal\"]"
   ]
  },
  {
   "cell_type": "markdown",
   "metadata": {},
   "source": [
    "Let's take a look at the bigram parser. We can use `.keys()` to identify the bigrams in the dataset. How many bigrams were identified by the parser?"
   ]
  },
  {
   "cell_type": "code",
   "execution_count": null,
   "metadata": {
    "colab": {
     "base_uri": "https://localhost:8080/"
    },
    "executionInfo": {
     "elapsed": 216,
     "status": "ok",
     "timestamp": 1639846804300,
     "user": {
      "displayName": "Tom van Nuenen",
      "photoUrl": "https://lh3.googleusercontent.com/a-/AOh14GhuBmxDvW5I_LJfZtwlPqMFD8QGLVPP3skvpkTnuQ=s64",
      "userId": "10012302451096885058"
     },
     "user_tz": -60
    },
    "id": "xO4enOmLeXXi",
    "outputId": "921b6ce4-3390-4f90-ab13-e7bd4e0ce11f"
   },
   "outputs": [],
   "source": [
    "len(bigram_phraser.phrasegrams.keys())"
   ]
  },
  {
   "cell_type": "markdown",
   "metadata": {},
   "source": [
    "Let's print the first few bigrams identified in the model as well to check if they seem like appropriate bigrams. If not, we can change the parameters of the bigram model to adjust the sensitivity of the model."
   ]
  },
  {
   "cell_type": "code",
   "execution_count": null,
   "metadata": {
    "colab": {
     "base_uri": "https://localhost:8080/"
    },
    "executionInfo": {
     "elapsed": 346,
     "status": "ok",
     "timestamp": 1639846859895,
     "user": {
      "displayName": "Tom van Nuenen",
      "photoUrl": "https://lh3.googleusercontent.com/a-/AOh14GhuBmxDvW5I_LJfZtwlPqMFD8QGLVPP3skvpkTnuQ=s64",
      "userId": "10012302451096885058"
     },
     "user_tz": -60
    },
    "id": "uwySeLM4df97",
    "outputId": "0940755f-397e-48cc-ecdb-3558341cb7ae"
   },
   "outputs": [],
   "source": [
    "[bigram for bigram in bigram_phraser.phrasegrams.keys()][:10]"
   ]
  },
  {
   "cell_type": "markdown",
   "metadata": {
    "id": "rVgem81TZWzu"
   },
   "source": [
    "## Adding and Saving to .csv\n",
    "Finally, let's add our new preprocessed data to our .csv in a new column."
   ]
  },
  {
   "cell_type": "code",
   "execution_count": null,
   "metadata": {
    "id": "QBe1-7806O0A"
   },
   "outputs": [],
   "source": [
    "# inserting next to selftext column\n",
    "df.insert(loc=7, column='lemmas', value=trigrams)\n",
    "# removing empty rows in lemmas\n",
    "df = df[~df['lemmas'].isin([''])]"
   ]
  },
  {
   "cell_type": "code",
   "execution_count": null,
   "metadata": {},
   "outputs": [],
   "source": [
    "# save to new csv\n",
    "df.to_csv('aita_sub_top_sm_lemmas.csv', index=False)"
   ]
  },
  {
   "cell_type": "markdown",
   "metadata": {},
   "source": [
    "Let's look at the new column in the dataframe using `.head()`"
   ]
  },
  {
   "cell_type": "code",
   "execution_count": null,
   "metadata": {
    "colab": {
     "base_uri": "https://localhost:8080/",
     "height": 503
    },
    "executionInfo": {
     "elapsed": 260,
     "status": "ok",
     "timestamp": 1639846939166,
     "user": {
      "displayName": "Tom van Nuenen",
      "photoUrl": "https://lh3.googleusercontent.com/a-/AOh14GhuBmxDvW5I_LJfZtwlPqMFD8QGLVPP3skvpkTnuQ=s64",
      "userId": "10012302451096885058"
     },
     "user_tz": -60
    },
    "id": "QxzOU6g5fmp8",
    "outputId": "53775808-ac75-41e7-cc5f-86b5f6a4489f"
   },
   "outputs": [],
   "source": [
    " df.head(3)"
   ]
  },
  {
   "cell_type": "markdown",
   "metadata": {},
   "source": [
    "Congratulations! You now have the ability to preprocess text data into trigrams and save the output. This gives us clean text that we can then use in our further analysis. This notebook can be used as a primer for preprocessing data and for further reference. However, once our text is processed and the DataFrame saved to a .csv, all we have to do for our next step in the analysis is to load that processed .csv file, rather than having to re-run these models every time we work with the dataset."
   ]
  }
 ],
 "metadata": {
  "colab": {
   "collapsed_sections": [],
   "name": "Week 1 Preprocessing.ipynb",
   "provenance": []
  },
  "kernelspec": {
   "display_name": "Python 3",
   "language": "python",
   "name": "python3"
  },
  "language_info": {
   "codemirror_mode": {
    "name": "ipython",
    "version": 3
   },
   "file_extension": ".py",
   "mimetype": "text/x-python",
   "name": "python",
   "nbconvert_exporter": "python",
   "pygments_lexer": "ipython3",
   "version": "3.7.6"
  }
 },
 "nbformat": 4,
 "nbformat_minor": 4
}
