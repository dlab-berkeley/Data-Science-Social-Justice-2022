{
 "cells": [
  {
   "cell_type": "markdown",
   "metadata": {
    "id": "WClw_VPOmwXd"
   },
   "source": [
    "Data Science + Social Justice<br>\n",
    "Preprocessing<br>\n",
    "Created by Tom van Nuenen (tom.van_nuenen@kcl.ac.uk)"
   ]
  },
  {
   "cell_type": "code",
   "execution_count": 1,
   "metadata": {},
   "outputs": [
    {
     "data": {
      "image/jpeg": "[encoded data removed]",
      "text/html": [
       "\n",
       "        <iframe\n",
       "            width=\"640\"\n",
       "            height=\"360\"\n",
       "            src=\"https://www.youtube.com/embed/MwKx-IxA-88\"\n",
       "            frameborder=\"0\"\n",
       "            allowfullscreen\n",
       "            \n",
       "        ></iframe>\n",
       "        "
      ],
      "text/plain": [
       "<IPython.lib.display.YouTubeVideo at 0x7fe5306fa040>"
      ]
     },
     "execution_count": 1,
     "metadata": {},
     "output_type": "execute_result"
    }
   ],
   "source": [
    "# Please run this cell for the accompanying video.\n",
    "from IPython.display import YouTubeVideo\n",
    "YouTubeVideo('MwKx-IxA-88', width=640, height=360)"
   ]
  },
  {
   "cell_type": "markdown",
   "metadata": {
    "id": "36-_8ZvxmwXf"
   },
   "source": [
    "# Preprocessing\n",
    "\n",
    "In this notebook we will go over the first step in a Natural Language Processing pipeline: preprocessing text. If you would like to brush up on your basic programming skills first, please check out the two optional notebooks on Python Basics in the \"Optional\" folder under \"Notebooks\".\n",
    "\n",
    "**After completing this notebook, you will be able to:**\n",
    "\n",
    "1. Work with CSV files in a Pandas Dataframe;\n",
    "2. Preprocess text from a DataFrame including tokenizing, stopword removal, N-grams extraction, and lemmatization using spaCy;\n",
    "3. Saving the processed text to the DataFrame.\n",
    "\n",
    "Please note that the notebooks for this course are intended to be used for **research purposes**. That is, instead of explaining all the code, they are intended for you to focus on your research results and analysis. Still, you will hopefully get a better understanding of Python as you progress through these notebooks.\n",
    "\n",
    "Keep in mind that some of the code will take a long time to execute.\n",
    "\n",
    "If you want to understand the code in greater detail, I advise you to come to the optional seminars where you will be able to ask questions. There are also two optional notebooks with Python basics, which will help you get a good foundation for the weeks to come.\n",
    "\n",
    "When running the notebooks, you should swap out the data used for your own data."
   ]
  },
  {
   "cell_type": "markdown",
   "metadata": {
    "id": "5YUirSNPmwXf"
   },
   "source": [
    "## Navigating around\n",
    "\n",
    "First, we will use `!pwd` to check the location of our \"working directory\" (the folder on your computer that Python is connected to). "
   ]
  },
  {
   "cell_type": "code",
   "execution_count": 37,
   "metadata": {
    "colab": {
     "base_uri": "https://localhost:8080/"
    },
    "executionInfo": {
     "elapsed": 282,
     "status": "ok",
     "timestamp": 1647459224432,
     "user": {
      "displayName": "Tom van Nuenen",
      "photoUrl": "https://lh3.googleusercontent.com/a-/AOh14GhuBmxDvW5I_LJfZtwlPqMFD8QGLVPP3skvpkTnuQ=s64",
      "userId": "10012302451096885058"
     },
     "user_tz": 300
    },
    "id": "BWrHsWO2Bhii",
    "outputId": "4960f553-b1e6-46dc-c637-4b44c27e973e"
   },
   "outputs": [
    {
     "name": "stdout",
     "output_type": "stream",
     "text": [
      "/Users/tomvannuenen/Downloads/DIGHUM160/Data\n"
     ]
    }
   ],
   "source": [
    "# \"print\" working directory\n",
    "!pwd"
   ]
  },
  {
   "cell_type": "markdown",
   "metadata": {
    "id": "bd6CI1oAbEJq"
   },
   "source": [
    "We can also navigate around by importing the `os` module and using the `chdir()` method."
   ]
  },
  {
   "cell_type": "markdown",
   "metadata": {},
   "source": [
    "Our default working directory is wherever we launched the notebook - in our case the \"Week 1\" folder. We want to access the \"Data\" folder, which is two levels \"up\", inside of the main \"DIGHUM160\" directory. \n",
    "\n",
    "We can change the file path in several ways.\n",
    "\n",
    "- We could type `os.chdir(\"../\")` to go up one level into the \"Notebooks\" directory.  \n",
    "- Or, we could type `os.chdir(\"../../\")` to go up **two** levels into the \"DIGHUM160\" directory\n",
    "- Or, we could move into the \"Data\" directory in one line by typing `os.chdir(\"../../Data\")`"
   ]
  },
  {
   "cell_type": "code",
   "execution_count": 5,
   "metadata": {},
   "outputs": [],
   "source": [
    "import os\n",
    "# We include two ../ because we want to go two levels up in the file structure\n",
    "os.chdir('../../Data')"
   ]
  },
  {
   "cell_type": "code",
   "execution_count": 6,
   "metadata": {},
   "outputs": [
    {
     "data": {
      "text/plain": [
       "'/Users/tomvannuenen/Downloads/DIGHUM160/Data'"
      ]
     },
     "execution_count": 6,
     "metadata": {},
     "output_type": "execute_result"
    }
   ],
   "source": [
    "%pwd"
   ]
  },
  {
   "cell_type": "markdown",
   "metadata": {},
   "source": [
    "Great! Now we can do the magic command `!ls` to list the files in this directory."
   ]
  },
  {
   "cell_type": "code",
   "execution_count": 7,
   "metadata": {},
   "outputs": [
    {
     "name": "stdout",
     "output_type": "stream",
     "text": [
      "Bargraph.png\n",
      "BargraphSubreddits.png\n",
      "NetworkGraph.png\n",
      "ScatterPlot.png\n",
      "aita_com_top.csv\n",
      "aita_com_top_lemmas.json\n",
      "aita_edges\n",
      "aita_lda.dict\n",
      "aita_pos.dict\n",
      "aita_pos_lda.dict\n",
      "aita_pos_lda_optimal.model\n",
      "aita_pos_lda_optimal.model.expElogbeta.npy\n",
      "aita_pos_lda_optimal.model.id2word\n",
      "aita_pos_lda_optimal.model.state\n",
      "aita_pos_lemmas.json\n",
      "aita_sub_top_lemmas_trigrams.txt\n",
      "aita_sub_top_med.csv\n",
      "aita_sub_top_sm.csv\n",
      "aita_sub_top_sm_lemmas.csv\n",
      "aita_sub_top_sm_lemmas.txt\n",
      "aita_sub_top_sm_pos_lemmas.csv\n",
      "aita_sub_top_sm_pos_lemmas_topics.csv\n",
      "amitheasshole_3_20220320.csv\n",
      "convergence_liklihood_1_it_1_pa.pdf\n",
      "gensim.log\n"
     ]
    }
   ],
   "source": [
    "!ls"
   ]
  },
  {
   "cell_type": "markdown",
   "metadata": {},
   "source": [
    "Remember to restart your kernel if your file paths get messed up!\n"
   ]
  },
  {
   "cell_type": "markdown",
   "metadata": {
    "id": "NgBDYstgmwX6"
   },
   "source": [
    "## Working with Pandas\n",
    "\n",
    "Now that we're in the right folder, we can import a CSV file into a Pandas dataframe. \n",
    "\n",
    "In this course we will use a dataset taken from [r/amitheasshole](reddit.com/r/AmItheAsshole). \n",
    "\n",
    "The subreddit describes itself as \"A catharsis for the frustrated moral philosopher in all of us, and a place to finally find out if you were wrong in an argument that's been bothering you. Tell us about any non-violent conflict you have experienced; give us both sides of the story, and find out if you're right, or you're the asshole.\"\n",
    "\n",
    "The subreddit has structures in place that the community follow to come to a decision about the situation. First, OP (original poster) writes up the situation, asking AITA (Am I The Asshole). In response, for eighteen hours, the community of the subreddit will respond to the post with one of five judgements: YTA (You’re The Asshole), NTA (Not The Asshole), ESH (Everyone Sucks Here), NAH (No Assholes Here), or INFO (Not Enough Info).\n",
    "\n",
    "For more info on the subreddit, see [here]('https://www.inverse.com/culture/am-i-the-asshole/amp'). \n",
    "\n",
    "First, we have to retrieve the data. We'll use a subset of the full dataset consisting of the top most popular posts, the assumption being that this will yield the most interesting results. The full dataset is available as well (\"aita_sub_full.csv\").\n"
   ]
  },
  {
   "cell_type": "code",
   "execution_count": 11,
   "metadata": {
    "colab": {
     "base_uri": "https://localhost:8080/"
    },
    "executionInfo": {
     "elapsed": 2525,
     "status": "ok",
     "timestamp": 1647459522220,
     "user": {
      "displayName": "Tom van Nuenen",
      "photoUrl": "https://lh3.googleusercontent.com/a-/AOh14GhuBmxDvW5I_LJfZtwlPqMFD8QGLVPP3skvpkTnuQ=s64",
      "userId": "10012302451096885058"
     },
     "user_tz": 300
    },
    "id": "bIB1SsShP9iL",
    "outputId": "ab2ec235-c74b-4f81-f7dc-d41825605164"
   },
   "outputs": [
    {
     "data": {
      "text/plain": [
       "20000"
      ]
     },
     "execution_count": 11,
     "metadata": {},
     "output_type": "execute_result"
    }
   ],
   "source": [
    "import pandas as pd \n",
    "\n",
    "# importing file in df\n",
    "df = pd.read_csv('aita_sub_top_sm.csv')\n",
    "len(df)"
   ]
  },
  {
   "cell_type": "code",
   "execution_count": 12,
   "metadata": {
    "colab": {
     "base_uri": "https://localhost:8080/"
    },
    "executionInfo": {
     "elapsed": 289,
     "status": "ok",
     "timestamp": 1639763487161,
     "user": {
      "displayName": "Tom van Nuenen",
      "photoUrl": "https://lh3.googleusercontent.com/a-/AOh14GhuBmxDvW5I_LJfZtwlPqMFD8QGLVPP3skvpkTnuQ=s64",
      "userId": "10012302451096885058"
     },
     "user_tz": -60
    },
    "id": "NcQ9kgs3a0Vo",
    "outputId": "ce80ac74-f323-46bc-e5e0-7505732fc195"
   },
   "outputs": [
    {
     "data": {
      "text/plain": [
       "idint                int64\n",
       "idstr               object\n",
       "created              int64\n",
       "self               float64\n",
       "nsfw               float64\n",
       "author              object\n",
       "title               object\n",
       "url                float64\n",
       "selftext            object\n",
       "score              float64\n",
       "subreddit           object\n",
       "distinguish         object\n",
       "textlen            float64\n",
       "num_comments       float64\n",
       "flair_text          object\n",
       "flair_css_class     object\n",
       "augmented_at       float64\n",
       "augmented_count    float64\n",
       "dtype: object"
      ]
     },
     "execution_count": 12,
     "metadata": {},
     "output_type": "execute_result"
    }
   ],
   "source": [
    "df.dtypes"
   ]
  },
  {
   "cell_type": "markdown",
   "metadata": {
    "id": "yzhPGc5HEe7x"
   },
   "source": [
    "Here, we import Pandas and use the `read_csv()` method to open the example file. We can show the first few lines of the dataframe using the `.head()` method."
   ]
  },
  {
   "cell_type": "code",
   "execution_count": 13,
   "metadata": {
    "colab": {
     "base_uri": "https://localhost:8080/",
     "height": 773
    },
    "executionInfo": {
     "elapsed": 313,
     "status": "ok",
     "timestamp": 1647459542614,
     "user": {
      "displayName": "Tom van Nuenen",
      "photoUrl": "https://lh3.googleusercontent.com/a-/AOh14GhuBmxDvW5I_LJfZtwlPqMFD8QGLVPP3skvpkTnuQ=s64",
      "userId": "10012302451096885058"
     },
     "user_tz": 300
    },
    "id": "TkI-FuY2mwX6",
    "outputId": "87472d59-a42b-4a76-ff02-3aaa0f474e78",
    "scrolled": true
   },
   "outputs": [
    {
     "data": {
      "text/html": [
       "<div>\n",
       "<style scoped>\n",
       "    .dataframe tbody tr th:only-of-type {\n",
       "        vertical-align: middle;\n",
       "    }\n",
       "\n",
       "    .dataframe tbody tr th {\n",
       "        vertical-align: top;\n",
       "    }\n",
       "\n",
       "    .dataframe thead th {\n",
       "        text-align: right;\n",
       "    }\n",
       "</style>\n",
       "<table border=\"1\" class=\"dataframe\">\n",
       "  <thead>\n",
       "    <tr style=\"text-align: right;\">\n",
       "      <th></th>\n",
       "      <th>idint</th>\n",
       "      <th>idstr</th>\n",
       "      <th>created</th>\n",
       "      <th>self</th>\n",
       "      <th>nsfw</th>\n",
       "      <th>author</th>\n",
       "      <th>title</th>\n",
       "      <th>url</th>\n",
       "      <th>selftext</th>\n",
       "      <th>score</th>\n",
       "      <th>subreddit</th>\n",
       "      <th>distinguish</th>\n",
       "      <th>textlen</th>\n",
       "      <th>num_comments</th>\n",
       "      <th>flair_text</th>\n",
       "      <th>flair_css_class</th>\n",
       "      <th>augmented_at</th>\n",
       "      <th>augmented_count</th>\n",
       "    </tr>\n",
       "  </thead>\n",
       "  <tbody>\n",
       "    <tr>\n",
       "      <th>0</th>\n",
       "      <td>427576402</td>\n",
       "      <td>t3_72kg2a</td>\n",
       "      <td>1506433689</td>\n",
       "      <td>1.0</td>\n",
       "      <td>0.0</td>\n",
       "      <td>Ritsku</td>\n",
       "      <td>AITA for breaking up with my girlfriend becaus...</td>\n",
       "      <td>NaN</td>\n",
       "      <td>My girlfriend recently went to the beach with ...</td>\n",
       "      <td>679.0</td>\n",
       "      <td>AmItheAsshole</td>\n",
       "      <td>NaN</td>\n",
       "      <td>4917.0</td>\n",
       "      <td>434.0</td>\n",
       "      <td>no a--holes here</td>\n",
       "      <td>NaN</td>\n",
       "      <td>NaN</td>\n",
       "      <td>NaN</td>\n",
       "    </tr>\n",
       "    <tr>\n",
       "      <th>1</th>\n",
       "      <td>551887974</td>\n",
       "      <td>t3_94kvhi</td>\n",
       "      <td>1533404095</td>\n",
       "      <td>1.0</td>\n",
       "      <td>0.0</td>\n",
       "      <td>hhhhhhffff678</td>\n",
       "      <td>AITA for banning smoking in my house and telli...</td>\n",
       "      <td>NaN</td>\n",
       "      <td>My parents smoke like chimneys. I used to as w...</td>\n",
       "      <td>832.0</td>\n",
       "      <td>AmItheAsshole</td>\n",
       "      <td>NaN</td>\n",
       "      <td>2076.0</td>\n",
       "      <td>357.0</td>\n",
       "      <td>asshole</td>\n",
       "      <td>ass</td>\n",
       "      <td>NaN</td>\n",
       "      <td>NaN</td>\n",
       "    </tr>\n",
       "    <tr>\n",
       "      <th>2</th>\n",
       "      <td>552654542</td>\n",
       "      <td>t3_951az2</td>\n",
       "      <td>1533562299</td>\n",
       "      <td>1.0</td>\n",
       "      <td>0.0</td>\n",
       "      <td>creepatthepool</td>\n",
       "      <td>AITA? Creep wears skimpy bathing suit to pool</td>\n",
       "      <td>NaN</td>\n",
       "      <td>Hi guys. Throwaway for obv reasons.\\n\\nI'm a f...</td>\n",
       "      <td>23.0</td>\n",
       "      <td>AmItheAsshole</td>\n",
       "      <td>NaN</td>\n",
       "      <td>1741.0</td>\n",
       "      <td>335.0</td>\n",
       "      <td>Shitpost</td>\n",
       "      <td>NaN</td>\n",
       "      <td>NaN</td>\n",
       "      <td>NaN</td>\n",
       "    </tr>\n",
       "    <tr>\n",
       "      <th>3</th>\n",
       "      <td>556350346</td>\n",
       "      <td>t3_978ioa</td>\n",
       "      <td>1534254641</td>\n",
       "      <td>1.0</td>\n",
       "      <td>0.0</td>\n",
       "      <td>Pauly104</td>\n",
       "      <td>AITA for eating steak in front of my vegan GF?</td>\n",
       "      <td>NaN</td>\n",
       "      <td>Yesterday night, me and my GF decided to go ou...</td>\n",
       "      <td>1011.0</td>\n",
       "      <td>AmItheAsshole</td>\n",
       "      <td>NaN</td>\n",
       "      <td>416.0</td>\n",
       "      <td>380.0</td>\n",
       "      <td>not the a-hole</td>\n",
       "      <td>not</td>\n",
       "      <td>NaN</td>\n",
       "      <td>NaN</td>\n",
       "    </tr>\n",
       "    <tr>\n",
       "      <th>4</th>\n",
       "      <td>560929656</td>\n",
       "      <td>t3_99yo3c</td>\n",
       "      <td>1535126620</td>\n",
       "      <td>1.0</td>\n",
       "      <td>0.0</td>\n",
       "      <td>ThatSpencerGuy</td>\n",
       "      <td>AITA for not wanting to cook my mother-in-law ...</td>\n",
       "      <td>NaN</td>\n",
       "      <td>My wife and I are vegetarians, much to my in-l...</td>\n",
       "      <td>349.0</td>\n",
       "      <td>AmItheAsshole</td>\n",
       "      <td>NaN</td>\n",
       "      <td>1158.0</td>\n",
       "      <td>360.0</td>\n",
       "      <td>not the a-hole</td>\n",
       "      <td>not</td>\n",
       "      <td>NaN</td>\n",
       "      <td>NaN</td>\n",
       "    </tr>\n",
       "  </tbody>\n",
       "</table>\n",
       "</div>"
      ],
      "text/plain": [
       "       idint      idstr     created  self  nsfw          author  \\\n",
       "0  427576402  t3_72kg2a  1506433689   1.0   0.0          Ritsku   \n",
       "1  551887974  t3_94kvhi  1533404095   1.0   0.0   hhhhhhffff678   \n",
       "2  552654542  t3_951az2  1533562299   1.0   0.0  creepatthepool   \n",
       "3  556350346  t3_978ioa  1534254641   1.0   0.0        Pauly104   \n",
       "4  560929656  t3_99yo3c  1535126620   1.0   0.0  ThatSpencerGuy   \n",
       "\n",
       "                                               title  url  \\\n",
       "0  AITA for breaking up with my girlfriend becaus...  NaN   \n",
       "1  AITA for banning smoking in my house and telli...  NaN   \n",
       "2      AITA? Creep wears skimpy bathing suit to pool  NaN   \n",
       "3     AITA for eating steak in front of my vegan GF?  NaN   \n",
       "4  AITA for not wanting to cook my mother-in-law ...  NaN   \n",
       "\n",
       "                                            selftext   score      subreddit  \\\n",
       "0  My girlfriend recently went to the beach with ...   679.0  AmItheAsshole   \n",
       "1  My parents smoke like chimneys. I used to as w...   832.0  AmItheAsshole   \n",
       "2  Hi guys. Throwaway for obv reasons.\\n\\nI'm a f...    23.0  AmItheAsshole   \n",
       "3  Yesterday night, me and my GF decided to go ou...  1011.0  AmItheAsshole   \n",
       "4  My wife and I are vegetarians, much to my in-l...   349.0  AmItheAsshole   \n",
       "\n",
       "  distinguish  textlen  num_comments        flair_text flair_css_class  \\\n",
       "0         NaN   4917.0         434.0  no a--holes here             NaN   \n",
       "1         NaN   2076.0         357.0           asshole             ass   \n",
       "2         NaN   1741.0         335.0          Shitpost             NaN   \n",
       "3         NaN    416.0         380.0    not the a-hole             not   \n",
       "4         NaN   1158.0         360.0    not the a-hole             not   \n",
       "\n",
       "   augmented_at  augmented_count  \n",
       "0           NaN              NaN  \n",
       "1           NaN              NaN  \n",
       "2           NaN              NaN  \n",
       "3           NaN              NaN  \n",
       "4           NaN              NaN  "
      ]
     },
     "execution_count": 13,
     "metadata": {},
     "output_type": "execute_result"
    }
   ],
   "source": [
    "df.head()"
   ]
  },
  {
   "cell_type": "markdown",
   "metadata": {
    "id": "RzrQAWgVqgwD"
   },
   "source": [
    "This particular dataset only includes the original posts in the subreddit (so not the comments on the posts). The \"selftext\" column contains the actual posts.\n",
    "\n",
    "other columns contain valuable metadata you can use in your analyses, such as: \n",
    "- \"created\" (the time of the post's creation)\n",
    "- \"score\" (amount of upvotes minus downvotes)\n",
    "- \"textlen\" (amount of words)\n",
    "- \"num_comments\" (the amount of comments)\n",
    "- \"distinguish\" (posts that have been moderated)\n",
    "- \"nsfw\" (posts flagged for NSFW content)\n",
    "- \"flair_text\" (a 'tag' that users within a subreddit can add)\n",
    "- \"augmented_count\" (how often a user or moderator has edited the text)\n",
    "\n",
    "Pay special attention to the \"NaN\" labels, indicating missing values. Also remember the naming convention for the column and row axes (which Pandas uses when accessing particular rows/columns)."
   ]
  },
  {
   "cell_type": "code",
   "execution_count": 14,
   "metadata": {
    "colab": {
     "base_uri": "https://localhost:8080/"
    },
    "executionInfo": {
     "elapsed": 3,
     "status": "ok",
     "timestamp": 1639763489064,
     "user": {
      "displayName": "Tom van Nuenen",
      "photoUrl": "https://lh3.googleusercontent.com/a-/AOh14GhuBmxDvW5I_LJfZtwlPqMFD8QGLVPP3skvpkTnuQ=s64",
      "userId": "10012302451096885058"
     },
     "user_tz": -60
    },
    "id": "7oZfTJi2rA6Z",
    "outputId": "88d7211b-3e6e-447c-87da-fcffadc71a58"
   },
   "outputs": [
    {
     "data": {
      "text/plain": [
       "Index(['idint', 'idstr', 'created', 'self', 'nsfw', 'author', 'title', 'url',\n",
       "       'selftext', 'score', 'subreddit', 'distinguish', 'textlen',\n",
       "       'num_comments', 'flair_text', 'flair_css_class', 'augmented_at',\n",
       "       'augmented_count'],\n",
       "      dtype='object')"
      ]
     },
     "execution_count": 14,
     "metadata": {},
     "output_type": "execute_result"
    }
   ],
   "source": [
    "# This allows you to quickly see which columns you have\n",
    "df.columns"
   ]
  },
  {
   "cell_type": "markdown",
   "metadata": {},
   "source": [
    "Let's first remove some columns that we are not going to use."
   ]
  },
  {
   "cell_type": "code",
   "execution_count": 15,
   "metadata": {},
   "outputs": [],
   "source": [
    "df = df.drop(['self','url', 'subreddit', 'augmented_at', 'augmented_count'], axis = 1)"
   ]
  },
  {
   "cell_type": "markdown",
   "metadata": {
    "id": "uaH8ZNOv50it"
   },
   "source": [
    "Let's get rid of some empty values in our \"selftext\" column, using the `dropna()` method. On Reddit, removed posts get flagged as \"[removed]\" or \"[deleted]\", so we have to get rid of this too. We can do that with the `isin()` method."
   ]
  },
  {
   "cell_type": "code",
   "execution_count": 16,
   "metadata": {
    "colab": {
     "base_uri": "https://localhost:8080/"
    },
    "executionInfo": {
     "elapsed": 333,
     "status": "ok",
     "timestamp": 1647459767478,
     "user": {
      "displayName": "Tom van Nuenen",
      "photoUrl": "https://lh3.googleusercontent.com/a-/AOh14GhuBmxDvW5I_LJfZtwlPqMFD8QGLVPP3skvpkTnuQ=s64",
      "userId": "10012302451096885058"
     },
     "user_tz": 300
    },
    "id": "1tHzTovwdxa3",
    "outputId": "c111b1a2-8360-4b69-fca6-730485b4bf66"
   },
   "outputs": [
    {
     "data": {
      "text/plain": [
       "16313"
      ]
     },
     "execution_count": 16,
     "metadata": {},
     "output_type": "execute_result"
    }
   ],
   "source": [
    "df = df[~df['selftext'].isin(['[removed]', '[deleted]' ])].dropna(subset=['selftext'])\n",
    "len(df)"
   ]
  },
  {
   "cell_type": "markdown",
   "metadata": {
    "id": "X-Vy6u-1ZWy9"
   },
   "source": [
    "# 3. Preprocessing\n",
    "\n",
    "Prepocessing is the very first step of NLP projects. Some commong preprocessing steps are:\n",
    "\n",
    "- Removing punctuations like . , ! $( ) * % @\n",
    "- Removing URLs\n",
    "- Removing stopwords\n",
    "- Lowercasing\n",
    "- Tokenization\n",
    "- Stemming\n",
    "- Lemmatization\n",
    "\n",
    "We will use spaCy to do these things. If the text you'd like to process is general-purpose English language text (i.e., not domain-specific, like medical literature), spaCy is ready to use out-of-the-box."
   ]
  },
  {
   "cell_type": "code",
   "execution_count": 17,
   "metadata": {
    "executionInfo": {
     "elapsed": 1405,
     "status": "ok",
     "timestamp": 1647462821529,
     "user": {
      "displayName": "Tom van Nuenen",
      "photoUrl": "https://lh3.googleusercontent.com/a-/AOh14GhuBmxDvW5I_LJfZtwlPqMFD8QGLVPP3skvpkTnuQ=s64",
      "userId": "10012302451096885058"
     },
     "user_tz": 300
    },
    "id": "XYssvJqaKnua"
   },
   "outputs": [
    {
     "name": "stdout",
     "output_type": "stream",
     "text": [
      "My girlfriend recently went to the beach with a few of her friends.  She has this tiny bikini bottom that is basically a thong that I HATE when she wears in public.  Well she wore it.  Not only did she wear it, she posed in the bathroom mirror of her hotel room to take a side profile picture so you could see her ass sticking out in it and posted it to her Snapchat story.   Worth mentioning I am not friends with her on Snapchat for reasons similar to this (sick of getting in fights when she says she's going out for 'girls' night then posts videos of her sitting at a table with like 5 dudes that always got invited by one of the other girls which was completely unknown to her until she arrived - most of these guys she then adds on Snapchat afterwards).  She didn't even save it and send it to me.  I saw it when she was showing me pics from her beach trip and she had screenshot that particular snap and left it in her camera roll.  Whether the ass part was intentional or not I will never know.  She claims she just liked the way her stomach looked and it was just a pic because she was at the beach and that was the only black bikini bottom she owns.  But there's nothing to look at but her in a micro bikini in a bathroom mirror.  There's no ocean, no sand, no friends, just her tits and ass in a bathroom mirror.  She's 24 and I am 30.  Is it the age?  Is this typical 24 year old behavior nowadays?  Am I wrong for thinking this is inappropriate behavior when you're in a relationship or am I the asshole for making a big deal about it?\n",
      "\n",
      "\n",
      "**Edit:**  Guys, let me clear.  I did not try to control her at any point in time.  I have never once told her what to do, what to wear, what she can or can not do.  Yes, I hate that her ass is completely out in that bikini.  But I've never told her not to wear it and my problem is not that she wore it in general.  She wore it all summer long despite my groaning.  That was never my issue.  I found it super annoying yes but my issue is that she sent out a picture of her ass on Snapchat.  Plain and simple.  That's where I drew the line.  I didn't break it off because she wore it, I broke it off because she turned sideways in a bathroom mirror stuck her butt out, took a picture and sent it out on Snapchat.  It's a borderline nude in that suit and seems wildly inappropriate to me.  Also for clarity I am not jealous.  The friends she went to the beach with were guy friends.  I was completely ok with it.  I had never even met them before.   She has guy friends.  She hangs out with them.  Never my issue and I didn't even feel it was worth mentioning.  My issue with the whole girls night comes into play when I get explicitly told I cannot come because it is girls only night, then later find out it was just a bunch of dudes and her and her girlfriend.  That's not a trust thing and I didn't try to make a big deal about it I just removed her from my friends on Snapchat so I didn't have to see it anymore.  And in all honesty my only true problem with it was one guy that was there in particular.  He's been hitting on her and messaging her non stop since we started dating knowing she has a boyfriend.  Both times I got snubbed for 'girls night', this one particular fella was in attendance both nights and I got the \"I didn't know he was going to be there\" from her.  But again whatever she can do whatever she wants whenever she wants and I've never tried to stop her but for my own sanity I removed her from Snapchat so I didn't have to see it.  That wasn't the point in this post and that wasn't even why I dumped her so I didn't really want to get into detail on that but a few people are calling me controlling and jealous now.  I broke it off because she sent out a pic of her ass on Snapchat.  The only reason we were together is because SHE told me the wild party phase was done and she was looking to start a family and have a serious relationship.  She is a single mom of an almost 3 year old daughter who I love to pieces.  She has been chasing me for 2 years trying to date me and I told her no every step of the way because she was just a little to wild for what I'm looking for in the stage I'm at in life.  So when she came to me earlier this year saying she had matured, all the partying and wild stuff was done and she was ready to get serious and start a family with me, I agreed to commit.  I did not date this woman and say \"HEY PUT ON SOME PANTS\".  I simply said \"you told me this stuff was over and I told you from the very beginning I had no interest in dating a girl who's still stuck in the wild college party phase\" so I ended it.  If she hadn't told me she had matured and wanted to get serious I never would have agreed to date her to begin with.  That's just not what I'm looking for.  I don't think that makes me jealous or controlling.  I was very open and honest about what I was looking for the 2 years I've known her.  \n"
     ]
    }
   ],
   "source": [
    "import spacy\n",
    "nlp = spacy.load('en_core_web_sm')\n",
    "\n",
    "parsed_sub = nlp(df.selftext[0])\n",
    "print(parsed_sub)"
   ]
  },
  {
   "cell_type": "markdown",
   "metadata": {
    "id": "n94uTq2ZK3X-"
   },
   "source": [
    "Looks the same. What happened under the hood?"
   ]
  },
  {
   "cell_type": "code",
   "execution_count": 18,
   "metadata": {
    "id": "49r2HQiZK23a"
   },
   "outputs": [
    {
     "name": "stdout",
     "output_type": "stream",
     "text": [
      "Sentence 1:\n",
      "My girlfriend recently went to the beach with a few of her friends.  \n",
      "\n",
      "Sentence 2:\n",
      "She has this tiny bikini bottom that is basically a thong that I HATE when she wears in public.  \n",
      "\n",
      "Sentence 3:\n",
      "Well she wore it.  \n",
      "\n",
      "Sentence 4:\n",
      "Not only did she wear it, she posed in the bathroom mirror of her hotel room to take a side profile picture so you could see her ass sticking out in it and posted it to her Snapchat story.   \n",
      "\n",
      "Sentence 5:\n",
      "Worth mentioning\n",
      "\n",
      "Sentence 6:\n",
      "I am not friends with her on Snapchat for reasons similar to this (sick of getting in fights when she says she's going out for 'girls' night\n",
      "\n",
      "Sentence 7:\n",
      "then posts videos of her sitting at a table with like 5 dudes that always got invited by one of the other girls which was completely unknown to her until she arrived - most of these guys she then adds on Snapchat afterwards).  \n",
      "\n",
      "Sentence 8:\n",
      "She didn't even save it and send it to me.  \n",
      "\n",
      "Sentence 9:\n",
      "I saw it when she was showing me pics from her beach trip\n",
      "\n",
      "Sentence 10:\n",
      "and she had screenshot that particular snap and left it in her camera roll.  \n",
      "\n",
      "Sentence 11:\n",
      "Whether the ass part was intentional or not I will never know.  \n",
      "\n",
      "Sentence 12:\n",
      "She claims she just liked the way her stomach looked\n",
      "\n",
      "Sentence 13:\n",
      "and it was just a pic because she was at the beach and that was the only black bikini bottom she owns.  \n",
      "\n",
      "Sentence 14:\n",
      "But there's nothing to look at but her in a micro bikini in a bathroom mirror.  \n",
      "\n",
      "Sentence 15:\n",
      "There's no ocean, no sand, no friends, just her tits and ass in a bathroom mirror.  \n",
      "\n",
      "Sentence 16:\n",
      "She's 24 and I am 30.  \n",
      "\n",
      "Sentence 17:\n",
      "Is it the age?  \n",
      "\n",
      "Sentence 18:\n",
      "Is this typical 24 year old behavior nowadays?  \n",
      "\n",
      "Sentence 19:\n",
      "Am I wrong for thinking\n",
      "\n",
      "Sentence 20:\n",
      "this is inappropriate behavior when you're in a relationship or am I the asshole for making a big deal about it?\n",
      "\n",
      "\n",
      "\n",
      "\n",
      "Sentence 21:\n",
      "*\n",
      "\n",
      "Sentence 22:\n",
      "*Edit:\n",
      "\n",
      "Sentence 23:\n",
      "*\n",
      "\n",
      "Sentence 24:\n",
      "*  Guys, let me clear.  \n",
      "\n",
      "Sentence 25:\n",
      "I did not try to control her at any point in time.  \n",
      "\n",
      "Sentence 26:\n",
      "I have never once told her what to do, what to wear, what she can or can not do.  \n",
      "\n",
      "Sentence 27:\n",
      "Yes, I hate that her ass is completely out in that bikini.  \n",
      "\n",
      "Sentence 28:\n",
      "But I've never told her not to wear it\n",
      "\n",
      "Sentence 29:\n",
      "and my problem is not that she wore it in general.  \n",
      "\n",
      "Sentence 30:\n",
      "She wore it all summer long despite my groaning.  \n",
      "\n",
      "Sentence 31:\n",
      "That was never my issue.  \n",
      "\n",
      "Sentence 32:\n",
      "I found it super annoying\n",
      "\n",
      "Sentence 33:\n",
      "yes\n",
      "\n",
      "Sentence 34:\n",
      "but my issue is that she sent out a picture of her ass on Snapchat.  \n",
      "\n",
      "Sentence 35:\n",
      "Plain and simple.  \n",
      "\n",
      "Sentence 36:\n",
      "That's where I drew the line.  \n",
      "\n",
      "Sentence 37:\n",
      "I didn't break it off because she wore it\n",
      "\n",
      "Sentence 38:\n",
      ", I broke it off because she turned sideways in a bathroom mirror stuck her butt out, took a picture and sent it out on Snapchat.  \n",
      "\n",
      "Sentence 39:\n",
      "It's a borderline nude in that suit and seems wildly inappropriate to me.  \n",
      "\n",
      "Sentence 40:\n",
      "Also for clarity I am not jealous.  \n",
      "\n",
      "Sentence 41:\n",
      "The friends she went to the beach with were guy friends.  \n",
      "\n",
      "Sentence 42:\n",
      "I was completely ok with it.  \n",
      "\n",
      "Sentence 43:\n",
      "I had never even met them before.   \n",
      "\n",
      "Sentence 44:\n",
      "She has guy friends.  \n",
      "\n",
      "Sentence 45:\n",
      "She hangs out with them.  \n",
      "\n",
      "Sentence 46:\n",
      "Never my issue and\n",
      "\n",
      "Sentence 47:\n",
      "I didn't even feel it was worth mentioning.  \n",
      "\n",
      "Sentence 48:\n",
      "My issue with the whole girls night comes into play when I get explicitly told I cannot come because it is girls only night, then later find out it was just a bunch of dudes and her and her girlfriend.  \n",
      "\n",
      "Sentence 49:\n",
      "That's not a trust thing\n",
      "\n",
      "Sentence 50:\n",
      "and I didn't try to make a big deal about it\n",
      "\n",
      "Sentence 51:\n",
      "I just removed her from my friends on Snapchat\n",
      "\n",
      "Sentence 52:\n",
      "so I didn't have to see it anymore.  \n",
      "\n",
      "Sentence 53:\n",
      "And in all honesty my only true problem with it was one guy that was there in particular.  \n",
      "\n",
      "Sentence 54:\n",
      "He's been hitting on her and messaging her non stop since we started dating knowing she has a boyfriend.  \n",
      "\n",
      "Sentence 55:\n",
      "Both times I got snubbed for 'girls night', this one particular fella was in attendance both nights\n",
      "\n",
      "Sentence 56:\n",
      "and I got the\n",
      "\n",
      "Sentence 57:\n",
      "\"I didn't know he was going to be there\" from her.  \n",
      "\n",
      "Sentence 58:\n",
      "But again whatever she can do whatever she wants whenever she wants\n",
      "\n",
      "Sentence 59:\n",
      "and I've never tried to stop her but for my own sanity\n",
      "\n",
      "Sentence 60:\n",
      "I removed her from Snapchat\n",
      "\n",
      "Sentence 61:\n",
      "so I didn't have to see it.  \n",
      "\n",
      "Sentence 62:\n",
      "That wasn't the point in this post and that wasn't even why I dumped her\n",
      "\n",
      "Sentence 63:\n",
      "so I didn't really want to get into detail on that\n",
      "\n",
      "Sentence 64:\n",
      "but a few people are calling me controlling and jealous now.  \n",
      "\n",
      "Sentence 65:\n",
      "I broke it off because she sent out a pic of her ass on Snapchat.  \n",
      "\n",
      "Sentence 66:\n",
      "The only reason we were together is because SHE told me the wild party phase was done and she was looking to start a family and have a serious relationship.  \n",
      "\n",
      "Sentence 67:\n",
      "She is a single mom of an almost 3 year old daughter who I love to pieces.  \n",
      "\n",
      "Sentence 68:\n",
      "She has been chasing me for 2 years trying to date me\n",
      "\n",
      "Sentence 69:\n",
      "and I told her no every step of the way because she was just a little to wild for what I'm looking for in the stage\n",
      "\n",
      "Sentence 70:\n",
      "I'm at in life.  \n",
      "\n",
      "Sentence 71:\n",
      "So when she came to me earlier this year saying she had matured, all the partying and wild stuff was done\n",
      "\n",
      "Sentence 72:\n",
      "and she was ready to get serious and start a family with me, I agreed to commit.  \n",
      "\n",
      "Sentence 73:\n",
      "I did not date this woman and say \"HEY PUT ON SOME PANTS\".  \n",
      "\n",
      "Sentence 74:\n",
      "I simply said \"you told me this stuff was over\n",
      "\n",
      "Sentence 75:\n",
      "and I told you from the very beginning\n",
      "\n",
      "Sentence 76:\n",
      "I had no interest in dating a girl who's still stuck in the wild college party phase\"\n",
      "\n",
      "Sentence 77:\n",
      "so I ended it.  \n",
      "\n",
      "Sentence 78:\n",
      "If she hadn't told me she had matured and wanted to get serious I never would have agreed to date her to begin with.  \n",
      "\n",
      "Sentence 79:\n",
      "That's just not what I'm looking for.  \n",
      "\n",
      "Sentence 80:\n",
      "I don't think that makes me jealous or controlling.  \n",
      "\n",
      "Sentence 81:\n",
      "I was very open and honest about what I was looking for the 2 years I've known her.  \n",
      "\n"
     ]
    }
   ],
   "source": [
    "for num, sentence in enumerate(parsed_sub.sents):\n",
    "    print('Sentence {}:'.format(num + 1))\n",
    "    print(sentence)\n",
    "    print('')"
   ]
  },
  {
   "cell_type": "code",
   "execution_count": 19,
   "metadata": {
    "colab": {
     "base_uri": "https://localhost:8080/"
    },
    "executionInfo": {
     "elapsed": 234,
     "status": "ok",
     "timestamp": 1647459908468,
     "user": {
      "displayName": "Tom van Nuenen",
      "photoUrl": "https://lh3.googleusercontent.com/a-/AOh14GhuBmxDvW5I_LJfZtwlPqMFD8QGLVPP3skvpkTnuQ=s64",
      "userId": "10012302451096885058"
     },
     "user_tz": 300
    },
    "id": "NaRq9HYRZpxm",
    "outputId": "221cd867-478e-43db-e168-db49aab22186"
   },
   "outputs": [
    {
     "name": "stdout",
     "output_type": "stream",
     "text": [
      "Entity 1: Snapchat - PERSON\n",
      "Entity 2: Snapchat - PERSON\n",
      "Entity 3: 5 - CARDINAL\n",
      "Entity 4: one - CARDINAL\n",
      "Entity 5: 24 - DATE\n",
      "Entity 6: 24 year old - DATE\n",
      "Entity 7: Snapchat - PERSON\n",
      "Entity 8: Snapchat - PERSON\n",
      "Entity 9: Snapchat - PERSON\n",
      "Entity 10: Snapchat - PERSON\n",
      "Entity 11: 2 years - DATE\n",
      "Entity 12: earlier this year - DATE\n",
      "Entity 13: HEY PUT ON SOME PANTS - WORK_OF_ART\n",
      "Entity 14: the 2 years - DATE\n"
     ]
    }
   ],
   "source": [
    "for num, entity in enumerate(parsed_sub.ents):\n",
    "    print('Entity {}:'.format(num + 1), entity, '-', entity.label_)"
   ]
  },
  {
   "cell_type": "markdown",
   "metadata": {
    "id": "er_QkUK0RmwU"
   },
   "source": [
    "We can print out a DataFrame with some of the information spaCy has extracted from our text. \n"
   ]
  },
  {
   "cell_type": "code",
   "execution_count": 20,
   "metadata": {
    "colab": {
     "base_uri": "https://localhost:8080/",
     "height": 519
    },
    "executionInfo": {
     "elapsed": 244,
     "status": "ok",
     "timestamp": 1639763496316,
     "user": {
      "displayName": "Tom van Nuenen",
      "photoUrl": "https://lh3.googleusercontent.com/a-/AOh14GhuBmxDvW5I_LJfZtwlPqMFD8QGLVPP3skvpkTnuQ=s64",
      "userId": "10012302451096885058"
     },
     "user_tz": -60
    },
    "id": "-bLDqUnULOij",
    "outputId": "c1bb5d1c-1e37-4c76-8847-c69312df02e3"
   },
   "outputs": [
    {
     "data": {
      "text/html": [
       "<div>\n",
       "<style scoped>\n",
       "    .dataframe tbody tr th:only-of-type {\n",
       "        vertical-align: middle;\n",
       "    }\n",
       "\n",
       "    .dataframe tbody tr th {\n",
       "        vertical-align: top;\n",
       "    }\n",
       "\n",
       "    .dataframe thead th {\n",
       "        text-align: right;\n",
       "    }\n",
       "</style>\n",
       "<table border=\"1\" class=\"dataframe\">\n",
       "  <thead>\n",
       "    <tr style=\"text-align: right;\">\n",
       "      <th></th>\n",
       "      <th>token_text</th>\n",
       "      <th>part_of_speech</th>\n",
       "      <th>token_lemma</th>\n",
       "      <th>entity_type</th>\n",
       "      <th>token_stop</th>\n",
       "      <th>token_punct</th>\n",
       "    </tr>\n",
       "  </thead>\n",
       "  <tbody>\n",
       "    <tr>\n",
       "      <th>0</th>\n",
       "      <td>My</td>\n",
       "      <td>DET</td>\n",
       "      <td>-PRON-</td>\n",
       "      <td></td>\n",
       "      <td>True</td>\n",
       "      <td>False</td>\n",
       "    </tr>\n",
       "    <tr>\n",
       "      <th>1</th>\n",
       "      <td>girlfriend</td>\n",
       "      <td>NOUN</td>\n",
       "      <td>girlfriend</td>\n",
       "      <td></td>\n",
       "      <td>False</td>\n",
       "      <td>False</td>\n",
       "    </tr>\n",
       "    <tr>\n",
       "      <th>2</th>\n",
       "      <td>recently</td>\n",
       "      <td>ADV</td>\n",
       "      <td>recently</td>\n",
       "      <td></td>\n",
       "      <td>False</td>\n",
       "      <td>False</td>\n",
       "    </tr>\n",
       "    <tr>\n",
       "      <th>3</th>\n",
       "      <td>went</td>\n",
       "      <td>VERB</td>\n",
       "      <td>go</td>\n",
       "      <td></td>\n",
       "      <td>False</td>\n",
       "      <td>False</td>\n",
       "    </tr>\n",
       "    <tr>\n",
       "      <th>4</th>\n",
       "      <td>to</td>\n",
       "      <td>ADP</td>\n",
       "      <td>to</td>\n",
       "      <td></td>\n",
       "      <td>True</td>\n",
       "      <td>False</td>\n",
       "    </tr>\n",
       "    <tr>\n",
       "      <th>5</th>\n",
       "      <td>the</td>\n",
       "      <td>DET</td>\n",
       "      <td>the</td>\n",
       "      <td></td>\n",
       "      <td>True</td>\n",
       "      <td>False</td>\n",
       "    </tr>\n",
       "    <tr>\n",
       "      <th>6</th>\n",
       "      <td>beach</td>\n",
       "      <td>NOUN</td>\n",
       "      <td>beach</td>\n",
       "      <td></td>\n",
       "      <td>False</td>\n",
       "      <td>False</td>\n",
       "    </tr>\n",
       "    <tr>\n",
       "      <th>7</th>\n",
       "      <td>with</td>\n",
       "      <td>ADP</td>\n",
       "      <td>with</td>\n",
       "      <td></td>\n",
       "      <td>True</td>\n",
       "      <td>False</td>\n",
       "    </tr>\n",
       "    <tr>\n",
       "      <th>8</th>\n",
       "      <td>a</td>\n",
       "      <td>DET</td>\n",
       "      <td>a</td>\n",
       "      <td></td>\n",
       "      <td>True</td>\n",
       "      <td>False</td>\n",
       "    </tr>\n",
       "    <tr>\n",
       "      <th>9</th>\n",
       "      <td>few</td>\n",
       "      <td>ADJ</td>\n",
       "      <td>few</td>\n",
       "      <td></td>\n",
       "      <td>True</td>\n",
       "      <td>False</td>\n",
       "    </tr>\n",
       "    <tr>\n",
       "      <th>10</th>\n",
       "      <td>of</td>\n",
       "      <td>ADP</td>\n",
       "      <td>of</td>\n",
       "      <td></td>\n",
       "      <td>True</td>\n",
       "      <td>False</td>\n",
       "    </tr>\n",
       "    <tr>\n",
       "      <th>11</th>\n",
       "      <td>her</td>\n",
       "      <td>DET</td>\n",
       "      <td>-PRON-</td>\n",
       "      <td></td>\n",
       "      <td>True</td>\n",
       "      <td>False</td>\n",
       "    </tr>\n",
       "    <tr>\n",
       "      <th>12</th>\n",
       "      <td>friends</td>\n",
       "      <td>NOUN</td>\n",
       "      <td>friend</td>\n",
       "      <td></td>\n",
       "      <td>False</td>\n",
       "      <td>False</td>\n",
       "    </tr>\n",
       "    <tr>\n",
       "      <th>13</th>\n",
       "      <td>.</td>\n",
       "      <td>PUNCT</td>\n",
       "      <td>.</td>\n",
       "      <td></td>\n",
       "      <td>False</td>\n",
       "      <td>True</td>\n",
       "    </tr>\n",
       "    <tr>\n",
       "      <th>14</th>\n",
       "      <td></td>\n",
       "      <td>SPACE</td>\n",
       "      <td></td>\n",
       "      <td></td>\n",
       "      <td>False</td>\n",
       "      <td>False</td>\n",
       "    </tr>\n",
       "  </tbody>\n",
       "</table>\n",
       "</div>"
      ],
      "text/plain": [
       "    token_text part_of_speech token_lemma entity_type  token_stop  token_punct\n",
       "0           My            DET      -PRON-                    True        False\n",
       "1   girlfriend           NOUN  girlfriend                   False        False\n",
       "2     recently            ADV    recently                   False        False\n",
       "3         went           VERB          go                   False        False\n",
       "4           to            ADP          to                    True        False\n",
       "5          the            DET         the                    True        False\n",
       "6        beach           NOUN       beach                   False        False\n",
       "7         with            ADP        with                    True        False\n",
       "8            a            DET           a                    True        False\n",
       "9          few            ADJ         few                    True        False\n",
       "10          of            ADP          of                    True        False\n",
       "11         her            DET      -PRON-                    True        False\n",
       "12     friends           NOUN      friend                   False        False\n",
       "13           .          PUNCT           .                   False         True\n",
       "14                      SPACE                               False        False"
      ]
     },
     "execution_count": 20,
     "metadata": {},
     "output_type": "execute_result"
    }
   ],
   "source": [
    "token_text = [token.orth_ for token in parsed_sub][:15]   \n",
    "token_pos = [token.pos_ for token in parsed_sub][:15]   \n",
    "token_lemma = [token.lemma_ for token in parsed_sub][:15]\n",
    "token_entity_type = [token.ent_type_ for token in parsed_sub][:15]\n",
    "token_stop = [token.is_stop for token in parsed_sub][:15]\n",
    "token_punct = [token.is_punct for token in parsed_sub][:15]\n",
    "\n",
    "pd.DataFrame(zip(token_text, token_pos, token_lemma, token_entity_type, token_stop, token_punct),\n",
    "             columns=['token_text','part_of_speech','token_lemma','entity_type', 'token_stop', 'token_punct'])"
   ]
  },
  {
   "cell_type": "markdown",
   "metadata": {
    "id": "ynLOmKULRtwz"
   },
   "source": [
    "Turns out spaCy does a *lot* of work. \n",
    "\n",
    "- It did parts of speech tagging (nouns, verbs etc.)\n",
    "- It did named entity recognition (names of people, dates, place names etc.) \n",
    "- It lemmatized the text. The goal of lemmatization is to reduce inflectional forms and sometimes derivationally related forms of a word to a common base form called a lemma. For instance, \"been\" $\\Rightarrow$ \"be\".\n"
   ]
  },
  {
   "cell_type": "markdown",
   "metadata": {
    "id": "1ist25mezRy8"
   },
   "source": [
    "## Dealing with leftover tokens\n",
    "\n",
    "While spaCy's tokenizer is great, it has limitations (like any tokenizer). Language is always domain-specific and our data might contain text that spaCy doesn't properly deal with. \n",
    "\n",
    "It is always worth going over some test data to check if your tokenizer works well, and then make some adjustments where needed. For instance, see the following sentence."
   ]
  },
  {
   "cell_type": "code",
   "execution_count": 21,
   "metadata": {
    "colab": {
     "base_uri": "https://localhost:8080/",
     "height": 200
    },
    "executionInfo": {
     "elapsed": 271,
     "status": "error",
     "timestamp": 1647461221106,
     "user": {
      "displayName": "Tom van Nuenen",
      "photoUrl": "https://lh3.googleusercontent.com/a-/AOh14GhuBmxDvW5I_LJfZtwlPqMFD8QGLVPP3skvpkTnuQ=s64",
      "userId": "10012302451096885058"
     },
     "user_tz": 300
    },
    "id": "SHYYe-IlnPAq",
    "outputId": "c038f1b6-c4f7-4526-a75e-bac41702820d"
   },
   "outputs": [
    {
     "name": "stdout",
     "output_type": "stream",
     "text": [
      "['that', '’', 'actually', 'not', 'true']\n"
     ]
    }
   ],
   "source": [
    "test = nlp(\"That’s actually not true\")\n",
    "tokens = [token.lemma_.lower() for token in test if not token.is_punct]\n",
    "print(tokens)"
   ]
  },
  {
   "cell_type": "markdown",
   "metadata": {
    "id": "BSub1OMt05kB"
   },
   "source": [
    "Looks like spaCy is having some difficulty with certain quotes – even if we tell it to get rid of `token.is_punct`. Let's further investigate:"
   ]
  },
  {
   "cell_type": "code",
   "execution_count": 22,
   "metadata": {
    "colab": {
     "base_uri": "https://localhost:8080/"
    },
    "executionInfo": {
     "elapsed": 6,
     "status": "ok",
     "timestamp": 1639836207497,
     "user": {
      "displayName": "Tom van Nuenen",
      "photoUrl": "https://lh3.googleusercontent.com/a-/AOh14GhuBmxDvW5I_LJfZtwlPqMFD8QGLVPP3skvpkTnuQ=s64",
      "userId": "10012302451096885058"
     },
     "user_tz": -60
    },
    "id": "to96M9Iu0eg-",
    "outputId": "0163422e-b34e-4ea2-bfcb-596d2fe13adb"
   },
   "outputs": [
    {
     "name": "stdout",
     "output_type": "stream",
     "text": [
      "0 -pron-\n",
      "1 be\n",
      "2 -pron-\n",
      "3 be\n",
      "4 -pron-\n",
      "5 be\n",
      "6 -pron-\n",
      "7 ’s\n",
      "8 that\n",
      "9 ’\n",
      "10 that\n",
      "11 be\n",
      "12 -pron-\n",
      "13 ’\n",
      "14 -pron-\n",
      "15 be\n",
      "16 father\n",
      "17 ’s\n",
      "18 father\n",
      "19 's\n"
     ]
    }
   ],
   "source": [
    "test = nlp(\"I’m you're he's he’s That’s that's he’s he's father’s father's\")\n",
    "tokens = [token.lemma_.lower() for token in test if not token.is_punct]\n",
    "for i, tokens in enumerate(tokens):\n",
    "    print(i, tokens)"
   ]
  },
  {
   "cell_type": "markdown",
   "metadata": {
    "id": "FCm-8IuD1moC"
   },
   "source": [
    "How about just adding a little rule of our own: after our first pass, let's remove these"
   ]
  },
  {
   "cell_type": "code",
   "execution_count": 23,
   "metadata": {
    "colab": {
     "base_uri": "https://localhost:8080/"
    },
    "executionInfo": {
     "elapsed": 196,
     "status": "ok",
     "timestamp": 1639836309108,
     "user": {
      "displayName": "Tom van Nuenen",
      "photoUrl": "https://lh3.googleusercontent.com/a-/AOh14GhuBmxDvW5I_LJfZtwlPqMFD8QGLVPP3skvpkTnuQ=s64",
      "userId": "10012302451096885058"
     },
     "user_tz": -60
    },
    "id": "uG3MXlgWmsoS",
    "outputId": "aaffa863-5b39-4618-d3d0-b4597d3d12a2"
   },
   "outputs": [
    {
     "name": "stdout",
     "output_type": "stream",
     "text": [
      "0 i\n",
      "1 be\n",
      "2 you\n",
      "3 be\n",
      "4 he\n",
      "5 be\n",
      "6 he\n",
      "7 that\n",
      "8 that\n",
      "9 be\n",
      "10 he\n",
      "11 he\n",
      "12 be\n",
      "13 father\n",
      "14 father\n"
     ]
    }
   ],
   "source": [
    "test = nlp(\"I’m you're he's he’s That’s that's he’s he's father’s father's\")\n",
    "tokens = [token.lemma_.lower() if token.lemma_ != '-PRON-' else token.lower_ for token in test if not token.is_punct and not token.is_digit]\n",
    "leftover = [\"'s\",  \"’s\", \"’\"]\n",
    "tokens_c = [token for token in tokens if not token in leftover]\n",
    "for i, tokens_c in enumerate(tokens_c):\n",
    "    print(i, tokens_c)"
   ]
  },
  {
   "cell_type": "markdown",
   "metadata": {
    "id": "OA0wy-ttNE7u"
   },
   "source": [
    "## Processing submissions with spaCy\n",
    "Now we can scale up to our data.\n",
    "\n",
    "Let's also define a few helper functions that we'll use for text normalization. In particular, the `lemmatized_sentence_corpus ` generator function will use spaCy to:\n",
    "\n",
    "- Iterate over the DF\n",
    "- Segment the threads into individual sentences\n",
    "- Remove punctuation and excess whitespace\n",
    "- Lemmatize the text"
   ]
  },
  {
   "cell_type": "code",
   "execution_count": 24,
   "metadata": {
    "executionInfo": {
     "elapsed": 1487,
     "status": "ok",
     "timestamp": 1647460151917,
     "user": {
      "displayName": "Tom van Nuenen",
      "photoUrl": "https://lh3.googleusercontent.com/a-/AOh14GhuBmxDvW5I_LJfZtwlPqMFD8QGLVPP3skvpkTnuQ=s64",
      "userId": "10012302451096885058"
     },
     "user_tz": 300
    },
    "id": "qtrgcSZH4Rnb"
   },
   "outputs": [],
   "source": [
    "import spacy\n",
    "nlp = spacy.load('en_core_web_sm')\n",
    "from gensim.models.phrases import Phrases, Phraser\n",
    "\n",
    "def clean(token):\n",
    "    \"\"\"\n",
    "    helper function to eliminate tokens\n",
    "    that are pure punctuation, whitespace, or digits\n",
    "    \"\"\"\n",
    "    return token.is_punct or token.is_space or token.is_digit\n",
    "\n",
    "def line_read(df):\n",
    "    \"\"\"\n",
    "    generator function to read in text from df\n",
    "    and get rid of line breaks in the text\n",
    "    \"\"\"    \n",
    "    for text in df.selftext:\n",
    "        yield text.replace('\\n', '')\n",
    "\n",
    "def preprocess(df, allowed_postags=['NOUN', 'ADJ']):\n",
    "    for parsed in nlp.pipe(line_read(df), batch_size=1000, disable=[\"tok2vec\", \"ner\"]):\n",
    "        lemmas = [token.lemma_.lower() if token.lemma_ != '-PRON-' else token.lower_ for token in parsed if not clean(token)]\n",
    "        lemmas_c = [l for l in lemmas if not l in [\"'s\",  \"’s\", \"’\"]]\n",
    "        nostops = [term for term in lemmas_c if term not in spacy.lang.en.stop_words.STOP_WORDS]\n",
    "        yield ' '.join(nostops)\n"
   ]
  },
  {
   "cell_type": "code",
   "execution_count": 25,
   "metadata": {
    "id": "OjbgskrlDg16"
   },
   "outputs": [],
   "source": [
    "# This will take a while\n",
    "\n",
    "lemmas = [line for line in preprocess(df)]"
   ]
  },
  {
   "cell_type": "code",
   "execution_count": 50,
   "metadata": {
    "colab": {
     "base_uri": "https://localhost:8080/",
     "height": 157
    },
    "executionInfo": {
     "elapsed": 262,
     "status": "ok",
     "timestamp": 1639843861051,
     "user": {
      "displayName": "Tom van Nuenen",
      "photoUrl": "https://lh3.googleusercontent.com/a-/AOh14GhuBmxDvW5I_LJfZtwlPqMFD8QGLVPP3skvpkTnuQ=s64",
      "userId": "10012302451096885058"
     },
     "user_tz": -60
    },
    "id": "e8fBm9qk-tEb",
    "outputId": "018f2ee6-5596-4715-8a3a-84912495f07d"
   },
   "outputs": [
    {
     "data": {
      "text/plain": [
       "'girlfriend recently beach friend tiny bikini basically thong hate wear public wear wear pose bathroom mirror hotel room profile picture stick post snapchat story worth mention friend snapchat reason similar sick fight girl night post video sit table like dude invite girl completely unknown arrive guy add snapchat save send pic beach trip screenshot particular snap leave camera roll ass intentional know claim like way stomach look pic beach black bikini look micro bikini bathroom mirror ocean sand friend tit ass bathroom mirror age typical year old behavior nowadays wrong think inappropriate behavior relationship asshole big deal it?**edit guy let clear try control point time tell wear yes hate ass completely bikini tell wear problem wear general wear summer long despite groaning issue find super annoying yes issue send picture ass snapchat plain simple draw line break wear break turn sideways bathroom mirror stick butt picture send snapchat borderline nude suit wildly inappropriate clarity jealous friend beach guy friend completely ok meet guy friend hang issue feel worth mention issue girl night come play explicitly tell come girl night later find bunch dude girlfriend trust thing try big deal remove friend snapchat anymore honesty true problem guy particular hit message non stop start date know boyfriend time snub girl night particular fella attendance night know want want try stop sanity remove snapchat point post dump want detail people control jealous break send pic ass snapchat reason tell wild party phase look start family relationship single mom year old daughter love piece chase year try date tell step way little wild look stage life come early year mature partying wild stuff ready start family agree commit date woman hey pant simply tell stuff tell beginning interest date girl stick wild college party phase end tell mature want agree date begin look think jealous control open honest look year know'"
      ]
     },
     "execution_count": 50,
     "metadata": {},
     "output_type": "execute_result"
    }
   ],
   "source": [
    "lemmas[0]"
   ]
  },
  {
   "cell_type": "markdown",
   "metadata": {
    "id": "jNQTjb50E1Fm"
   },
   "source": [
    "### Phrase modeling with Gensim\n",
    "\n",
    "Many kinds of NLP methods work better when using N-grams, as this allows words that frequently appearing together to be concatenated (e.g. \"new york\" means something different and more specific than \"new\" and \"york\" separately).\n",
    "\n",
    "Phrase modeling is an approach to learning combinations of tokens that together represent meaningful multi-word concepts. We can develop phrase models by looping over the the words in our lemmatized dataset and looking for words that co-occur (i.e., appear one after another) together much more frequently than you would expect them to by random chance. \n",
    "\n",
    "Gensim’s `Phrases` model implements bigrams, trigrams, quadgrams, etc. `Phrases` detects phrases based on collocation counts. It builds a model of input text that you then can use on other data.\n",
    "\n",
    "Gensim detects a bigram if a scoring function for two words exceeds a threshold. The two important arguments to `Phrases` are `min_count` and `threshold`. The higher the values of these parameters, the harder it is for words to be combined to bigrams."
   ]
  },
  {
   "cell_type": "code",
   "execution_count": 38,
   "metadata": {
    "colab": {
     "base_uri": "https://localhost:8080/"
    },
    "executionInfo": {
     "elapsed": 215,
     "status": "ok",
     "timestamp": 1639840527645,
     "user": {
      "displayName": "Tom van Nuenen",
      "photoUrl": "https://lh3.googleusercontent.com/a-/AOh14GhuBmxDvW5I_LJfZtwlPqMFD8QGLVPP3skvpkTnuQ=s64",
      "userId": "10012302451096885058"
     },
     "user_tz": -60
    },
    "id": "B_VI6UYEBirn",
    "outputId": "d38f9936-85b7-4d98-a847-f4da9a438ecf"
   },
   "outputs": [
    {
     "data": {
      "text/plain": [
       "[['new_york', 'is', 'great'],\n",
       " ['new_york', 'is', 'in', 'the', 'united', 'states'],\n",
       " ['i', 'love', 'to', 'stay', 'in', 'new_york']]"
      ]
     },
     "execution_count": 38,
     "metadata": {},
     "output_type": "execute_result"
    }
   ],
   "source": [
    "from gensim.models.phrases import Phrases, Phraser\n",
    "\n",
    "docs = ['new york is great', 'new york is in the united states','i love to stay in new york']\n",
    "\n",
    "tokens = [doc.split(\" \") for doc in docs]\n",
    "bigram = Phrases(tokens, min_count=1, threshold=3,delimiter=b'_')\n",
    "bigram_phraser = Phraser(bigram)\n",
    "[bigram_phraser[token] for token in tokens]"
   ]
  },
  {
   "cell_type": "code",
   "execution_count": 55,
   "metadata": {
    "colab": {
     "base_uri": "https://localhost:8080/"
    },
    "executionInfo": {
     "elapsed": 63667,
     "status": "ok",
     "timestamp": 1639846696683,
     "user": {
      "displayName": "Tom van Nuenen",
      "photoUrl": "https://lh3.googleusercontent.com/a-/AOh14GhuBmxDvW5I_LJfZtwlPqMFD8QGLVPP3skvpkTnuQ=s64",
      "userId": "10012302451096885058"
     },
     "user_tz": -60
    },
    "id": "MxeZ7mc9DeMj",
    "outputId": "a478fee9-f5b1-4562-e3a6-860e244e5719"
   },
   "outputs": [],
   "source": [
    "# create bigram and trigram models\n",
    "lemmas_s = [doc.split(\" \") for doc in lemmas]\n",
    "bigram = Phrases(lemmas_s, min_count=10, threshold=100)\n",
    "trigram = Phrases(bigram[lemmas_s], min_count=10, threshold=50)  \n",
    "bigram_phraser = Phraser(bigram)\n",
    "trigram_phraser = Phraser(trigram)\n",
    "\n",
    "def make_bigrams(texts):\n",
    "    return [bigram_phraser[doc] for doc in texts]\n",
    "\n",
    "def make_trigrams(texts):\n",
    "    return [' '.join(trigram_phraser[bigram_phraser[doc]]) for doc in texts]\n",
    "\n",
    "# Form trigrams\n",
    "trigrams = make_trigrams(lemmas_s)"
   ]
  },
  {
   "cell_type": "code",
   "execution_count": 56,
   "metadata": {
    "colab": {
     "base_uri": "https://localhost:8080/",
     "height": 157
    },
    "executionInfo": {
     "elapsed": 9,
     "status": "ok",
     "timestamp": 1639846157869,
     "user": {
      "displayName": "Tom van Nuenen",
      "photoUrl": "https://lh3.googleusercontent.com/a-/AOh14GhuBmxDvW5I_LJfZtwlPqMFD8QGLVPP3skvpkTnuQ=s64",
      "userId": "10012302451096885058"
     },
     "user_tz": -60
    },
    "id": "ic7Il8lyVHpk",
    "outputId": "0ddd51f2-47b4-4a97-dc1d-8fc6db2f85dc"
   },
   "outputs": [
    {
     "data": {
      "text/plain": [
       "'parent smoke like chimney use quit wife young son vacation time week invite parent come visit watch son wife date live hour half away spend night come visit occasion tell remind time son bear month ago absolutely smoking address inside outside street car driveway near property want son want ask question big idea know okay morning leave review footage security_camera door dad step driveway smoke time hour wife mom texte dad afterward tell disrespect wish smoke property meet public come house ask stay want stay overnight hotel smoke grandson parent basically think ridiculous smoke brother fine actually true young brother asthma chronic ear infection kid sure exacerbate smoking plus pick year quit grandson danger air thank babysitting babysitte hour carte blanche disrespect wife wish big_deal wonder harsh rule stand maybe nice'"
      ]
     },
     "execution_count": 56,
     "metadata": {},
     "output_type": "execute_result"
    }
   ],
   "source": [
    "trigrams[1]"
   ]
  },
  {
   "cell_type": "markdown",
   "metadata": {
    "id": "eh5peeC6Fi6H"
   },
   "source": [
    "Once our phrase model has been trained on our corpus, we can apply it to new text. When our model encounters two tokens in new text that identifies as a phrase, it will merge the two into a single new token.\n"
   ]
  },
  {
   "cell_type": "code",
   "execution_count": 58,
   "metadata": {
    "colab": {
     "base_uri": "https://localhost:8080/"
    },
    "executionInfo": {
     "elapsed": 188,
     "status": "ok",
     "timestamp": 1639846257823,
     "user": {
      "displayName": "Tom van Nuenen",
      "photoUrl": "https://lh3.googleusercontent.com/a-/AOh14GhuBmxDvW5I_LJfZtwlPqMFD8QGLVPP3skvpkTnuQ=s64",
      "userId": "10012302451096885058"
     },
     "user_tz": -60
    },
    "id": "FCR6DWQeFjt8",
    "outputId": "0c7b6e9c-ebe1-400d-e073-7c104aeddd02"
   },
   "outputs": [
    {
     "data": {
      "text/plain": [
       "['That', 'was', 'not', 'a', 'big_deal']"
      ]
     },
     "execution_count": 58,
     "metadata": {},
     "output_type": "execute_result"
    }
   ],
   "source": [
    "trigram_phraser[\"That\", \"was\", \"not\", \"a\", \"big\", \"deal\"]"
   ]
  },
  {
   "cell_type": "code",
   "execution_count": 31,
   "metadata": {
    "colab": {
     "base_uri": "https://localhost:8080/"
    },
    "executionInfo": {
     "elapsed": 216,
     "status": "ok",
     "timestamp": 1639846804300,
     "user": {
      "displayName": "Tom van Nuenen",
      "photoUrl": "https://lh3.googleusercontent.com/a-/AOh14GhuBmxDvW5I_LJfZtwlPqMFD8QGLVPP3skvpkTnuQ=s64",
      "userId": "10012302451096885058"
     },
     "user_tz": -60
    },
    "id": "xO4enOmLeXXi",
    "outputId": "921b6ce4-3390-4f90-ab13-e7bd4e0ce11f"
   },
   "outputs": [
    {
     "data": {
      "text/plain": [
       "96"
      ]
     },
     "execution_count": 31,
     "metadata": {},
     "output_type": "execute_result"
    }
   ],
   "source": [
    "len(bigram_phraser.phrasegrams.keys())"
   ]
  },
  {
   "cell_type": "code",
   "execution_count": 32,
   "metadata": {
    "colab": {
     "base_uri": "https://localhost:8080/"
    },
    "executionInfo": {
     "elapsed": 346,
     "status": "ok",
     "timestamp": 1639846859895,
     "user": {
      "displayName": "Tom van Nuenen",
      "photoUrl": "https://lh3.googleusercontent.com/a-/AOh14GhuBmxDvW5I_LJfZtwlPqMFD8QGLVPP3skvpkTnuQ=s64",
      "userId": "10012302451096885058"
     },
     "user_tz": -60
    },
    "id": "uwySeLM4df97",
    "outputId": "0940755f-397e-48cc-ecdb-3558341cb7ae"
   },
   "outputs": [
    {
     "data": {
      "text/plain": [
       "[(b'bathing', b'suit'),\n",
       " (b'mash', b'potato'),\n",
       " (b'social', b'medium'),\n",
       " (b'final', b'straw'),\n",
       " (b'ice', b'cream'),\n",
       " (b'red', b'flag'),\n",
       " (b'credit', b'card'),\n",
       " (b'cerebral', b'palsy'),\n",
       " (b'fast', b'forward'),\n",
       " (b'paternity', b'test')]"
      ]
     },
     "execution_count": 32,
     "metadata": {},
     "output_type": "execute_result"
    }
   ],
   "source": [
    "[bigram for bigram in bigram_phraser.phrasegrams.keys()][:10]"
   ]
  },
  {
   "cell_type": "markdown",
   "metadata": {
    "id": "ZIcNo1TL9G4E"
   },
   "source": [
    "## Saving to disk\n",
    "\n",
    "It can be helpful to have your preprocessed corpus as a .txt file on disk. Here's how you save it as such:"
   ]
  },
  {
   "cell_type": "code",
   "execution_count": 33,
   "metadata": {
    "id": "7KAzj8pg9FtK"
   },
   "outputs": [],
   "source": [
    "with open('aita_sub_top_sm_lemmas.txt', 'w', encoding='utf_8') as f:\n",
    "    for l in trigrams:\n",
    "        f.write(l + '\\n')"
   ]
  },
  {
   "cell_type": "markdown",
   "metadata": {
    "id": "rVgem81TZWzu"
   },
   "source": [
    "# Adding to DF \n",
    "Finally, let's add our new preprocessed data to our CSV in a new column."
   ]
  },
  {
   "cell_type": "code",
   "execution_count": 34,
   "metadata": {
    "id": "QBe1-7806O0A"
   },
   "outputs": [],
   "source": [
    "# inserting next to selftext column\n",
    "df.insert(loc=7, column='lemmas', value=trigrams)\n",
    "# removing empty rows in lemmas\n",
    "df = df[~df['lemmas'].isin([''])]"
   ]
  },
  {
   "cell_type": "code",
   "execution_count": 35,
   "metadata": {},
   "outputs": [],
   "source": [
    "# save to new csv\n",
    "df.to_csv('aita_sub_top_sm_lemmas.csv', index=False)"
   ]
  },
  {
   "cell_type": "code",
   "execution_count": 36,
   "metadata": {
    "colab": {
     "base_uri": "https://localhost:8080/",
     "height": 503
    },
    "executionInfo": {
     "elapsed": 260,
     "status": "ok",
     "timestamp": 1639846939166,
     "user": {
      "displayName": "Tom van Nuenen",
      "photoUrl": "https://lh3.googleusercontent.com/a-/AOh14GhuBmxDvW5I_LJfZtwlPqMFD8QGLVPP3skvpkTnuQ=s64",
      "userId": "10012302451096885058"
     },
     "user_tz": -60
    },
    "id": "QxzOU6g5fmp8",
    "outputId": "53775808-ac75-41e7-cc5f-86b5f6a4489f"
   },
   "outputs": [
    {
     "data": {
      "text/html": [
       "<div>\n",
       "<style scoped>\n",
       "    .dataframe tbody tr th:only-of-type {\n",
       "        vertical-align: middle;\n",
       "    }\n",
       "\n",
       "    .dataframe tbody tr th {\n",
       "        vertical-align: top;\n",
       "    }\n",
       "\n",
       "    .dataframe thead th {\n",
       "        text-align: right;\n",
       "    }\n",
       "</style>\n",
       "<table border=\"1\" class=\"dataframe\">\n",
       "  <thead>\n",
       "    <tr style=\"text-align: right;\">\n",
       "      <th></th>\n",
       "      <th>idint</th>\n",
       "      <th>idstr</th>\n",
       "      <th>created</th>\n",
       "      <th>nsfw</th>\n",
       "      <th>author</th>\n",
       "      <th>title</th>\n",
       "      <th>selftext</th>\n",
       "      <th>lemmas</th>\n",
       "      <th>score</th>\n",
       "      <th>distinguish</th>\n",
       "      <th>textlen</th>\n",
       "      <th>num_comments</th>\n",
       "      <th>flair_text</th>\n",
       "      <th>flair_css_class</th>\n",
       "    </tr>\n",
       "  </thead>\n",
       "  <tbody>\n",
       "    <tr>\n",
       "      <th>0</th>\n",
       "      <td>427576402</td>\n",
       "      <td>t3_72kg2a</td>\n",
       "      <td>1506433689</td>\n",
       "      <td>0.0</td>\n",
       "      <td>Ritsku</td>\n",
       "      <td>AITA for breaking up with my girlfriend becaus...</td>\n",
       "      <td>My girlfriend recently went to the beach with ...</td>\n",
       "      <td>girlfriend recently beach friend tiny bikini b...</td>\n",
       "      <td>679.0</td>\n",
       "      <td>NaN</td>\n",
       "      <td>4917.0</td>\n",
       "      <td>434.0</td>\n",
       "      <td>no a--holes here</td>\n",
       "      <td>NaN</td>\n",
       "    </tr>\n",
       "    <tr>\n",
       "      <th>1</th>\n",
       "      <td>551887974</td>\n",
       "      <td>t3_94kvhi</td>\n",
       "      <td>1533404095</td>\n",
       "      <td>0.0</td>\n",
       "      <td>hhhhhhffff678</td>\n",
       "      <td>AITA for banning smoking in my house and telli...</td>\n",
       "      <td>My parents smoke like chimneys. I used to as w...</td>\n",
       "      <td>parent smoke like chimney use quit wife young ...</td>\n",
       "      <td>832.0</td>\n",
       "      <td>NaN</td>\n",
       "      <td>2076.0</td>\n",
       "      <td>357.0</td>\n",
       "      <td>asshole</td>\n",
       "      <td>ass</td>\n",
       "    </tr>\n",
       "    <tr>\n",
       "      <th>2</th>\n",
       "      <td>552654542</td>\n",
       "      <td>t3_951az2</td>\n",
       "      <td>1533562299</td>\n",
       "      <td>0.0</td>\n",
       "      <td>creepatthepool</td>\n",
       "      <td>AITA? Creep wears skimpy bathing suit to pool</td>\n",
       "      <td>Hi guys. Throwaway for obv reasons.\\n\\nI'm a f...</td>\n",
       "      <td>hi guy throwaway obv reason i'm female child b...</td>\n",
       "      <td>23.0</td>\n",
       "      <td>NaN</td>\n",
       "      <td>1741.0</td>\n",
       "      <td>335.0</td>\n",
       "      <td>Shitpost</td>\n",
       "      <td>NaN</td>\n",
       "    </tr>\n",
       "  </tbody>\n",
       "</table>\n",
       "</div>"
      ],
      "text/plain": [
       "       idint      idstr     created  nsfw          author  \\\n",
       "0  427576402  t3_72kg2a  1506433689   0.0          Ritsku   \n",
       "1  551887974  t3_94kvhi  1533404095   0.0   hhhhhhffff678   \n",
       "2  552654542  t3_951az2  1533562299   0.0  creepatthepool   \n",
       "\n",
       "                                               title  \\\n",
       "0  AITA for breaking up with my girlfriend becaus...   \n",
       "1  AITA for banning smoking in my house and telli...   \n",
       "2      AITA? Creep wears skimpy bathing suit to pool   \n",
       "\n",
       "                                            selftext  \\\n",
       "0  My girlfriend recently went to the beach with ...   \n",
       "1  My parents smoke like chimneys. I used to as w...   \n",
       "2  Hi guys. Throwaway for obv reasons.\\n\\nI'm a f...   \n",
       "\n",
       "                                              lemmas  score distinguish  \\\n",
       "0  girlfriend recently beach friend tiny bikini b...  679.0         NaN   \n",
       "1  parent smoke like chimney use quit wife young ...  832.0         NaN   \n",
       "2  hi guy throwaway obv reason i'm female child b...   23.0         NaN   \n",
       "\n",
       "   textlen  num_comments        flair_text flair_css_class  \n",
       "0   4917.0         434.0  no a--holes here             NaN  \n",
       "1   2076.0         357.0           asshole             ass  \n",
       "2   1741.0         335.0          Shitpost             NaN  "
      ]
     },
     "execution_count": 36,
     "metadata": {},
     "output_type": "execute_result"
    }
   ],
   "source": [
    " df.head(3)"
   ]
  },
  {
   "cell_type": "code",
   "execution_count": null,
   "metadata": {},
   "outputs": [],
   "source": []
  }
 ],
 "metadata": {
  "colab": {
   "collapsed_sections": [],
   "name": "Week 1 Preprocessing.ipynb",
   "provenance": []
  },
  "kernelspec": {
   "display_name": "Python 3",
   "language": "python",
   "name": "python3"
  },
  "language_info": {
   "codemirror_mode": {
    "name": "ipython",
    "version": 3
   },
   "file_extension": ".py",
   "mimetype": "text/x-python",
   "name": "python",
   "nbconvert_exporter": "python",
   "pygments_lexer": "ipython3",
   "version": "3.8.5"
  }
 },
 "nbformat": 4,
 "nbformat_minor": 4
}
