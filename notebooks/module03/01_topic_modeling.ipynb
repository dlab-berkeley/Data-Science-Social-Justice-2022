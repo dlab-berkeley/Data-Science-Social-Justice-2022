{
 "cells": [
  {
   "cell_type": "markdown",
   "metadata": {
    "id": "yPgJH0CIZWyQ"
   },
   "source": [
    "Data Science + Social Justice<br>\n",
    "Topic Modeling <br>\n",
    "Created by Tom van Nuenen (tom.van_nuenen@kcl.ac.uk)"
   ]
  },
  {
   "cell_type": "code",
   "execution_count": 1,
   "metadata": {},
   "outputs": [
    {
     "data": {
      "image/jpeg": "[encoded data removed]",
      "text/html": [
       "\n",
       "        <iframe\n",
       "            width=\"640\"\n",
       "            height=\"360\"\n",
       "            src=\"https://www.youtube.com/embed/ka8k32dszuY\"\n",
       "            frameborder=\"0\"\n",
       "            allowfullscreen\n",
       "        ></iframe>\n",
       "        "
      ],
      "text/plain": [
       "<IPython.lib.display.YouTubeVideo at 0x7fd8802567d0>"
      ]
     },
     "execution_count": 1,
     "metadata": {},
     "output_type": "execute_result"
    }
   ],
   "source": [
    "# Please run this cell for the accompanying video.\n",
    "from IPython.display import YouTubeVideo\n",
    "YouTubeVideo('ka8k32dszuY', width=640, height=360)"
   ]
  },
  {
   "cell_type": "markdown",
   "metadata": {
    "id": "m6EAS2bBZWyR"
   },
   "source": [
    "# Topic modeling\n",
    "\n",
    "This notebook introduces topic modeling. Topic modeling is a type of statistical modeling for the discovery of abstract \"topics\" that occur in a collection of documents. It is frequently used in NLP to aid the discovery of hidden semantic structures in a collection of texts.\n",
    "\n",
    "Before you start, please read [this post](https://tomvannuenen.medium.com/analyzing-reddit-communities-with-python-part-5-topic-modeling-a5b0d119add) for an explainer of how topic modeling (and LDA, which is just one form of topic modeling) works.\n",
    "\n",
    "We'll use the `Gensim` package to create our topic models, which also allows us to run tests to optimize our topic amount.\n",
    "\n",
    "After reading this notebook, you'll be able to:\n",
    "\n",
    "1. Use gensim to create topic models;\n",
    "2. Explore the topic models using `PyLDAvis`;\n",
    "3. Evaluate and improve topic models using several methods;\n",
    "4. Give names to topics, and use them to classify text.\n"
   ]
  },
  {
   "cell_type": "markdown",
   "metadata": {
    "id": "ib68CU9JeGgc"
   },
   "source": [
    "## Loading the data"
   ]
  },
  {
   "cell_type": "code",
   "execution_count": 8,
   "metadata": {
    "id": "hrvXJsJoerlm"
   },
   "outputs": [],
   "source": [
    "import os\n",
    "# We include two ../ because we want to go two levels up in the file structure\n",
    "#Python method chdir() changes the current working directory to the given path.\n",
    "#It returns None in all the cases.\n",
    "os.chdir(\"../../data\")"
   ]
  },
  {
   "cell_type": "code",
   "execution_count": 18,
   "metadata": {
    "colab": {
     "base_uri": "https://localhost:8080/"
    },
    "executionInfo": {
     "elapsed": 2574,
     "status": "ok",
     "timestamp": 1639939141559,
     "user": {
      "displayName": "Tom van Nuenen",
      "photoUrl": "https://lh3.googleusercontent.com/a-/AOh14GhuBmxDvW5I_LJfZtwlPqMFD8QGLVPP3skvpkTnuQ=s64",
      "userId": "10012302451096885058"
     },
     "user_tz": -60
    },
    "id": "jlWzV3rveIdK",
    "outputId": "f6f0d10b-b6ff-4236-aaa4-6ec1cc29e980"
   },
   "outputs": [],
   "source": [
    "import pandas as pd\n",
    "\n",
    "df = pd.read_csv('aita_sub_top_sm_pos_lemmas_topics.csv')\n"
   ]
  },
  {
   "cell_type": "code",
   "execution_count": 19,
   "metadata": {
    "colab": {
     "base_uri": "https://localhost:8080/",
     "height": 520
    },
    "executionInfo": {
     "elapsed": 313,
     "status": "ok",
     "timestamp": 1639924447761,
     "user": {
      "displayName": "Tom van Nuenen",
      "photoUrl": "https://lh3.googleusercontent.com/a-/AOh14GhuBmxDvW5I_LJfZtwlPqMFD8QGLVPP3skvpkTnuQ=s64",
      "userId": "10012302451096885058"
     },
     "user_tz": -60
    },
    "id": "dkpQ_rR7HSyV",
    "outputId": "027347ac-5e0b-4d61-9a35-cd00c277ff77"
   },
   "outputs": [
    {
     "data": {
      "text/html": [
       "<div>\n",
       "<style scoped>\n",
       "    .dataframe tbody tr th:only-of-type {\n",
       "        vertical-align: middle;\n",
       "    }\n",
       "\n",
       "    .dataframe tbody tr th {\n",
       "        vertical-align: top;\n",
       "    }\n",
       "\n",
       "    .dataframe thead th {\n",
       "        text-align: right;\n",
       "    }\n",
       "</style>\n",
       "<table border=\"1\" class=\"dataframe\">\n",
       "  <thead>\n",
       "    <tr style=\"text-align: right;\">\n",
       "      <th></th>\n",
       "      <th>idint</th>\n",
       "      <th>idstr</th>\n",
       "      <th>created</th>\n",
       "      <th>created_datetime</th>\n",
       "      <th>nsfw</th>\n",
       "      <th>author</th>\n",
       "      <th>title</th>\n",
       "      <th>selftext</th>\n",
       "      <th>lemmas</th>\n",
       "      <th>pos_lemmas</th>\n",
       "      <th>score</th>\n",
       "      <th>distinguish</th>\n",
       "      <th>textlen</th>\n",
       "      <th>num_comments</th>\n",
       "      <th>flair_text</th>\n",
       "      <th>flair_css_class</th>\n",
       "      <th>dom_topic</th>\n",
       "      <th>dom_topic_num</th>\n",
       "    </tr>\n",
       "  </thead>\n",
       "  <tbody>\n",
       "    <tr>\n",
       "      <th>0</th>\n",
       "      <td>427576402</td>\n",
       "      <td>t3_72kg2a</td>\n",
       "      <td>1506433689</td>\n",
       "      <td>2017-09-26 13:48:09</td>\n",
       "      <td>0.0</td>\n",
       "      <td>Ritsku</td>\n",
       "      <td>AITA for breaking up with my girlfriend becaus...</td>\n",
       "      <td>My girlfriend recently went to the beach with ...</td>\n",
       "      <td>girlfriend recently beach friend tiny bikini b...</td>\n",
       "      <td>beach friend tiny bikini hate public wear wear...</td>\n",
       "      <td>679.0</td>\n",
       "      <td>NaN</td>\n",
       "      <td>4917.0</td>\n",
       "      <td>434.0</td>\n",
       "      <td>no a--holes here</td>\n",
       "      <td>NaN</td>\n",
       "      <td>friends &amp; dating</td>\n",
       "      <td>15.0</td>\n",
       "    </tr>\n",
       "    <tr>\n",
       "      <th>1</th>\n",
       "      <td>551887974</td>\n",
       "      <td>t3_94kvhi</td>\n",
       "      <td>1533404095</td>\n",
       "      <td>2018-08-04 17:34:55</td>\n",
       "      <td>0.0</td>\n",
       "      <td>hhhhhhffff678</td>\n",
       "      <td>AITA for banning smoking in my house and telli...</td>\n",
       "      <td>My parents smoke like chimneys. I used to as w...</td>\n",
       "      <td>parent smoke like chimney use quit wife young ...</td>\n",
       "      <td>parent smoke son week invite parent hour night...</td>\n",
       "      <td>832.0</td>\n",
       "      <td>NaN</td>\n",
       "      <td>2076.0</td>\n",
       "      <td>357.0</td>\n",
       "      <td>asshole</td>\n",
       "      <td>ass</td>\n",
       "      <td>around the house</td>\n",
       "      <td>0.0</td>\n",
       "    </tr>\n",
       "    <tr>\n",
       "      <th>2</th>\n",
       "      <td>552654542</td>\n",
       "      <td>t3_951az2</td>\n",
       "      <td>1533562299</td>\n",
       "      <td>2018-08-06 13:31:39</td>\n",
       "      <td>0.0</td>\n",
       "      <td>creepatthepool</td>\n",
       "      <td>AITA? Creep wears skimpy bathing suit to pool</td>\n",
       "      <td>Hi guys. Throwaway for obv reasons.\\n\\nI'm a f...</td>\n",
       "      <td>hi guy throwaway obv reason i'm female child b...</td>\n",
       "      <td>obv reason female child area wear thong penis ...</td>\n",
       "      <td>23.0</td>\n",
       "      <td>NaN</td>\n",
       "      <td>1741.0</td>\n",
       "      <td>335.0</td>\n",
       "      <td>Shitpost</td>\n",
       "      <td>NaN</td>\n",
       "      <td>clothes &amp; shopping</td>\n",
       "      <td>12.0</td>\n",
       "    </tr>\n",
       "  </tbody>\n",
       "</table>\n",
       "</div>"
      ],
      "text/plain": [
       "       idint      idstr     created     created_datetime  nsfw  \\\n",
       "0  427576402  t3_72kg2a  1506433689  2017-09-26 13:48:09   0.0   \n",
       "1  551887974  t3_94kvhi  1533404095  2018-08-04 17:34:55   0.0   \n",
       "2  552654542  t3_951az2  1533562299  2018-08-06 13:31:39   0.0   \n",
       "\n",
       "           author                                              title  \\\n",
       "0          Ritsku  AITA for breaking up with my girlfriend becaus...   \n",
       "1   hhhhhhffff678  AITA for banning smoking in my house and telli...   \n",
       "2  creepatthepool      AITA? Creep wears skimpy bathing suit to pool   \n",
       "\n",
       "                                            selftext  \\\n",
       "0  My girlfriend recently went to the beach with ...   \n",
       "1  My parents smoke like chimneys. I used to as w...   \n",
       "2  Hi guys. Throwaway for obv reasons.\\n\\nI'm a f...   \n",
       "\n",
       "                                              lemmas  \\\n",
       "0  girlfriend recently beach friend tiny bikini b...   \n",
       "1  parent smoke like chimney use quit wife young ...   \n",
       "2  hi guy throwaway obv reason i'm female child b...   \n",
       "\n",
       "                                          pos_lemmas  score distinguish  \\\n",
       "0  beach friend tiny bikini hate public wear wear...  679.0         NaN   \n",
       "1  parent smoke son week invite parent hour night...  832.0         NaN   \n",
       "2  obv reason female child area wear thong penis ...   23.0         NaN   \n",
       "\n",
       "   textlen  num_comments        flair_text flair_css_class  \\\n",
       "0   4917.0         434.0  no a--holes here             NaN   \n",
       "1   2076.0         357.0           asshole             ass   \n",
       "2   1741.0         335.0          Shitpost             NaN   \n",
       "\n",
       "            dom_topic  dom_topic_num  \n",
       "0    friends & dating           15.0  \n",
       "1    around the house            0.0  \n",
       "2  clothes & shopping           12.0  "
      ]
     },
     "execution_count": 19,
     "metadata": {},
     "output_type": "execute_result"
    }
   ],
   "source": [
    "df.head(3)"
   ]
  },
  {
   "cell_type": "markdown",
   "metadata": {},
   "source": [
    "Let's split up the lemmas--we need them tokenized to use in out topic model. All we need to do is run `.split()` on our \"lemmas\" column to tokenize the data again."
   ]
  },
  {
   "cell_type": "code",
   "execution_count": 20,
   "metadata": {
    "id": "JitcKXJqffVc"
   },
   "outputs": [],
   "source": [
    "lemmas_split = [lemma.split() for lemma in df['lemmas']]"
   ]
  },
  {
   "cell_type": "code",
   "execution_count": 21,
   "metadata": {
    "colab": {
     "base_uri": "https://localhost:8080/",
     "height": 123
    },
    "executionInfo": {
     "elapsed": 12,
     "status": "ok",
     "timestamp": 1639908506458,
     "user": {
      "displayName": "Tom van Nuenen",
      "photoUrl": "https://lh3.googleusercontent.com/a-/AOh14GhuBmxDvW5I_LJfZtwlPqMFD8QGLVPP3skvpkTnuQ=s64",
      "userId": "10012302451096885058"
     },
     "user_tz": -60
    },
    "id": "BBoCdE99fo61",
    "outputId": "881ec95c-f21a-4d8f-87fc-eb10642118ed"
   },
   "outputs": [
    {
     "data": {
      "text/plain": [
       "['girlfriend',\n",
       " 'recently',\n",
       " 'beach',\n",
       " 'friend',\n",
       " 'tiny',\n",
       " 'bikini',\n",
       " 'basically',\n",
       " 'thong',\n",
       " 'hate',\n",
       " 'wear']"
      ]
     },
     "execution_count": 21,
     "metadata": {},
     "output_type": "execute_result"
    }
   ],
   "source": [
    "lemmas_split[0][:10]"
   ]
  },
  {
   "cell_type": "markdown",
   "metadata": {
    "id": "BNmgAQEoZWzx"
   },
   "source": [
    "## Creating a `Dictionary` with Gensim\n",
    "\n",
    "Now, let's create our gensim dictionary - a mapping of each word to a unique id – a Document-Term matrix – much like the `CountVectorizer` we saw last week. We'll use gensim's `Dictionary` class for this."
   ]
  },
  {
   "cell_type": "code",
   "execution_count": 22,
   "metadata": {
    "id": "v5U9p6rrZWzy"
   },
   "outputs": [],
   "source": [
    "from gensim import corpora, models, similarities\n",
    "from gensim.models.coherencemodel import CoherenceModel\n",
    "\n",
    "# Create Dictionary \n",
    "dictionary = corpora.Dictionary(lemmas_split)\n",
    "\n",
    "# filter extremes and assign new ids\n",
    "dictionary.filter_extremes(no_below=10, no_above=0.4)\n",
    "dictionary.compactify() \n",
    "\n",
    "# SAVE DICT\n",
    "dictionary.save('aita_lda.dict')\n",
    "\n",
    "# Create Document-Term Matrix of our whole corpus \n",
    "corpus = [dictionary.doc2bow(text) for text in lemmas_split]\n"
   ]
  },
  {
   "cell_type": "markdown",
   "metadata": {
    "id": "8U9L6iKDe22R"
   },
   "source": [
    "Topic modeling uses a simplifying assumption known as the bag-of-words model. In the bag-of-words model, a document is represented by the counts of distinct terms that occur within it. Additional information, such as word order, is discarded.\n",
    "\n",
    "Let's view some of the corpus we have now:"
   ]
  },
  {
   "cell_type": "code",
   "execution_count": 23,
   "metadata": {
    "colab": {
     "base_uri": "https://localhost:8080/"
    },
    "executionInfo": {
     "elapsed": 172,
     "status": "ok",
     "timestamp": 1639858040767,
     "user": {
      "displayName": "Tom van Nuenen",
      "photoUrl": "https://lh3.googleusercontent.com/a-/AOh14GhuBmxDvW5I_LJfZtwlPqMFD8QGLVPP3skvpkTnuQ=s64",
      "userId": "10012302451096885058"
     },
     "user_tz": -60
    },
    "id": "1137g7AVdZDG",
    "outputId": "c5bc67b6-c8b9-4e42-ae44-cf9742c9485e"
   },
   "outputs": [
    {
     "data": {
      "text/plain": [
       "[(0, 1),\n",
       " (1, 1),\n",
       " (2, 2),\n",
       " (3, 1),\n",
       " (4, 1),\n",
       " (5, 1),\n",
       " (6, 5),\n",
       " (7, 1),\n",
       " (8, 1),\n",
       " (9, 1)]"
      ]
     },
     "execution_count": 23,
     "metadata": {},
     "output_type": "execute_result"
    }
   ],
   "source": [
    "corpus[0][:10]"
   ]
  },
  {
   "cell_type": "markdown",
   "metadata": {
    "id": "eXRXTfMgZW0A"
   },
   "source": [
    "Observe the first 10 tuples above. Each consists of words with a unique id. This a mapping of (word_id, word_frequency). For example, (0, 1) above demonstrates that word id 0 occurs once in the first document. Word id 5 occurs 4 times, and so on. This is used as the input by the LDA model.\n",
    "\n",
    "If you want to see what word a given id corresponds to, pass the id as a key to the dictionary."
   ]
  },
  {
   "cell_type": "code",
   "execution_count": 24,
   "metadata": {
    "colab": {
     "base_uri": "https://localhost:8080/",
     "height": 35
    },
    "executionInfo": {
     "elapsed": 357,
     "status": "ok",
     "timestamp": 1639822605042,
     "user": {
      "displayName": "Tom van Nuenen",
      "photoUrl": "https://lh3.googleusercontent.com/a-/AOh14GhuBmxDvW5I_LJfZtwlPqMFD8QGLVPP3skvpkTnuQ=s64",
      "userId": "10012302451096885058"
     },
     "user_tz": -60
    },
    "id": "0pKC0MBiZW0A",
    "outputId": "d65a3087-d363-4614-d561-16f65bd6f267"
   },
   "outputs": [
    {
     "data": {
      "text/plain": [
       "'attendance'"
      ]
     },
     "execution_count": 24,
     "metadata": {},
     "output_type": "execute_result"
    }
   ],
   "source": [
    "dictionary[8]"
   ]
  },
  {
   "cell_type": "markdown",
   "metadata": {
    "id": "QNr34ffPZW0D"
   },
   "source": [
    "And if you want to see the associated id for some word:"
   ]
  },
  {
   "cell_type": "code",
   "execution_count": 25,
   "metadata": {
    "colab": {
     "base_uri": "https://localhost:8080/"
    },
    "executionInfo": {
     "elapsed": 525,
     "status": "ok",
     "timestamp": 1639779996499,
     "user": {
      "displayName": "Tom van Nuenen",
      "photoUrl": "https://lh3.googleusercontent.com/a-/AOh14GhuBmxDvW5I_LJfZtwlPqMFD8QGLVPP3skvpkTnuQ=s64",
      "userId": "10012302451096885058"
     },
     "user_tz": -60
    },
    "id": "dNhZ-fZ4ZW0D",
    "outputId": "5f3719d7-001b-42f3-8a18-1f7725bd0b24"
   },
   "outputs": [
    {
     "data": {
      "text/plain": [
       "8"
      ]
     },
     "execution_count": 25,
     "metadata": {},
     "output_type": "execute_result"
    }
   ],
   "source": [
    "dictionary.token2id['attendance']"
   ]
  },
  {
   "cell_type": "markdown",
   "metadata": {
    "id": "uep-_3ImZW0S"
   },
   "source": [
    "## Running a model\n",
    "\n",
    "Let's run our first Gensim LDA topic model! Check out the comments to learn about the function arguments we're using.\n",
    "\n",
    "Note that topic modeling essentially adds a third latent layer on top of the documents and tokens (which is the representation we saw last week when running SKLearn's `CountVectorizer()`. That third layer consists of topics. Topic modeling assumes that documents are made of topics, and topics is made up of tokens. It also assumes a Dirichlet probability distribution, which encourages docs to only consist of a handful of topics and topics only of a handful of words."
   ]
  },
  {
   "cell_type": "code",
   "execution_count": 28,
   "metadata": {
    "colab": {
     "base_uri": "https://localhost:8080/"
    },
    "executionInfo": {
     "elapsed": 28047,
     "status": "ok",
     "timestamp": 1639913487603,
     "user": {
      "displayName": "Tom van Nuenen",
      "photoUrl": "https://lh3.googleusercontent.com/a-/AOh14GhuBmxDvW5I_LJfZtwlPqMFD8QGLVPP3skvpkTnuQ=s64",
      "userId": "10012302451096885058"
     },
     "user_tz": -60
    },
    "id": "GV46eCt2ydXL",
    "outputId": "5af4d56d-7564-40a8-d4ec-739f9778ce9c"
   },
   "outputs": [
    {
     "name": "stdout",
     "output_type": "stream",
     "text": [
      "CPU times: user 2 µs, sys: 1 µs, total: 3 µs\n",
      "Wall time: 4.77 µs\n"
     ]
    }
   ],
   "source": [
    "from gensim.models.ldamodel import LdaModel\n",
    "\n",
    "%time\n",
    "lda_model = LdaModel(corpus=corpus,   # stream of document vectors or sparse matrix of shape\n",
    "            id2word=dictionary,       # mapping from word IDs to words (for determining vocab size)\n",
    "            num_topics=20,            # amount of topics\n",
    "            random_state=100,         # seed to generate random state; useful for reproducibility\n",
    "            passes=2,                 # amount of iterations/epochs \n",
    "            per_word_topics=False)    # computing most-likely topics for each word "
   ]
  },
  {
   "cell_type": "markdown",
   "metadata": {
    "id": "EAi5A0nFh1NS"
   },
   "source": [
    "The most challenging part about topic modeling is creating a *good*, i.e. interpretable, topic model. This is a heavily iterative process. The first thing we should do is visualize the model."
   ]
  },
  {
   "cell_type": "markdown",
   "metadata": {},
   "source": [
    "## 1. Visualizing the Topic Model\n",
    "\n",
    "One of the best ways to visualize a topic model is through the pyLDAvis package. pyLDAv was designed to help users interpret the topics in a topic model. Let's start by downloading the package."
   ]
  },
  {
   "cell_type": "code",
   "execution_count": 32,
   "metadata": {},
   "outputs": [
    {
     "name": "stdout",
     "output_type": "stream",
     "text": [
      "Collecting numpy==1.20.0\n",
      "  Downloading numpy-1.20.0-cp37-cp37m-macosx_10_9_x86_64.whl (16.0 MB)\n",
      "\u001b[K     |████████████████████████████████| 16.0 MB 6.5 MB/s eta 0:00:01\n",
      "\u001b[31mERROR: tensorflow 2.3.1 has requirement numpy<1.19.0,>=1.16.0, but you'll have numpy 1.20.0 which is incompatible.\u001b[0m\n",
      "\u001b[?25hInstalling collected packages: numpy\n",
      "  Attempting uninstall: numpy\n",
      "    Found existing installation: numpy 1.18.5\n",
      "    Uninstalling numpy-1.18.5:\n",
      "      Successfully uninstalled numpy-1.18.5\n",
      "Successfully installed numpy-1.20.0\n"
     ]
    }
   ],
   "source": [
    "\n",
    "!pip install numpy==1.20.0"
   ]
  },
  {
   "cell_type": "code",
   "execution_count": 30,
   "metadata": {},
   "outputs": [
    {
     "name": "stdout",
     "output_type": "stream",
     "text": [
      "Requirement already satisfied: tensorflow in /Users/renatabarreto/opt/anaconda3/lib/python3.7/site-packages (2.3.1)\n",
      "Requirement already satisfied: six>=1.12.0 in /Users/renatabarreto/opt/anaconda3/lib/python3.7/site-packages (from tensorflow) (1.14.0)\n",
      "Requirement already satisfied: keras-preprocessing<1.2,>=1.1.1 in /Users/renatabarreto/opt/anaconda3/lib/python3.7/site-packages (from tensorflow) (1.1.2)\n",
      "Requirement already satisfied: h5py<2.11.0,>=2.10.0 in /Users/renatabarreto/opt/anaconda3/lib/python3.7/site-packages (from tensorflow) (2.10.0)\n",
      "Requirement already satisfied: grpcio>=1.8.6 in /Users/renatabarreto/opt/anaconda3/lib/python3.7/site-packages (from tensorflow) (1.32.0)\n",
      "Requirement already satisfied: astunparse==1.6.3 in /Users/renatabarreto/opt/anaconda3/lib/python3.7/site-packages (from tensorflow) (1.6.3)\n",
      "Collecting numpy<1.19.0,>=1.16.0\n",
      "  Downloading numpy-1.18.5-cp37-cp37m-macosx_10_9_x86_64.whl (15.1 MB)\n",
      "\u001b[K     |████████████████████████████████| 15.1 MB 1.1 MB/s eta 0:00:01\n",
      "\u001b[?25hRequirement already satisfied: tensorflow-estimator<2.4.0,>=2.3.0 in /Users/renatabarreto/opt/anaconda3/lib/python3.7/site-packages (from tensorflow) (2.3.0)\n",
      "Requirement already satisfied: google-pasta>=0.1.8 in /Users/renatabarreto/opt/anaconda3/lib/python3.7/site-packages (from tensorflow) (0.2.0)\n",
      "Requirement already satisfied: tensorboard<3,>=2.3.0 in /Users/renatabarreto/opt/anaconda3/lib/python3.7/site-packages (from tensorflow) (2.3.0)\n",
      "Requirement already satisfied: termcolor>=1.1.0 in /Users/renatabarreto/opt/anaconda3/lib/python3.7/site-packages (from tensorflow) (1.1.0)\n",
      "Requirement already satisfied: absl-py>=0.7.0 in /Users/renatabarreto/opt/anaconda3/lib/python3.7/site-packages (from tensorflow) (0.10.0)\n",
      "Requirement already satisfied: protobuf>=3.9.2 in /Users/renatabarreto/opt/anaconda3/lib/python3.7/site-packages (from tensorflow) (3.13.0)\n",
      "Requirement already satisfied: gast==0.3.3 in /Users/renatabarreto/opt/anaconda3/lib/python3.7/site-packages (from tensorflow) (0.3.3)\n",
      "Requirement already satisfied: wrapt>=1.11.1 in /Users/renatabarreto/opt/anaconda3/lib/python3.7/site-packages (from tensorflow) (1.11.2)\n",
      "Requirement already satisfied: wheel>=0.26 in /Users/renatabarreto/opt/anaconda3/lib/python3.7/site-packages (from tensorflow) (0.34.2)\n",
      "Requirement already satisfied: opt-einsum>=2.3.2 in /Users/renatabarreto/opt/anaconda3/lib/python3.7/site-packages (from tensorflow) (3.3.0)\n",
      "Requirement already satisfied: setuptools>=41.0.0 in /Users/renatabarreto/opt/anaconda3/lib/python3.7/site-packages (from tensorboard<3,>=2.3.0->tensorflow) (46.0.0.post20200309)\n",
      "Requirement already satisfied: markdown>=2.6.8 in /Users/renatabarreto/opt/anaconda3/lib/python3.7/site-packages (from tensorboard<3,>=2.3.0->tensorflow) (3.2.2)\n",
      "Requirement already satisfied: tensorboard-plugin-wit>=1.6.0 in /Users/renatabarreto/opt/anaconda3/lib/python3.7/site-packages (from tensorboard<3,>=2.3.0->tensorflow) (1.7.0)\n",
      "Requirement already satisfied: requests<3,>=2.21.0 in /Users/renatabarreto/opt/anaconda3/lib/python3.7/site-packages (from tensorboard<3,>=2.3.0->tensorflow) (2.22.0)\n",
      "Requirement already satisfied: google-auth<2,>=1.6.3 in /Users/renatabarreto/opt/anaconda3/lib/python3.7/site-packages (from tensorboard<3,>=2.3.0->tensorflow) (1.22.0)\n",
      "Requirement already satisfied: google-auth-oauthlib<0.5,>=0.4.1 in /Users/renatabarreto/opt/anaconda3/lib/python3.7/site-packages (from tensorboard<3,>=2.3.0->tensorflow) (0.4.1)\n",
      "Requirement already satisfied: werkzeug>=0.11.15 in /Users/renatabarreto/opt/anaconda3/lib/python3.7/site-packages (from tensorboard<3,>=2.3.0->tensorflow) (1.0.0)\n",
      "Requirement already satisfied: importlib-metadata; python_version < \"3.8\" in /Users/renatabarreto/opt/anaconda3/lib/python3.7/site-packages (from markdown>=2.6.8->tensorboard<3,>=2.3.0->tensorflow) (1.5.0)\n",
      "Requirement already satisfied: idna<2.9,>=2.5 in /Users/renatabarreto/opt/anaconda3/lib/python3.7/site-packages (from requests<3,>=2.21.0->tensorboard<3,>=2.3.0->tensorflow) (2.8)\n",
      "Requirement already satisfied: chardet<3.1.0,>=3.0.2 in /Users/renatabarreto/opt/anaconda3/lib/python3.7/site-packages (from requests<3,>=2.21.0->tensorboard<3,>=2.3.0->tensorflow) (3.0.4)\n",
      "Requirement already satisfied: urllib3!=1.25.0,!=1.25.1,<1.26,>=1.21.1 in /Users/renatabarreto/opt/anaconda3/lib/python3.7/site-packages (from requests<3,>=2.21.0->tensorboard<3,>=2.3.0->tensorflow) (1.25.8)\n",
      "Requirement already satisfied: certifi>=2017.4.17 in /Users/renatabarreto/opt/anaconda3/lib/python3.7/site-packages (from requests<3,>=2.21.0->tensorboard<3,>=2.3.0->tensorflow) (2019.11.28)\n",
      "Requirement already satisfied: aiohttp<4.0.0dev,>=3.6.2; python_version >= \"3.6\" in /Users/renatabarreto/opt/anaconda3/lib/python3.7/site-packages (from google-auth<2,>=1.6.3->tensorboard<3,>=2.3.0->tensorflow) (3.6.2)\n",
      "Requirement already satisfied: rsa<5,>=3.1.4; python_version >= \"3.5\" in /Users/renatabarreto/opt/anaconda3/lib/python3.7/site-packages (from google-auth<2,>=1.6.3->tensorboard<3,>=2.3.0->tensorflow) (4.6)\n",
      "Requirement already satisfied: cachetools<5.0,>=2.0.0 in /Users/renatabarreto/opt/anaconda3/lib/python3.7/site-packages (from google-auth<2,>=1.6.3->tensorboard<3,>=2.3.0->tensorflow) (4.1.1)\n",
      "Requirement already satisfied: pyasn1-modules>=0.2.1 in /Users/renatabarreto/opt/anaconda3/lib/python3.7/site-packages (from google-auth<2,>=1.6.3->tensorboard<3,>=2.3.0->tensorflow) (0.2.8)\n",
      "Requirement already satisfied: requests-oauthlib>=0.7.0 in /Users/renatabarreto/opt/anaconda3/lib/python3.7/site-packages (from google-auth-oauthlib<0.5,>=0.4.1->tensorboard<3,>=2.3.0->tensorflow) (1.3.0)\n",
      "Requirement already satisfied: zipp>=0.5 in /Users/renatabarreto/opt/anaconda3/lib/python3.7/site-packages (from importlib-metadata; python_version < \"3.8\"->markdown>=2.6.8->tensorboard<3,>=2.3.0->tensorflow) (2.2.0)\n",
      "Requirement already satisfied: yarl<2.0,>=1.0 in /Users/renatabarreto/opt/anaconda3/lib/python3.7/site-packages (from aiohttp<4.0.0dev,>=3.6.2; python_version >= \"3.6\"->google-auth<2,>=1.6.3->tensorboard<3,>=2.3.0->tensorflow) (1.6.0)\n",
      "Requirement already satisfied: multidict<5.0,>=4.5 in /Users/renatabarreto/opt/anaconda3/lib/python3.7/site-packages (from aiohttp<4.0.0dev,>=3.6.2; python_version >= \"3.6\"->google-auth<2,>=1.6.3->tensorboard<3,>=2.3.0->tensorflow) (4.7.6)\n",
      "Requirement already satisfied: attrs>=17.3.0 in /Users/renatabarreto/opt/anaconda3/lib/python3.7/site-packages (from aiohttp<4.0.0dev,>=3.6.2; python_version >= \"3.6\"->google-auth<2,>=1.6.3->tensorboard<3,>=2.3.0->tensorflow) (19.3.0)\n",
      "Requirement already satisfied: async-timeout<4.0,>=3.0 in /Users/renatabarreto/opt/anaconda3/lib/python3.7/site-packages (from aiohttp<4.0.0dev,>=3.6.2; python_version >= \"3.6\"->google-auth<2,>=1.6.3->tensorboard<3,>=2.3.0->tensorflow) (3.0.1)\n",
      "Requirement already satisfied: pyasn1>=0.1.3 in /Users/renatabarreto/opt/anaconda3/lib/python3.7/site-packages (from rsa<5,>=3.1.4; python_version >= \"3.5\"->google-auth<2,>=1.6.3->tensorboard<3,>=2.3.0->tensorflow) (0.4.8)\n",
      "Requirement already satisfied: oauthlib>=3.0.0 in /Users/renatabarreto/opt/anaconda3/lib/python3.7/site-packages (from requests-oauthlib>=0.7.0->google-auth-oauthlib<0.5,>=0.4.1->tensorboard<3,>=2.3.0->tensorflow) (3.1.0)\n",
      "Requirement already satisfied: typing-extensions>=3.7.4; python_version < \"3.8\" in /Users/renatabarreto/opt/anaconda3/lib/python3.7/site-packages (from yarl<2.0,>=1.0->aiohttp<4.0.0dev,>=3.6.2; python_version >= \"3.6\"->google-auth<2,>=1.6.3->tensorboard<3,>=2.3.0->tensorflow) (3.7.4.3)\n",
      "\u001b[31mERROR: pyldavis 3.3.1 has requirement numpy>=1.20.0, but you'll have numpy 1.18.5 which is incompatible.\u001b[0m\n",
      "Installing collected packages: numpy\n",
      "  Attempting uninstall: numpy\n",
      "    Found existing installation: numpy 1.21.6\n",
      "    Uninstalling numpy-1.21.6:\n",
      "      Successfully uninstalled numpy-1.21.6\n",
      "Successfully installed numpy-1.18.5\n"
     ]
    }
   ],
   "source": [
    "#need to install latest version of tensorflow\n",
    "\n",
    "!pip install tensorflow"
   ]
  },
  {
   "cell_type": "code",
   "execution_count": 26,
   "metadata": {
    "colab": {
     "base_uri": "https://localhost:8080/",
     "height": 992
    },
    "executionInfo": {
     "elapsed": 33843,
     "status": "ok",
     "timestamp": 1639933951198,
     "user": {
      "displayName": "Tom van Nuenen",
      "photoUrl": "https://lh3.googleusercontent.com/a-/AOh14GhuBmxDvW5I_LJfZtwlPqMFD8QGLVPP3skvpkTnuQ=s64",
      "userId": "10012302451096885058"
     },
     "user_tz": -60
    },
    "id": "RiccfvG7IuRZ",
    "outputId": "e02afe24-c09f-4b39-ee1e-5d93d3f0fbfb"
   },
   "outputs": [
    {
     "name": "stdout",
     "output_type": "stream",
     "text": [
      "Collecting pyLDAvis\n",
      "  Downloading pyLDAvis-3.3.1.tar.gz (1.7 MB)\n",
      "\u001b[K     |████████████████████████████████| 1.7 MB 9.1 MB/s eta 0:00:01\n",
      "\u001b[?25h  Installing build dependencies ... \u001b[?25ldone\n",
      "\u001b[?25h  Getting requirements to build wheel ... \u001b[?25ldone\n",
      "\u001b[?25h  Installing backend dependencies ... \u001b[?25ldone\n",
      "\u001b[?25h    Preparing wheel metadata ... \u001b[?25ldone\n",
      "\u001b[?25hCollecting pandas>=1.2.0\n",
      "  Downloading pandas-1.3.5-cp37-cp37m-macosx_10_9_x86_64.whl (11.0 MB)\n",
      "\u001b[K     |████████████████████████████████| 11.0 MB 13.3 MB/s eta 0:00:01\n",
      "\u001b[?25hRequirement already satisfied: scikit-learn in /Users/renatabarreto/opt/anaconda3/lib/python3.7/site-packages (from pyLDAvis) (0.23.2)\n",
      "Collecting funcy\n",
      "  Downloading funcy-1.17-py2.py3-none-any.whl (33 kB)\n",
      "Requirement already satisfied: future in /Users/renatabarreto/opt/anaconda3/lib/python3.7/site-packages (from pyLDAvis) (0.18.2)\n",
      "Requirement already satisfied: scipy in /Users/renatabarreto/opt/anaconda3/lib/python3.7/site-packages (from pyLDAvis) (1.4.1)\n",
      "Collecting sklearn\n",
      "  Downloading sklearn-0.0.tar.gz (1.1 kB)\n",
      "Requirement already satisfied: setuptools in /Users/renatabarreto/opt/anaconda3/lib/python3.7/site-packages (from pyLDAvis) (46.0.0.post20200309)\n",
      "Requirement already satisfied: gensim in /Users/renatabarreto/opt/anaconda3/lib/python3.7/site-packages (from pyLDAvis) (3.8.3)\n",
      "Requirement already satisfied: joblib in /Users/renatabarreto/opt/anaconda3/lib/python3.7/site-packages (from pyLDAvis) (0.14.1)\n",
      "Requirement already satisfied: jinja2 in /Users/renatabarreto/opt/anaconda3/lib/python3.7/site-packages (from pyLDAvis) (2.11.1)\n",
      "Requirement already satisfied: numexpr in /Users/renatabarreto/opt/anaconda3/lib/python3.7/site-packages (from pyLDAvis) (2.7.1)\n",
      "Collecting numpy>=1.20.0\n",
      "  Downloading numpy-1.21.6-cp37-cp37m-macosx_10_9_x86_64.whl (16.9 MB)\n",
      "\u001b[K     |████████████████████████████████| 16.9 MB 13.3 MB/s eta 0:00:01\n",
      "\u001b[?25hRequirement already satisfied: pytz>=2017.3 in /Users/renatabarreto/opt/anaconda3/lib/python3.7/site-packages (from pandas>=1.2.0->pyLDAvis) (2019.3)\n",
      "Requirement already satisfied: python-dateutil>=2.7.3 in /Users/renatabarreto/opt/anaconda3/lib/python3.7/site-packages (from pandas>=1.2.0->pyLDAvis) (2.8.1)\n",
      "Requirement already satisfied: threadpoolctl>=2.0.0 in /Users/renatabarreto/opt/anaconda3/lib/python3.7/site-packages (from scikit-learn->pyLDAvis) (2.1.0)\n",
      "Requirement already satisfied: six>=1.5.0 in /Users/renatabarreto/opt/anaconda3/lib/python3.7/site-packages (from gensim->pyLDAvis) (1.14.0)\n",
      "Requirement already satisfied: smart-open>=1.8.1 in /Users/renatabarreto/opt/anaconda3/lib/python3.7/site-packages (from gensim->pyLDAvis) (2.2.0)\n",
      "Requirement already satisfied: MarkupSafe>=0.23 in /Users/renatabarreto/opt/anaconda3/lib/python3.7/site-packages (from jinja2->pyLDAvis) (1.1.1)\n",
      "Requirement already satisfied: requests in /Users/renatabarreto/opt/anaconda3/lib/python3.7/site-packages (from smart-open>=1.8.1->gensim->pyLDAvis) (2.22.0)\n",
      "Requirement already satisfied: chardet<3.1.0,>=3.0.2 in /Users/renatabarreto/opt/anaconda3/lib/python3.7/site-packages (from requests->smart-open>=1.8.1->gensim->pyLDAvis) (3.0.4)\n",
      "Requirement already satisfied: urllib3!=1.25.0,!=1.25.1,<1.26,>=1.21.1 in /Users/renatabarreto/opt/anaconda3/lib/python3.7/site-packages (from requests->smart-open>=1.8.1->gensim->pyLDAvis) (1.25.8)\n",
      "Requirement already satisfied: idna<2.9,>=2.5 in /Users/renatabarreto/opt/anaconda3/lib/python3.7/site-packages (from requests->smart-open>=1.8.1->gensim->pyLDAvis) (2.8)\n",
      "Requirement already satisfied: certifi>=2017.4.17 in /Users/renatabarreto/opt/anaconda3/lib/python3.7/site-packages (from requests->smart-open>=1.8.1->gensim->pyLDAvis) (2019.11.28)\n",
      "Building wheels for collected packages: pyLDAvis, sklearn\n",
      "  Building wheel for pyLDAvis (PEP 517) ... \u001b[?25ldone\n",
      "\u001b[?25h  Created wheel for pyLDAvis: filename=pyLDAvis-3.3.1-py2.py3-none-any.whl size=136882 sha256=7d617d490726a69353cb9d5016e29dabbb8939d13b39a2e23d50a5ec2b82810d\n",
      "  Stored in directory: /Users/renatabarreto/Library/Caches/pip/wheels/c9/21/f6/17bcf2667e8a68532ba2fbf6d5c72fdf4c7f7d9abfa4852d2f\n",
      "  Building wheel for sklearn (setup.py) ... \u001b[?25ldone\n",
      "\u001b[?25h  Created wheel for sklearn: filename=sklearn-0.0-py2.py3-none-any.whl size=1315 sha256=e652a84d24fe61f6a47112080b7d310a3698095ef94064a07882a1f279ad0694\n",
      "  Stored in directory: /Users/renatabarreto/Library/Caches/pip/wheels/46/ef/c3/157e41f5ee1372d1be90b09f74f82b10e391eaacca8f22d33e\n",
      "Successfully built pyLDAvis sklearn\n",
      "\u001b[31mERROR: tensorflow 2.3.1 has requirement numpy<1.19.0,>=1.16.0, but you'll have numpy 1.21.6 which is incompatible.\u001b[0m\n",
      "Installing collected packages: numpy, pandas, funcy, sklearn, pyLDAvis\n",
      "  Attempting uninstall: numpy\n",
      "    Found existing installation: numpy 1.18.1\n",
      "    Uninstalling numpy-1.18.1:\n",
      "      Successfully uninstalled numpy-1.18.1\n",
      "  Attempting uninstall: pandas\n",
      "    Found existing installation: pandas 1.0.1\n",
      "    Uninstalling pandas-1.0.1:\n",
      "      Successfully uninstalled pandas-1.0.1\n",
      "Successfully installed funcy-1.17 numpy-1.21.6 pandas-1.3.5 pyLDAvis-3.3.1 sklearn-0.0\n"
     ]
    }
   ],
   "source": [
    "!pip install pyLDAvis"
   ]
  },
  {
   "cell_type": "markdown",
   "metadata": {
    "id": "JWRO12UXZW0d"
   },
   "source": [
    "PyLDAvis allows us to visualize our topics. A \"good\" topic model produces non-overlapping, fairly large bubbles, which should be scattered throughout the chart instead of being clustered in one quadrant. A model with too many topics will typically have many overlaps, small sized bubbles clustered in one region of the chart."
   ]
  },
  {
   "cell_type": "code",
   "execution_count": 29,
   "metadata": {
    "colab": {
     "base_uri": "https://localhost:8080/",
     "height": 916
    },
    "executionInfo": {
     "elapsed": 10987,
     "status": "ok",
     "timestamp": 1639940889440,
     "user": {
      "displayName": "Tom van Nuenen",
      "photoUrl": "https://lh3.googleusercontent.com/a-/AOh14GhuBmxDvW5I_LJfZtwlPqMFD8QGLVPP3skvpkTnuQ=s64",
      "userId": "10012302451096885058"
     },
     "user_tz": -60
    },
    "id": "Aze6E-0ZZW0e",
    "outputId": "81b759c9-9655-421f-d6e7-0648a7a42802"
   },
   "outputs": [
    {
     "ename": "ImportError",
     "evalue": "cannot import name 'FuncType' from 'pandas._typing' (/Users/renatabarreto/opt/anaconda3/lib/python3.7/site-packages/pandas/_typing.py)",
     "output_type": "error",
     "traceback": [
      "\u001b[0;31m---------------------------------------------------------------------------\u001b[0m",
      "\u001b[0;31mImportError\u001b[0m                               Traceback (most recent call last)",
      "\u001b[0;32m<ipython-input-29-59154138dc48>\u001b[0m in \u001b[0;36m<module>\u001b[0;34m\u001b[0m\n\u001b[1;32m      4\u001b[0m \u001b[0;34m\u001b[0m\u001b[0m\n\u001b[1;32m      5\u001b[0m \u001b[0;31m# feed the LDA model into the pyLDAvis instance\u001b[0m\u001b[0;34m\u001b[0m\u001b[0;34m\u001b[0m\u001b[0;34m\u001b[0m\u001b[0m\n\u001b[0;32m----> 6\u001b[0;31m \u001b[0mlda_viz\u001b[0m \u001b[0;34m=\u001b[0m \u001b[0mgensimvis\u001b[0m\u001b[0;34m.\u001b[0m\u001b[0mprepare\u001b[0m\u001b[0;34m(\u001b[0m\u001b[0mlda_model\u001b[0m\u001b[0;34m,\u001b[0m \u001b[0mcorpus\u001b[0m\u001b[0;34m,\u001b[0m \u001b[0mdictionary\u001b[0m\u001b[0;34m)\u001b[0m\u001b[0;34m\u001b[0m\u001b[0;34m\u001b[0m\u001b[0m\n\u001b[0m\u001b[1;32m      7\u001b[0m \u001b[0mlda_viz\u001b[0m\u001b[0;34m\u001b[0m\u001b[0;34m\u001b[0m\u001b[0m\n",
      "\u001b[0;32m~/opt/anaconda3/lib/python3.7/site-packages/pyLDAvis/gensim_models.py\u001b[0m in \u001b[0;36mprepare\u001b[0;34m(topic_model, corpus, dictionary, doc_topic_dist, **kwargs)\u001b[0m\n\u001b[1;32m    121\u001b[0m     \"\"\"\n\u001b[1;32m    122\u001b[0m     \u001b[0mopts\u001b[0m \u001b[0;34m=\u001b[0m \u001b[0mfp\u001b[0m\u001b[0;34m.\u001b[0m\u001b[0mmerge\u001b[0m\u001b[0;34m(\u001b[0m\u001b[0m_extract_data\u001b[0m\u001b[0;34m(\u001b[0m\u001b[0mtopic_model\u001b[0m\u001b[0;34m,\u001b[0m \u001b[0mcorpus\u001b[0m\u001b[0;34m,\u001b[0m \u001b[0mdictionary\u001b[0m\u001b[0;34m,\u001b[0m \u001b[0mdoc_topic_dist\u001b[0m\u001b[0;34m)\u001b[0m\u001b[0;34m,\u001b[0m \u001b[0mkwargs\u001b[0m\u001b[0;34m)\u001b[0m\u001b[0;34m\u001b[0m\u001b[0;34m\u001b[0m\u001b[0m\n\u001b[0;32m--> 123\u001b[0;31m     \u001b[0;32mreturn\u001b[0m \u001b[0mpyLDAvis\u001b[0m\u001b[0;34m.\u001b[0m\u001b[0mprepare\u001b[0m\u001b[0;34m(\u001b[0m\u001b[0;34m**\u001b[0m\u001b[0mopts\u001b[0m\u001b[0;34m)\u001b[0m\u001b[0;34m\u001b[0m\u001b[0;34m\u001b[0m\u001b[0m\n\u001b[0m",
      "\u001b[0;32m~/opt/anaconda3/lib/python3.7/site-packages/pyLDAvis/_prepare.py\u001b[0m in \u001b[0;36mprepare\u001b[0;34m(topic_term_dists, doc_topic_dists, doc_lengths, vocab, term_frequency, R, lambda_step, mds, n_jobs, plot_opts, sort_topics, start_index)\u001b[0m\n\u001b[1;32m    416\u001b[0m     \u001b[0mR\u001b[0m \u001b[0;34m=\u001b[0m \u001b[0mmin\u001b[0m\u001b[0;34m(\u001b[0m\u001b[0mR\u001b[0m\u001b[0;34m,\u001b[0m \u001b[0mlen\u001b[0m\u001b[0;34m(\u001b[0m\u001b[0mvocab\u001b[0m\u001b[0;34m)\u001b[0m\u001b[0;34m)\u001b[0m\u001b[0;34m\u001b[0m\u001b[0;34m\u001b[0m\u001b[0m\n\u001b[1;32m    417\u001b[0m \u001b[0;34m\u001b[0m\u001b[0m\n\u001b[0;32m--> 418\u001b[0;31m     \u001b[0mtopic_freq\u001b[0m \u001b[0;34m=\u001b[0m \u001b[0mdoc_topic_dists\u001b[0m\u001b[0;34m.\u001b[0m\u001b[0mmul\u001b[0m\u001b[0;34m(\u001b[0m\u001b[0mdoc_lengths\u001b[0m\u001b[0;34m,\u001b[0m \u001b[0maxis\u001b[0m\u001b[0;34m=\u001b[0m\u001b[0;34m\"index\"\u001b[0m\u001b[0;34m)\u001b[0m\u001b[0;34m.\u001b[0m\u001b[0msum\u001b[0m\u001b[0;34m(\u001b[0m\u001b[0;34m)\u001b[0m\u001b[0;34m\u001b[0m\u001b[0;34m\u001b[0m\u001b[0m\n\u001b[0m\u001b[1;32m    419\u001b[0m     \u001b[0;31m# topic_freq       = np.dot(doc_topic_dists.T, doc_lengths)\u001b[0m\u001b[0;34m\u001b[0m\u001b[0;34m\u001b[0m\u001b[0;34m\u001b[0m\u001b[0m\n\u001b[1;32m    420\u001b[0m     \u001b[0;32mif\u001b[0m \u001b[0;34m(\u001b[0m\u001b[0msort_topics\u001b[0m\u001b[0;34m)\u001b[0m\u001b[0;34m:\u001b[0m\u001b[0;34m\u001b[0m\u001b[0;34m\u001b[0m\u001b[0m\n",
      "\u001b[0;32m~/opt/anaconda3/lib/python3.7/site-packages/pandas/core/ops/__init__.py\u001b[0m in \u001b[0;36mf\u001b[0;34m(self, other, axis, level, fill_value)\u001b[0m\n",
      "\u001b[0;32m~/opt/anaconda3/lib/python3.7/site-packages/pandas/core/ops/__init__.py\u001b[0m in \u001b[0;36m_combine_series_frame\u001b[0;34m(self, other, func, fill_value, axis, level)\u001b[0m\n",
      "\u001b[0;32m~/opt/anaconda3/lib/python3.7/site-packages/pandas/core/frame.py\u001b[0m in \u001b[0;36m_combine_match_index\u001b[0;34m(self, other, func)\u001b[0m\n\u001b[1;32m   5315\u001b[0m             \u001b[0mresult\u001b[0m\u001b[0;34m.\u001b[0m\u001b[0mcolumns\u001b[0m \u001b[0;34m=\u001b[0m \u001b[0mself\u001b[0m\u001b[0;34m.\u001b[0m\u001b[0mcolumns\u001b[0m\u001b[0;34m.\u001b[0m\u001b[0mcopy\u001b[0m\u001b[0;34m(\u001b[0m\u001b[0;34m)\u001b[0m\u001b[0;34m\u001b[0m\u001b[0;34m\u001b[0m\u001b[0m\n\u001b[1;32m   5316\u001b[0m             \u001b[0;32mreturn\u001b[0m \u001b[0mresult\u001b[0m\u001b[0;34m\u001b[0m\u001b[0;34m\u001b[0m\u001b[0m\n\u001b[0;32m-> 5317\u001b[0;31m \u001b[0;34m\u001b[0m\u001b[0m\n\u001b[0m\u001b[1;32m   5318\u001b[0m         return super().shift(\n\u001b[1;32m   5319\u001b[0m             \u001b[0mperiods\u001b[0m\u001b[0;34m=\u001b[0m\u001b[0mperiods\u001b[0m\u001b[0;34m,\u001b[0m \u001b[0mfreq\u001b[0m\u001b[0;34m=\u001b[0m\u001b[0mfreq\u001b[0m\u001b[0;34m,\u001b[0m \u001b[0maxis\u001b[0m\u001b[0;34m=\u001b[0m\u001b[0maxis\u001b[0m\u001b[0;34m,\u001b[0m \u001b[0mfill_value\u001b[0m\u001b[0;34m=\u001b[0m\u001b[0mfill_value\u001b[0m\u001b[0;34m\u001b[0m\u001b[0;34m\u001b[0m\u001b[0m\n",
      "\u001b[0;32m~/opt/anaconda3/lib/python3.7/site-packages/pandas/core/ops/array_ops.py\u001b[0m in \u001b[0;36mna_op\u001b[0;34m(x, y)\u001b[0m\n\u001b[1;32m    119\u001b[0m \u001b[0;34m\u001b[0m\u001b[0m\n\u001b[1;32m    120\u001b[0m         \u001b[0;31m# mask is only meaningful for x\u001b[0m\u001b[0;34m\u001b[0m\u001b[0;34m\u001b[0m\u001b[0;34m\u001b[0m\u001b[0m\n\u001b[0;32m--> 121\u001b[0;31m         \u001b[0mresult\u001b[0m \u001b[0;34m=\u001b[0m \u001b[0mnp\u001b[0m\u001b[0;34m.\u001b[0m\u001b[0mempty\u001b[0m\u001b[0;34m(\u001b[0m\u001b[0mx\u001b[0m\u001b[0;34m.\u001b[0m\u001b[0msize\u001b[0m\u001b[0;34m,\u001b[0m \u001b[0mdtype\u001b[0m\u001b[0;34m=\u001b[0m\u001b[0mx\u001b[0m\u001b[0;34m.\u001b[0m\u001b[0mdtype\u001b[0m\u001b[0;34m)\u001b[0m\u001b[0;34m\u001b[0m\u001b[0;34m\u001b[0m\u001b[0m\n\u001b[0m\u001b[1;32m    122\u001b[0m         \u001b[0mmask\u001b[0m \u001b[0;34m=\u001b[0m \u001b[0mnotna\u001b[0m\u001b[0;34m(\u001b[0m\u001b[0mxrav\u001b[0m\u001b[0;34m)\u001b[0m\u001b[0;34m\u001b[0m\u001b[0;34m\u001b[0m\u001b[0m\n\u001b[1;32m    123\u001b[0m \u001b[0;34m\u001b[0m\u001b[0m\n",
      "\u001b[0;32m~/opt/anaconda3/lib/python3.7/site-packages/pandas/core/ops/array_ops.py\u001b[0m in \u001b[0;36mna_arithmetic_op\u001b[0;34m(left, right, op, str_rep)\u001b[0m\n\u001b[1;32m    144\u001b[0m     \u001b[0mParameters\u001b[0m\u001b[0;34m\u001b[0m\u001b[0;34m\u001b[0m\u001b[0m\n\u001b[1;32m    145\u001b[0m     \u001b[0;34m-\u001b[0m\u001b[0;34m-\u001b[0m\u001b[0;34m-\u001b[0m\u001b[0;34m-\u001b[0m\u001b[0;34m-\u001b[0m\u001b[0;34m-\u001b[0m\u001b[0;34m-\u001b[0m\u001b[0;34m-\u001b[0m\u001b[0;34m-\u001b[0m\u001b[0;34m-\u001b[0m\u001b[0;34m\u001b[0m\u001b[0;34m\u001b[0m\u001b[0m\n\u001b[0;32m--> 146\u001b[0;31m     \u001b[0mleft\u001b[0m \u001b[0;34m:\u001b[0m \u001b[0mnp\u001b[0m\u001b[0;34m.\u001b[0m\u001b[0mndarray\u001b[0m\u001b[0;34m\u001b[0m\u001b[0;34m\u001b[0m\u001b[0m\n\u001b[0m\u001b[1;32m    147\u001b[0m     \u001b[0mright\u001b[0m \u001b[0;34m:\u001b[0m \u001b[0mnp\u001b[0m\u001b[0;34m.\u001b[0m\u001b[0mndarray\u001b[0m \u001b[0;32mor\u001b[0m \u001b[0mscalar\u001b[0m\u001b[0;34m\u001b[0m\u001b[0;34m\u001b[0m\u001b[0m\n\u001b[1;32m    148\u001b[0m     \u001b[0mis_cmp\u001b[0m \u001b[0;34m:\u001b[0m \u001b[0mbool\u001b[0m\u001b[0;34m,\u001b[0m \u001b[0mdefault\u001b[0m \u001b[0;32mFalse\u001b[0m\u001b[0;34m\u001b[0m\u001b[0;34m\u001b[0m\u001b[0m\n",
      "\u001b[0;32m~/opt/anaconda3/lib/python3.7/site-packages/pandas/core/computation/expressions.py\u001b[0m in \u001b[0;36m<module>\u001b[0;34m\u001b[0m\n\u001b[1;32m     15\u001b[0m \u001b[0;32mfrom\u001b[0m \u001b[0mpandas\u001b[0m\u001b[0;34m.\u001b[0m\u001b[0m_config\u001b[0m \u001b[0;32mimport\u001b[0m \u001b[0mget_option\u001b[0m\u001b[0;34m\u001b[0m\u001b[0;34m\u001b[0m\u001b[0m\n\u001b[1;32m     16\u001b[0m \u001b[0;34m\u001b[0m\u001b[0m\n\u001b[0;32m---> 17\u001b[0;31m \u001b[0;32mfrom\u001b[0m \u001b[0mpandas\u001b[0m\u001b[0;34m.\u001b[0m\u001b[0m_typing\u001b[0m \u001b[0;32mimport\u001b[0m \u001b[0mFuncType\u001b[0m\u001b[0;34m\u001b[0m\u001b[0;34m\u001b[0m\u001b[0m\n\u001b[0m\u001b[1;32m     18\u001b[0m \u001b[0;34m\u001b[0m\u001b[0m\n\u001b[1;32m     19\u001b[0m \u001b[0;32mfrom\u001b[0m \u001b[0mpandas\u001b[0m\u001b[0;34m.\u001b[0m\u001b[0mcore\u001b[0m\u001b[0;34m.\u001b[0m\u001b[0mcomputation\u001b[0m\u001b[0;34m.\u001b[0m\u001b[0mcheck\u001b[0m \u001b[0;32mimport\u001b[0m \u001b[0mNUMEXPR_INSTALLED\u001b[0m\u001b[0;34m\u001b[0m\u001b[0;34m\u001b[0m\u001b[0m\n",
      "\u001b[0;31mImportError\u001b[0m: cannot import name 'FuncType' from 'pandas._typing' (/Users/renatabarreto/opt/anaconda3/lib/python3.7/site-packages/pandas/_typing.py)"
     ]
    }
   ],
   "source": [
    "import pyLDAvis\n",
    "import pyLDAvis.gensim_models as gensimvis\n",
    "pyLDAvis.enable_notebook()\n",
    "\n",
    "# feed the LDA model into the pyLDAvis instance\n",
    "lda_viz = gensimvis.prepare(lda_model, corpus, dictionary)\n",
    "lda_viz"
   ]
  },
  {
   "cell_type": "markdown",
   "metadata": {
    "id": "jOGnQ-WiZW0h"
   },
   "source": [
    "On the left, there is a 2D plot of the \"distance\" between all of the topics (labeled as the Intertopic Distance Map). This plot uses a multidimensional scaling (MDS) algorithm. \n",
    "- Similar topics should appear close together on the plot; dissimilar topics should appear far apart. \n",
    "- The relative size of a topic's circle in the plot corresponds to the relative frequency of the topic in the corpus.\n",
    "\n",
    "### Exploring topics and words\n",
    "- You can scrutinize a topic more closely by clicking on its circle, or entering its number in the \"selected topic\" box in the upper-left (Note that, though the data used by gensim and pyLDAvis are the same, they don't use the same ID numbers for topics.)\n",
    "- If you roll your mouse over a term in the bar chart on the right, the topic circles will resize in the plot on the left. This shows the strength of the relationship between the topics and the selected term.\n",
    "\n",
    "### Salience\n",
    "On the right, there is a bar chart with the top terms. When no topic is selected in the plot on the left, the bar chart shows the top-30 most **salient** terms in the corpus. A term's saliency is a measure of both how frequent the term is in the corpus and how \"distinctive\" it is in distinguishing between different topics.\n",
    "\n",
    "### Probability Vs Exclusivity \n",
    "When you select a particular topic, this bar chart changes to show the top-30 most \"relevant\" terms for the selected topic. The relevance metric is controlled by the parameter λ, which can be adjusted with a slider above the bar chart:\n",
    "\n",
    "* Setting λ close to 1.0 (the default) will rank the terms according to their probability within the topic.\n",
    "* Setting λ close to 0.0 will rank the terms according to their \"distinctiveness\" or \"exclusivity\" within the topic. This means that terms that occur only in this topic, and do not occur in other topics.\n",
    "\n",
    "You can move the slider between 0.0 and 1.0 to weigh term probability and exclusivity.\n",
    "\n",
    "### Exploring the graph\n",
    "The interactive visualization pyLDAvis produces is helpful for **individual** topics: you can manually select each topic to view its top most frequent and/or \"relevant\" terms, using different values of the λ parameter. This can help when you're trying to assign a name or \"meaning\" to each topic. \n",
    "\n",
    "It also helps you to see the **relationships** between topics: exploring the Intertopic Distance Plot can help you learn about how topics relate to each other, including potential higher-level structure between groups of topics.\n",
    "\n",
    "### Getting insights about the model\n",
    "As you can see, this model probably has too many topics: they are overlapping, and most of them appear in one corner of the graph. So we have our first hint that we might want to alter our model."
   ]
  },
  {
   "cell_type": "markdown",
   "metadata": {
    "id": "osn95IYrZW0i"
   },
   "source": [
    "## 2. Calculating Topic Coherence\n",
    "\n",
    "We can apply statistical measures to help us determine the optimal number of topics in our topic model.\n",
    "\n",
    "**Topic Coherence** measures the score of a single topic by measuring the degree of semantic similarity between high scoring words in the topic. This helps to distinguish between topics that are semantically interpretable topics, and topics that are artifacts of statistical inference. \n",
    "\n",
    "A set of statements or facts is said to be coherent if the statements support each other. An example of a coherent fact set is “the game is a team sport”, “the game is played with a ball”, “the game demands great physical efforts”\n",
    "\n",
    "A good model will generate topics with *high* topic coherence scores. Good topics are topics that can be described by a short label, therefore this is what the topic coherence measure should capture.\n",
    "\n",
    "*(There are different ways to measure coherence. For instance, the c_v measure used here retrieves cooccurrence counts for the given words using a sliding window, with a window size 110. The counts are used to calculate the NPMI (a measure of association) of every top word to every other top word. This results in a set of vectors, one for every top word. The one-set segmentation of the top words leads to the calculation of the similarity between every top word vector and the sum of all top word vectors. As similarity measure the cosinus is used. The coherence is the arithmetic mean of these similarities.)*"
   ]
  },
  {
   "cell_type": "code",
   "execution_count": 26,
   "metadata": {
    "colab": {
     "base_uri": "https://localhost:8080/"
    },
    "executionInfo": {
     "elapsed": 43064,
     "status": "ok",
     "timestamp": 1639913530642,
     "user": {
      "displayName": "Tom van Nuenen",
      "photoUrl": "https://lh3.googleusercontent.com/a-/AOh14GhuBmxDvW5I_LJfZtwlPqMFD8QGLVPP3skvpkTnuQ=s64",
      "userId": "10012302451096885058"
     },
     "user_tz": -60
    },
    "id": "wQFU0eNUZW0i",
    "outputId": "9de0d9f7-993b-4228-b6a7-0bbc8e25ffd5",
    "scrolled": true
   },
   "outputs": [
    {
     "name": "stdout",
     "output_type": "stream",
     "text": [
      "\n",
      "Coherence Score:  0.40182695632434606\n"
     ]
    }
   ],
   "source": [
    "#import logging\n",
    "#logging.getLogger().setLevel(logging.CRITICAL)\n",
    "\n",
    "# Compute Coherence Score\n",
    "coherence_model = CoherenceModel(model=lda_model, corpus=corpus, texts=lemmas_split, dictionary=dictionary, coherence='c_v') \n",
    "coherence = coherence_model.get_coherence()\n",
    "print('\\nCoherence Score: ', coherence)"
   ]
  },
  {
   "cell_type": "markdown",
   "metadata": {
    "id": "Xg-5r0htZW0k"
   },
   "source": [
    "There's no hard or fast rule on what makes a good coherence score.\n",
    "In general, a coherence score of .4 means you probably are not using the right number of topics. .6 to .7 is good. Anything more is suspiciously great. As you can see, our coherence score here is very low, so we should definitely try to improve upon our model."
   ]
  },
  {
   "cell_type": "markdown",
   "metadata": {
    "id": "BwWnkvExc11X"
   },
   "source": [
    "## 3. Tweaking the data\n",
    "\n",
    "Remember we used the lemmas of our dataset? What if we tweaked it some more -- for instance, by POS tagging?\n",
    "\n",
    "POS - Part of Speech - tagging is the process of marking up a word in a corpus to a corresponding part of a speech tag (noun, adjective, verb, etc.). Often it is a process of converting a sentence to a list of tuples where each tuple takes the form of (word, tag).\n",
    "\n",
    "Let's do this with spaCy."
   ]
  },
  {
   "cell_type": "code",
   "execution_count": 27,
   "metadata": {
    "id": "WZtZ7YtScsMX"
   },
   "outputs": [],
   "source": [
    "import warnings\n",
    "warnings.simplefilter(\"ignore\", DeprecationWarning)\n",
    "\n",
    "import spacy\n",
    "#!spacy download en_core_web_sm\n",
    "nlp = spacy.load('en_core_web_sm')\n",
    "\n",
    "def POS(text, allowed_postags = ['NOUN', 'ADJ']):\n",
    "    parsed = nlp(text)\n",
    "    return [token.lemma_ for token in parsed if token.pos_ in allowed_postags]"
   ]
  },
  {
   "cell_type": "code",
   "execution_count": 28,
   "metadata": {},
   "outputs": [
    {
     "name": "stderr",
     "output_type": "stream",
     "text": [
      "/Users/tomvannuenen/opt/anaconda3/lib/python3.8/site-packages/past/builtins/misc.py:45: DeprecationWarning: the imp module is deprecated in favour of importlib; see the module's documentation for alternative uses\n",
      "  from imp import reload\n",
      "/Users/tomvannuenen/opt/anaconda3/lib/python3.8/site-packages/past/builtins/misc.py:45: DeprecationWarning: the imp module is deprecated in favour of importlib; see the module's documentation for alternative uses\n",
      "  from imp import reload\n",
      "/Users/tomvannuenen/opt/anaconda3/lib/python3.8/site-packages/past/builtins/misc.py:45: DeprecationWarning: the imp module is deprecated in favour of importlib; see the module's documentation for alternative uses\n",
      "  from imp import reload\n",
      "/Users/tomvannuenen/opt/anaconda3/lib/python3.8/site-packages/past/builtins/misc.py:45: DeprecationWarning: the imp module is deprecated in favour of importlib; see the module's documentation for alternative uses\n",
      "  from imp import reload\n",
      "/Users/tomvannuenen/opt/anaconda3/lib/python3.8/site-packages/past/builtins/misc.py:45: DeprecationWarning: the imp module is deprecated in favour of importlib; see the module's documentation for alternative uses\n",
      "  from imp import reload\n",
      "/Users/tomvannuenen/opt/anaconda3/lib/python3.8/site-packages/past/builtins/misc.py:45: DeprecationWarning: the imp module is deprecated in favour of importlib; see the module's documentation for alternative uses\n",
      "  from imp import reload\n",
      "/Users/tomvannuenen/opt/anaconda3/lib/python3.8/site-packages/past/builtins/misc.py:45: DeprecationWarning: the imp module is deprecated in favour of importlib; see the module's documentation for alternative uses\n",
      "  from imp import reload\n",
      "/Users/tomvannuenen/opt/anaconda3/lib/python3.8/site-packages/past/builtins/misc.py:45: DeprecationWarning: the imp module is deprecated in favour of importlib; see the module's documentation for alternative uses\n",
      "  from imp import reload\n"
     ]
    }
   ],
   "source": [
    "# This will take a long time\n",
    "pos_lemmas_split = [POS(text) for text in df['lemmas']]"
   ]
  },
  {
   "cell_type": "markdown",
   "metadata": {
    "id": "lw5laa23bOJM"
   },
   "source": [
    "We can save our POS-tagged lemmas to disk again. Let's save them to a JSON file, a common data file type. See https://www.w3schools.com/js/js_json_intro.asp for more. Let's also update our CSV so we have our POS tagged lemmas in there as well."
   ]
  },
  {
   "cell_type": "code",
   "execution_count": 29,
   "metadata": {
    "id": "eKHxNE4LbK7A"
   },
   "outputs": [],
   "source": [
    "import json\n",
    "with open('aita_pos_lemmas.json', 'w' ) as write:\n",
    "    json.dump(pos_lemmas_split, write)\n",
    "\n",
    "# Uncomment the following two lines if you want to import this data again\n",
    "#with open(\"aita_pos_lemmas.json\") as f:\n",
    "#    pos_lemmas = json.load(f)\n"
   ]
  },
  {
   "cell_type": "code",
   "execution_count": 30,
   "metadata": {},
   "outputs": [],
   "source": [
    "# turn them into a string so we can save them in our DF\n",
    "str_pos_lemmas = [' '.join(t) for t in pos_lemmas_split]"
   ]
  },
  {
   "cell_type": "code",
   "execution_count": 31,
   "metadata": {},
   "outputs": [
    {
     "data": {
      "text/plain": [
       "'beach friend tiny bikini hate public wear wear pose bathroom mirror hotel room picture story worth mention friend reason similar sick fight girl night post video table dude invite girl unknown arrive guy snapchat trip screenshot particular leave camera roll intentional claim way stomach sand friend ass bathroom mirror age typical year old behavior wrong inappropriate behavior relationship asshole deal guy control point time wear hate ass wear problem general wear summer groaning issue annoying issue picture plain simple draw line break wear break turn bathroom picture borderline suit inappropriate clarity jealous friend guy friend issue worth mention issue girl night play girl night bunch girlfriend trust thing big deal friend honesty true problem guy message non start date boyfriend time snub girl night particular fella attendance night sanity snapchat point post dump detail people jealous break reason wild party phase look family relationship single mom year old daughter love year date step way little wild look stage life early year partying wild stuff ready family date woman pant stuff interest date college party phase end mature want date jealous control open honest look year'"
      ]
     },
     "execution_count": 31,
     "metadata": {},
     "output_type": "execute_result"
    }
   ],
   "source": [
    "str_pos_lemmas[0]"
   ]
  },
  {
   "cell_type": "code",
   "execution_count": 32,
   "metadata": {},
   "outputs": [],
   "source": [
    "df.insert(loc=9, column='pos_lemmas', value=str_pos_lemmas)\n",
    "df.to_csv('aita_sub_top_sm_pos_lemmas.csv', index=False)"
   ]
  },
  {
   "cell_type": "code",
   "execution_count": 33,
   "metadata": {},
   "outputs": [
    {
     "data": {
      "text/html": [
       "<div>\n",
       "<style scoped>\n",
       "    .dataframe tbody tr th:only-of-type {\n",
       "        vertical-align: middle;\n",
       "    }\n",
       "\n",
       "    .dataframe tbody tr th {\n",
       "        vertical-align: top;\n",
       "    }\n",
       "\n",
       "    .dataframe thead th {\n",
       "        text-align: right;\n",
       "    }\n",
       "</style>\n",
       "<table border=\"1\" class=\"dataframe\">\n",
       "  <thead>\n",
       "    <tr style=\"text-align: right;\">\n",
       "      <th></th>\n",
       "      <th>lemmas</th>\n",
       "      <th>pos_lemmas</th>\n",
       "    </tr>\n",
       "  </thead>\n",
       "  <tbody>\n",
       "    <tr>\n",
       "      <th>0</th>\n",
       "      <td>girlfriend recently beach friend tiny bikini b...</td>\n",
       "      <td>beach friend tiny bikini hate public wear wear...</td>\n",
       "    </tr>\n",
       "    <tr>\n",
       "      <th>1</th>\n",
       "      <td>parent smoke like chimney use quit wife young ...</td>\n",
       "      <td>parent smoke son week invite parent hour night...</td>\n",
       "    </tr>\n",
       "    <tr>\n",
       "      <th>2</th>\n",
       "      <td>hi guy throwaway obv reason i'm female child b...</td>\n",
       "      <td>obv reason female child area wear thong penis ...</td>\n",
       "    </tr>\n",
       "    <tr>\n",
       "      <th>3</th>\n",
       "      <td>yesterday night gf decide eat vegan day vegan ...</td>\n",
       "      <td>yesterday night food meal rice girlfriend offe...</td>\n",
       "    </tr>\n",
       "    <tr>\n",
       "      <th>4</th>\n",
       "      <td>wife vegetarian law vocal annoyance year visit...</td>\n",
       "      <td>wife year family credit vegetarian dish fill p...</td>\n",
       "    </tr>\n",
       "    <tr>\n",
       "      <th>...</th>\n",
       "      <td>...</td>\n",
       "      <td>...</td>\n",
       "    </tr>\n",
       "    <tr>\n",
       "      <th>16305</th>\n",
       "      <td>m good friend 26f currently house hunting bit ...</td>\n",
       "      <td>good friend 26f house bit background informati...</td>\n",
       "    </tr>\n",
       "    <tr>\n",
       "      <th>16306</th>\n",
       "      <td>degree fashion people think mean personal seam...</td>\n",
       "      <td>degree fashion people mean personal seamstress...</td>\n",
       "    </tr>\n",
       "    <tr>\n",
       "      <th>16307</th>\n",
       "      <td>husband friend middle school date junior year ...</td>\n",
       "      <td>husband school date year school marry college ...</td>\n",
       "    </tr>\n",
       "    <tr>\n",
       "      <th>16308</th>\n",
       "      <td>30f husband m recently neighborhood small town...</td>\n",
       "      <td>husband neighborhood small town love town cult...</td>\n",
       "    </tr>\n",
       "    <tr>\n",
       "      <th>16309</th>\n",
       "      <td>marry month week wedding plan honeymoon resort...</td>\n",
       "      <td>wedding plan hour flight place dream destinati...</td>\n",
       "    </tr>\n",
       "  </tbody>\n",
       "</table>\n",
       "<p>16310 rows × 2 columns</p>\n",
       "</div>"
      ],
      "text/plain": [
       "                                                  lemmas  \\\n",
       "0      girlfriend recently beach friend tiny bikini b...   \n",
       "1      parent smoke like chimney use quit wife young ...   \n",
       "2      hi guy throwaway obv reason i'm female child b...   \n",
       "3      yesterday night gf decide eat vegan day vegan ...   \n",
       "4      wife vegetarian law vocal annoyance year visit...   \n",
       "...                                                  ...   \n",
       "16305  m good friend 26f currently house hunting bit ...   \n",
       "16306  degree fashion people think mean personal seam...   \n",
       "16307  husband friend middle school date junior year ...   \n",
       "16308  30f husband m recently neighborhood small town...   \n",
       "16309  marry month week wedding plan honeymoon resort...   \n",
       "\n",
       "                                              pos_lemmas  \n",
       "0      beach friend tiny bikini hate public wear wear...  \n",
       "1      parent smoke son week invite parent hour night...  \n",
       "2      obv reason female child area wear thong penis ...  \n",
       "3      yesterday night food meal rice girlfriend offe...  \n",
       "4      wife year family credit vegetarian dish fill p...  \n",
       "...                                                  ...  \n",
       "16305  good friend 26f house bit background informati...  \n",
       "16306  degree fashion people mean personal seamstress...  \n",
       "16307  husband school date year school marry college ...  \n",
       "16308  husband neighborhood small town love town cult...  \n",
       "16309  wedding plan hour flight place dream destinati...  \n",
       "\n",
       "[16310 rows x 2 columns]"
      ]
     },
     "execution_count": 33,
     "metadata": {},
     "output_type": "execute_result"
    }
   ],
   "source": [
    "# Let's see the difference between our lemmas and our POS-tagged lemmas\n",
    "df[['lemmas','pos_lemmas']]"
   ]
  },
  {
   "cell_type": "markdown",
   "metadata": {},
   "source": [
    "Next, we need to create new dictionary and corpus objects for Gensim."
   ]
  },
  {
   "cell_type": "code",
   "execution_count": 34,
   "metadata": {},
   "outputs": [],
   "source": [
    "# Create Dictionary \n",
    "pos_dictionary = corpora.Dictionary(pos_lemmas_split)\n",
    "\n",
    "# filter extremes and assign new ids\n",
    "pos_dictionary.filter_extremes(no_below=10, no_above=0.4)\n",
    "pos_dictionary.compactify() \n",
    "\n",
    "# SAVE DICT\n",
    "pos_dictionary.save('aita_pos_lda.dict')\n",
    "\n",
    "# Create Document-Term Matrix of our whole corpus \n",
    "pos_corpus = [pos_dictionary.doc2bow(text) for text in pos_lemmas_split]\n"
   ]
  },
  {
   "cell_type": "markdown",
   "metadata": {
    "id": "1sP9L4KPXyXm"
   },
   "source": [
    "## 3. Tweaking hyperparameters\n",
    "\n",
    "Next, let's change some hyperparameters. This can also determine how interpretable our topic models become.\n",
    "\n",
    "`passes` controls how often we train the model on the entire corpus. Another word for passes might be “epochs”.\n",
    " \n",
    "`iterations` is somewhat technical, but essentially it controls how often we repeat a particular loop over each document. It is important to set the number of “passes” and “iterations” high enough.\n",
    "\n",
    "Gensim's designer suggests the following way to choose iterations and passes. First, enable `logging`, and set `eval_every = 1` in `LdaModel`. This will yield a **perplexity** score for every update. Perplexity is a measure of how well a probability model predicts a sample. It captures how surprised a model is of new data it has not seen before, and is measured as the normalized log-likelihood of a held-out test set. \n"
   ]
  },
  {
   "cell_type": "code",
   "execution_count": 35,
   "metadata": {
    "id": "ufxXZDJMYKB2"
   },
   "outputs": [],
   "source": [
    "import logging\n",
    "for handler in logging.root.handlers[:]:\n",
    "    logging.root.removeHandler(handler)\n",
    "\n",
    "logging.basicConfig(filename='gensim.log', filemode='w', format=\"%(asctime)s:%(levelname)s:%(message)s\", level=logging.INFO)\n",
    "\n",
    "lda_model_tweak = LdaModel(corpus=pos_corpus,\n",
    "                           id2word=pos_dictionary,\n",
    "                           num_topics=20, \n",
    "                           random_state=100,\n",
    "                           eval_every=1,           # show perplexity after every update for visualization\n",
    "                           iterations=50,          # number of model iterations over each doc\n",
    "                           passes=20,              # number of model training cycles, aka epochs\n",
    "                           per_word_topics=False)"
   ]
  },
  {
   "cell_type": "markdown",
   "metadata": {
    "id": "Jgq0gBoOTNha"
   },
   "source": [
    "Using regular expressions we can now search through our newly created \"gensim.log\" file and find  / plot the relevant information.\n",
    "This shows how topic/word assignments reach a steady state and no longer change much, (i.e. converge). Adding \"passes\" when running the topic model can increase the log-likelihood. The higher the value of the log-likelihood, the better our model fits the dataset."
   ]
  },
  {
   "cell_type": "code",
   "execution_count": 36,
   "metadata": {
    "id": "QTjA3CXoeBNg"
   },
   "outputs": [
    {
     "data": {
      "image/png": "[encoded data removed]",
      "text/plain": [
       "<Figure size 432x288 with 1 Axes>"
      ]
     },
     "metadata": {
      "needs_background": "light"
     },
     "output_type": "display_data"
    }
   ],
   "source": [
    "import matplotlib.pyplot as plt\n",
    "%matplotlib inline\n",
    "import re\n",
    "\n",
    "p = re.compile(r\"(-*\\d+\\.\\d+) per-word .* (\\d+\\.\\d+) perplexity\")\n",
    "matches = [p.findall(l) for l in open('gensim.log')]\n",
    "matches = [m for m in matches if len(m) > 0]\n",
    "tuples = [t[0] for t in matches]\n",
    "likelihood = [float(t[0]) for t in tuples]\n",
    "perplexity = [float(t[1]) for t in tuples]\n",
    "iter = list(range(0,len(tuples)*10,10))\n",
    "plt.plot(iter,likelihood,c=\"black\")\n",
    "plt.ylabel(\"log likelihood\")\n",
    "plt.xlabel(\"iteration\")\n",
    "plt.title(\"Topic Model Convergence\")\n",
    "plt.grid()\n",
    "plt.savefig(\"convergence_liklihood_1_it_1_pa.pdf\")"
   ]
  },
  {
   "cell_type": "markdown",
   "metadata": {},
   "source": [
    " Note that the graph contains about 20 \"peaks\", which refers to the number of `passes` we set above. As you can see, the model converges quite rapidly, so we do not need to set `passes` very high."
   ]
  },
  {
   "cell_type": "markdown",
   "metadata": {
    "id": "RjFdiMk6ZW0v"
   },
   "source": [
    "## 4. Changing number of topics\n",
    "\n",
    "The final and most important thing we can do to find optimal scores is to play around with the amount of topics our model creates. One way to do this is to build many LDA models with different values of number of topics (k), and then pick the one that gives the highest coherence value. Choosing a ‘k’ at the end of a rapid growth of topic coherence usually yields meaningful and interpretable topics. If you see the same keywords being repeated in multiple topics, it’s probably a sign that the ‘k’ is too large.\n",
    "\n",
    "This `compute_coherence_values()` function trains multiple LDA models, provides the models, and tells you their corresponding coherence scores.\n",
    "\n",
    "Also note the docstring I create here: these are documentation for the functions we create. It describes what a function does, and can be called using `help(function_X)`."
   ]
  },
  {
   "cell_type": "code",
   "execution_count": 37,
   "metadata": {
    "id": "oOZRa_4LZW0w"
   },
   "outputs": [],
   "source": [
    "from gensim.models.ldamodel import LdaModel\n",
    "from gensim.models.coherencemodel import CoherenceModel\n",
    "\n",
    "def compute_coherence_values(dictionary, corpus, texts, start, limit, step):\n",
    "    \"\"\"\n",
    "    Compute c_v coherence for various number of topics\n",
    "\n",
    "    Parameters:\n",
    "    ----------\n",
    "    dictionary : Gensim dictionary\n",
    "    corpus : Gensim corpus\n",
    "    texts : Tokenized text (list of lis of str)\n",
    "    limit : Max num of topics\n",
    "\n",
    "    Returns:\n",
    "    -------\n",
    "    model_list : List of LDA topic models\n",
    "    coherence_values : Coherence values corresponding to the LDA model with respective number of topics\n",
    "    \"\"\"\n",
    "    coherence_values = []\n",
    "    model_list = []\n",
    "    total_amount = int(limit/step - start/step)\n",
    "    current_amount = 0\n",
    "    for num_topics in range(start, limit, step):\n",
    "        model = LdaModel(corpus=corpus, id2word=dictionary, num_topics=num_topics, random_state=100, \n",
    "                         update_every=1, iterations=50, passes=10, alpha='auto', per_word_topics=False)\n",
    "        model_list.append(model)\n",
    "        coherencemodel = CoherenceModel(model=model, texts=texts, dictionary=dictionary, coherence='c_v')\n",
    "        # When using 'c_v' texts should be provided, corpus isn’t needed. \n",
    "        # When using ‘u_mass’ corpus should be provided, if texts is provided, it will be converted to corpus using the dictionary \n",
    "        coherence_values.append(coherencemodel.get_coherence())\n",
    "        current_amount += 1\n",
    "        print(\"Built \" + str(current_amount) + \" of \" + str(total_amount) + \" models\")\n",
    "\n",
    "    return model_list, coherence_values\n"
   ]
  },
  {
   "cell_type": "code",
   "execution_count": 38,
   "metadata": {
    "colab": {
     "base_uri": "https://localhost:8080/"
    },
    "executionInfo": {
     "elapsed": 20,
     "status": "ok",
     "timestamp": 1626885144832,
     "user": {
      "displayName": "Tom van Nuenen",
      "photoUrl": "https://lh3.googleusercontent.com/a-/AOh14GhuBmxDvW5I_LJfZtwlPqMFD8QGLVPP3skvpkTnuQ=s64",
      "userId": "10012302451096885058"
     },
     "user_tz": -60
    },
    "id": "NTH4i85HeD3j",
    "outputId": "e2a55457-299a-416c-bcdd-f598f17f95e3"
   },
   "outputs": [
    {
     "name": "stdout",
     "output_type": "stream",
     "text": [
      "Help on function compute_coherence_values in module __main__:\n",
      "\n",
      "compute_coherence_values(dictionary, corpus, texts, start, limit, step)\n",
      "    Compute c_v coherence for various number of topics\n",
      "    \n",
      "    Parameters:\n",
      "    ----------\n",
      "    dictionary : Gensim dictionary\n",
      "    corpus : Gensim corpus\n",
      "    texts : Tokenized text (list of lis of str)\n",
      "    limit : Max num of topics\n",
      "    \n",
      "    Returns:\n",
      "    -------\n",
      "    model_list : List of LDA topic models\n",
      "    coherence_values : Coherence values corresponding to the LDA model with respective number of topics\n",
      "\n"
     ]
    }
   ],
   "source": [
    "help(compute_coherence_values)"
   ]
  },
  {
   "cell_type": "markdown",
   "metadata": {
    "id": "eX4Mc6JZo4sG"
   },
   "source": [
    "Using our new function, let's run a bunch of topic models with different amounts of topics."
   ]
  },
  {
   "cell_type": "code",
   "execution_count": 39,
   "metadata": {
    "colab": {
     "base_uri": "https://localhost:8080/"
    },
    "executionInfo": {
     "elapsed": 242071,
     "status": "ok",
     "timestamp": 1639940656827,
     "user": {
      "displayName": "Tom van Nuenen",
      "photoUrl": "https://lh3.googleusercontent.com/a-/AOh14GhuBmxDvW5I_LJfZtwlPqMFD8QGLVPP3skvpkTnuQ=s64",
      "userId": "10012302451096885058"
     },
     "user_tz": -60
    },
    "id": "LYWcr2NhZW0z",
    "outputId": "0f0f4a01-b509-4c46-d11d-015179e38522"
   },
   "outputs": [
    {
     "name": "stdout",
     "output_type": "stream",
     "text": [
      "Built 1 of 12 models\n",
      "Built 2 of 12 models\n",
      "Built 3 of 12 models\n",
      "Built 4 of 12 models\n",
      "Built 5 of 12 models\n",
      "Built 6 of 12 models\n",
      "Built 7 of 12 models\n",
      "Built 8 of 12 models\n",
      "Built 9 of 12 models\n",
      "Built 10 of 12 models\n",
      "Built 11 of 12 models\n",
      "Built 12 of 12 models\n"
     ]
    }
   ],
   "source": [
    "# Can take a long time to run\n",
    "model_list, coherence_values = compute_coherence_values(dictionary=pos_dictionary, \n",
    "                                                        corpus=pos_corpus, texts=pos_lemmas_split, \n",
    "                                                        start=6, limit=30, step=2)"
   ]
  },
  {
   "cell_type": "markdown",
   "metadata": {
    "id": "ks6jTrgtpC1m"
   },
   "source": [
    "Now, from all those models, let's visualize the output of the coherence scores."
   ]
  },
  {
   "cell_type": "code",
   "execution_count": 40,
   "metadata": {
    "colab": {
     "base_uri": "https://localhost:8080/",
     "height": 279
    },
    "executionInfo": {
     "elapsed": 901,
     "status": "ok",
     "timestamp": 1639940737397,
     "user": {
      "displayName": "Tom van Nuenen",
      "photoUrl": "https://lh3.googleusercontent.com/a-/AOh14GhuBmxDvW5I_LJfZtwlPqMFD8QGLVPP3skvpkTnuQ=s64",
      "userId": "10012302451096885058"
     },
     "user_tz": -60
    },
    "id": "td7Zi7YpZW03",
    "outputId": "dee7e449-79a6-461b-c582-dba9eeb9cef6",
    "scrolled": true
   },
   "outputs": [
    {
     "data": {
      "image/png": "[encoded data removed]",
      "text/plain": [
       "<Figure size 432x288 with 1 Axes>"
      ]
     },
     "metadata": {
      "needs_background": "light"
     },
     "output_type": "display_data"
    }
   ],
   "source": [
    "import matplotlib.pyplot as plt\n",
    "%matplotlib inline\n",
    "\n",
    "# Show graph\n",
    "start=6; limit=30; step=2\n",
    "x = range(start, limit, step) # range uses start, stop, and incrementation\n",
    "plt.plot(x, coherence_values)\n",
    "plt.xlabel(\"Num Topics\")\n",
    "plt.ylabel(\"Coherence score\")\n",
    "plt.legend((\"coherence_values\"), loc='best')\n",
    "plt.show()"
   ]
  },
  {
   "cell_type": "code",
   "execution_count": 41,
   "metadata": {
    "colab": {
     "base_uri": "https://localhost:8080/"
    },
    "executionInfo": {
     "elapsed": 548,
     "status": "ok",
     "timestamp": 1639940764419,
     "user": {
      "displayName": "Tom van Nuenen",
      "photoUrl": "https://lh3.googleusercontent.com/a-/AOh14GhuBmxDvW5I_LJfZtwlPqMFD8QGLVPP3skvpkTnuQ=s64",
      "userId": "10012302451096885058"
     },
     "user_tz": -60
    },
    "id": "2zX73ICjZW05",
    "outputId": "e1593fa6-dcd7-4bf9-eb75-5b838e238b10",
    "scrolled": true
   },
   "outputs": [
    {
     "name": "stdout",
     "output_type": "stream",
     "text": [
      "model_list[0]: Num Topics = 6, Coherence Value = 0.3987\n",
      "model_list[1]: Num Topics = 8, Coherence Value = 0.421\n",
      "model_list[2]: Num Topics = 10, Coherence Value = 0.4357\n",
      "model_list[3]: Num Topics = 12, Coherence Value = 0.4284\n",
      "model_list[4]: Num Topics = 14, Coherence Value = 0.4253\n",
      "model_list[5]: Num Topics = 16, Coherence Value = 0.4318\n",
      "model_list[6]: Num Topics = 18, Coherence Value = 0.432\n",
      "model_list[7]: Num Topics = 20, Coherence Value = 0.4483\n",
      "model_list[8]: Num Topics = 22, Coherence Value = 0.4416\n",
      "model_list[9]: Num Topics = 24, Coherence Value = 0.4032\n",
      "model_list[10]: Num Topics = 26, Coherence Value = 0.4396\n",
      "model_list[11]: Num Topics = 28, Coherence Value = 0.4128\n"
     ]
    }
   ],
   "source": [
    "# Print these coherence scores\n",
    "c = 0\n",
    "for m, cv in zip(x, coherence_values):\n",
    "    print(f\"model_list[{c}]: Num Topics = {m}, Coherence Value = {round(cv, 4)}\")\n",
    "    c += 1"
   ]
  },
  {
   "cell_type": "markdown",
   "metadata": {
    "id": "DPwvgE04ZW0_"
   },
   "source": [
    "If the coherence score seems to keep increasing, it generally makes sense to pick the model that gave the highest CV before dropping again. Following this \"elbow method\", we have a few options.\n",
    "\n",
    "However, such methods are only heuristics. The scores we have here are not that far apart. At this point you should *go back* to pyLDAvis using the models from our `model_list`, and compare them to see which topic model looks better. Based on these combined insights, I will pick the 5th model, with 16 topics."
   ]
  },
  {
   "cell_type": "code",
   "execution_count": 42,
   "metadata": {
    "id": "UzmroqZHm3M3"
   },
   "outputs": [],
   "source": [
    "from gensim import corpora, models, similarities\n",
    "\n",
    "# SAVE MODEL\n",
    "optimal_lda_model = model_list[5]\n",
    "optimal_lda_model.save('aita_pos_lda_optimal.model')\n"
   ]
  },
  {
   "cell_type": "code",
   "execution_count": 43,
   "metadata": {},
   "outputs": [
    {
     "name": "stderr",
     "output_type": "stream",
     "text": [
      "/Users/tomvannuenen/opt/anaconda3/lib/python3.8/site-packages/pyLDAvis/_prepare.py:246: FutureWarning: In a future version of pandas all arguments of DataFrame.drop except for the argument 'labels' will be keyword-only\n",
      "  default_term_info = default_term_info.sort_values(\n"
     ]
    },
    {
     "data": {
      "text/html": [
       "\n",
       "<link rel=\"stylesheet\" type=\"text/css\" href=\"https://cdn.jsdelivr.net/gh/bmabey/pyLDAvis@3.3.1/pyLDAvis/js/ldavis.v1.0.0.css\">\n",
       "\n",
       "\n",
       "<div id=\"ldavis_el4850140290241015472473124981\"></div>\n",
       "<script type=\"text/javascript\">\n",
       "\n",
       "var ldavis_el4850140290241015472473124981_data = {\"mdsDat\": {\"x\": [-0.009903729388834959, 0.17248784767573375, -0.009917066390315348, -0.08788421287887264, -0.02229934924846594, 0.18541711089806717, 0.12013226040276706, 0.17157070386975756, -0.15999098628294062, 0.1528585683997921, -0.004798987052230927, 0.05534131673438619, -0.16693601307505113, -0.18881996775673943, -0.02187517178649689, -0.18538232412055622], \"y\": [-0.06679913957637346, 0.03284447423328921, -0.02876971701942871, 0.1324289617972893, 0.14074963049046596, 0.07422383184900043, -0.05337915009834809, -0.02576337038822164, 0.09925544538591052, 0.026012561278041725, -0.21353745139311534, -0.08614587184015758, -0.003074812313382174, 0.12689289308032653, 0.09544241026348116, -0.25038069574877836], \"topics\": [1, 2, 3, 4, 5, 6, 7, 8, 9, 10, 11, 12, 13, 14, 15, 16], \"cluster\": [1, 1, 1, 1, 1, 1, 1, 1, 1, 1, 1, 1, 1, 1, 1, 1], \"Freq\": [19.240639712975916, 10.191730335813805, 9.329692982251496, 7.3526491446018705, 6.720075067587847, 6.4919330324548845, 5.8358896529422895, 5.6959199305038375, 5.278806715484571, 4.332232832735383, 4.244992938516859, 3.9161341843750828, 3.8146251878035704, 2.9162258405889365, 2.549233553193379, 2.0892188881702847]}, \"tinfo\": {\"Term\": [\"husband\", \"wife\", \"parent\", \"sister\", \"money\", \"daughter\", \"friend\", \"mom\", \"kid\", \"child\", \"baby\", \"family\", \"brother\", \"wedding\", \"food\", \"work\", \"pay\", \"school\", \"car\", \"room\", \"son\", \"dog\", \"job\", \"dress\", \"woman\", \"pregnant\", \"dad\", \"dinner\", \"hair\", \"night\", \"alcohol\", \"purse\", \"drinking\", \"crawl\", \"wet\", \"giggle\", \"tea\", \"basketball\", \"ally\", \"whisper\", \"airport\", \"uncalled\", \"hat\", \"juice\", \"closing\", \"hyphenate\", \"cold_shoulder\", \"grass\", \"topless\", \"prank\", \"pour\", \"hangout\", \"irritate\", \"outing\", \"convenience\", \"obnoxious\", \"baseball\", \"impatient\", \"calorie\", \"theater\", \"friend\", \"movie\", \"fume\", \"production\", \"friendship\", \"boyfriend\", \"bf\", \"bar\", \"drunk\", \"vibe\", \"group\", \"laugh\", \"party\", \"mutual\", \"joke\", \"gay\", \"guy\", \"dude\", \"beer\", \"girlfriend\", \"fuck\", \"cool\", \"nickname\", \"date\", \"drink\", \"text\", \"scene\", \"talk\", \"sex\", \"girl\", \"funny\", \"uncomfortable\", \"game\", \"rude\", \"weird\", \"texte\", \"birthday\", \"play\", \"little\", \"people\", \"good\", \"bit\", \"night\", \"mad\", \"tell\", \"upset\", \"couple\", \"bad\", \"start\", \"point\", \"way\", \"wrong\", \"phone\", \"day\", \"leave\", \"end\", \"lot\", \"month\", \"want\", \"daughter\", \"wife\", \"emma\", \"stepdaughter\", \"stepdad\", \"faint\", \"grandson\", \"visitation\", \"paternity_t\", \"son\", \"mommy\", \"counselling\", \"grieving\", \"curfew\", \"disown\", \"guardian\", \"kidney\", \"disrupt\", \"sooo\", \"undermine\", \"dental\", \"typo\", \"alimony\", \"seed\", \"stepmom\", \"delusional\", \"insulin\", \"jack\", \"postpartum\", \"accomplish\", \"stepsister\", \"mom\", \"affair\", \"step\", \"reconcile\", \"dad\", \"14f\", \"divorce\", \"decorate\", \"punishment\", \"daddy\", \"father\", \"mother\", \"grandma\", \"custody\", \"allowance\", \"old\", \"counseling\", \"bond\", \"relationship\", \"facetime\", \"love\", \"life\", \"contact\", \"marriage\", \"family\", \"therapy\", \"talk\", \"young\", \"cruel\", \"help\", \"month\", \"fight\", \"bad\", \"good\", \"care\", \"tell\", \"happy\", \"hard\", \"lot\", \"leave\", \"right\", \"week\", \"home\", \"parent\", \"way\", \"company\", \"team\", \"boss\", \"language\", \"interview\", \"computer\", \"coach\", \"colleague\", \"campus\", \"flag\", \"spanish\", \"supervisor\", \"german\", \"department\", \"accent\", \"management\", \"device\", \"tablet\", \"workplace\", \"settlement\", \"promotion\", \"hub\", \"print\", \"grace\", \"district\", \"cottage\", \"pronoun\", \"deaf\", \"unprofessional\", \"pc\", \"coworker\", \"tenant\", \"fence\", \"fire\", \"office\", \"meeting\", \"email\", \"laptop\", \"contract\", \"client\", \"project\", \"employee\", \"report\", \"design\", \"tree\", \"manager\", \"sign\", \"work\", \"skill\", \"job\", \"people\", \"information\", \"new\", \"position\", \"address\", \"phone\", \"number\", \"person\", \"case\", \"lot\", \"use\", \"situation\", \"good\", \"issue\", \"week\", \"reason\", \"comment\", \"talk\", \"day\", \"point\", \"way\", \"flight\", \"bus\", \"seat\", \"row\", \"lauren\", \"plane\", \"jess\", \"tour\", \"slack\", \"alarm\", \"dye\", \"midnight\", \"h\", \"housework\", \"ambulance\", \"nut\", \"sweep\", \"bridal\", \"shampoo\", \"library\", \"commute\", \"russian\", \"lay\", \"sitter\", \"seizure\", \"calendar\", \"chore\", \"playstation\", \"housewife\", \"temp\", \"p.m.\", \"exhausted\", \"shift\", \"cabin\", \"schedule\", \"trip\", \"laundry\", \"hour\", \"wake\", \"morning\", \"work\", \"tired\", \"weekend\", \"home\", \"day\", \"week\", \"vacation\", \"sleep\", \"night\", \"minute\", \"late\", \"early\", \"help\", \"care\", \"job\", \"today\", \"clean\", \"leave\", \"plan\", \"phone\", \"long\", \"able\", \"month\", \"tell\", \"money\", \"income\", \"expense\", \"payment\", \"debt\", \"mortgage\", \"loan\", \"finance\", \"tuition\", \"inheritance\", \"utility\", \"deposit\", \"saving\", \"retirement\", \"investment\", \"fund\", \"childless\", \"wealth\", \"calculate\", \"classy\", \"sd\", \"bill\", \"7th\", \"adore\", \"buck\", \"price\", \"prospective\", \"inspection\", \"absent\", \"bounce\", \"rent\", \"pay\", \"financial\", \"cost\", \"fee\", \"cash\", \"dollar\", \"budget\", \"salary\", \"homeless\", \"insurance\", \"scholarship\", \"expensive\", \"job\", \"college\", \"account\", \"month\", \"house\", \"cover\", \"cheap\", \"help\", \"work\", \"live\", \"support\", \"car\", \"half\", \"able\", \"use\", \"new\", \"plan\", \"good\", \"lot\", \"home\", \"sister\", \"brother\", \"niece\", \"nephew\", \"sis\", \"lawsuit\", \"fertility\", \"greedy\", \"stepbrother\", \"precaution\", \"dna_t\", \"obligate\", \"assist\", \"administrator\", \"uninvite\", \"surrogate\", \"eligible\", \"forum\", \"vain\", \"unwell\", \"\\u00a3\", \"unstable\", \"clause\", \"t\", \"convert\", \"lavish\", \"attentive\", \"era\", \"rsvp\", \"sewing\", \"golden\", \"uncle\", \"aunt\", \"parent\", \"grandparent\", \"gift\", \"sibling\", \"cousin\", \"tidy\", \"stepmother\", \"twin\", \"family\", \"ivf\", \"dad\", \"present\", \"birthday\", \"mother\", \"member\", \"young\", \"old\", \"ungrateful\", \"mom\", \"visit\", \"card\", \"care\", \"contact\", \"help\", \"life\", \"live\", \"close\", \"half\", \"tell\", \"lot\", \"bad\", \"week\", \"month\", \"wedding\", \"ring\", \"fiance\", \"fianc\\u00e9e\", \"bride\", \"propose\", \"ceremony\", \"venue\", \"anniversary\", \"reception\", \"invitation\", \"planning\", \"fiancee\", \"pepper\", \"gown\", \"diamond\", \"groom\", \"glitter\", \"engagement\", \"necklace\", \"romantic\", \"honeymoon\", \"engagement_ring\", \"spice\", \"salt\", \"proposal\", \"destination\", \"alter\", \"bachelorette\", \"vacuum\", \"tradition\", \"engage\", \"fianc\\u00e9\", \"speech\", \"attend\", \"traditional\", \"flower\", \"jewelry\", \"family\", \"guest\", \"event\", \"grandmother\", \"plan\", \"member\", \"date\", \"important\", \"day\", \"relationship\", \"idea\", \"love\", \"happy\", \"cousin\", \"future\", \"big\", \"good\", \"people\", \"lot\", \"marriage\", \"month\", \"close\", \"tell\", \"talk\", \"foster\", \"donor\", \"campaign\", \"triplet\", \"childfree\", \"pastor\", \"hypothetical\", \"swim\", \"deceased\", \"apt\", \"registration\", \"pediatrician\", \"reduce\", \"o'clock\", \"advanced\", \"reader\", \"atheist\", \"youth\", \"ableist\", \"sin\", \"dna\", \"surname\", \"sperm\", \"backup\", \"stability\", \"sympathize\", \"ect\", \"traumatize\", \"conscience\", \"nicole\", \"kid\", \"catholic\", \"child\", \"religion\", \"religious\", \"church\", \"biological\", \"parenting\", \"grandkid\", \"belief\", \"boy\", \"age\", \"testing\", \"young\", \"guitar\", \"raise\", \"football\", \"old\", \"life\", \"activity\", \"adult\", \"mother\", \"support\", \"partner\", \"parent\", \"decision\", \"choice\", \"free\", \"autistic\", \"single\", \"family\", \"different\", \"love\", \"care\", \"relationship\", \"change\", \"live\", \"want\", \"plan\", \"good\", \"way\", \"reason\", \"people\", \"problem\", \"roommate\", \"bathroom\", \"pad\", \"toilet\", \"living_room\", \"towel\", \"bath\", \"basement\", \"leash\", \"plastic\", \"asthma\", \"carpet\", \"costume\", \"studio\", \"snake\", \"storage\", \"throw_tantrum\", \"upstairs\", \"upstage\", \"attic\", \"supervise\", \"flush\", \"suite\", \"precedent\", \"waiting\", \"curtain\", \"poop\", \"viable\", \"ceiling\", \"cupcake\", \"wipe\", \"bedroom\", \"room\", \"sheet\", \"furniture\", \"shelf\", \"lock\", \"chair\", \"noise\", \"bed\", \"door\", \"tv\", \"couch\", \"apartment\", \"clean\", \"floor\", \"sleep\", \"bag\", \"space\", \"blanket\", \"shower\", \"toy\", \"smell\", \"use\", \"kitchen\", \"glass\", \"house\", \"water\", \"live\", \"guest\", \"stuff\", \"share\", \"night\", \"home\", \"rule\", \"issue\", \"place\", \"small\", \"open\", \"leave\", \"problem\", \"old\", \"big\", \"baby\", \"husband\", \"pregnancy\", \"abortion\", \"miscarriage\", \"newborn\", \"formula\", \"condom\", \"infertility\", \"breastfeed\", \"heal\", \"grieve\", \"timing\", \"rabbit\", \"infertile\", \"fil\", \"abort\", \"risky\", \"premature\", \"autonomy\", \"angel\", \"malice\", \"panic_attack\", \"spontaneous\", \"signature\", \"spoiler\", \"unborn\", \"vasectomy\", \"abnormal\", \"ovary\", \"pregnant\", \"nursery\", \"hubby\", \"birth\", \"egg\", \"l\", \"mil\", \"labor\", \"sil\", \"maternity\", \"law\", \"delivery\", \"announcement\", \"month\", \"child\", \"feed\", \"adoption\", \"shower\", \"week\", \"bear\", \"bil\", \"doctor\", \"family\", \"help\", \"woman\", \"plan\", \"support\", \"want\", \"mother\", \"talk\", \"change\", \"upset\", \"day\", \"right\", \"issue\", \"able\", \"good\", \"end\", \"tell\", \"hair\", \"makeup\", \"racist\", \"profile\", \"race\", \"tattoo\", \"colour\", \"tinder\", \"30f\", \"crop\", \"blonde\", \"scar\", \"anime\", \"japanese\", \"bleach\", \"uniform\", \"racism\", \"sing\", \"stereotype\", \"yellow\", \"follower\", \"writer\", \"slur\", \"subreddit\", \"curl\", \"explicit\", \"asperger\", \"bald\", \"color\", \"caption\", \"skin\", \"delete\", \"screenshot\", \"video\", \"white\", \"green\", \"r_amitheasshole_comment\", \"black\", \"trick\", \"pink\", \"picture\", \"post\", \"photo\", \"insecure\", \"comment\", \"blue\", \"dark\", \"award\", \"fake\", \"offensive\", \"update\", \"style\", \"people\", \"message\", \"short\", \"edit\", \"story\", \"use\", \"book\", \"advice\", \"beautiful\", \"long\", \"change\", \"girl\", \"account\", \"eye\", \"different\", \"woman\", \"love\", \"lot\", \"little\", \"weight\", \"surgery\", \"exercise\", \"artist\", \"song\", \"height\", \"heel\", \"junk\", \"painting\", \"mask\", \"sweater\", \"overweight\", \"doll\", \"speechless\", \"jake\", \"adoptive\", \"tooth\", \"ancestor\", \"massage\", \"implant\", \"noticeable\", \"singer\", \"incapable\", \"piano\", \"hearted\", \"flaw\", \"wander\", \"obese\", \"trimester\", \"35k\", \"fat\", \"art\", \"bone\", \"anxiety\", \"depression\", \"therapist\", \"unhealthy\", \"disorder\", \"pain\", \"severe\", \"diagnosis\", \"body\", \"therapy\", \"healthy\", \"disability\", \"health\", \"cancer\", \"music\", \"struggle\", \"issue\", \"lose\", \"bad\", \"lot\", \"help\", \"comment\", \"condition\", \"life\", \"love\", \"good\", \"point\", \"way\", \"care\", \"problem\", \"talk\", \"bit\", \"work\", \"meal\", \"cook\", \"meat\", \"cake\", \"snack\", \"food\", \"pizza\", \"recipe\", \"chicken\", \"vegetarian\", \"sauce\", \"cookie\", \"potato\", \"salad\", \"ingredient\", \"cheese\", \"soup\", \"bread\", \"waitress\", \"pork\", \"dessert\", \"rice\", \"cater\", \"pie\", \"spicy\", \"fruit\", \"sandwich\", \"fridge\", \"waiter\", \"bake\", \"plate\", \"eat\", \"chocolate\", \"vegetable\", \"restaurant\", \"hungry\", \"tip\", \"cooking\", \"dish\", \"order\", \"dinner\", \"table\", \"taste\", \"allergy\", \"lunch\", \"coffee\", \"milk\", \"drink\", \"sweet\", \"breakfast\", \"people\", \"small\", \"lot\", \"point\", \"place\", \"dog\", \"cat\", \"neighbor\", \"parking\", \"vet\", \"truck\", \"pet\", \"porch\", \"driver\", \"bike\", \"driveway\", \"electric\", \"alice\", \"rescue\", \"tow\", \"gate\", \"interior\", \"brake\", \"sticker\", \"invalidate\", \"cage\", \"beloved\", \"dice\", \"retaliation\", \"suffering\", \"bird\", \"homeowner\", \"bolt\", \"cable\", \"speed\", \"plant\", \"yard\", \"neighborhood\", \"car\", \"vehicle\", \"garden\", \"animal\", \"garage\", \"camera\", \"package\", \"drive\", \"park\", \"window\", \"property\", \"police\", \"key\", \"owner\", \"road\", \"spot\", \"accident\", \"door\", \"walk\", \"home\", \"house\", \"open\", \"apartment\", \"old\", \"leave\", \"right\", \"teacher\", \"grade\", \"medication\", \"principal\", \"candy\", \"classmate\", \"class\", \"exam\", \"prescription\", \"tampon\", \"dairy\", \"clinic\", \"constructive\", \"airline\", \"semester\", \"student\", \"shaky\", \"babysitting\", \"tutor\", \"soda\", \"ethic\", \"restroom\", \"usable\", \"perfume\", \"drawing\", \"resident\", \"dismiss\", \"liquor\", \"reliable\", \"vodka\", \"assignment\", \"school\", \"senior\", \"test\", \"nurse\", \"donation\", \"doctor\", \"appointment\", \"drug\", \"medicine\", \"academic\", \"math\", \"high\", \"study\", \"patient\", \"lesson\", \"college\", \"medical\", \"program\", \"dorm\", \"graduate\", \"private\", \"degree\", \"bad\", \"period\", \"pass\", \"leave\", \"email\", \"book\", \"use\", \"day\", \"course\", \"shirt\", \"clothing\", \"jewish\", \"daisy\", \"workout\", \"bacon\", \"hiking\", \"cashier\", \"wrestling\", \"jewellery\", \"breadwinner\", \"nipple\", \"hectic\", \"elevator\", \"disturb\", \"rotate\", \"jean\", \"bikini\", \"interfere\", \"lobster\", \"trunk\", \"lobby\", \"yarn\", \"motorcycle\", \"platinum\", \"category\", \"skate\", \"prone\", \"technical\", \"lotion\", \"wear\", \"outfit\", \"dress\", \"clothe\", \"customer\", \"shoe\", \"woman\", \"female\", \"pool\", \"receipt\", \"store\", \"gym\", \"sexist\", \"item\", \"male\", \"shop\", \"horse\", \"section\", \"size\", \"suit\", \"man\", \"shopping\", \"body\", \"manager\", \"pant\", \"short\", \"uncomfortable\", \"comfortable\", \"inappropriate\", \"cover\", \"nice\", \"girl\", \"small\", \"look\", \"business\"], \"Freq\": [10665.0, 9792.0, 11391.0, 7766.0, 7612.0, 8467.0, 15416.0, 10576.0, 7117.0, 7654.0, 5651.0, 14080.0, 6339.0, 5412.0, 4483.0, 13369.0, 6084.0, 4581.0, 4044.0, 5042.0, 5572.0, 3075.0, 5737.0, 2188.0, 2985.0, 2434.0, 4245.0, 3345.0, 2032.0, 4971.0, 263.3037778823176, 133.28009153519736, 101.07545570952271, 92.81958833860692, 104.39957422255371, 83.2427770503527, 163.7787653155935, 76.17646973523844, 68.62271571926318, 67.76082433697044, 67.33518903088311, 66.68946513714869, 62.18546762675604, 60.428348759400244, 60.148098342803024, 59.784612457272885, 59.12616527304693, 54.28240114635344, 51.56480229668472, 49.353674238973284, 72.51303418019869, 48.68300066215756, 49.284209940460805, 45.409998408109814, 42.16902747730801, 69.75142437351622, 40.74497893548161, 40.71173409967284, 40.47032960611725, 39.49055849233907, 14769.045465038382, 561.3927345057944, 112.50339083552845, 45.81066374956884, 283.5719931563595, 3099.261814807821, 1119.1452828699391, 580.870591413851, 387.1287068482324, 120.93034657651289, 877.0903736227365, 612.5517740322045, 1334.7061097940564, 435.3909465361009, 1153.0259586985355, 229.27999545801202, 1920.6328638356729, 169.8214494320341, 235.80608348694278, 1463.3774361075182, 725.3399448298294, 487.90203511244874, 128.8684899924709, 2332.911392071105, 1043.1819654332699, 1317.4604129079614, 280.9429367804249, 5287.194435086159, 423.2599313014138, 2502.524184947491, 501.209596410272, 1242.045616670719, 743.539956107946, 901.6419704993016, 895.3533929069004, 601.8878447821011, 1452.890199694974, 1142.2501293930568, 2376.268688345722, 3970.5709199340563, 3462.283983047096, 1618.1170945092117, 2276.679694258694, 1256.8283224878048, 2685.2802856329736, 1566.9858542232378, 1527.8224573657321, 2045.0289482074786, 1634.0788342592004, 1699.5973172376096, 1897.1923712305554, 1432.8808040028546, 1420.8039269776552, 2137.7836558771974, 1473.5612605767785, 1365.4130209781295, 1396.054490370514, 1296.3547319947436, 1263.1614653995048, 8466.676995718246, 9788.779001468389, 124.48653839580977, 119.33550272601074, 110.3453210901414, 88.86622478453941, 74.60564450962714, 67.70084839624154, 60.99468498350456, 5478.136042740977, 54.31233901671866, 53.54293989893612, 50.784553067654485, 46.539310874589205, 46.24991332879309, 46.11368369732855, 41.275787817598015, 39.36974397466256, 37.5535625567303, 37.428573785713866, 37.39593983819437, 35.997364085129085, 35.06976212157501, 33.28046709429086, 31.542090765545034, 29.135504549243606, 29.127187601683637, 28.754518520866732, 27.822338207493313, 27.584736713153568, 176.75070239686738, 9205.144760635118, 163.10082421150614, 955.209774648975, 58.068648543194904, 2815.876065214642, 66.01297894731736, 458.6063362956632, 124.68204843627659, 182.67944517942811, 116.73123278262511, 732.3513617166865, 2357.072371065836, 408.7615750255753, 281.29338317651553, 100.4694713791689, 1925.9096626953276, 122.30011762748879, 216.02806648080676, 1084.1289434970183, 96.00779159276685, 1177.9754818165993, 1163.62155835327, 558.5531488458663, 409.35267454421427, 2119.2129851026334, 379.1757735674281, 1456.5933181824596, 672.0031748217898, 203.03639635973525, 937.6993860587306, 1009.4731860211244, 318.7559373779007, 819.1987866936744, 941.4101376920495, 623.2768988619672, 841.0359790690727, 522.5523720369376, 445.7320380898664, 686.8948260980814, 600.3364047533346, 543.2405973549747, 639.8254508196916, 606.6496787862676, 676.6951866069248, 555.5579161180642, 1251.892159416506, 530.4917452925126, 509.53634507053016, 465.390376765259, 309.69529193502115, 219.57720770896495, 164.36262154267467, 153.36330358865422, 149.98944056674839, 151.635998489499, 128.1369966479466, 127.92529428304701, 124.34263988571244, 118.53757615299601, 116.4610703304192, 150.15994325183908, 113.91947493332248, 116.92997566140775, 103.78782197382601, 101.9295289047628, 101.15736272247567, 99.47207683845336, 97.43269924419575, 94.30560158649217, 92.91140153699489, 87.66652625779712, 85.9395555290541, 83.48639127155991, 83.29182047307351, 82.15315153760417, 666.1293259143242, 120.64872537278957, 192.13612294581267, 549.3664436710593, 870.9209493597533, 463.1411522340754, 722.9649529515167, 433.2907385188399, 261.23623378882724, 216.3050981928888, 362.1393373160978, 404.1196868058, 352.2491850258822, 221.54087990813133, 308.76225424677114, 469.9995483280421, 490.87081833180247, 4202.819251953601, 188.69558252994494, 1849.3894799523282, 2569.9589245954658, 318.0261766489177, 1078.1788889655563, 323.72904104858816, 288.1618898397172, 860.6124275647692, 380.5488018819076, 692.9834398095691, 420.4372251723763, 909.4557363211221, 717.1608070983631, 523.6103759843431, 695.2772470623792, 580.330035495046, 661.5999836483829, 527.0739289521092, 488.65657812453037, 540.5172454805601, 509.39525386914767, 438.51821998032074, 436.64818460913506, 413.6299558214959, 248.52913999847252, 624.6589731347334, 136.22880519709082, 104.4225773750115, 103.61273049404811, 103.05037012482666, 102.596402006708, 99.25673434130597, 111.42841219800675, 79.36158931517949, 112.97910652618262, 72.48794054233026, 72.4522420933423, 70.85126818677568, 67.97965374181406, 66.64341878890149, 62.75221034498299, 53.62854139698674, 53.26464869661408, 52.4721059270504, 50.41710706592876, 50.214092482170514, 79.88524407123424, 48.645923533285824, 47.71181153462662, 464.7042109316619, 44.62383111030901, 43.88192960554935, 43.842536788197464, 311.07763822161456, 121.01622298623155, 517.2050812624634, 73.3193387665747, 686.1555425935738, 1325.5773150495443, 235.0131667487924, 2775.3495599629273, 570.9314691681323, 1314.519631345659, 6398.542336665672, 573.5082058473184, 1052.4432270558113, 2552.1087692706055, 3469.8615467838613, 2755.0939634243027, 517.4487545660198, 1046.8026551038665, 1676.9217290042297, 893.6872796364117, 519.12296997127, 527.4851185100621, 1218.246975256041, 807.1972696388884, 1021.7292301983674, 620.249209713187, 471.3285285920616, 820.4578922808128, 725.4331576558886, 672.4831348032136, 650.9403893249035, 579.828913598537, 692.5433380075019, 615.3148563178602, 7607.241041307684, 686.9304198889077, 523.7594267385817, 494.1104612761473, 464.1279419771371, 410.70209241740736, 360.99422153237856, 352.98322477347165, 241.3559142173972, 226.9777566674357, 190.89311757187733, 183.77983360770529, 181.70570979052914, 142.01250100324904, 139.46155462860523, 326.6843805039465, 50.12714133288118, 50.04674688682463, 63.48860948601967, 49.20356385410896, 45.23073516320221, 875.2154214923936, 35.48073154409233, 31.60582691529958, 63.34985067443134, 514.0656623968501, 29.753944817218102, 29.219718906305825, 27.456212140901876, 27.167407938420993, 1658.3290312799384, 5682.270984703903, 535.1254182258966, 919.7015068769315, 225.13735476780133, 299.27367122282953, 282.92078731225894, 288.9873378555354, 205.02523713784294, 159.92198837417916, 400.3340045476384, 168.68084615607128, 739.778434367606, 2646.699106686101, 1079.3930601365796, 530.1598144635211, 1863.533588078593, 998.1626327349422, 418.29415402014837, 324.25244851073575, 1024.7138808080877, 1459.6541053453018, 676.2025215378218, 571.7489041184967, 651.051224871195, 518.2083186881496, 558.0530226486848, 623.3178610945207, 580.1293828710282, 545.3793746945674, 612.1961130723166, 442.87819382233005, 431.8677059710077, 7745.440258474355, 6320.031498050716, 299.8407139903845, 258.66431941018584, 101.23179748549903, 87.44849438254417, 73.97524495536169, 71.14666381643255, 103.12184615242727, 56.10301804638558, 54.223393766979086, 53.9407674075221, 45.76628662173389, 43.445215762829164, 41.30628199250994, 40.18989623931211, 35.691503860065545, 35.12668682124276, 32.63706479324475, 31.968460088724125, 31.796834067469074, 29.806848143188027, 29.616588244106918, 29.231148226276346, 28.90823628519542, 28.144502771658043, 28.105083988121248, 25.723868747206527, 25.558611410844406, 25.322744246093794, 41.74056152045603, 264.86156076566925, 464.0304470832323, 8504.018148231287, 366.12591336248346, 1337.027472684849, 683.052878253181, 825.702660632052, 44.81773122658846, 61.53934298211484, 402.85424687867993, 5628.222827717745, 51.58803560796054, 1379.8299987249156, 372.272405971012, 872.0672706007721, 1003.6691182865827, 345.98236524270965, 651.017042861562, 1105.9010730259836, 117.4784221376498, 1172.465107656432, 314.3788704885786, 218.36419382675984, 548.9574623270282, 356.8595315884117, 610.8289988328992, 444.30777961781536, 370.4200128378275, 328.4955988809925, 284.0419958445288, 413.44046104119326, 403.1071329395574, 375.3666014164141, 384.7988974685561, 340.0823717617848, 5412.021726924471, 845.2410896015508, 665.5458328528871, 446.7809764396036, 299.69160352698077, 283.71979855859234, 267.66521755493966, 227.3522877197335, 205.0929489716638, 189.024145450656, 209.12363007525667, 171.3475741055879, 158.52114364722553, 142.80481905402627, 133.10756387167822, 119.29661368830283, 115.37594793954533, 110.84861882651109, 98.49582936422146, 98.3700576911397, 95.65309755625425, 93.52092566812179, 88.63011855243865, 78.16803806685239, 75.99950607523932, 65.40244701015196, 63.91672298481475, 60.993794715809514, 60.27411811313725, 52.26752162012697, 322.3032407556953, 334.32085781360166, 133.89104905206926, 134.6224096085895, 497.7480809682723, 266.9703647404885, 163.70028892617438, 154.8599855262647, 4039.222750532621, 415.6160452269489, 456.65032080109137, 293.5959342951493, 940.2900910645388, 418.0090698944618, 764.7712347062796, 450.98165517566633, 1093.7459023802319, 591.2942528350211, 462.7988118390169, 614.3823690015644, 492.5630465500726, 335.8389433973153, 289.3247171223771, 456.09510128274974, 544.5968234760895, 548.7700414346983, 453.87871798418746, 299.49278356118566, 373.66624636146787, 334.70081392315166, 360.01164544327344, 302.26094147769214, 108.44491703807321, 85.51731085635735, 84.11480910622397, 79.27568413377982, 66.05182116055319, 59.81838398379563, 59.44804119400947, 50.294454542105605, 48.26582478882609, 47.60642625544745, 42.215203411792956, 40.38162574444104, 36.78889280730856, 36.50269499906088, 35.96481875849492, 34.974808340417695, 34.54685854015196, 33.556111623330416, 33.38639669529163, 32.78964258364108, 32.190568901216984, 31.534944923902984, 31.254386934844142, 31.072369675877823, 29.918834521653604, 29.27614530353671, 29.053492526894686, 28.97142695349574, 26.948102793072717, 26.932756400759022, 6574.198878738346, 108.46079979360289, 6414.885106183678, 254.17866943597795, 399.8182060325577, 275.36199041766946, 279.0827500522859, 97.09052403785238, 60.55407418058038, 196.62388632387365, 856.7972964357471, 763.4836100075541, 48.914488052464165, 1042.3434891354723, 55.024517659732005, 288.75627679870524, 90.920409742264, 1570.6847607839957, 1215.545834793668, 236.52380186242422, 378.66119086471224, 1029.4957488660905, 605.1648792781458, 396.7151767143179, 1599.343784183162, 424.2978232095038, 311.8377311637725, 394.3338841438265, 145.68535962715026, 362.63789216161746, 1145.0317798849444, 461.03060201737424, 566.1536935721969, 478.46663339881155, 463.7214802339561, 410.2540089793475, 417.826368851593, 442.0990298813853, 410.204119194841, 495.60383842016245, 435.60122167710165, 398.27613777037584, 429.3909041565788, 365.84787390620625, 943.7789232766789, 1247.8484893335717, 373.2819941309699, 301.3561335146981, 145.1069430837455, 137.58539045938682, 129.26903562636105, 111.78121321514159, 110.4040125804966, 102.26324012621694, 105.58756817529738, 99.78254734660422, 86.83786148677473, 92.75991250402284, 66.92450050043841, 65.828501730039, 53.50168540887164, 51.28445893716238, 43.54931175128457, 42.805701903529666, 40.67446746937881, 40.570699069973216, 39.68084971121244, 39.4743738555332, 38.8765991733248, 37.437155305075024, 36.90540022048651, 33.425232237933486, 33.392636058561344, 32.76874956269634, 211.74617600779632, 1106.9679430516417, 4515.112814341031, 106.33549598740748, 204.27155713345658, 109.95423946519503, 449.7513325810378, 184.45275363115303, 266.4301823782577, 1133.3329882535509, 973.0577486315179, 252.04420898326737, 331.9273211495399, 1124.8269249178402, 890.9314317251689, 426.95236207863866, 1387.6945047741108, 525.9801114499147, 562.909241926398, 144.94271205459293, 314.89979225474866, 215.59627186099334, 177.5450641867764, 1400.140213498701, 258.57911417164473, 209.39180223353017, 992.0712740391243, 343.58502363685375, 823.7941787404525, 353.4752393814376, 676.1208661548023, 505.22396840012584, 736.7532171261456, 803.8518903606093, 365.5309365077042, 553.9780297429029, 521.4393341986363, 452.38448956597597, 419.7955216394571, 475.00952474819746, 423.7749041710971, 449.93773212822015, 379.4213381723335, 5650.251291236321, 10661.741103677019, 829.2749403815742, 197.34469943192312, 159.97064959106152, 156.5850667453261, 98.53318397875461, 74.96301015864202, 73.82112167465296, 64.32438746986527, 61.725106870243266, 55.62434910208233, 55.37899459794813, 55.363468144068285, 52.861827628531444, 50.34257828765323, 42.74762157495596, 38.09270241409972, 35.55378014283493, 32.106727761748935, 27.359898082729462, 26.87170375110906, 25.75175932193684, 24.995310488910828, 23.65781456345886, 23.623281903388452, 23.45358994009264, 22.688694411715723, 21.471249940983526, 21.07023969230117, 2292.6334034025217, 80.86110203763018, 94.12378676418226, 531.5237324666415, 139.970445911917, 88.94367464543076, 170.38031492876226, 109.68818607954776, 583.8630553448809, 67.07078578660288, 573.4945016215318, 169.53561494964433, 71.2814261250969, 1022.3391730541821, 883.6889871817091, 225.03316467837456, 128.7217918946039, 171.26180347036728, 647.4183475328149, 164.20140734273946, 114.54628563363673, 226.6789444344163, 666.7953132644169, 432.2286136411567, 280.05660348247426, 287.18386687147796, 238.51465671732905, 266.08067608632024, 281.03400288741864, 291.3345081211359, 209.73470002954085, 219.72345842457264, 260.9127415784549, 204.18751818584806, 203.79375513784433, 194.1489655399028, 193.52243963742114, 183.9809040021833, 186.97962850528745, 2031.8622575917345, 451.6319610679094, 290.69522424960144, 208.22043715163804, 169.55597615767135, 161.33165104869195, 114.85919780809564, 104.40923222396962, 101.08736349328224, 71.37419626226871, 69.9065009138441, 65.2706438585021, 63.26216683319454, 62.985257929175745, 62.4075693839529, 59.962587798614166, 55.930014255384464, 55.18571381147744, 52.092678403644456, 51.599542742048065, 50.113179176514556, 48.60923324095232, 48.48962002564151, 47.66063842496395, 46.47518873997133, 62.92632387720975, 43.66142186538902, 41.82415667337446, 477.1124725156921, 40.836056712104366, 290.66911619013564, 200.724178476098, 153.86836155427807, 540.2993221316343, 437.9733889562265, 165.53901017467078, 84.15423455940456, 445.538044065431, 119.05826392615455, 163.55213673330417, 834.6696972493106, 1134.4263034504536, 407.20826261986326, 193.57661990191494, 1835.181224752416, 154.23567617700922, 195.26406206163855, 122.40356786195657, 289.6276337192517, 98.69189534156021, 485.0750010868837, 199.7528942290885, 1195.532908708521, 517.6916995454715, 379.34005696950936, 441.16148371311533, 350.1684291218578, 587.4915726625211, 291.3695472187657, 257.4584474463154, 234.15850785366, 372.98255357141875, 339.67434950855215, 358.17637235224817, 249.06740304718235, 236.4793806974522, 269.0715223066887, 268.80313909210696, 276.1096251087146, 283.7179050192935, 272.46344607262455, 763.635963968146, 561.4480584474326, 205.5508672529008, 174.3879524528894, 168.086232736155, 146.866721590023, 128.75669128296767, 123.13644295416042, 116.72446724987246, 84.51740645191664, 83.70509964665045, 82.4262028437366, 78.68975665930182, 76.85016258661616, 71.22285813879715, 59.87344846791839, 59.60299326043002, 57.47787404745241, 56.56072718373374, 56.516001736705974, 55.62350725758456, 55.163775235201065, 53.969617908344254, 49.720342681162094, 49.55570724287824, 49.70980803858135, 45.95033039548453, 45.70754651274784, 45.67686175183474, 44.482412713349525, 255.91592565681017, 491.0951394244883, 103.53448929954901, 481.0243733728459, 255.15423907506286, 320.49931705310235, 124.10204146816034, 218.12914243042434, 537.579442451787, 198.2881503603052, 100.42261972751515, 562.2531825418482, 582.2358473915016, 387.9438381168262, 142.79497765669768, 360.32656257630356, 248.2280583297803, 246.2546126515977, 407.63747728664663, 743.8210608247942, 317.0057125433306, 806.9486901074674, 682.1177328318156, 637.5940842029933, 484.87087189709365, 213.72350426642063, 383.4000937607451, 364.10419514027427, 398.95402569181334, 332.199705348897, 340.899646906725, 272.1790580924836, 265.10807829964915, 262.6925959365424, 238.99242414232904, 246.12815290868483, 1148.23886900364, 1033.5892809416778, 635.9379629432087, 628.1887887637376, 420.67623829973877, 4473.5092600934995, 281.34658151042305, 264.7882561981764, 257.610492096614, 192.48752137056692, 174.8508512036562, 171.9514248969068, 162.6290340685204, 154.9735758597928, 149.46493179871655, 145.26091269878037, 133.4647740902518, 119.79039157654478, 114.84882564232686, 114.57945120102036, 110.80843419840284, 93.0416553828649, 85.0822797122644, 82.63716677192431, 82.09515284204686, 81.01721008679961, 79.1175959379493, 248.23608568766963, 74.26328557717822, 74.24719623918044, 371.61067351645846, 664.4222996142867, 122.44342208332677, 133.8307381728006, 865.5100090927035, 243.15183343506683, 258.13890434355227, 217.32289697666727, 397.9919551790846, 1089.1404198064545, 1820.7169677286774, 720.1209821584033, 270.11955833246463, 208.67630123479242, 382.6746909521694, 259.39060229878964, 232.40557104249248, 317.90546048640016, 228.277071574358, 202.60290586214973, 368.4471912033555, 235.3579029098424, 243.2644641623769, 237.04178804091367, 233.6447449412277, 3074.8305620691312, 1167.2583851713753, 533.6080152554978, 306.5430343887402, 270.89807305881544, 236.08541759041142, 197.02129190877017, 188.38948973999157, 262.2344981093008, 101.46927712897772, 94.3658145710228, 88.39638452921517, 87.0489186043928, 80.16486529545261, 77.98792158169826, 52.335069434389716, 41.4620812188773, 38.13380866096919, 33.723179440825035, 32.444966455851315, 29.726809572403578, 29.650138065329408, 22.27246927796104, 21.75841585175933, 21.448481638641535, 19.828555511830075, 19.579607249558784, 19.563015890371535, 19.356998999594023, 108.73145603899958, 210.74137867382498, 341.9941128987554, 269.5605340786451, 3392.084368069156, 145.16854000774944, 137.93747809351552, 360.8714728366279, 161.48720741894755, 254.42859150417513, 158.30445354102562, 909.2603234053762, 251.4736901064749, 324.3153638997956, 404.91894112822365, 276.8396814241994, 274.0642847614212, 257.82660679131504, 165.98664631568985, 271.71132836759347, 274.4498699162877, 388.7479073034694, 401.4431497462376, 468.5725431705294, 355.0599066264547, 259.16553931450005, 242.14790351635622, 250.65013897401147, 232.3814130464822, 221.29331917067705, 1283.6954522125493, 581.1545229892984, 254.0012688696775, 223.63934699846632, 211.3574005424773, 174.17564647861204, 1422.9454863959925, 101.13885736867596, 97.66378336608578, 90.49089607153087, 80.63441021928635, 79.96722421506915, 67.17077178441848, 64.7069244102075, 90.6106352790154, 966.033396956547, 59.51296219671594, 57.425247130731584, 50.48303157933253, 47.62250777314522, 47.59805833113821, 46.62837855643915, 44.67627118836269, 42.74798626165561, 38.94862394641936, 37.80183261446169, 34.452839482948136, 32.39297041099639, 31.935252779800596, 28.633712847973722, 109.49573683873467, 3420.782253846089, 183.50938577638595, 670.5185806805915, 261.686447930928, 109.14570567133765, 668.2084666970073, 376.599169318531, 251.51527941580602, 94.63828673498449, 63.91637334338985, 92.91575475466324, 626.8900562206047, 237.23568743114424, 123.70130691954753, 135.28323403507193, 472.1559009189677, 221.75507751652128, 111.32595528285471, 103.95518658706189, 136.5806739145192, 171.06119457990374, 145.19169286588527, 304.69066606459035, 152.79790567540155, 137.9396530108352, 178.79332344890048, 140.515314304471, 141.68539064868006, 167.02394105702686, 175.0649125258191, 142.78097215141642, 302.65436593385846, 246.18546031274627, 165.18473833029225, 156.7831113379339, 87.45976386953944, 77.09123312105957, 63.50290360398985, 54.03927801657019, 51.833275117573166, 49.052674354539924, 47.327145393842585, 44.80900811862593, 44.24805829722966, 43.29946941621368, 43.04541850201229, 41.15423965373107, 39.75752927284203, 36.69792176204524, 35.25492607648033, 33.739241644023885, 33.50134639475472, 33.078312863107925, 32.833523120697926, 30.276370883657492, 28.448766426769872, 28.14880605760386, 27.8406092943748, 24.324633612501366, 24.040460399370996, 20.763917133359243, 1010.5712669951312, 160.95451459420735, 1995.514469728921, 371.35126002336693, 244.6624703015273, 173.78825534411192, 1343.3657964645536, 304.9398845373928, 183.14425871577444, 139.8562732700351, 494.75286817057076, 110.61689229401111, 150.57234754839104, 267.184841417555, 185.3694534406524, 257.1719232224397, 82.18171224703792, 123.7012308388949, 193.6776935250674, 109.96898611832495, 476.26092143318556, 157.91228132357853, 284.0881184066795, 215.76019128058857, 95.40168555647085, 247.07638856266917, 279.7869412922917, 236.65341833257472, 147.0745844277212, 178.6626737399843, 234.7360210306076, 267.56468453199204, 195.47679213041704, 183.70960715332274, 171.19227313377746], \"Total\": [10665.0, 9792.0, 11391.0, 7766.0, 7612.0, 8467.0, 15416.0, 10576.0, 7117.0, 7654.0, 5651.0, 14080.0, 6339.0, 5412.0, 4483.0, 13369.0, 6084.0, 4581.0, 4044.0, 5042.0, 5572.0, 3075.0, 5737.0, 2188.0, 2985.0, 2434.0, 4245.0, 3345.0, 2032.0, 4971.0, 264.2582487510321, 134.2059101362271, 102.02033732678773, 93.74540811701559, 105.52933159760332, 84.16864273049669, 165.6134765412272, 77.102288363862, 69.54853543268825, 68.68664384245925, 68.26100962537546, 67.61897517553803, 63.11245629505249, 61.354167464245194, 61.073922209504545, 60.7104330305097, 60.05198430172537, 55.208220123651536, 52.49062069254955, 50.279494623526716, 73.87531402260934, 49.637126467080805, 50.297196243085324, 46.36041364235363, 43.09484659480296, 71.30546484480038, 41.670806146355865, 41.63755579181075, 41.39614857535823, 40.416376832616635, 15416.317326829949, 581.6169060631914, 116.60787875188988, 46.93705225371208, 302.7450849334494, 3565.1090122340847, 1247.7318055096766, 637.2980779449474, 428.1754683853541, 127.56000933338467, 1007.0086490953823, 698.4737152481213, 1585.7457899786334, 489.02464181047395, 1391.009633820258, 251.64500184886586, 2422.326039102765, 183.55855271158973, 260.7404795287729, 1856.6129060852063, 873.9865248644621, 580.5433077675802, 137.58898558934817, 3226.165735144562, 1363.8544146112042, 1781.4454880981211, 323.9784686686936, 8998.309539234868, 520.245529995093, 3958.019366687575, 633.1379874757611, 1808.5726183018323, 1004.1773836443181, 1259.2121087712012, 1301.7241168831717, 812.966631648725, 2495.4364607926764, 1875.75434181208, 4995.268750850383, 9951.39480140851, 8351.460974808631, 3058.971333452142, 4971.700066545791, 2191.673145914605, 6768.794999776216, 3448.590603398115, 3338.2443567134987, 6022.794307263146, 4197.454892931845, 4531.99910300012, 5660.529263005197, 3406.267760291001, 3345.425032503885, 9372.84480108163, 4624.1184331521445, 3777.054444965468, 6391.73788222494, 7696.319629231742, 3865.273696878864, 8467.610063933185, 9792.891312718537, 125.41959931501323, 120.26856339420367, 111.27838337033738, 89.7992902705984, 75.53870520526614, 68.63391009738955, 61.92775463904277, 5572.110065684581, 55.24659587070772, 54.476001672813396, 51.71779739781001, 47.472372267185996, 47.18297465047744, 47.04674518863001, 42.20884884436952, 40.30280869658534, 38.48662885064452, 38.36163526731125, 38.32900256702756, 36.93042817374513, 36.00282388682357, 34.21353157603551, 32.47521918530484, 30.0685663189323, 30.060248985620046, 29.68757976811227, 28.758904413579184, 28.51779980573546, 186.06664809220487, 10576.975245341946, 185.67249331859648, 1254.1565552600325, 62.99595947992501, 4245.379350871957, 72.38536924366073, 614.196183964722, 147.62260262050572, 230.47125466519876, 140.27949280584505, 1225.0009753369964, 4880.153793035554, 665.5554028613407, 467.2776099514812, 127.4932184189301, 6515.757114200638, 170.7474468019539, 369.0682962473339, 3522.6477212960813, 123.63902592020581, 4486.365517222467, 4624.141169585174, 1643.3851907236763, 1098.9242196225155, 14080.788724280934, 994.0251585486955, 8998.309539234868, 2635.3944489161217, 375.97885828026716, 5778.383807877678, 7696.319629231742, 884.301232370691, 6022.794307263146, 8351.460974808631, 3573.869256403377, 6768.794999776216, 2681.918774819522, 2045.7436893953663, 6391.73788222494, 4624.1184331521445, 3660.554919312299, 7273.1803922199115, 6223.868162173846, 11391.08358250396, 5660.529263005197, 1252.8231766080942, 531.4207389436343, 510.46401260737844, 466.3181099924397, 310.62295958335454, 220.50487597087798, 165.2902902527652, 154.29098241001395, 150.917109201073, 152.71943449964724, 129.06466408746024, 128.85296149271778, 125.27030759713111, 119.46524339362871, 117.38873797034616, 151.3602132869479, 114.84714245967115, 117.91145108771907, 104.71548929278785, 102.85719704817934, 102.08503007276224, 100.39974602831869, 98.3605033558539, 95.23326896360453, 93.83907467050294, 88.59419493136804, 86.8672230788903, 84.41405867022796, 84.21948792312185, 83.08085745896925, 677.5885410016278, 122.06741321974486, 195.43125760415788, 578.2316207555667, 964.2907691143565, 505.33662831971316, 865.5369485278629, 507.92311572064926, 291.63926301202497, 241.8496816056305, 453.03630326427333, 516.3253169315614, 452.26808000618865, 258.7455919846079, 406.0207832876332, 701.4434523453521, 746.8792022328556, 13369.528502342695, 217.85029012441743, 5737.989228218201, 9951.39480140851, 491.5794230461537, 3921.341637895237, 532.0728362913843, 447.5197314903843, 3345.425032503885, 764.1475513532287, 3174.9752548999895, 1090.7225866479223, 6391.73788222494, 5020.42360945743, 2832.8945328390037, 8351.460974808631, 4306.759486533811, 7273.1803922199115, 3462.403609783804, 4267.550890775515, 8998.309539234868, 9372.84480108163, 4531.99910300012, 5660.529263005197, 414.563102777776, 249.46228635507148, 628.7073019948193, 137.16196861687965, 105.35572383307564, 104.54587875798182, 103.98351838146723, 103.52954857531618, 100.18988125501095, 112.65896064103902, 80.29473619528297, 114.3282982793315, 73.4210871531628, 73.38538836961317, 71.78445962438084, 68.91280201916317, 67.57656531661868, 63.68535926897664, 54.561687902909306, 54.19779567261567, 53.405260524392034, 51.35025419005155, 51.15789560641563, 81.41115327427555, 49.57907007259221, 48.6449581903608, 474.3363269281957, 45.55697776695589, 44.81507639232117, 44.77568381254222, 327.6709309866364, 126.0006334191138, 563.5895454168985, 76.00748790455646, 784.0823991405667, 1577.0956763962502, 266.049315459249, 3833.3602726223785, 710.6555671610771, 2041.2860896186924, 13369.528502342695, 852.234383348072, 1830.0203483709297, 6223.868162173846, 9372.84480108163, 7273.1803922199115, 897.7218861116916, 2506.939296822329, 4971.700066545791, 2299.2619481682227, 1153.8149929600193, 1414.8915333228567, 5778.383807877678, 3573.869256403377, 5737.989228218201, 2365.463612743691, 1456.8383183158842, 4624.1184331521445, 3653.7864849153734, 3345.425032503885, 3681.1002099595594, 2832.173536179346, 7696.319629231742, 6768.794999776216, 7612.86227045134, 687.8742723070806, 524.6966675388544, 495.0477015928396, 465.0651823684019, 411.63933259305, 361.9314616723919, 353.9204693404607, 242.29315442428867, 227.91500001582057, 191.83035912071148, 184.717077616902, 182.64295000898346, 142.94974163168453, 140.39879498652812, 330.8885331643744, 51.06438331850974, 50.98398721868775, 64.69089117980405, 50.14080905047755, 46.16797575218742, 893.9785205646762, 36.41799696847794, 32.54306972968669, 65.27479112665632, 529.8567614691756, 30.691185875393444, 30.156960498999048, 28.393454506966734, 28.10465021313819, 1747.4924899927948, 6084.420410722279, 569.7857630591391, 996.760921398751, 247.44180149484487, 333.3922267322338, 324.5610911308322, 338.37936699510817, 233.07143872684236, 180.7822184157516, 530.0761677298706, 200.7213205782236, 1157.0697913046458, 5737.989228218201, 2136.5272820942473, 924.0348769504236, 7696.319629231742, 3624.4825782635826, 825.5690155956975, 523.1096166786078, 5778.383807877678, 13369.528502342695, 3073.896896266535, 2329.5377990931947, 4044.0237996393885, 2056.3160597372193, 2832.173536179346, 5020.42360945743, 3921.341637895237, 3653.7864849153734, 8351.460974808631, 6391.73788222494, 6223.868162173846, 7766.770669743983, 6339.204388686242, 300.77710936177175, 259.6825781427993, 102.16806155985611, 88.38475913384816, 74.91150919687226, 72.0829282957282, 104.63362114733332, 57.039282788485444, 55.159658894578286, 54.87703197170192, 46.70255380003806, 44.38148069548523, 42.24254678261408, 41.126160000446, 36.627768730823625, 36.06295346080797, 33.573330490037165, 32.90472700059871, 32.733098143550976, 30.74311243638111, 30.552856346501372, 30.16741269555349, 29.844501275421926, 29.080768535944618, 29.041349441999497, 26.660153849391232, 26.494875847734242, 26.259013809519455, 43.466225161920484, 295.419327693417, 539.2545598857932, 11391.08358250396, 445.5433571660188, 1785.6202224332114, 920.6517200669579, 1163.1009188206053, 48.09662257570336, 68.61310668885997, 607.1621653596221, 14080.788724280934, 58.23309222935545, 4245.379350871957, 794.1285689419711, 2495.4364607926764, 4880.153793035554, 1008.5972354972879, 2635.3944489161217, 6515.757114200638, 215.4486517788294, 10576.975245341946, 1206.7832118330195, 667.643632235111, 3573.869256403377, 1643.3851907236763, 5778.383807877678, 4624.141169585174, 3073.896896266535, 3097.916494791498, 2056.3160597372193, 6768.794999776216, 6391.73788222494, 6022.794307263146, 7273.1803922199115, 7696.319629231742, 5412.959229509487, 846.178589803084, 666.4833332308256, 447.71847657112994, 300.62924951054214, 284.657298785354, 268.60271802576136, 228.28978793833002, 206.03430713216318, 189.96165098484698, 210.17985050961016, 172.28507467149194, 159.45864378089482, 143.74232038813008, 134.04506439272387, 120.2341136903562, 116.31345323287789, 111.78611939511431, 99.43332951509772, 99.30755802874951, 96.5906021838585, 94.45842583798299, 89.56761852847163, 79.10553900278228, 76.93700691018046, 66.33994708005845, 64.85422342344845, 61.93129672819796, 61.21161828980775, 53.205069114648126, 349.36789176142867, 368.35734027905113, 140.9094739675756, 148.91767598025388, 664.3519634706179, 328.361498342532, 189.71392187852916, 182.1288695847923, 14080.788724280934, 849.4337723480286, 1097.9243064026946, 549.7470277177713, 3653.7864849153734, 1008.5972354972879, 3226.165735144562, 1563.511952958925, 9372.84480108163, 3522.6477212960813, 2128.9234261518304, 4486.365517222467, 2681.918774819522, 1163.1009188206053, 849.4238829177003, 3559.9526475377033, 8351.460974808631, 9951.39480140851, 6391.73788222494, 1098.9242196225155, 7696.319629231742, 3097.916494791498, 6768.794999776216, 8998.309539234868, 109.37691925716007, 86.44931337496715, 85.04681181647778, 80.20768723576508, 66.98382349325342, 60.750386516893116, 60.38004355087148, 51.249441490712464, 49.197827776926076, 48.53843070249559, 43.14721054983022, 41.31362872860981, 37.720895526220566, 37.434698894731774, 36.89683830404208, 35.90681106658954, 35.47886084534965, 34.48811398549084, 34.318401177825095, 33.72174677335145, 33.12257137154489, 32.466947241057674, 32.18638901564481, 32.004372604488076, 30.850836775138816, 30.208148352683818, 29.985495782533043, 29.903430011430267, 27.880106001979343, 27.864758785762174, 7117.382897826355, 115.26557940308822, 7654.500872123587, 294.91220929295804, 483.80596315204855, 333.3017866732076, 339.3972052482154, 111.16252900781672, 66.34150961365769, 248.22643851190014, 1442.3920255874511, 1574.5950270391065, 54.90761925059389, 2635.3944489161217, 64.25494987980234, 564.1282124836588, 123.54575783018855, 6515.757114200638, 4624.141169585174, 484.3157814753596, 1065.4028340648988, 4880.153793035554, 2329.5377990931947, 1255.9811668863408, 11391.08358250396, 1450.114395032782, 934.4128864462853, 1477.3500038052362, 289.5126995158481, 1531.8235864101216, 14080.788724280934, 2732.6879985346745, 4486.365517222467, 3573.869256403377, 3522.6477212960813, 2734.523096291334, 3073.896896266535, 3865.273696878864, 3653.7864849153734, 8351.460974808631, 5660.529263005197, 3462.403609783804, 9951.39480140851, 3209.206444834702, 944.7136931237216, 1250.7692635764129, 374.2148517137202, 302.28901409068055, 146.0398236798839, 138.5182481813906, 130.20191970356873, 112.71407097479774, 111.33687210261856, 103.19609833550498, 106.56037291811921, 100.71540510996404, 87.77072032950315, 93.96225837389473, 67.85735854167798, 66.7613609771181, 54.43454450419783, 52.2173165680171, 44.48217337367626, 43.73855998153997, 41.60732602963045, 41.50748074933652, 40.61370787812312, 40.40731656960153, 39.80945724616975, 38.3700129497513, 37.838258109364126, 34.35809339724349, 34.32549389455332, 33.70160903495893, 221.26499016416207, 1191.070306186158, 5042.680158467294, 114.58975494595559, 228.79014485670874, 119.43563539292346, 550.0495233397855, 210.96888648121433, 321.9039684433423, 1591.3376540045122, 1392.9607649680956, 314.78475017673827, 436.41921021945285, 1776.6352968367203, 1456.8383183158842, 610.9808954110472, 2506.939296822329, 796.4288214928721, 948.8068365042241, 170.81499388490653, 511.5685156982318, 299.69764340274406, 229.64976860083357, 5020.42360945743, 406.52520338978445, 302.72110392393796, 3624.4825782635826, 690.5272186083298, 3073.896896266535, 849.4337723480286, 3438.015603984542, 1968.0033769457084, 4971.700066545791, 6223.868162173846, 1062.6013206633152, 4306.759486533811, 3676.0114418169837, 2452.457535339258, 2016.4037317249417, 4624.1184331521445, 3209.206444834702, 6515.757114200638, 3559.9526475377033, 5651.18633395156, 10665.854715104864, 830.2086653904661, 198.27852782549476, 160.90437454172857, 157.52137238096395, 99.46692909657443, 75.9049635862696, 74.75484674377, 65.25811255653579, 62.65883334433414, 56.5580745363237, 56.312720640112886, 56.29813705918532, 53.7955527126865, 51.27630549897751, 43.68141503763065, 39.02642817887261, 36.48750550941302, 33.04045360831271, 28.293625658262076, 27.805430861620426, 26.68548560535445, 25.929036424070368, 24.59154067221917, 24.557008673030676, 24.3873148235685, 23.622419298366346, 22.404979000832444, 22.003964902921435, 2434.0599257995386, 85.70786128439762, 100.75132047154001, 610.3680262659807, 167.13390225401923, 102.96821496819854, 210.41602787375166, 133.43474041511618, 858.4780943873538, 83.49639779625129, 1300.4456613544603, 321.62416957648344, 97.05312733018269, 7696.319629231742, 7654.500872123587, 741.0762844849035, 288.89879496928614, 511.5685156982318, 7273.1803922199115, 500.93629555589735, 254.8697231021356, 1092.331315415385, 14080.788724280934, 5778.383807877678, 2985.019045199113, 3653.7864849153734, 2329.5377990931947, 3865.273696878864, 4880.153793035554, 8998.309539234868, 2734.523096291334, 3448.590603398115, 9372.84480108163, 3660.554919312299, 4306.759486533811, 2832.173536179346, 8351.460974808631, 3777.054444965468, 6768.794999776216, 2032.7855341887848, 452.5887910258995, 291.61959644402344, 209.14371396088274, 170.48018227178693, 162.25492772381563, 115.78494987258671, 105.33251327052908, 102.01064141771029, 72.2975249814817, 70.82977748133739, 66.19392076388938, 64.18544421080938, 63.90853447836786, 63.33084696554654, 60.88586471682333, 56.85329210268262, 56.10899084926686, 53.01595537606042, 52.52281964423517, 51.03645590878967, 49.532620525195505, 49.412900336888406, 48.58391533986074, 47.39846532089699, 64.18815788110255, 44.584699417238504, 42.74743317635467, 488.15898112794014, 41.782826988448676, 299.19370565122557, 207.22606197075308, 165.4893773943303, 621.2474058006542, 508.0705615904658, 182.6060264369899, 89.6028470946241, 549.061298563438, 134.03046719676374, 194.23051449066537, 1246.843438711891, 1845.8650125155175, 595.3716226365461, 246.5205780634432, 4267.550890775515, 202.95373289535846, 284.908815632759, 157.48020943720698, 586.54226245426, 119.39710599643979, 1449.400060596624, 368.42500140371504, 9951.39480140851, 2238.3963700658705, 1284.7411684608662, 2219.874738772248, 1467.646821607693, 5020.42360945743, 961.6297459376397, 789.7677259673582, 631.8637054567525, 3681.1002099595594, 2734.523096291334, 3958.019366687575, 924.0348769504236, 969.9593596213704, 2732.6879985346745, 2985.019045199113, 4486.365517222467, 6391.73788222494, 4995.268750850383, 764.5609629911876, 562.8247494198641, 206.47586705199177, 175.3129646913276, 169.01123784287412, 147.79172012139426, 129.68169005097153, 124.06144217401905, 117.64946582756284, 85.44240568587595, 84.63009837213998, 83.35120136670704, 79.61475645855445, 77.77516206532168, 72.14785681598539, 60.798447268759475, 60.52799180563165, 58.40287577714935, 57.48572566712161, 57.44100080834606, 56.54850605426483, 56.0887747107275, 54.894617373974526, 50.64534137769794, 50.480706555049736, 50.64289343697078, 46.87532976646262, 46.63254495796959, 46.60186383868444, 45.407413094832904, 262.5470962422029, 520.9326424055184, 106.75714132126907, 519.1362230133789, 281.4774753131057, 379.2103520665905, 135.95331603573575, 261.3939127275424, 736.0756623089098, 237.62224796050717, 115.7209981338799, 948.8942046668533, 994.0251585486955, 611.9595916941678, 180.95686729967784, 597.8897078520151, 372.766060394439, 515.0639519206597, 1203.5407073690897, 4306.759486533811, 984.9554066528227, 6022.794307263146, 6391.73788222494, 5778.383807877678, 4267.550890775515, 559.4168368002986, 4624.141169585174, 4486.365517222467, 8351.460974808631, 4531.99910300012, 5660.529263005197, 3573.869256403377, 3209.206444834702, 8998.309539234868, 3058.971333452142, 13369.528502342695, 1149.171859606299, 1034.522264420813, 636.8709461616619, 629.1642027865009, 421.6092332815889, 4483.7306891187545, 282.27956480337065, 265.72124038883965, 258.5434753809719, 193.42050459688465, 175.78383441757913, 172.88440845313886, 163.56201732934696, 155.90655911869104, 150.39791511422553, 146.19389600067404, 134.3977578104299, 120.72337489035432, 115.78180910130789, 115.51243445320911, 111.74141757351843, 93.97463864853441, 86.01526402362951, 83.5701501104616, 83.02813600821842, 81.95019346184989, 80.05057926695713, 251.1791132243538, 75.19626915233873, 75.1802078879061, 382.5409244447917, 716.485991522363, 126.29130348022213, 138.75006569016523, 1018.8529302944116, 270.17157847294015, 294.57511574533936, 243.6572055938376, 482.7935593682793, 1676.6753445682214, 3345.1830171302086, 1106.3929454642407, 371.08874531538464, 268.7276451599014, 894.9101085089956, 473.07423143849496, 390.35584712782736, 1363.8544146112042, 555.7839086331868, 375.6151409169291, 9951.39480140851, 2452.457535339258, 6391.73788222494, 4531.99910300012, 3676.0114418169837, 3075.763399329087, 1168.1912223661202, 534.5408530879854, 307.47587161290403, 271.83091051587076, 237.01825501565025, 197.9541298513421, 189.32232698022682, 263.67258788079585, 102.40261511019425, 95.29865179149925, 89.32922241594298, 87.98175590039322, 81.09770311749132, 78.92075891689437, 53.26790684411424, 42.395905913681695, 39.066645925722945, 34.65601721608496, 33.37780512229862, 30.659646822867245, 30.582976545651277, 23.205308405123542, 22.69125431124789, 22.381327859805555, 20.76139267353385, 20.512444943611992, 20.495853492293065, 20.289836304124513, 114.03280174385107, 221.87147760323788, 363.3654250498646, 291.5217732816115, 4044.0237996393885, 162.61975067410356, 159.10712998010104, 453.4868853796611, 200.1392815922795, 339.5342636839377, 201.34694833061545, 1495.7189853303767, 343.06622044655035, 499.1221525820632, 705.5203565742594, 457.47307203690355, 455.83118646600076, 435.7252729244666, 233.6519285031414, 601.5498543620055, 667.2888576497866, 1392.9607649680956, 1793.5344543752733, 6223.868162173846, 3624.4825782635826, 2016.4037317249417, 1776.6352968367203, 6515.757114200638, 4624.1184331521445, 3660.554919312299, 1284.6263078887353, 582.0881839294118, 254.9321562577012, 224.57020220984307, 212.28825541035204, 175.10866792373702, 1432.1304138778382, 102.06971252330482, 98.59463837144646, 91.4217510478514, 81.56526602392287, 80.89807908086472, 68.10570301083473, 65.63788281517166, 91.99729813261838, 980.8613385019511, 60.44381922680945, 58.35610293111519, 51.413886730378266, 48.55336282564749, 48.528914356014624, 47.559233677222615, 45.60712849821994, 43.67884133457382, 39.879478987315146, 38.732687936524464, 35.38369486327965, 33.32382545608091, 32.866109019133816, 29.56456787224055, 116.38167442503476, 4581.431608301409, 208.1937924952006, 843.3051023140353, 336.83898601957065, 126.97242618783804, 1092.331315415385, 583.5179542592056, 361.5232174683041, 122.01567252767246, 72.1371175640277, 120.61389683901557, 1747.5883120306153, 472.9911456469264, 183.91761143559802, 220.92732585771557, 2136.5272820942473, 571.5522376825862, 173.21218395304692, 152.0346485005714, 302.66374991665487, 771.2464697611093, 465.4378577587158, 6022.794307263146, 621.0876974606367, 764.4778612326156, 4624.1184331521445, 865.5369485278629, 961.6297459376397, 5020.42360945743, 9372.84480108163, 1343.5076464646872, 303.5815239571692, 247.11258777452758, 166.11186125871873, 157.71023461557934, 88.3868870262624, 78.01835699047524, 64.43002698197715, 54.966400803567296, 52.76039809264501, 49.9797975723342, 48.25426919262311, 45.736131147039806, 45.17518202676273, 44.226592807372484, 43.97254404522444, 42.08136526706305, 40.68465291592435, 37.6250445429233, 36.182851560530295, 34.66636472338452, 34.42847123935049, 34.00543634921526, 33.76064659508093, 31.20349414051813, 29.37588991905887, 29.07592941424433, 28.767733968829884, 25.251759438857317, 24.96758399333499, 21.691056708761224, 1075.802185202159, 168.40907555991498, 2188.30669699258, 443.8682548610715, 328.363263202309, 244.30167896621288, 2985.019045199113, 514.2257706574034, 275.5806437020712, 197.7582362607378, 979.0122768726087, 150.7596383596066, 225.7248454494591, 480.0173611008193, 303.358783217691, 488.72582538932045, 107.98538004545985, 201.77079216650367, 427.3689301963166, 179.20936107499537, 2023.5638027856166, 343.94290205008207, 948.8942046668533, 701.4434523453521, 148.33634156697786, 1284.7411684608662, 1808.5726183018323, 1387.4857725513996, 438.00705824136116, 825.5690155956975, 2247.8112368080488, 3958.019366687575, 2452.457535339258, 1995.6594022609343, 1329.3156082647001], \"Category\": [\"Default\", \"Default\", \"Default\", \"Default\", \"Default\", \"Default\", \"Default\", \"Default\", \"Default\", \"Default\", \"Default\", \"Default\", \"Default\", \"Default\", \"Default\", \"Default\", \"Default\", \"Default\", \"Default\", \"Default\", \"Default\", \"Default\", \"Default\", \"Default\", \"Default\", \"Default\", \"Default\", \"Default\", \"Default\", \"Default\", \"Topic1\", \"Topic1\", \"Topic1\", \"Topic1\", \"Topic1\", \"Topic1\", \"Topic1\", \"Topic1\", \"Topic1\", \"Topic1\", \"Topic1\", \"Topic1\", \"Topic1\", \"Topic1\", \"Topic1\", \"Topic1\", \"Topic1\", \"Topic1\", \"Topic1\", \"Topic1\", \"Topic1\", \"Topic1\", \"Topic1\", \"Topic1\", \"Topic1\", \"Topic1\", \"Topic1\", \"Topic1\", \"Topic1\", \"Topic1\", \"Topic1\", \"Topic1\", \"Topic1\", \"Topic1\", \"Topic1\", \"Topic1\", \"Topic1\", \"Topic1\", \"Topic1\", \"Topic1\", \"Topic1\", \"Topic1\", \"Topic1\", \"Topic1\", \"Topic1\", \"Topic1\", \"Topic1\", \"Topic1\", \"Topic1\", \"Topic1\", \"Topic1\", \"Topic1\", \"Topic1\", \"Topic1\", \"Topic1\", \"Topic1\", \"Topic1\", \"Topic1\", \"Topic1\", \"Topic1\", \"Topic1\", \"Topic1\", \"Topic1\", \"Topic1\", \"Topic1\", \"Topic1\", \"Topic1\", \"Topic1\", \"Topic1\", \"Topic1\", \"Topic1\", \"Topic1\", \"Topic1\", \"Topic1\", \"Topic1\", \"Topic1\", \"Topic1\", \"Topic1\", \"Topic1\", \"Topic1\", \"Topic1\", \"Topic1\", \"Topic1\", \"Topic1\", \"Topic1\", \"Topic1\", \"Topic1\", \"Topic1\", \"Topic1\", \"Topic2\", \"Topic2\", \"Topic2\", \"Topic2\", \"Topic2\", \"Topic2\", \"Topic2\", \"Topic2\", \"Topic2\", \"Topic2\", \"Topic2\", \"Topic2\", \"Topic2\", \"Topic2\", \"Topic2\", \"Topic2\", \"Topic2\", \"Topic2\", \"Topic2\", \"Topic2\", \"Topic2\", \"Topic2\", \"Topic2\", \"Topic2\", \"Topic2\", \"Topic2\", \"Topic2\", \"Topic2\", \"Topic2\", \"Topic2\", \"Topic2\", \"Topic2\", \"Topic2\", \"Topic2\", \"Topic2\", \"Topic2\", \"Topic2\", \"Topic2\", \"Topic2\", \"Topic2\", \"Topic2\", \"Topic2\", \"Topic2\", \"Topic2\", \"Topic2\", \"Topic2\", \"Topic2\", \"Topic2\", \"Topic2\", \"Topic2\", \"Topic2\", \"Topic2\", \"Topic2\", \"Topic2\", \"Topic2\", \"Topic2\", \"Topic2\", \"Topic2\", \"Topic2\", \"Topic2\", \"Topic2\", \"Topic2\", \"Topic2\", \"Topic2\", \"Topic2\", \"Topic2\", \"Topic2\", \"Topic2\", \"Topic2\", \"Topic2\", \"Topic2\", \"Topic2\", \"Topic2\", \"Topic2\", \"Topic2\", \"Topic2\", \"Topic3\", \"Topic3\", \"Topic3\", \"Topic3\", \"Topic3\", \"Topic3\", \"Topic3\", \"Topic3\", \"Topic3\", \"Topic3\", \"Topic3\", \"Topic3\", \"Topic3\", \"Topic3\", \"Topic3\", \"Topic3\", \"Topic3\", \"Topic3\", \"Topic3\", \"Topic3\", \"Topic3\", \"Topic3\", \"Topic3\", \"Topic3\", \"Topic3\", \"Topic3\", \"Topic3\", \"Topic3\", \"Topic3\", \"Topic3\", \"Topic3\", \"Topic3\", \"Topic3\", \"Topic3\", \"Topic3\", \"Topic3\", \"Topic3\", \"Topic3\", \"Topic3\", \"Topic3\", \"Topic3\", \"Topic3\", \"Topic3\", \"Topic3\", \"Topic3\", \"Topic3\", \"Topic3\", \"Topic3\", \"Topic3\", \"Topic3\", \"Topic3\", \"Topic3\", \"Topic3\", \"Topic3\", \"Topic3\", \"Topic3\", \"Topic3\", \"Topic3\", \"Topic3\", \"Topic3\", \"Topic3\", \"Topic3\", \"Topic3\", \"Topic3\", \"Topic3\", \"Topic3\", \"Topic3\", \"Topic3\", \"Topic3\", \"Topic3\", \"Topic3\", \"Topic4\", \"Topic4\", \"Topic4\", \"Topic4\", \"Topic4\", \"Topic4\", \"Topic4\", \"Topic4\", \"Topic4\", \"Topic4\", \"Topic4\", \"Topic4\", \"Topic4\", \"Topic4\", \"Topic4\", \"Topic4\", \"Topic4\", \"Topic4\", \"Topic4\", \"Topic4\", \"Topic4\", \"Topic4\", \"Topic4\", \"Topic4\", \"Topic4\", \"Topic4\", \"Topic4\", \"Topic4\", \"Topic4\", \"Topic4\", \"Topic4\", \"Topic4\", \"Topic4\", \"Topic4\", \"Topic4\", \"Topic4\", \"Topic4\", \"Topic4\", \"Topic4\", \"Topic4\", \"Topic4\", \"Topic4\", \"Topic4\", \"Topic4\", \"Topic4\", \"Topic4\", \"Topic4\", \"Topic4\", \"Topic4\", \"Topic4\", \"Topic4\", \"Topic4\", \"Topic4\", \"Topic4\", \"Topic4\", \"Topic4\", \"Topic4\", \"Topic4\", \"Topic4\", \"Topic4\", \"Topic4\", \"Topic4\", \"Topic4\", \"Topic4\", \"Topic5\", \"Topic5\", \"Topic5\", \"Topic5\", \"Topic5\", \"Topic5\", \"Topic5\", \"Topic5\", \"Topic5\", \"Topic5\", \"Topic5\", \"Topic5\", \"Topic5\", \"Topic5\", \"Topic5\", \"Topic5\", \"Topic5\", \"Topic5\", \"Topic5\", \"Topic5\", \"Topic5\", \"Topic5\", \"Topic5\", \"Topic5\", \"Topic5\", \"Topic5\", \"Topic5\", \"Topic5\", \"Topic5\", \"Topic5\", \"Topic5\", \"Topic5\", \"Topic5\", \"Topic5\", \"Topic5\", \"Topic5\", \"Topic5\", \"Topic5\", \"Topic5\", \"Topic5\", \"Topic5\", \"Topic5\", \"Topic5\", \"Topic5\", \"Topic5\", \"Topic5\", \"Topic5\", \"Topic5\", \"Topic5\", \"Topic5\", \"Topic5\", \"Topic5\", \"Topic5\", \"Topic5\", \"Topic5\", \"Topic5\", \"Topic5\", \"Topic5\", \"Topic5\", \"Topic5\", \"Topic5\", \"Topic5\", \"Topic5\", \"Topic6\", \"Topic6\", \"Topic6\", \"Topic6\", \"Topic6\", \"Topic6\", \"Topic6\", \"Topic6\", \"Topic6\", \"Topic6\", \"Topic6\", \"Topic6\", \"Topic6\", \"Topic6\", \"Topic6\", \"Topic6\", \"Topic6\", \"Topic6\", \"Topic6\", \"Topic6\", \"Topic6\", \"Topic6\", \"Topic6\", \"Topic6\", \"Topic6\", \"Topic6\", \"Topic6\", \"Topic6\", \"Topic6\", \"Topic6\", \"Topic6\", \"Topic6\", \"Topic6\", \"Topic6\", \"Topic6\", \"Topic6\", \"Topic6\", \"Topic6\", \"Topic6\", \"Topic6\", \"Topic6\", \"Topic6\", \"Topic6\", \"Topic6\", \"Topic6\", \"Topic6\", \"Topic6\", \"Topic6\", \"Topic6\", \"Topic6\", \"Topic6\", \"Topic6\", \"Topic6\", \"Topic6\", \"Topic6\", \"Topic6\", \"Topic6\", \"Topic6\", \"Topic6\", \"Topic6\", \"Topic6\", \"Topic6\", \"Topic6\", \"Topic6\", \"Topic6\", \"Topic6\", \"Topic7\", \"Topic7\", \"Topic7\", \"Topic7\", \"Topic7\", \"Topic7\", \"Topic7\", \"Topic7\", \"Topic7\", \"Topic7\", \"Topic7\", \"Topic7\", \"Topic7\", \"Topic7\", \"Topic7\", \"Topic7\", \"Topic7\", \"Topic7\", \"Topic7\", \"Topic7\", \"Topic7\", \"Topic7\", \"Topic7\", \"Topic7\", \"Topic7\", \"Topic7\", \"Topic7\", \"Topic7\", \"Topic7\", \"Topic7\", \"Topic7\", \"Topic7\", \"Topic7\", \"Topic7\", \"Topic7\", \"Topic7\", \"Topic7\", \"Topic7\", \"Topic7\", \"Topic7\", \"Topic7\", \"Topic7\", \"Topic7\", \"Topic7\", \"Topic7\", \"Topic7\", \"Topic7\", \"Topic7\", \"Topic7\", \"Topic7\", \"Topic7\", \"Topic7\", \"Topic7\", \"Topic7\", \"Topic7\", \"Topic7\", \"Topic7\", \"Topic7\", \"Topic7\", \"Topic7\", \"Topic7\", \"Topic7\", \"Topic8\", \"Topic8\", \"Topic8\", \"Topic8\", \"Topic8\", \"Topic8\", \"Topic8\", \"Topic8\", \"Topic8\", \"Topic8\", \"Topic8\", \"Topic8\", \"Topic8\", \"Topic8\", \"Topic8\", \"Topic8\", \"Topic8\", \"Topic8\", \"Topic8\", \"Topic8\", \"Topic8\", \"Topic8\", \"Topic8\", \"Topic8\", \"Topic8\", \"Topic8\", \"Topic8\", \"Topic8\", \"Topic8\", \"Topic8\", \"Topic8\", \"Topic8\", \"Topic8\", \"Topic8\", \"Topic8\", \"Topic8\", \"Topic8\", \"Topic8\", \"Topic8\", \"Topic8\", \"Topic8\", \"Topic8\", \"Topic8\", \"Topic8\", \"Topic8\", \"Topic8\", \"Topic8\", \"Topic8\", \"Topic8\", \"Topic8\", \"Topic8\", \"Topic8\", \"Topic8\", \"Topic8\", \"Topic8\", \"Topic8\", \"Topic8\", \"Topic8\", \"Topic8\", \"Topic8\", \"Topic8\", \"Topic8\", \"Topic8\", \"Topic8\", \"Topic8\", \"Topic8\", \"Topic8\", \"Topic8\", \"Topic8\", \"Topic8\", \"Topic8\", \"Topic8\", \"Topic8\", \"Topic8\", \"Topic9\", \"Topic9\", \"Topic9\", \"Topic9\", \"Topic9\", \"Topic9\", \"Topic9\", \"Topic9\", \"Topic9\", \"Topic9\", \"Topic9\", \"Topic9\", \"Topic9\", \"Topic9\", \"Topic9\", \"Topic9\", \"Topic9\", \"Topic9\", \"Topic9\", \"Topic9\", \"Topic9\", \"Topic9\", \"Topic9\", \"Topic9\", \"Topic9\", \"Topic9\", \"Topic9\", \"Topic9\", \"Topic9\", \"Topic9\", \"Topic9\", \"Topic9\", \"Topic9\", \"Topic9\", \"Topic9\", \"Topic9\", \"Topic9\", \"Topic9\", \"Topic9\", \"Topic9\", \"Topic9\", \"Topic9\", \"Topic9\", \"Topic9\", \"Topic9\", \"Topic9\", \"Topic9\", \"Topic9\", \"Topic9\", \"Topic9\", \"Topic9\", \"Topic9\", \"Topic9\", \"Topic9\", \"Topic9\", \"Topic9\", \"Topic9\", \"Topic9\", \"Topic9\", \"Topic9\", \"Topic9\", \"Topic9\", \"Topic9\", \"Topic9\", \"Topic9\", \"Topic9\", \"Topic9\", \"Topic9\", \"Topic9\", \"Topic9\", \"Topic9\", \"Topic9\", \"Topic9\", \"Topic10\", \"Topic10\", \"Topic10\", \"Topic10\", \"Topic10\", \"Topic10\", \"Topic10\", \"Topic10\", \"Topic10\", \"Topic10\", \"Topic10\", \"Topic10\", \"Topic10\", \"Topic10\", \"Topic10\", \"Topic10\", \"Topic10\", \"Topic10\", \"Topic10\", \"Topic10\", \"Topic10\", \"Topic10\", \"Topic10\", \"Topic10\", \"Topic10\", \"Topic10\", \"Topic10\", \"Topic10\", \"Topic10\", \"Topic10\", \"Topic10\", \"Topic10\", \"Topic10\", \"Topic10\", \"Topic10\", \"Topic10\", \"Topic10\", \"Topic10\", \"Topic10\", \"Topic10\", \"Topic10\", \"Topic10\", \"Topic10\", \"Topic10\", \"Topic10\", \"Topic10\", \"Topic10\", \"Topic10\", \"Topic10\", \"Topic10\", \"Topic10\", \"Topic10\", \"Topic10\", \"Topic10\", \"Topic10\", \"Topic10\", \"Topic10\", \"Topic10\", \"Topic10\", \"Topic10\", \"Topic10\", \"Topic10\", \"Topic10\", \"Topic10\", \"Topic10\", \"Topic10\", \"Topic10\", \"Topic10\", \"Topic10\", \"Topic11\", \"Topic11\", \"Topic11\", \"Topic11\", \"Topic11\", \"Topic11\", \"Topic11\", \"Topic11\", \"Topic11\", \"Topic11\", \"Topic11\", \"Topic11\", \"Topic11\", \"Topic11\", \"Topic11\", \"Topic11\", \"Topic11\", \"Topic11\", \"Topic11\", \"Topic11\", \"Topic11\", \"Topic11\", \"Topic11\", \"Topic11\", \"Topic11\", \"Topic11\", \"Topic11\", \"Topic11\", \"Topic11\", \"Topic11\", \"Topic11\", \"Topic11\", \"Topic11\", \"Topic11\", \"Topic11\", \"Topic11\", \"Topic11\", \"Topic11\", \"Topic11\", \"Topic11\", \"Topic11\", \"Topic11\", \"Topic11\", \"Topic11\", \"Topic11\", \"Topic11\", \"Topic11\", \"Topic11\", \"Topic11\", \"Topic11\", \"Topic11\", \"Topic11\", \"Topic11\", \"Topic11\", \"Topic11\", \"Topic11\", \"Topic11\", \"Topic11\", \"Topic11\", \"Topic11\", \"Topic11\", \"Topic11\", \"Topic11\", \"Topic11\", \"Topic11\", \"Topic11\", \"Topic11\", \"Topic11\", \"Topic11\", \"Topic11\", \"Topic11\", \"Topic12\", \"Topic12\", \"Topic12\", \"Topic12\", \"Topic12\", \"Topic12\", \"Topic12\", \"Topic12\", \"Topic12\", \"Topic12\", \"Topic12\", \"Topic12\", \"Topic12\", \"Topic12\", \"Topic12\", \"Topic12\", \"Topic12\", \"Topic12\", \"Topic12\", \"Topic12\", \"Topic12\", \"Topic12\", \"Topic12\", \"Topic12\", \"Topic12\", \"Topic12\", \"Topic12\", \"Topic12\", \"Topic12\", \"Topic12\", \"Topic12\", \"Topic12\", \"Topic12\", \"Topic12\", \"Topic12\", \"Topic12\", \"Topic12\", \"Topic12\", \"Topic12\", \"Topic12\", \"Topic12\", \"Topic12\", \"Topic12\", \"Topic12\", \"Topic12\", \"Topic12\", \"Topic12\", \"Topic12\", \"Topic12\", \"Topic12\", \"Topic12\", \"Topic12\", \"Topic12\", \"Topic12\", \"Topic12\", \"Topic12\", \"Topic12\", \"Topic12\", \"Topic12\", \"Topic12\", \"Topic12\", \"Topic12\", \"Topic12\", \"Topic12\", \"Topic12\", \"Topic12\", \"Topic13\", \"Topic13\", \"Topic13\", \"Topic13\", \"Topic13\", \"Topic13\", \"Topic13\", \"Topic13\", \"Topic13\", \"Topic13\", \"Topic13\", \"Topic13\", \"Topic13\", \"Topic13\", \"Topic13\", \"Topic13\", \"Topic13\", \"Topic13\", \"Topic13\", \"Topic13\", \"Topic13\", \"Topic13\", \"Topic13\", \"Topic13\", \"Topic13\", \"Topic13\", \"Topic13\", \"Topic13\", \"Topic13\", \"Topic13\", \"Topic13\", \"Topic13\", \"Topic13\", \"Topic13\", \"Topic13\", \"Topic13\", \"Topic13\", \"Topic13\", \"Topic13\", \"Topic13\", \"Topic13\", \"Topic13\", \"Topic13\", \"Topic13\", \"Topic13\", \"Topic13\", \"Topic13\", \"Topic13\", \"Topic13\", \"Topic13\", \"Topic13\", \"Topic13\", \"Topic13\", \"Topic13\", \"Topic13\", \"Topic14\", \"Topic14\", \"Topic14\", \"Topic14\", \"Topic14\", \"Topic14\", \"Topic14\", \"Topic14\", \"Topic14\", \"Topic14\", \"Topic14\", \"Topic14\", \"Topic14\", \"Topic14\", \"Topic14\", \"Topic14\", \"Topic14\", \"Topic14\", \"Topic14\", \"Topic14\", \"Topic14\", \"Topic14\", \"Topic14\", \"Topic14\", \"Topic14\", \"Topic14\", \"Topic14\", \"Topic14\", \"Topic14\", \"Topic14\", \"Topic14\", \"Topic14\", \"Topic14\", \"Topic14\", \"Topic14\", \"Topic14\", \"Topic14\", \"Topic14\", \"Topic14\", \"Topic14\", \"Topic14\", \"Topic14\", \"Topic14\", \"Topic14\", \"Topic14\", \"Topic14\", \"Topic14\", \"Topic14\", \"Topic14\", \"Topic14\", \"Topic14\", \"Topic14\", \"Topic14\", \"Topic14\", \"Topic14\", \"Topic14\", \"Topic14\", \"Topic14\", \"Topic14\", \"Topic15\", \"Topic15\", \"Topic15\", \"Topic15\", \"Topic15\", \"Topic15\", \"Topic15\", \"Topic15\", \"Topic15\", \"Topic15\", \"Topic15\", \"Topic15\", \"Topic15\", \"Topic15\", \"Topic15\", \"Topic15\", \"Topic15\", \"Topic15\", \"Topic15\", \"Topic15\", \"Topic15\", \"Topic15\", \"Topic15\", \"Topic15\", \"Topic15\", \"Topic15\", \"Topic15\", \"Topic15\", \"Topic15\", \"Topic15\", \"Topic15\", \"Topic15\", \"Topic15\", \"Topic15\", \"Topic15\", \"Topic15\", \"Topic15\", \"Topic15\", \"Topic15\", \"Topic15\", \"Topic15\", \"Topic15\", \"Topic15\", \"Topic15\", \"Topic15\", \"Topic15\", \"Topic15\", \"Topic15\", \"Topic15\", \"Topic15\", \"Topic15\", \"Topic15\", \"Topic15\", \"Topic15\", \"Topic15\", \"Topic15\", \"Topic15\", \"Topic15\", \"Topic15\", \"Topic15\", \"Topic15\", \"Topic15\", \"Topic16\", \"Topic16\", \"Topic16\", \"Topic16\", \"Topic16\", \"Topic16\", \"Topic16\", \"Topic16\", \"Topic16\", \"Topic16\", \"Topic16\", \"Topic16\", \"Topic16\", \"Topic16\", \"Topic16\", \"Topic16\", \"Topic16\", \"Topic16\", \"Topic16\", \"Topic16\", \"Topic16\", \"Topic16\", \"Topic16\", \"Topic16\", \"Topic16\", \"Topic16\", \"Topic16\", \"Topic16\", \"Topic16\", \"Topic16\", \"Topic16\", \"Topic16\", \"Topic16\", \"Topic16\", \"Topic16\", \"Topic16\", \"Topic16\", \"Topic16\", \"Topic16\", \"Topic16\", \"Topic16\", \"Topic16\", \"Topic16\", \"Topic16\", \"Topic16\", \"Topic16\", \"Topic16\", \"Topic16\", \"Topic16\", \"Topic16\", \"Topic16\", \"Topic16\", \"Topic16\", \"Topic16\", \"Topic16\", \"Topic16\", \"Topic16\", \"Topic16\", \"Topic16\", \"Topic16\", \"Topic16\", \"Topic16\", \"Topic16\", \"Topic16\", \"Topic16\"], \"logprob\": [30.0, 29.0, 28.0, 27.0, 26.0, 25.0, 24.0, 23.0, 22.0, 21.0, 20.0, 19.0, 18.0, 17.0, 16.0, 15.0, 14.0, 13.0, 12.0, 11.0, 10.0, 9.0, 8.0, 7.0, 6.0, 5.0, 4.0, 3.0, 2.0, 1.0, -6.7824, -7.4633, -7.7399, -7.8251, -7.7075, -7.934, -7.2572, -8.0227, -8.1271, -8.1398, -8.1461, -8.1557, -8.2256, -8.2543, -8.2589, -8.265, -8.2761, -8.3615, -8.4129, -8.4567, -8.072, -8.4704, -8.4581, -8.54, -8.6141, -8.1108, -8.6484, -8.6492, -8.6552, -8.6797, -2.7555, -6.0253, -7.6328, -8.5312, -6.7083, -4.3168, -5.3354, -5.9912, -6.397, -7.5605, -5.5791, -5.9381, -5.1593, -6.2795, -5.3056, -6.9208, -4.7953, -7.221, -6.8927, -5.0672, -5.7691, -6.1656, -7.4969, -4.6009, -5.4057, -5.1723, -6.7176, -3.7827, -6.3078, -4.5307, -6.1387, -5.2312, -5.7443, -5.5515, -5.5585, -5.9557, -5.0744, -5.315, -4.5825, -4.0691, -4.2061, -4.9667, -4.6253, -5.2194, -4.4602, -4.9988, -5.0241, -4.7326, -4.9569, -4.9176, -4.8076, -5.0883, -5.0968, -4.6882, -5.0603, -5.1365, -5.1143, -5.1884, -5.2144, -2.6764, -2.5313, -6.8961, -6.9384, -7.0167, -7.2332, -7.4081, -7.5052, -7.6095, -3.1118, -7.7255, -7.7398, -7.7927, -7.88, -7.8862, -7.8892, -8.0, -8.0473, -8.0945, -8.0979, -8.0987, -8.1368, -8.163, -8.2153, -8.269, -8.3483, -8.3486, -8.3615, -8.3945, -8.403, -6.5456, -2.5928, -6.6259, -4.8584, -7.6587, -3.7773, -7.5304, -5.5921, -6.8945, -6.5126, -6.9604, -5.124, -3.9551, -5.7072, -6.0809, -7.1104, -4.1571, -6.9138, -6.3449, -4.7318, -7.1559, -4.6487, -4.661, -5.3949, -5.7057, -4.0615, -5.7823, -4.4364, -5.21, -6.4069, -4.8769, -4.8031, -5.9559, -5.012, -4.8729, -5.2853, -4.9857, -5.4616, -5.6206, -5.1881, -5.3228, -5.4227, -5.2591, -5.3123, -5.2031, -5.4003, -4.4995, -5.3581, -5.3984, -5.489, -5.8963, -6.2402, -6.5298, -6.5991, -6.6214, -6.6104, -6.7788, -6.7805, -6.8089, -6.8567, -6.8744, -6.6202, -6.8964, -6.8703, -6.9896, -7.0076, -7.0152, -7.032, -7.0528, -7.0854, -7.1003, -7.1584, -7.1783, -7.2072, -7.2096, -7.2233, -5.1304, -6.839, -6.3737, -5.3232, -4.8624, -5.4939, -5.0486, -5.5605, -6.0665, -6.2552, -5.7399, -5.6302, -5.7676, -6.2313, -5.8993, -5.4792, -5.4357, -3.2884, -6.3918, -4.1093, -3.7803, -5.8698, -4.6489, -5.852, -5.9684, -4.8743, -5.6903, -5.0909, -5.5906, -4.8191, -5.0566, -5.3712, -5.0876, -5.2683, -5.1373, -5.3646, -5.4403, -5.3394, -5.3987, -5.5485, -5.5528, -5.3688, -5.8782, -4.9566, -6.4794, -6.7453, -6.7531, -6.7586, -6.763, -6.7961, -6.6804, -7.0198, -6.6666, -7.1104, -7.1108, -7.1332, -7.1746, -7.1944, -7.2546, -7.4117, -7.4185, -7.4335, -7.4734, -7.4775, -7.0132, -7.5092, -7.5286, -5.2524, -7.5955, -7.6123, -7.6132, -5.6537, -6.5979, -5.1453, -7.099, -4.8627, -4.2042, -5.9341, -3.4652, -5.0465, -4.2125, -2.63, -5.042, -4.4349, -3.5491, -3.2419, -3.4726, -5.1449, -4.4403, -3.9691, -4.5984, -5.1416, -5.1257, -4.2886, -4.7002, -4.4645, -4.9637, -5.2382, -4.6839, -4.807, -4.8828, -4.9154, -5.031, -4.8534, -4.9716, -2.367, -4.7716, -5.0428, -5.1011, -5.1637, -5.2859, -5.415, -5.4374, -5.8175, -5.879, -6.0521, -6.0901, -6.1014, -6.3479, -6.366, -5.5148, -7.3893, -7.3909, -7.153, -7.4078, -7.492, -4.5293, -7.7348, -7.8505, -7.1551, -5.0615, -7.9109, -7.929, -7.9912, -8.0018, -3.8902, -2.6587, -5.0213, -4.4798, -5.8871, -5.6025, -5.6586, -5.6374, -5.9807, -6.2291, -5.3115, -6.1758, -4.6975, -3.4227, -4.3197, -5.0306, -3.7736, -4.3979, -5.2676, -5.5223, -4.3716, -4.0179, -4.7873, -4.9551, -4.8252, -5.0534, -4.9794, -4.8688, -4.9406, -5.0023, -4.8868, -5.2105, -5.2357, -2.3144, -2.5178, -5.566, -5.7137, -6.6519, -6.7982, -6.9655, -7.0045, -6.6334, -7.2421, -7.2762, -7.2814, -7.4457, -7.4978, -7.5483, -7.5757, -7.6944, -7.7103, -7.7838, -7.8045, -7.8099, -7.8745, -7.8809, -7.894, -7.9051, -7.9319, -7.9333, -8.0219, -8.0283, -8.0376, -7.5378, -5.6901, -5.1293, -2.221, -5.3663, -4.0711, -4.7427, -4.553, -7.4667, -7.1496, -5.2707, -2.6337, -7.326, -4.0396, -5.3496, -4.4984, -4.3579, -5.4229, -4.7907, -4.2609, -6.503, -4.2024, -5.5187, -5.8831, -4.9613, -5.3919, -4.8545, -5.1728, -5.3546, -5.4748, -5.6202, -5.2448, -5.2701, -5.3414, -5.3166, -5.4401, -2.5664, -4.4231, -4.6621, -5.0607, -5.46, -5.5148, -5.573, -5.7362, -5.8393, -5.9209, -5.8198, -6.019, -6.0969, -6.2013, -6.2716, -6.3811, -6.4145, -6.4546, -6.5727, -6.574, -6.602, -6.6246, -6.6783, -6.8039, -6.832, -6.9822, -7.0052, -7.052, -7.0638, -7.2064, -5.3872, -5.3506, -6.2657, -6.2603, -4.9526, -5.5756, -6.0647, -6.1202, -2.8589, -5.133, -5.0388, -5.4805, -4.3166, -5.1272, -4.5232, -5.0513, -4.1654, -4.7804, -5.0254, -4.7421, -4.9631, -5.3461, -5.4952, -5.04, -4.8627, -4.8551, -5.0449, -5.4607, -5.2394, -5.3495, -5.2766, -5.4515, -6.4522, -6.6897, -6.7063, -6.7655, -6.948, -7.0472, -7.0534, -7.2206, -7.2617, -7.2755, -7.3957, -7.4401, -7.5333, -7.5411, -7.5559, -7.5838, -7.5961, -7.6252, -7.6303, -7.6484, -7.6668, -7.6874, -7.6963, -7.7021, -7.74, -7.7617, -7.7693, -7.7722, -7.8446, -7.8451, -2.3476, -6.4521, -2.3721, -5.6004, -5.1475, -5.5204, -5.507, -6.5628, -7.0349, -5.8572, -4.3853, -4.5006, -7.2484, -4.1892, -7.1307, -5.4729, -6.6285, -3.7792, -4.0355, -5.6724, -5.2018, -4.2016, -4.733, -5.1552, -3.7611, -5.088, -5.396, -5.1613, -6.157, -5.2451, -4.0953, -5.005, -4.7996, -4.9679, -4.9992, -5.1217, -5.1034, -5.0469, -5.1218, -4.9327, -5.0617, -5.1513, -5.0761, -5.2362, -4.2125, -3.9332, -5.1401, -5.3541, -6.0849, -6.1382, -6.2005, -6.3459, -6.3583, -6.4349, -6.4029, -6.4594, -6.5984, -6.5324, -6.8589, -6.8754, -7.0827, -7.125, -7.2885, -7.3057, -7.3568, -7.3594, -7.3815, -7.3868, -7.402, -7.4398, -7.4541, -7.5531, -7.5541, -7.5729, -5.707, -4.053, -2.6472, -6.3958, -5.743, -6.3624, -4.9537, -5.845, -5.4773, -4.0295, -4.182, -5.5328, -5.2575, -4.037, -4.2701, -5.0057, -3.827, -4.7972, -4.7293, -6.0861, -5.3102, -5.689, -5.8832, -3.8181, -5.5072, -5.7182, -4.1626, -5.223, -4.3485, -5.1946, -4.546, -4.8374, -4.4602, -4.373, -5.1611, -4.7453, -4.8058, -4.9479, -5.0226, -4.8991, -5.0132, -4.9533, -5.1238, -2.2253, -1.5904, -4.1442, -5.5798, -5.7898, -5.8112, -6.2744, -6.5478, -6.5632, -6.7009, -6.7421, -6.8462, -6.8506, -6.8509, -6.8971, -6.9459, -7.1095, -7.2248, -7.2938, -7.3957, -7.5557, -7.5737, -7.6163, -7.6461, -7.7011, -7.7026, -7.7098, -7.7429, -7.7981, -7.8169, -3.1273, -6.4721, -6.3202, -4.5891, -5.9234, -6.3768, -5.7268, -6.1672, -4.4951, -6.659, -4.513, -5.7317, -6.5982, -3.9349, -4.0807, -5.4486, -6.0071, -5.7216, -4.3918, -5.7637, -6.1238, -5.4413, -4.3623, -4.7958, -5.2298, -5.2047, -5.3904, -5.281, -5.2263, -5.1903, -5.519, -5.4724, -5.3006, -5.5458, -5.5477, -5.5962, -5.5994, -5.65, -5.6338, -3.2277, -4.7316, -5.1722, -5.5059, -5.7113, -5.761, -6.1007, -6.1961, -6.2285, -6.5765, -6.5973, -6.6659, -6.6972, -6.7016, -6.7108, -6.7507, -6.8204, -6.8338, -6.8914, -6.9009, -6.9302, -6.9606, -6.9631, -6.9803, -7.0055, -6.7025, -7.068, -7.111, -4.6767, -7.1349, -5.1723, -5.5425, -5.8084, -4.5523, -4.7623, -5.7352, -6.4118, -4.7452, -6.0648, -5.7473, -4.1174, -3.8106, -4.8351, -5.5788, -3.3296, -5.806, -5.5701, -6.0371, -5.1759, -6.2525, -4.6602, -5.5474, -3.7581, -4.5951, -4.906, -4.755, -4.986, -4.4686, -5.1699, -5.2936, -5.3885, -4.9229, -5.0165, -4.9634, -5.3267, -5.3786, -5.2495, -5.2505, -5.2237, -5.1965, -5.237, -4.1257, -4.4333, -5.4381, -5.6025, -5.6393, -5.7743, -5.9059, -5.9505, -6.004, -6.3269, -6.3365, -6.3519, -6.3983, -6.422, -6.498, -6.6716, -6.6761, -6.7124, -6.7285, -6.7293, -6.7452, -6.7535, -6.7754, -6.8574, -6.8607, -6.8576, -6.9363, -6.9416, -6.9422, -6.9687, -5.219, -4.5672, -6.1239, -4.5879, -5.222, -4.9939, -5.9427, -5.3787, -4.4767, -5.4741, -6.1544, -4.4319, -4.3969, -4.803, -5.8024, -4.8768, -5.2495, -5.2575, -4.7534, -4.152, -5.0049, -4.0706, -4.2386, -4.3061, -4.5799, -5.3991, -4.8147, -4.8664, -4.775, -4.9581, -4.9322, -5.1574, -5.1837, -5.1928, -5.2874, -5.258, -3.6916, -3.7968, -4.2825, -4.2947, -4.6957, -2.3316, -5.098, -5.1586, -5.1861, -5.4775, -5.5736, -5.5903, -5.6461, -5.6943, -5.7305, -5.759, -5.8437, -5.9518, -5.9939, -5.9963, -6.0298, -6.2045, -6.2939, -6.3231, -6.3297, -6.3429, -6.3666, -5.2232, -6.4299, -6.4302, -4.8197, -4.2386, -5.9299, -5.841, -3.9742, -5.2439, -5.1841, -5.3562, -4.7511, -3.7444, -3.2306, -4.1581, -5.1387, -5.3968, -4.7904, -5.1792, -5.2891, -4.9758, -5.307, -5.4263, -4.8283, -5.2765, -5.2434, -5.2693, -5.2838, -2.438, -3.4066, -4.1893, -4.7436, -4.8673, -5.0048, -5.1857, -5.2305, -4.8998, -5.8492, -5.9218, -5.9872, -6.0025, -6.0849, -6.1125, -6.5113, -6.7442, -6.8279, -6.9508, -6.9895, -7.077, -7.0795, -7.3657, -7.389, -7.4034, -7.4819, -7.4945, -7.4954, -7.506, -5.7801, -5.1184, -4.6342, -4.8722, -2.3398, -5.4911, -5.5422, -4.5805, -5.3846, -4.93, -5.4045, -3.6564, -4.9417, -4.6873, -4.4653, -4.8456, -4.8556, -4.9167, -5.3571, -4.8643, -4.8542, -4.5061, -4.4739, -4.3193, -4.5967, -4.9115, -4.9795, -4.9449, -5.0206, -5.0695, -3.177, -3.9695, -4.7972, -4.9245, -4.981, -5.1744, -3.074, -5.718, -5.753, -5.8293, -5.9446, -5.9529, -6.1273, -6.1646, -5.8279, -3.4613, -6.2483, -6.284, -6.4129, -6.4712, -6.4717, -6.4923, -6.5351, -6.5792, -6.6723, -6.7022, -6.7949, -6.8566, -6.8708, -6.9799, -5.6386, -2.1969, -5.1222, -3.8265, -4.7674, -5.6418, -3.8299, -4.4033, -4.807, -5.7844, -6.1769, -5.8028, -3.8937, -4.8655, -5.5166, -5.4271, -4.1772, -4.9329, -5.622, -5.6905, -5.4176, -5.1925, -5.3565, -4.6152, -5.3054, -5.4077, -5.1483, -5.3892, -5.3809, -5.2164, -5.1694, -5.3732, -4.4229, -4.6294, -5.0284, -5.0806, -5.6643, -5.7905, -5.9844, -6.1458, -6.1875, -6.2426, -6.2784, -6.3331, -6.3457, -6.3674, -6.3732, -6.4182, -6.4527, -6.5328, -6.5729, -6.6168, -6.6239, -6.6366, -6.6441, -6.7251, -6.7874, -6.798, -6.809, -6.944, -6.9558, -7.1023, -3.2172, -5.0544, -2.5368, -4.2184, -4.6356, -4.9777, -2.9326, -4.4154, -4.9252, -5.1949, -3.9314, -5.4294, -5.1211, -4.5476, -4.9132, -4.5858, -5.7266, -5.3176, -4.8693, -5.4353, -3.9695, -5.0735, -4.4862, -4.7613, -5.5774, -4.6258, -4.5015, -4.6689, -5.1446, -4.95, -4.677, -4.5461, -4.8601, -4.9221, -4.9927], \"loglift\": [30.0, 29.0, 28.0, 27.0, 26.0, 25.0, 24.0, 23.0, 22.0, 21.0, 20.0, 19.0, 18.0, 17.0, 16.0, 15.0, 14.0, 13.0, 12.0, 11.0, 10.0, 9.0, 8.0, 7.0, 6.0, 5.0, 4.0, 3.0, 2.0, 1.0, 1.6445, 1.6412, 1.6388, 1.6382, 1.6374, 1.6371, 1.637, 1.6361, 1.6347, 1.6346, 1.6345, 1.6343, 1.6333, 1.6329, 1.6329, 1.6328, 1.6326, 1.6312, 1.6304, 1.6296, 1.6295, 1.6287, 1.6278, 1.6274, 1.6264, 1.6261, 1.6257, 1.6257, 1.6255, 1.625, 1.6053, 1.6128, 1.6123, 1.6239, 1.5827, 1.5081, 1.5394, 1.5554, 1.5474, 1.5948, 1.51, 1.5169, 1.4758, 1.532, 1.4605, 1.5551, 1.4161, 1.5704, 1.5476, 1.4101, 1.4617, 1.4743, 1.5827, 1.324, 1.3801, 1.3464, 1.5056, 1.1164, 1.4418, 1.1897, 1.4145, 1.2724, 1.3476, 1.3141, 1.2739, 1.3475, 1.1072, 1.1521, 0.9052, 0.7293, 0.7676, 1.0113, 0.8671, 1.0921, 0.7236, 0.8593, 0.8665, 0.568, 0.7047, 0.6674, 0.555, 0.7822, 0.7918, 0.1701, 0.5045, 0.6307, 0.1268, -0.133, 0.5297, 2.2835, 2.2832, 2.2761, 2.2758, 2.2752, 2.2731, 2.2712, 2.2699, 2.2684, 2.2666, 2.2665, 2.2663, 2.2654, 2.2637, 2.2636, 2.2636, 2.2612, 2.2602, 2.2591, 2.259, 2.2589, 2.258, 2.2573, 2.2559, 2.2544, 2.2521, 2.2521, 2.2517, 2.2505, 2.2503, 2.2322, 2.1447, 2.154, 2.0113, 2.2021, 1.873, 2.1914, 1.9915, 2.1147, 2.0512, 2.0998, 1.7692, 1.5558, 1.7961, 1.7761, 2.0454, 1.0648, 1.9499, 1.748, 1.1052, 2.0307, 0.9463, 0.9038, 1.2044, 1.2961, 0.3898, 1.3198, 0.4627, 0.9171, 1.6674, 0.4651, 0.2523, 1.2632, 0.2886, 0.1008, 0.5372, 0.1981, 0.648, 0.7598, 0.053, 0.242, 0.3758, -0.1472, -0.0446, -0.5398, -0.0377, 2.3712, 2.3702, 2.3701, 2.37, 2.369, 2.3678, 2.3663, 2.3659, 2.3658, 2.3648, 2.3648, 2.3647, 2.3645, 2.3642, 2.364, 2.364, 2.3639, 2.3636, 2.3631, 2.3629, 2.3628, 2.3627, 2.3625, 2.3622, 2.362, 2.3614, 2.3612, 2.3609, 2.3609, 2.3607, 2.3549, 2.3603, 2.355, 2.3208, 2.2701, 2.2848, 2.192, 2.213, 2.2619, 2.2603, 2.148, 2.1269, 2.122, 2.2167, 2.0981, 1.9716, 1.9522, 1.2147, 2.2283, 1.2397, 1.0181, 1.9365, 1.0808, 1.8751, 1.9318, 1.0143, 1.6748, 0.8499, 1.4187, 0.4221, 0.426, 0.6837, -0.1139, 0.3676, -0.0253, 0.4896, 0.2048, -0.4403, -0.5404, 0.0365, -0.1902, 2.6079, 2.6064, 2.6036, 2.6033, 2.6012, 2.6011, 2.6011, 2.6011, 2.6008, 2.5991, 2.5984, 2.5982, 2.5973, 2.5973, 2.597, 2.5965, 2.5962, 2.5953, 2.5929, 2.5927, 2.5925, 2.5918, 2.5915, 2.5912, 2.5911, 2.5907, 2.5896, 2.5894, 2.5891, 2.589, 2.5581, 2.5697, 2.5242, 2.5741, 2.4767, 2.4364, 2.4861, 2.2871, 2.3912, 2.17, 1.8732, 2.214, 2.0569, 1.7186, 1.6164, 1.6394, 2.0592, 1.7368, 1.5233, 1.6651, 1.8114, 1.6234, 1.0534, 1.1223, 0.8845, 1.2715, 1.4816, 0.8809, 0.9934, 1.0057, 0.8776, 1.024, 0.202, 0.2122, 2.6993, 2.6987, 2.6983, 2.6982, 2.6981, 2.6978, 2.6975, 2.6974, 2.6962, 2.696, 2.6952, 2.695, 2.6949, 2.6935, 2.6934, 2.6873, 2.6815, 2.6815, 2.6813, 2.6812, 2.6796, 2.6789, 2.674, 2.6708, 2.6701, 2.6698, 2.6691, 2.6685, 2.6665, 2.6662, 2.6477, 2.6317, 2.6373, 2.6196, 2.6056, 2.5921, 2.5628, 2.5423, 2.5719, 2.5775, 2.4193, 2.5262, 2.2528, 1.9263, 2.0173, 2.1445, 1.2818, 1.4105, 2.0202, 2.2218, 0.9704, 0.4853, 1.1859, 1.2953, 0.8737, 1.3218, 1.0757, 0.6139, 0.7891, 0.798, 0.0869, 0.0306, 0.032, 2.7319, 2.7316, 2.7315, 2.7307, 2.7254, 2.724, 2.722, 2.7215, 2.7201, 2.7181, 2.7175, 2.7174, 2.7144, 2.7133, 2.7122, 2.7116, 2.7087, 2.7083, 2.7063, 2.7057, 2.7056, 2.7037, 2.7035, 2.7031, 2.7027, 2.7019, 2.7018, 2.6989, 2.6986, 2.6983, 2.6941, 2.6254, 2.5844, 2.4423, 2.5383, 2.4453, 2.4361, 2.392, 2.664, 2.6258, 2.3244, 1.8176, 2.6134, 1.6107, 1.977, 1.6833, 1.1531, 1.6647, 1.3364, 0.961, 2.1281, 0.535, 1.3895, 1.617, 0.8612, 1.2074, 0.4875, 0.3921, 0.6185, 0.4906, 0.7551, -0.061, -0.0289, -0.0408, -0.2046, -0.3847, 2.841, 2.84, 2.8397, 2.839, 2.838, 2.8378, 2.8376, 2.837, 2.8366, 2.8362, 2.8361, 2.8357, 2.8352, 2.8346, 2.8341, 2.8333, 2.8331, 2.8327, 2.8317, 2.8317, 2.8314, 2.8312, 2.8306, 2.8292, 2.8289, 2.8269, 2.8266, 2.8259, 2.8257, 2.8234, 2.7605, 2.7442, 2.7901, 2.7402, 2.5524, 2.6342, 2.6937, 2.679, 1.5924, 2.1263, 1.9639, 2.2139, 1.4838, 1.9603, 1.4017, 1.5979, 0.6929, 1.0565, 1.3151, 0.853, 1.1465, 1.5989, 1.7641, 0.7863, 0.111, -0.0566, 0.1962, 1.5411, -0.184, 0.6159, -0.0928, -0.5524, 2.8569, 2.8546, 2.8544, 2.8537, 2.8514, 2.85, 2.8499, 2.8466, 2.8463, 2.846, 2.8436, 2.8426, 2.8404, 2.8402, 2.8398, 2.8391, 2.8388, 2.838, 2.8379, 2.8374, 2.8369, 2.8363, 2.836, 2.8359, 2.8347, 2.8341, 2.8338, 2.8338, 2.8314, 2.8314, 2.786, 2.8046, 2.6887, 2.7168, 2.6747, 2.6745, 2.6698, 2.7301, 2.7741, 2.6324, 2.3446, 2.1416, 2.7498, 1.9379, 2.7103, 2.1957, 2.5588, 1.4427, 1.5293, 2.1487, 1.831, 1.3093, 1.5175, 1.713, 0.9022, 1.6365, 1.768, 1.5446, 2.1787, 1.4246, 0.356, 1.0858, 0.7955, 0.8546, 0.8377, 0.9685, 0.8698, 0.6972, 0.6786, 0.041, 0.3009, 0.7028, -0.2777, 0.6939, 2.9405, 2.9391, 2.939, 2.9384, 2.9351, 2.9347, 2.9343, 2.9332, 2.9331, 2.9324, 2.9323, 2.9322, 2.9308, 2.9286, 2.9276, 2.9274, 2.9242, 2.9234, 2.9203, 2.9199, 2.9188, 2.9186, 2.9182, 2.9181, 2.9178, 2.9169, 2.9165, 2.9139, 2.9139, 2.9134, 2.8975, 2.8682, 2.831, 2.8667, 2.8281, 2.8588, 2.7402, 2.8072, 2.7523, 2.6021, 2.5827, 2.7192, 2.6678, 2.4844, 2.4497, 2.5831, 2.3501, 2.5266, 2.4194, 2.7772, 2.4562, 2.6121, 2.6841, 1.6645, 2.489, 2.5729, 1.6458, 2.2434, 1.6247, 2.0647, 1.3152, 1.5817, 1.0322, 0.8947, 1.8743, 0.8907, 0.9885, 1.2512, 1.3722, 0.6658, 0.9169, 0.2686, 0.7026, 3.1389, 3.1387, 3.138, 3.1344, 3.1333, 3.1331, 3.1297, 3.1266, 3.1265, 3.1247, 3.1241, 3.1224, 3.1224, 3.1223, 3.1216, 3.1207, 3.1175, 3.1149, 3.1132, 3.1104, 3.1055, 3.1049, 3.1035, 3.1024, 3.1004, 3.1003, 3.1, 3.0988, 3.0965, 3.0957, 3.0792, 3.0809, 3.071, 3.0008, 2.9617, 2.9927, 2.928, 2.9431, 2.7536, 2.92, 2.3204, 2.4988, 2.8305, 1.1204, 0.9801, 1.9472, 2.3307, 2.0448, 0.7201, 2.0237, 2.3393, 1.5666, 0.089, 0.5462, 0.7727, 0.5957, 0.8601, 0.4631, 0.2846, -0.2912, 0.5712, 0.3857, -0.4423, 0.2528, 0.0883, 0.4589, -0.6257, 0.1172, -0.45, 3.159, 3.1573, 3.1563, 3.155, 3.154, 3.1537, 3.1514, 3.1506, 3.1503, 3.1466, 3.1463, 3.1454, 3.1449, 3.1449, 3.1447, 3.1441, 3.1431, 3.1428, 3.1419, 3.1417, 3.1412, 3.1406, 3.1406, 3.1402, 3.1398, 3.1396, 3.1385, 3.1376, 3.1365, 3.1365, 3.1305, 3.1276, 3.0866, 3.0198, 3.011, 3.0613, 3.0967, 2.9505, 3.041, 2.9875, 2.7581, 2.6726, 2.7796, 2.9177, 2.3155, 2.8849, 2.7816, 2.9075, 2.4538, 2.969, 2.0648, 2.5473, 1.0403, 1.6953, 1.9396, 1.5436, 1.7264, 1.014, 1.9654, 2.0385, 2.1668, 0.87, 1.0737, 0.757, 1.8484, 1.748, 0.8414, 0.752, 0.3714, 0.0446, 0.2507, 3.2389, 3.2376, 3.2356, 3.2348, 3.2346, 3.2338, 3.2329, 3.2326, 3.2322, 3.2292, 3.2291, 3.2289, 3.2284, 3.2281, 3.2272, 3.2247, 3.2247, 3.2241, 3.2238, 3.2238, 3.2236, 3.2234, 3.2231, 3.2216, 3.2216, 3.2215, 3.2201, 3.22, 3.22, 3.2195, 3.2145, 3.1811, 3.2094, 3.1638, 3.1419, 3.0719, 3.1489, 3.0591, 2.9258, 3.0591, 3.0983, 2.7167, 2.7052, 2.7843, 3.0032, 2.7337, 2.8335, 2.5021, 2.1574, 1.4839, 2.1064, 1.23, 1.0025, 1.0359, 1.0652, 2.2779, 0.7501, 0.7287, 0.1987, 0.6269, 0.4304, 0.6651, 0.7464, -0.2937, 0.6907, -0.7548, 3.2655, 3.2654, 3.2649, 3.2648, 3.2641, 3.264, 3.263, 3.2628, 3.2627, 3.2615, 3.261, 3.2609, 3.2606, 3.2603, 3.2601, 3.2599, 3.2594, 3.2586, 3.2582, 3.2582, 3.2579, 3.2564, 3.2554, 3.2551, 3.255, 3.2549, 3.2546, 3.2545, 3.2538, 3.2538, 3.2373, 3.1909, 3.2354, 3.2302, 3.1032, 3.161, 3.1343, 3.1519, 3.0732, 2.8349, 2.658, 2.8369, 2.9488, 3.0134, 2.4168, 2.6654, 2.7478, 1.81, 2.3765, 2.649, -0.0298, 0.9226, -0.0023, 0.3156, 0.5105, 3.5346, 3.5341, 3.5331, 3.5318, 3.5314, 3.5309, 3.5302, 3.5299, 3.5294, 3.5257, 3.525, 3.5244, 3.5242, 3.5233, 3.523, 3.5172, 3.5126, 3.5107, 3.5076, 3.5065, 3.504, 3.5039, 3.4939, 3.4929, 3.4923, 3.4889, 3.4883, 3.4883, 3.4878, 3.4873, 3.4834, 3.4743, 3.4566, 3.3591, 3.4214, 3.3921, 3.3064, 3.3203, 3.2463, 3.2944, 3.0371, 3.2243, 3.1037, 2.9796, 3.0326, 3.0261, 3.0102, 3.193, 2.7401, 2.6464, 2.2586, 2.038, 0.9484, 1.2117, 1.4833, 1.542, 0.277, 0.5442, 0.729, 3.6687, 3.6678, 3.6657, 3.6652, 3.665, 3.664, 3.6629, 3.6602, 3.6599, 3.6591, 3.6579, 3.6578, 3.6556, 3.6551, 3.6542, 3.6541, 3.6539, 3.6533, 3.6511, 3.65, 3.65, 3.6496, 3.6488, 3.6478, 3.6458, 3.6451, 3.6427, 3.641, 3.6406, 3.6374, 3.6084, 3.3772, 3.5432, 3.4401, 3.4169, 3.5181, 3.1779, 3.2315, 3.3066, 3.4153, 3.5484, 3.4085, 2.6442, 2.9794, 3.2728, 3.1789, 2.1597, 2.7226, 3.2273, 3.2892, 2.8737, 2.1634, 2.5045, 0.6854, 2.267, 1.957, 0.4166, 1.8513, 1.7544, 0.2662, -0.311, 1.4277, 3.8653, 3.8646, 3.8628, 3.8625, 3.8578, 3.8564, 3.8539, 3.8514, 3.8507, 3.8497, 3.849, 3.8479, 3.8476, 3.8472, 3.8471, 3.8461, 3.8453, 3.8434, 3.8424, 3.8413, 3.8411, 3.8407, 3.8405, 3.8382, 3.8363, 3.836, 3.8356, 3.831, 3.8305, 3.8247, 3.8058, 3.8231, 3.7762, 3.69, 3.5741, 3.5278, 3.07, 3.3458, 3.4598, 3.5219, 3.1859, 3.5588, 3.4635, 3.2825, 3.3758, 3.2263, 3.5953, 3.3791, 3.0769, 3.38, 2.4217, 3.0899, 2.6624, 2.6894, 3.427, 2.2198, 2.0021, 2.0997, 2.7771, 2.3378, 1.6091, 1.1742, 1.339, 1.483, 1.8187]}, \"token.table\": {\"Topic\": [2, 11, 11, 12, 5, 1, 2, 3, 4, 5, 6, 7, 8, 9, 10, 11, 12, 13, 14, 15, 8, 10, 10, 10, 5, 3, 15, 3, 1, 2, 3, 5, 6, 7, 8, 9, 10, 12, 14, 15, 2, 3, 5, 7, 8, 11, 1, 2, 3, 4, 5, 6, 7, 8, 12, 16, 1, 2, 3, 6, 7, 8, 9, 11, 6, 6, 8, 10, 12, 5, 1, 2, 3, 4, 5, 6, 7, 8, 9, 11, 13, 8, 1, 2, 3, 5, 6, 7, 8, 9, 10, 11, 12, 2, 7, 1, 2, 3, 5, 6, 7, 8, 9, 11, 12, 16, 15, 1, 4, 1, 14, 2, 13, 14, 15, 2, 4, 12, 1, 7, 4, 12, 10, 9, 11, 13, 14, 11, 7, 7, 10, 15, 10, 12, 15, 4, 5, 9, 14, 4, 6, 10, 14, 15, 8, 12, 15, 12, 11, 4, 15, 6, 9, 8, 1, 2, 3, 4, 6, 7, 8, 10, 15, 16, 6, 9, 2, 6, 7, 1, 6, 8, 10, 2, 3, 11, 15, 10, 15, 7, 8, 16, 1, 2, 3, 4, 5, 6, 7, 8, 9, 10, 11, 12, 13, 14, 15, 16, 1, 4, 9, 13, 16, 13, 11, 1, 3, 13, 16, 1, 9, 1, 9, 9, 15, 2, 3, 5, 6, 8, 9, 10, 2, 7, 10, 11, 12, 16, 1, 4, 9, 5, 9, 1, 13, 3, 7, 8, 11, 13, 16, 14, 1, 4, 5, 7, 9, 1, 2, 3, 4, 5, 6, 7, 8, 9, 10, 11, 12, 13, 14, 15, 16, 14, 16, 6, 7, 10, 5, 13, 14, 2, 8, 14, 2, 6, 8, 10, 1, 2, 5, 6, 7, 13, 1, 2, 3, 4, 5, 6, 7, 8, 9, 10, 11, 12, 13, 14, 15, 16, 11, 16, 9, 12, 11, 11, 6, 7, 11, 9, 10, 11, 12, 16, 14, 1, 2, 6, 7, 8, 10, 5, 12, 1, 3, 4, 6, 7, 8, 9, 11, 15, 3, 5, 1, 2, 8, 9, 10, 1, 4, 5, 7, 9, 14, 13, 16, 4, 13, 10, 4, 7, 2, 6, 7, 5, 13, 5, 7, 13, 4, 1, 2, 3, 4, 5, 6, 8, 9, 10, 13, 14, 16, 4, 7, 14, 14, 13, 5, 4, 1, 3, 11, 14, 8, 3, 2, 6, 7, 12, 15, 11, 5, 14, 1, 3, 5, 6, 13, 15, 16, 1, 2, 3, 4, 5, 6, 7, 8, 9, 10, 11, 12, 13, 14, 15, 16, 9, 1, 2, 3, 4, 5, 6, 7, 8, 9, 10, 11, 12, 13, 14, 15, 16, 5, 13, 16, 14, 16, 13, 7, 8, 9, 7, 9, 13, 1, 2, 3, 4, 5, 6, 7, 8, 9, 10, 11, 12, 13, 16, 4, 5, 6, 7, 9, 11, 13, 14, 13, 13, 2, 6, 8, 10, 8, 5, 12, 13, 1, 2, 3, 5, 6, 7, 8, 10, 11, 12, 13, 14, 2, 4, 5, 9, 7, 8, 5, 15, 15, 5, 6, 2, 4, 5, 6, 9, 14, 3, 16, 15, 1, 2, 3, 4, 5, 6, 7, 8, 9, 10, 11, 13, 14, 1, 4, 5, 9, 16, 16, 3, 4, 9, 13, 16, 1, 3, 1, 2, 3, 5, 6, 7, 8, 9, 12, 15, 7, 11, 11, 1, 2, 3, 4, 5, 7, 8, 9, 10, 11, 12, 14, 16, 1, 2, 3, 4, 5, 6, 7, 8, 9, 10, 11, 12, 13, 16, 4, 3, 3, 2, 3, 4, 5, 6, 10, 12, 15, 10, 8, 15, 1, 2, 3, 5, 6, 7, 8, 10, 14, 3, 5, 1, 6, 13, 13, 4, 13, 1, 2, 3, 4, 6, 7, 9, 11, 3, 4, 5, 7, 13, 9, 3, 1, 4, 9, 2, 10, 2, 1, 2, 3, 4, 5, 6, 7, 8, 9, 10, 11, 12, 13, 14, 15, 16, 1, 2, 3, 4, 5, 6, 7, 8, 9, 10, 11, 12, 13, 14, 15, 6, 7, 3, 4, 5, 9, 11, 12, 16, 3, 16, 1, 11, 1, 2, 5, 7, 8, 9, 10, 12, 9, 2, 11, 9, 2, 8, 3, 13, 16, 2, 5, 6, 7, 9, 1, 2, 15, 16, 2, 4, 6, 7, 11, 12, 14, 1, 2, 3, 4, 5, 7, 8, 10, 11, 2, 1, 2, 3, 4, 5, 6, 7, 8, 9, 10, 11, 12, 13, 14, 15, 16, 3, 5, 8, 2, 3, 5, 6, 7, 8, 10, 11, 12, 14, 15, 2, 10, 2, 3, 5, 12, 15, 3, 11, 10, 13, 14, 2, 2, 3, 5, 2, 10, 12, 3, 7, 13, 7, 3, 2, 12, 15, 7, 14, 1, 2, 3, 4, 5, 6, 7, 8, 9, 10, 11, 13, 15, 16, 1, 2, 4, 6, 7, 8, 10, 13, 8, 12, 14, 15, 4, 9, 13, 15, 12, 13, 2, 2, 3, 16, 2, 5, 7, 8, 10, 8, 6, 10, 12, 15, 14, 12, 5, 13, 14, 3, 6, 15, 8, 1, 3, 4, 9, 14, 9, 15, 15, 7, 16, 1, 4, 13, 1, 1, 2, 3, 4, 5, 6, 13, 14, 15, 4, 14, 14, 2, 6, 15, 1, 2, 5, 7, 1, 3, 11, 16, 4, 1, 2, 3, 4, 5, 6, 7, 8, 9, 10, 12, 13, 14, 15, 12, 13, 8, 1, 2, 3, 4, 5, 6, 7, 8, 9, 10, 11, 12, 13, 14, 15, 16, 6, 9, 10, 14, 16, 6, 3, 6, 15, 2, 3, 16, 1, 2, 3, 4, 5, 6, 7, 8, 9, 10, 11, 12, 13, 14, 15, 16, 3, 7, 8, 7, 7, 6, 15, 1, 2, 3, 4, 6, 7, 8, 16, 15, 12, 4, 9, 5, 4, 5, 6, 7, 9, 13, 14, 15, 16, 11, 1, 2, 3, 4, 6, 7, 8, 9, 10, 11, 12, 13, 14, 15, 2, 6, 11, 2, 1, 3, 6, 7, 10, 11, 13, 15, 1, 2, 3, 4, 5, 6, 7, 8, 9, 10, 12, 13, 14, 12, 13, 2, 5, 6, 7, 8, 10, 3, 5, 1, 2, 4, 9, 10, 12, 13, 14, 1, 3, 11, 14, 16, 1, 3, 6, 7, 7, 6, 7, 7, 1, 2, 3, 4, 5, 6, 7, 8, 9, 10, 12, 14, 10, 5, 5, 6, 8, 10, 3, 4, 11, 3, 12, 4, 1, 3, 4, 7, 9, 16, 7, 16, 9, 11, 5, 13, 3, 8, 10, 6, 8, 1, 3, 4, 5, 6, 7, 8, 9, 11, 12, 13, 14, 15, 16, 9, 13, 1, 2, 3, 4, 5, 7, 8, 10, 11, 12, 13, 15, 16, 1, 7, 13, 1, 2, 3, 4, 5, 6, 7, 9, 11, 13, 14, 15, 16, 1, 15, 5, 15, 1, 3, 11, 5, 9, 1, 2, 3, 5, 6, 7, 8, 10, 11, 12, 13, 15, 1, 3, 4, 8, 9, 9, 14, 3, 9, 10, 14, 14, 1, 7, 11, 16, 3, 1, 5, 6, 7, 10, 1, 1, 2, 4, 6, 7, 8, 9, 10, 11, 15, 16, 1, 4, 5, 6, 7, 9, 11, 13, 14, 1, 9, 13, 7, 6, 7, 1, 2, 3, 4, 5, 6, 7, 8, 9, 10, 11, 12, 13, 14, 15, 16, 7, 3, 15, 2, 3, 5, 6, 15, 2, 8, 2, 5, 7, 9, 2, 6, 7, 8, 2, 5, 6, 7, 8, 2, 1, 6, 11, 13, 10, 2, 7, 1, 3, 11, 16, 2, 1, 7, 9, 13, 1, 8, 1, 2, 3, 4, 5, 7, 11, 13, 14, 16, 12, 16, 4, 11, 1, 2, 3, 4, 5, 6, 7, 8, 9, 10, 11, 12, 13, 14, 1, 1, 2, 3, 4, 5, 6, 7, 8, 9, 10, 11, 12, 13, 14, 16, 1, 2, 3, 4, 5, 6, 7, 8, 9, 10, 11, 12, 13, 15, 1, 10, 2, 3, 5, 6, 10, 12, 13, 15, 2, 8, 10, 12, 13, 12, 16, 12, 12, 1, 2, 3, 4, 5, 6, 7, 8, 9, 10, 11, 12, 13, 14, 15, 16, 1, 2, 3, 4, 5, 6, 7, 8, 9, 10, 11, 12, 14, 15, 16, 16, 1, 2, 3, 4, 5, 6, 7, 8, 9, 10, 12, 13, 14, 15, 16, 5, 6, 14, 14, 7, 6, 16, 1, 2, 3, 4, 5, 6, 7, 9, 10, 11, 13, 14, 15, 1, 2, 3, 4, 5, 6, 7, 8, 9, 10, 13, 14, 4, 4, 3, 7, 10, 9, 13, 2, 10, 1, 8, 1, 2, 3, 4, 5, 6, 7, 8, 9, 10, 11, 12, 13, 14, 15, 16, 1, 12, 1, 2, 3, 4, 5, 6, 7, 8, 9, 10, 12, 13, 14, 15, 16, 1, 3, 7, 10, 11, 16, 12, 5, 10, 10, 2, 3, 5, 6, 7, 8, 10, 11, 12, 15, 13, 5, 11, 16, 5, 2, 5, 14, 15, 16, 14, 3, 14, 5, 7, 1, 1, 2, 3, 4, 5, 6, 7, 8, 9, 10, 11, 12, 13, 14, 15, 16, 3, 5, 6, 7, 9, 13, 16, 2, 6, 2, 12, 11, 16, 4, 16, 5, 7, 16, 2, 3, 4, 5, 6, 16, 1, 7, 10, 11, 1, 12, 1, 3, 6, 9, 14, 1, 2, 4, 5, 6, 8, 9, 10, 15, 2, 9, 13, 3, 10, 4, 10, 3, 3, 6, 15, 1, 2, 3, 4, 5, 6, 7, 9, 10, 13, 14, 15, 1, 7, 9, 11, 16, 4, 9, 4, 6, 2, 3, 5, 6, 7, 10, 14, 6, 4, 9, 1, 2, 3, 4, 5, 6, 7, 8, 9, 10, 11, 13, 14, 15, 16, 1, 3, 5, 6, 15, 4, 1, 2, 3, 4, 5, 6, 7, 8, 10, 11, 12, 14, 15, 15, 1, 2, 3, 4, 5, 6, 7, 8, 9, 10, 11, 12, 13, 14, 15, 16, 1, 2, 3, 4, 5, 6, 7, 8, 9, 13, 14, 9, 5, 16, 16, 3, 9, 11, 14, 1, 2, 3, 4, 5, 6, 7, 8, 9, 10, 11, 12, 13, 14, 15, 16, 1, 2, 3, 4, 5, 6, 7, 8, 9, 10, 11, 12, 13, 14, 15, 16, 1, 2, 3, 4, 5, 6, 7, 9, 10, 11, 12, 13, 14, 1, 2, 3, 4, 5, 6, 7, 8, 9, 10, 11, 12, 13, 14, 15, 16, 16, 1, 2, 3, 4, 5, 6, 7, 8, 10, 11, 12, 13, 14, 1, 3, 4, 13, 16, 1, 2, 3, 4, 5, 6, 7, 9, 10, 11, 12, 13, 14, 15, 16, 11, 1, 8, 11, 15, 16, 10, 1, 2, 3, 7, 8, 10, 11, 14, 16, 3, 3, 13, 16, 2, 5, 7, 8, 10, 12, 12, 4, 10, 5, 15, 13, 13, 5, 6, 10, 12, 15, 15, 5, 15, 2, 3, 15, 2, 3, 6, 7, 8, 10, 14, 16, 1, 2, 3, 4, 5, 6, 7, 8, 10, 11, 4, 2, 7, 10, 9, 10, 13, 1, 3, 4, 9, 10, 13, 14, 15, 16, 10, 1, 2, 5, 6, 7, 9, 15, 2, 5, 6, 1, 2, 3, 4, 5, 6, 7, 8, 9, 10, 11, 12, 13, 14, 15, 1, 3, 4, 7, 9, 10, 11, 12, 13, 14, 15, 5, 2, 5, 6, 7, 8, 10, 12, 16, 1, 4, 1, 4, 12, 1, 4, 5, 7, 11, 7, 14, 5, 14, 6, 1, 2, 3, 4, 5, 6, 7, 8, 9, 10, 11, 12, 13, 14, 15, 16, 10, 1, 2, 3, 4, 5, 6, 7, 8, 9, 11, 13, 14, 16, 1, 10, 8, 6, 1, 2, 3, 4, 7, 9, 10, 11, 13, 16, 1, 3, 9, 12, 1, 2, 3, 4, 5, 6, 7, 10, 13, 14, 15, 4, 10, 15, 9, 10, 4, 8, 12, 6, 1, 4, 3, 7, 11, 3, 9, 15, 1, 2, 3, 4, 5, 6, 7, 8, 9, 10, 11, 12, 14, 15, 16, 1, 2, 3, 4, 5, 6, 7, 8, 9, 10, 11, 13, 14, 16, 1, 2, 3, 4, 5, 6, 7, 8, 9, 13, 16, 7, 16, 1, 10, 12, 3, 5, 14, 16, 4, 9, 2, 6, 13, 14, 9, 2, 4, 6, 10, 12, 15, 12, 10, 1, 9, 16, 1, 2, 4, 5, 6, 7, 8, 9, 10, 11, 15, 2, 8, 1, 8, 14, 14, 1, 3, 4, 5, 6, 7, 8, 9, 10, 12, 13, 1, 6, 7, 1, 2, 3, 4, 5, 6, 7, 8, 9, 11, 13, 14, 15, 8, 2, 3, 6, 12, 15, 3, 4, 5, 7, 13, 14, 5, 3, 8, 1, 2, 3, 4, 5, 6, 7, 8, 9, 10, 11, 12, 13, 14, 15, 16, 7, 15, 2, 3, 4, 7, 9, 10, 11, 12, 15, 1, 2, 3, 4, 5, 6, 7, 8, 9, 10, 11, 12, 13, 14, 15, 16, 14, 1, 2, 3, 4, 5, 6, 7, 9, 10, 11, 14, 7, 11, 12, 1, 2, 6, 7, 10, 11, 14, 13, 11, 16, 13, 1, 2, 3, 4, 5, 6, 7, 8, 9, 10, 11, 12, 13, 14, 16, 1, 2, 3, 4, 5, 6, 7, 8, 10, 13, 4, 7, 13, 14, 9, 13, 14, 16, 1, 2, 3, 4, 8, 9, 12, 14, 4, 1, 2, 3, 4, 5, 6, 7, 8, 9, 10, 11, 12, 13, 14, 15, 16, 1, 2, 3, 4, 6, 9, 11, 14, 1, 8, 9, 16, 9, 14, 13, 1, 2, 3, 4, 5, 6, 7, 8, 9, 10, 1, 2, 3, 4, 5, 6, 7, 8, 10, 11, 12, 15, 2, 13, 1, 1, 6, 9, 10, 2, 8, 10, 10, 15, 1, 2, 3, 5, 6, 7, 8, 10, 15, 5, 13, 15, 3, 1, 2, 3, 5, 6, 7, 8, 9, 10, 11, 15, 1, 2, 3, 4, 5, 6, 7, 8, 9, 10, 11, 12, 13, 14, 15, 16, 1, 11, 3, 5, 15, 3, 4, 11, 15, 3, 16, 3, 3, 5, 14, 7, 7, 5, 1, 2, 3, 8, 1, 3, 11, 10, 11, 11, 11, 2, 3, 5, 6, 8, 10, 11, 13, 8, 1, 2, 3, 4, 5, 6, 7, 8, 9, 10, 11, 12, 13, 14, 15, 16, 3, 4, 13, 16, 7, 13, 2, 7, 8, 8, 1, 2, 3, 5, 6, 7, 8, 10, 11, 12, 15, 8, 16, 6, 7, 8, 16, 5, 9, 14, 3, 11, 14, 15, 14, 15, 1, 5, 7, 13, 14, 15, 14, 5, 13, 1, 2, 3, 4, 5, 6, 7, 8, 9, 10, 11, 12, 13, 14, 15, 16, 7, 10, 1, 4, 5, 10, 12, 14, 7, 1, 2, 3, 4, 9, 10, 15, 9, 16, 4, 6, 1, 2, 3, 4, 7, 9, 10, 11, 12, 13, 14, 15, 16, 1, 2, 3, 8, 9, 11, 13, 14, 15, 4, 13, 3, 5, 7, 13, 13, 5, 11, 1, 3, 7, 3, 4, 10, 15, 3, 5, 2, 3, 4, 5, 6, 8, 11, 15, 3, 11, 5, 1, 4, 3, 11, 15, 16, 2, 4, 5, 15, 3, 5, 15, 3, 2, 10, 12, 15, 6, 1, 8, 9, 10, 11, 12, 1, 16, 15, 4, 1, 2, 3, 5, 6, 7, 8, 9, 10, 11, 12, 13, 15, 9, 15, 9, 13, 3, 4, 16, 5, 9, 12, 16, 4, 5, 6, 11, 13, 14, 16, 1, 2, 4, 5, 7, 13, 14, 16, 1, 2, 3, 4, 5, 6, 7, 8, 9, 10, 11, 12, 13, 14, 16, 4, 9, 10, 2, 6, 7, 8, 1, 2, 3, 5, 6, 8, 9, 10, 14, 16, 10, 6, 7, 10, 8, 11, 12, 1, 2, 3, 4, 5, 6, 7, 8, 9, 11, 13, 16, 6, 2, 6, 7, 4, 7, 1, 2, 3, 4, 5, 6, 7, 8, 9, 10, 11, 12, 13, 14, 15, 16, 5, 9, 11, 12, 13, 16, 16, 2, 3, 5, 11, 12, 4, 1, 2, 4, 9, 10, 11, 1, 2, 3, 4, 5, 6, 7, 8, 9, 10, 11, 12, 13, 14, 15, 16, 9, 13, 14, 15, 13, 9, 15, 1, 2, 8, 10, 12, 2, 13, 1, 2, 3, 4, 6, 7, 8, 9, 10, 14, 3, 7, 12, 12, 3, 14, 8, 7, 13, 10, 10, 1, 3, 4, 5, 7, 11, 14, 15, 16, 8, 1, 2, 3, 4, 5, 6, 7, 8, 9, 10, 11, 12, 13, 14, 15, 1, 2, 3, 5, 6, 7, 8, 9, 12, 14, 15, 16, 6, 9, 2, 2, 2, 6, 7, 2, 7, 11, 14, 9, 3, 4, 9, 13, 14, 15, 16, 1, 2, 3, 4, 5, 6, 7, 8, 9, 10, 11, 14, 15, 1, 2, 3, 5, 6, 7, 8, 10, 12, 15, 3, 5, 15, 9, 2, 3, 4, 5, 6, 8, 9, 15, 1, 2, 3, 4, 5, 6, 7, 9, 10, 11, 13, 14, 15, 16, 7, 11, 13, 16, 11, 14, 5, 7, 11, 16, 9, 9, 3, 1, 2, 3, 5, 6, 7, 8, 10, 11, 12, 12, 8, 6, 12, 4, 1, 2, 6, 7, 8, 9, 11, 12, 13, 14, 8, 8, 6, 1, 2, 7, 9, 10, 13, 3, 1, 2, 3, 4, 5, 6, 7, 8, 9, 10, 11, 12, 13, 14, 15, 16, 15, 1, 7, 11, 12, 13, 11, 1, 6, 15, 3, 16, 1, 2, 3, 4, 5, 6, 7, 8, 9, 10, 11, 12, 13, 14, 15, 16, 4, 3, 4, 6, 10, 15, 6, 8, 1, 2, 3, 4, 6, 7, 10, 11, 1, 2, 3, 4, 7, 10, 11, 13, 14, 1, 2, 12, 15, 2, 3, 10, 12, 15, 9, 6, 14, 10, 11, 3, 11, 13, 1, 2, 4, 6, 9, 10, 12, 13, 1, 2, 3, 4, 5, 6, 7, 8, 9, 10, 11, 12, 13, 14, 15, 16, 9, 12, 1, 4, 14, 9, 1, 2, 6, 9, 10, 2, 7, 8, 7, 8, 11, 13, 8, 3, 6, 9, 11, 15, 12, 1, 2, 4, 5, 7, 8, 14, 16, 5, 15, 1, 3, 4, 5, 9, 6, 8, 10, 2, 10, 1, 2, 5, 6, 7, 1, 2, 3, 7, 9, 10, 11, 12, 16, 2, 1, 2, 4, 5, 6, 7, 13, 12, 13, 11, 6, 3, 6, 6, 1, 2, 3, 4, 5, 6, 7, 8, 9, 10, 11, 12, 13, 1, 2, 3, 4, 5, 6, 7, 8, 9, 10, 11, 12, 13, 14, 15, 16, 9, 9, 15, 1, 2, 3, 4, 5, 6, 7, 8, 9, 10, 11, 12, 13, 14, 15, 16, 5, 1, 2, 4, 5, 6, 7, 7, 6, 10, 12, 13, 13, 5, 14, 7, 14, 9, 1, 3, 1, 3, 4, 11, 12, 1, 2, 3, 4, 6, 7, 8, 9, 10, 13, 14, 2, 15, 13, 9, 13, 1, 4, 9, 10, 1, 2, 3, 4, 9, 12, 13, 14, 15, 16, 12, 1, 2, 3, 4, 5, 6, 7, 8, 9, 10, 11, 12, 13, 14, 15, 16, 1, 4, 9, 12, 13, 14, 15, 1, 2, 3, 4, 5, 6, 7, 8, 9, 10, 11, 12, 13, 14, 15, 16, 5, 7, 11, 16, 7, 1, 2, 3, 4, 5, 6, 7, 8, 9, 10, 11, 12, 13, 14, 15, 16, 1, 2, 4, 5, 6, 7, 8, 9, 10, 13, 12, 1, 2, 3, 7, 8, 9, 10, 11, 13, 16, 1, 1, 7, 11, 16, 2, 4, 5, 3, 4, 9, 14, 9, 15, 1, 2, 3, 6, 7, 8, 9, 10, 11, 12, 14, 16, 1, 2, 3, 4, 5, 6, 7, 8, 9, 10, 12, 13, 14, 15, 16, 16, 3, 16, 11, 1, 2, 3, 4, 5, 6, 7, 8, 9, 10, 11, 12, 13, 14, 15, 16, 1, 14, 16, 11, 1, 2, 3, 5, 6, 7, 8, 9, 10, 12, 16, 8, 6], \"Freq\": [0.9117864658234103, 0.08288967871121912, 0.9900927844030316, 0.9690047725931108, 0.9610632905015258, 0.04237028503623482, 0.048019656374399464, 0.08156279869475204, 0.20478971100846832, 0.19702182541849192, 0.05790605621618759, 0.0752072559393168, 0.09780474129197539, 0.03813325653261134, 0.0684986274752463, 0.0031777713777176118, 0.04907891350030534, 0.007767885589976384, 0.014123428345411608, 0.014476514054046898, 0.9615832575942674, 0.9372916617873088, 0.9844003442415127, 0.9935518593994203, 0.9509233895218763, 0.09703742312391282, 0.8871992971329172, 0.9881697512524842, 0.04795524401936675, 0.04196083851694591, 0.010490209629236477, 0.017983216507262534, 0.1888237733262566, 0.01648461513165732, 0.023977622009683376, 0.09141468391191787, 0.08542027840949704, 0.03296923026331464, 0.4106167769158278, 0.031470628887709434, 0.9818429258476202, 0.152591642931639, 0.5735714237855933, 0.0021644204671154464, 0.0010822102335577232, 0.26947034815587306, 0.0805259739445104, 0.12182134519810549, 0.0805259739445104, 0.12182134519810549, 0.0020647685626797537, 0.0020647685626797537, 0.01651814850143803, 0.4893501493551017, 0.07433166825647114, 0.014453379938758278, 0.2033429893625937, 0.08938153378575547, 0.6435470432574394, 0.03128353682501441, 0.011172691723219434, 0.004469076689287773, 0.004469076689287773, 0.008938153378575547, 0.9688725866321589, 0.06922839536982586, 0.484598767588781, 0.4465231501353768, 0.9868673082187455, 0.9833122771085332, 0.13609875566669213, 0.2553024933885535, 0.0028158363241384578, 0.010324733188507679, 0.06382562334713837, 0.08822953815633834, 0.0018772242160923053, 0.3557339889494918, 0.06758007177932299, 0.0009386121080461527, 0.016895017944830747, 0.9756933562531338, 0.01646053589246986, 0.06204355836392486, 0.19246165043503222, 0.020259121098424444, 0.035453461922242774, 0.029122486578985137, 0.16207296878739555, 0.008863365480560693, 0.06077736329527333, 0.3254121326434426, 0.08483506959965235, 0.8778898644954769, 0.11848820256994166, 0.18925501153167232, 0.20830752947110243, 0.00381050358788602, 0.010796426832343723, 0.055887385955661624, 0.004445587519200356, 0.48456903959283887, 0.02095776973337311, 0.00190525179394301, 0.0006350839313143367, 0.019687601870744437, 0.9902817886895001, 0.9815266484879723, 0.9852744900929372, 0.9952385639540904, 0.9888413695504702, 0.9721459658282364, 0.7777391115664279, 0.1786195088765002, 0.040933637450864625, 0.7843554444708573, 0.16471464333888003, 0.03921777222354286, 0.992112911806473, 0.9849624216285152, 0.9890720132395562, 0.9759793373445793, 0.9542785476175153, 0.026461625213160356, 0.006615406303290089, 0.16759029301668224, 0.7960538918292407, 0.9815309494950922, 0.9949799276316652, 0.23698360509035546, 0.7315580852789234, 0.020607270007856997, 0.0019262766797419732, 0.9265390829558892, 0.06934596047071104, 0.009568649249662164, 0.22064179446279814, 0.633219435639408, 0.13621253637754374, 0.09768336961004619, 0.03941609650931688, 0.17308807597569587, 0.041129839835808917, 0.6460812340874984, 0.9889071258649509, 0.9425402826221486, 0.05566938532798841, 0.992510738189618, 0.9868856485547499, 0.05155450829902603, 0.9365735674323062, 0.9849568440508388, 0.9947412635412809, 0.986502925011122, 0.00451567868382266, 0.04365156061028572, 0.0030104524558817736, 0.00903135736764532, 0.00451567868382266, 0.7496026615145617, 0.054188144205871924, 0.006020904911763547, 0.12794422937497538, 0.0015052262279408868, 0.9641425256743235, 0.9831142135943277, 0.09086617646845217, 0.8604470588033022, 0.048214705881219524, 0.4283059092308044, 0.06217343843672968, 0.5042956673201408, 0.9685097056884552, 0.0698500468046818, 0.12700008509942146, 0.7747005191064709, 0.02540001701988429, 0.9997900734675066, 0.9767615919672367, 0.980206073231534, 0.9686176443169134, 0.9869472130693605, 0.3395433906042328, 0.13598339212951915, 0.04781833569389684, 0.051803197001721576, 0.010626296820865964, 0.06226345793476151, 0.018263947660863377, 0.027727993266947127, 0.03104871102346774, 0.027229885603469034, 0.03503357233129248, 0.13399096147560677, 0.0189280912121675, 0.008301794391301536, 0.05064094578693936, 0.0008301794391301535, 0.0037668149607853556, 0.09417037401963389, 0.6604482231243657, 0.07156948425492175, 0.169506673235341, 0.984301614466592, 0.9825151331713619, 0.9116613090588818, 0.0015691244562115003, 0.07845622281057502, 0.006276497824846001, 0.9839022517587045, 0.9936647574821657, 0.9857035583864895, 0.9907688019784566, 0.9977859516882478, 0.001599015948218346, 0.3513420799438976, 0.027947665450082763, 0.03593271272153498, 0.07585794907879607, 0.16369346906477047, 0.015970094542904437, 0.32738693812954095, 0.052226452817297736, 0.3133587169037864, 0.020574057170450622, 0.3703330290681112, 0.1281922023697308, 0.11553124411099196, 0.01759526014453285, 0.26958452150016404, 0.7119796337055614, 0.06968522308793713, 0.9294161681728482, 0.9051145431139596, 0.09204554675735183, 0.04028579735482364, 0.06042869603223546, 0.7936302078900257, 0.016114318941929457, 0.08460017444512964, 0.004028579735482364, 0.9809378742196311, 0.8968273430706594, 0.002404362850055387, 0.040072714167589785, 0.004007271416758979, 0.056903254117977496, 0.341858479730554, 0.03707914488449723, 0.03455102136964514, 0.020786793344339357, 0.046348931105621535, 0.05898954867988195, 0.12809159141917226, 0.019382280280532644, 0.10646209023654886, 0.019663182893293985, 0.036517339658974544, 0.04438261281629214, 0.050562470297041674, 0.00955068883388565, 0.005618052255226853, 0.03960726839934931, 0.9863029366126548, 0.9833875401207768, 0.34527443640190714, 0.20402580332839967, 0.45121091120703777, 0.9787707197341962, 0.01677892662401479, 0.0033557853248029584, 0.17383761294336772, 0.8220456612067727, 0.9633265125559493, 0.05242738581141753, 0.01474520225946118, 0.06225752065105832, 0.8716052891148165, 0.5822628717777306, 0.015227797059569004, 0.0008014630031352107, 0.34943786936695187, 0.007613898529784502, 0.04448119667400419, 0.5289359799831919, 0.02549876788546908, 0.05753568138259689, 0.037267429986454804, 0.041844131914615924, 0.0052305164893269905, 0.029421655252464318, 0.0016345364029146845, 0.047728462965108784, 0.0212489732378909, 0.07813084005932192, 0.07813084005932192, 0.03694052270587187, 0.002288350964080558, 0.0003269072805829369, 0.007845774733990485, 0.8122954598455816, 0.18759289767734283, 0.8488716166081977, 0.14635717527727546, 0.9789858018751817, 0.988284906280328, 0.16259863531071178, 0.07390847059577808, 0.7587936314499883, 0.01370015744227689, 0.044262047121202255, 0.04953133844515491, 0.5922683448122779, 0.2992957472005105, 0.975807131306851, 0.15986201090667704, 0.5852575314549532, 0.06502861460610591, 0.01625715365152648, 0.06773814021469365, 0.10296197312633436, 0.01873410973024568, 0.9741737059727753, 0.00415960510466509, 0.06239407656997636, 0.34732702623953504, 0.002079802552332545, 0.09047141102646572, 0.01975812424715918, 0.02391772935182427, 0.3026112713643853, 0.14766598121561073, 0.9990909983937784, 0.9606951090029295, 0.17817624851006103, 0.15737746463729127, 0.5941519259654564, 0.0034664639787949617, 0.06655610839286326, 0.8692581319015554, 0.01178084593090201, 0.024964173520244735, 0.03674501945114674, 0.05694075533269305, 0.9726967621497133, 0.994007996454611, 0.9740070834434094, 0.45791551315030576, 0.5404467974971632, 0.9807209784768777, 0.989238354358935, 0.9979068919223042, 0.0009464910156088941, 0.9969705364413685, 0.0018929820312177882, 0.9651505414664228, 0.015319849864546393, 0.854070987147919, 0.05614999569484588, 0.08865788793923035, 0.9981468687639081, 0.1647464293945096, 0.08801521570391609, 0.3076771215632622, 0.01730213642042795, 0.24072537628421495, 0.011284002013322575, 0.0007522668008881717, 0.006018134407105373, 0.0045136008053290304, 0.01354080241598709, 0.015797602818651606, 0.12863762295187736, 0.9604316891997142, 0.02631319696437573, 0.9364294376361078, 0.9784848525268969, 0.9981496042188275, 0.9738619897026255, 0.9867415203064435, 0.9662734668947122, 0.2061647600466058, 0.04417816286712982, 0.7480835578833982, 0.9876913455764021, 0.9939230932402031, 0.2011985745715139, 0.12340179240386187, 0.008047942982860557, 0.6652966199164727, 0.9939315747455655, 0.9812643843207379, 0.16097828110162227, 0.8387685552944741, 0.21119051121324375, 0.20370148599291596, 0.166256359891277, 0.3265214996062918, 0.04193854123383564, 0.014978050440655586, 0.03594732105757341, 0.09121766259800884, 0.17432087054772855, 0.006715410743411694, 0.2258056862472182, 0.018747188325357645, 0.15361502075554248, 0.016508718077553747, 0.13374859730628288, 0.008674072210240105, 0.013710630267798875, 0.039732846898519185, 0.07610798842533252, 0.001119235123901949, 0.02238470247803898, 0.009233689772191078, 0.007834645867313642, 0.9928967658007934, 0.10176739838232582, 0.040340229989390415, 0.3850658317169085, 0.0256710554477939, 0.06692810884603409, 0.04309070021593976, 0.0412570533982402, 0.09351598770267779, 0.044924347033639324, 0.056843051348686495, 0.03025517249204281, 0.027504702265493463, 0.024754232038944116, 0.0036672936353991286, 0.007334587270798257, 0.006417763861948475, 0.8968415458592677, 0.09898251175035395, 0.9824183357571308, 0.9989802847827367, 0.9629958719834685, 0.9881966993282657, 0.05205370094933342, 0.9369666170880016, 0.9613845645273106, 0.997756098560017, 0.8721665221301921, 0.12324092160535323, 0.09800612046885689, 0.11885070579245705, 0.039129309291670474, 0.081915563376955, 0.02340444667913, 0.022307363241045784, 0.0987375094275797, 0.14993473653817657, 0.04790597679634422, 0.07679584066589532, 0.12433612298287813, 0.04498042096145297, 0.02377014115849141, 0.05010014367251266, 0.015293161786614797, 0.6193730523578993, 0.03249796879655644, 0.015293161786614797, 0.08028909937972768, 0.12425693951624522, 0.05161442102982494, 0.05734935669980549, 0.9918334757241264, 0.9978979342635853, 0.04428766887134096, 0.0020902734570544404, 0.8380690141877647, 0.11548760850225784, 0.9853125211141087, 0.9791560526273129, 0.023754604769518555, 0.9660205939604213, 0.04387781953214414, 0.12628250499495142, 0.019263432965331576, 0.08026430402221489, 0.03959705665095935, 0.08026430402221489, 0.3338995047324139, 0.10594888130932366, 0.06635182465836431, 0.027824958727701164, 0.06528163393806811, 0.010701907202961986, 0.0063246262824271, 0.9803170737762005, 0.0042164175216180665, 0.0063246262824271, 0.1710161849683896, 0.8250780853738096, 0.005586083447762325, 0.9936245932707235, 0.9936686862113538, 0.9772478930419914, 0.9819049210904734, 0.0006864179692610003, 0.32330286352193116, 0.0006864179692610003, 0.06246403520275103, 0.6115984106115513, 0.0006864179692610003, 0.8931167432844422, 0.10336999343569933, 0.98889863528197, 0.39930062739901423, 0.1271822531893384, 0.028728986126525677, 0.04809684194216097, 0.009683927907817644, 0.10587761179213957, 0.10813719497063036, 0.023887022172616856, 0.04551446116674293, 0.046482853957524696, 0.006455951938545096, 0.0019367855815635288, 0.04841963953908822, 0.9824160268302301, 0.00450584149259782, 0.06082886015007057, 0.09687559209085314, 0.8358335968768956, 0.9954976483207616, 0.9921937928066309, 0.3403271395916897, 0.0021138331651657746, 0.5474827897779356, 0.10780549142345451, 0.982482105896122, 0.9916328071164698, 0.06739909253995092, 0.07301568358494682, 0.008424886567493866, 0.5050251447958822, 0.08284471791368968, 0.0018721970149986366, 0.03884808806122171, 0.00046804925374965915, 0.00046804925374965915, 0.22091924776983912, 0.02048512961268069, 0.9771406825248689, 0.993220622598615, 0.24144391721147532, 0.08576664521840467, 0.015135290332659647, 0.06270334566387568, 0.04252295855366282, 0.06630698621927084, 0.12756887566098846, 0.0958568387735111, 0.019459658999133832, 0.023784027665608016, 0.029549852554240263, 0.019459658999133832, 0.1708125623257303, 0.08576347637496812, 0.01405958629097838, 0.1145856282714738, 0.004452202325476487, 0.006795466707306217, 0.04545932900749676, 0.051083163523888114, 0.07100091076944082, 0.00234326438182973, 0.03983549449110541, 0.42998901406575546, 0.1136483225187419, 0.01874611505463784, 0.00234326438182973, 0.9736868519955969, 0.999342942704554, 0.9977103636885352, 0.055414849823453606, 0.03217636441361822, 0.06971545622950615, 0.15730667046657798, 0.17160727687263053, 0.08044091103404555, 0.38254122136190555, 0.0500521224211839, 0.9880776757735867, 0.9684324728924324, 0.9837648983572077, 0.06328400705266357, 0.3401515379080667, 0.192286021429247, 0.0024340002712562913, 0.217234524209624, 0.07180300800206059, 0.08032200895145761, 0.007302000813768874, 0.024948502780376986, 0.894941227406813, 0.10286680774790954, 0.9745944891022076, 0.9717032873952762, 0.9994951636723785, 0.9948843943704815, 0.10260316307523261, 0.8905954554930191, 0.8405918963678247, 0.006890097511211678, 0.013780195022423357, 0.03617301193386131, 0.0017225243778029196, 0.012057670644620436, 0.0017225243778029196, 0.08612621889014598, 0.03210398733840259, 0.001003249604325081, 0.9229896359790745, 0.04012998417300324, 0.0030097488129752427, 0.9912189358067274, 0.99329307149494, 0.01603962391224726, 0.2222633599268549, 0.7607364484094415, 0.7145055594389358, 0.28111694141859767, 0.9912621767714838, 0.4577256296193715, 0.0467311506679463, 0.07339187124132593, 0.09406141865214833, 0.06859893271128015, 0.00629073182068508, 0.06919805002753587, 0.04733026798420203, 0.03864306689849406, 0.030255424470913953, 0.01318058095762588, 0.0068898491369408016, 0.014678374248265185, 0.02516292728274032, 0.0017973519487671655, 0.005991173162557218, 0.1786368694153228, 0.11388100425226828, 0.10420484049227163, 0.07964227094766475, 0.064011544873824, 0.04689217822152223, 0.06475586516305451, 0.07964227094766475, 0.002232960867691535, 0.03870465503998661, 0.03870465503998661, 0.01711936665230177, 0.05656834198151889, 0.009676163759996652, 0.10643780135996317, 0.7101705334714818, 0.2888829288697553, 0.03270471576566846, 0.07631100345322642, 0.5063174514833118, 0.0835787180678194, 0.02422571538197664, 0.059353002685842766, 0.21682015266869092, 0.9828973775375578, 0.016234040770139846, 0.9920485906244587, 0.9820529820099091, 0.17022233721528104, 0.5399239758547196, 0.045215308322809025, 0.0026597240189887663, 0.07713199655067422, 0.05053475636078656, 0.053194480379775325, 0.05851392841775286, 0.9791817347880588, 0.9900495331362973, 0.9704955569462196, 0.9642946967063721, 0.6013555839518547, 0.3959102598971286, 0.18881527548287572, 0.06395356105065146, 0.7461248789242669, 0.6633093929336662, 0.006359855685088419, 0.3250592905711859, 0.004711004211176607, 0.00047110042111766067, 0.1639583914937113, 0.8340492089027922, 0.9930697703633176, 0.9954965851308855, 0.02105936942201839, 0.04211873884403678, 0.1544353757614682, 0.007019789807339464, 0.6844295062155977, 0.007019789807339464, 0.08072758278440383, 0.7231494571358281, 0.008059102394141248, 0.0006199309533954806, 0.0024797238135819224, 0.007439171440745768, 0.23712358967377134, 0.006509275010652547, 0.007129205964048028, 0.007439171440745768, 0.9999279532325439, 0.22810577208674937, 0.04939802267360382, 0.05430581758286035, 0.3702184420678299, 0.004374338940859085, 0.021765003510615936, 0.11672016588536192, 0.0012802943241538786, 0.03254081407224441, 0.027846401550346858, 0.011415957723705418, 0.021551621123256957, 0.024112209771564714, 0.014189928759372155, 0.018670958893910728, 0.003627500585102656, 0.9832485406755275, 0.9977096062900745, 0.9756528320242654, 0.2599794894053702, 0.0737872821389247, 0.06896007676535018, 0.03310083684736809, 0.08275209211842022, 0.29239072548508477, 0.08275209211842022, 0.0027584030706140077, 0.07930408828015272, 0.012412813817763034, 0.01103361228245603, 0.8467538017964513, 0.14902866911617543, 0.040821776061563196, 0.16113858971669684, 0.408217760615632, 0.07734652306401447, 0.31153460678561384, 0.02895388708803824, 0.969955217449281, 0.5285672411493731, 0.40730769759157576, 0.062184381311690955, 0.9644623455738396, 0.9653264505199822, 0.9961056171618403, 0.9961179679423621, 0.08171168927252742, 0.0071053642845676016, 0.9059339462823692, 0.8579856309714686, 0.1391328050224003, 0.9933648812623069, 0.9868285613741603, 0.9926237393327516, 0.01728294805827859, 0.8641474029139296, 0.11233916237881084, 0.9897357442702621, 0.9480589361674926, 0.24920517833179884, 0.042083106473064416, 0.13612970093895618, 0.0504997277676773, 0.021590463320963482, 0.019760763039525897, 0.07209019108864077, 0.16869836594854518, 0.009148501407187917, 0.0032934605065876497, 0.09843787514134197, 0.038789645966476764, 0.04793814737366468, 0.04244904652935193, 0.24243815535562147, 0.02540967102987401, 0.06098321047169763, 0.050520404753514214, 0.07323964002728392, 0.0002989373062338119, 0.002391498449870495, 0.5443648346517714, 0.07184032412802023, 0.7902435654082225, 0.022104715116313914, 0.11052357558156958, 0.153274621345046, 0.02071278666824946, 0.8243689093963285, 0.9608945626332649, 0.833990347079073, 0.16067703934550948, 0.974927934085532, 0.967674493696125, 0.9910583658944935, 0.9778829252129646, 0.7473182217399839, 0.056985049588016194, 0.030934741204923077, 0.14327669610701216, 0.01953773128731984, 0.9661085681134866, 0.9789763222286302, 0.20781240709342644, 0.1803482123233701, 0.611536070213255, 0.9997518016732843, 0.9922783603706119, 0.8719467851613836, 0.09243252139519968, 0.03389192451157321, 0.01575145139812701, 0.11813588548595257, 0.858454101197922, 0.994802580177609, 0.0007178953098674706, 0.018665278056554237, 0.0028715812394698825, 0.6985121365010489, 0.2792612755384461, 0.3091400576351078, 0.6840545956181109, 0.9779465777976967, 0.0877390725275704, 0.9121207748178674, 0.7647443809443029, 0.0014664321782249337, 0.23316271633776445, 0.9899986869919924, 0.015377220069797887, 0.02808014099702223, 0.029417290568309003, 0.2413554976172625, 0.0026742991425735456, 0.05214883328018414, 0.008691472213364023, 0.6077344801498382, 0.014040070498511114, 0.0037925823387150565, 0.9936565727433448, 0.9863728209467167, 0.05255540745917872, 0.2489466669118992, 0.6970506673533178, 0.9038350596295802, 0.007006473330461863, 0.007006473330461863, 0.08174218885538839, 0.9261349988257254, 0.01634355880280692, 0.027239264671344864, 0.027239264671344864, 0.9838752045696486, 0.1519551110006821, 0.04452638136299057, 0.08834599476783843, 0.37246671394120684, 0.012721823246568734, 0.10530842576326341, 0.07774447539569782, 0.023323342618709348, 0.007774447539569782, 0.06926325989798533, 0.021909806702423932, 0.015548895079139565, 0.0021203038744281224, 0.00565414366514166, 0.07118073570655176, 0.9267452648853013, 0.9671342508498023, 0.12973705000998612, 0.06441804913690283, 0.16667607119338496, 0.025677124481143086, 0.10405992552884304, 0.02162284166833102, 0.01126189670225574, 0.07838280104769994, 0.04910186962183503, 0.05045329722610571, 0.19865985782779125, 0.008108565625624132, 0.03468664184294768, 0.018469510591699413, 0.03738949705148906, 0.0013514276042706887, 0.023932906167179545, 0.1316309839194875, 0.8376517158512841, 0.9851199598519538, 0.9722657177613734, 0.9828608525013609, 0.8353196258457886, 0.0011553521795930686, 0.16290465732262266, 0.9886812003644848, 0.7824524321234281, 0.21498074248935772, 0.361392725439646, 0.11861094578531972, 0.08472210413237123, 0.06883670960755163, 0.05798169001559156, 0.05851120316641888, 0.06195303864679646, 0.03150603247422555, 0.015885394524819605, 0.048715209876113455, 0.013767341921510325, 0.003177078904963921, 0.03362408507753483, 0.014561611647751304, 0.02303382206098843, 0.0034418354803775813, 0.07601314522139954, 0.9067282322838374, 0.013573775932392776, 0.985585019408607, 0.9936626814713043, 0.9752381830532345, 0.989101047014272, 0.2240591619708368, 0.0009108096015074667, 0.14026467863214986, 0.015483763225626933, 0.0081972864135672, 0.41623998788891226, 0.1420862978351648, 0.0519161472859256, 0.9895197850874659, 0.9976952897266588, 0.9603126326954224, 0.031745872155220574, 0.9986722470677731, 0.0043212605130432844, 0.6395465559304061, 0.1063030086208648, 0.08469670605564837, 0.04839811774608479, 0.05358363036173673, 0.021606302565216423, 0.008642521026086569, 0.031113075693911647, 0.9814894535016349, 0.32578684546469305, 0.04123884119806241, 0.014433594419321844, 0.05361049355748113, 0.018557478539128085, 0.055672435617384254, 0.010309710299515603, 0.03402204398840149, 0.015464565449273403, 0.2433091630685682, 0.12371652359418722, 0.006185826179709361, 0.05154855149757801, 0.0051548551497578015, 0.7764538687158252, 0.040440305662282565, 0.17793734491404328, 0.9910991471292273, 0.1687857914717957, 0.11593367495032432, 0.003409813969127186, 0.044327581598653416, 0.07160609335167091, 0.494423025523442, 0.02898341873758108, 0.07160609335167091, 0.0014203749798128828, 0.15048872911117495, 0.0012073187328409504, 0.00028407499596257656, 0.02535369338965996, 0.3996935193193452, 0.2868447271732117, 0.08131646759428754, 7.101874899064414e-05, 0.047369505576759646, 0.00014203749798128828, 0.005255387425307667, 0.000497131242934509, 0.9750631550075758, 0.02285304269549006, 0.5975505446423238, 0.046530575197557995, 0.14367335499596856, 0.011428562329224772, 0.17061210905771265, 0.030204057584379752, 0.08486844127845354, 0.9093047279834309, 0.0067469437420674275, 0.0647706599238473, 0.15383031731913735, 0.03913227370399108, 0.30361246839303424, 0.005397554993653942, 0.280672859670005, 0.14438459608024296, 0.365598168601419, 0.02139138220540218, 0.011668026657492097, 0.0058340133287460485, 0.593124688422515, 0.010233777464866752, 0.9824426366272082, 0.9878321875150485, 0.9992748007238492, 0.9971237446273216, 0.042580529406991106, 0.9509651567561347, 0.9983952492275225, 0.2985408029934008, 0.360736803617026, 0.001130836374975003, 0.13909287412192536, 0.021485891124525057, 0.05993432787367516, 0.038448436749150106, 0.04071010949910011, 0.013570036499700037, 0.015831709249650043, 0.007915854624825022, 0.002261672749950006, 0.9751092539418044, 0.9973992198242276, 0.938949399380608, 0.0052651368189566795, 0.05440641379588569, 0.0017550456063188933, 0.949446519861072, 0.03977644800875165, 0.00864705391494601, 0.995289175198924, 0.9873053573099864, 0.9986416958624563, 0.06383178310962101, 0.10147616802042314, 0.05892164594734247, 0.022913973423966515, 0.6988761894309787, 0.05401150878506393, 0.8644594891934532, 0.1317773611575386, 0.9877737521002251, 0.9796918518276038, 0.0020072570419631705, 0.9978297784159139, 0.25901334503110524, 0.7365691999322056, 0.9953056850069124, 0.9705250580221293, 0.9874112448356427, 0.05888922718104213, 0.09950248730589877, 0.13673130908701736, 0.2423257854116446, 0.02098351773117593, 0.025721731412409205, 0.2666937414865586, 0.026398619081156816, 0.004061326012485664, 0.004061326012485664, 0.09611804896216071, 0.0033844383437380532, 0.008799539693718939, 0.006091989018728496, 0.007962445500847019, 0.9873432421050303, 0.9580108976024135, 0.0003891980083698613, 0.0007783960167397226, 0.0056433711213629886, 0.009016420527235119, 0.009989415548159773, 0.00019459900418493064, 6.486633472831021e-05, 0.01504898965696797, 0.00025946533891324085, 6.486633472831021e-05, 0.00019459900418493064, 0.00025946533891324085, 0.938082942163801, 0.0594559611230578, 0.9884052322305714, 0.8295322403425305, 0.0022883648009449117, 0.020595283208504206, 0.05377657282220542, 0.01716273600708684, 0.006865094402834735, 0.012586006405197015, 0.0022883648009449117, 0.02974874241228385, 0.006865094402834735, 0.01373018880566947, 0.0011441824004724559, 0.0034325472014173674, 0.9690597342949143, 0.025727249583050824, 0.9882482081588403, 0.009066497322558167, 0.7912966997880224, 0.028429821549270266, 0.17847610194819669, 0.10489962325532509, 0.8916467976702632, 0.0035318055688465574, 0.02001356489013049, 0.1506903709374531, 0.13774041718501573, 0.025899907504874753, 0.34023060313221837, 0.24604912129631015, 0.04591347239500524, 0.005886342614744262, 0.007063611137693115, 0.005886342614744262, 0.011772685229488523, 0.7409049557558314, 0.006970879960068306, 0.21808895875070844, 0.03087103982315964, 0.002987519982886417, 0.1898677745701765, 0.8044397817315373, 0.025140293841641577, 0.06913580806451433, 0.03142536730205197, 0.8673401375366344, 0.9761975470929484, 0.9100121135627955, 0.04371237226720852, 0.003973852024291683, 0.03973852024291683, 0.9898594677262516, 0.02128112099235667, 0.10808569346117992, 0.7487594412310754, 0.1209663719565537, 0.0005600294997988597, 0.9861154618562804, 0.6323870017075572, 0.11167201548331614, 0.00025265161874053424, 0.001010606474962137, 0.0007579548562216028, 0.0841329890405979, 0.003031819424886411, 0.007579548562216027, 0.09044927950911126, 0.0012632580937026712, 0.06771063382246319, 0.7879940913934689, 0.003770306657385019, 0.007540613314770038, 0.003770306657385019, 0.1114933540112427, 0.05817044557108315, 0.007001998078000749, 0.008079228551539325, 0.011849535208924344, 0.21802246075510887, 0.6904044590578448, 0.08919100667254454, 0.9929676475096543, 0.9662674833975461, 0.023006368652322525, 0.41453824791168703, 0.11267489638500795, 0.08321897235662117, 0.01975702221416186, 0.0732805914852549, 0.03508368187120864, 0.06525804307101948, 0.059390806171056264, 0.002275051042842881, 0.02322946854271152, 0.030653319314093555, 0.0477760718997005, 0.021433375614151352, 0.002634269628554915, 0.006106715957104575, 0.0025145300999842367, 0.9922036339237225, 0.9870500196304733, 0.9981305514190891, 0.03634396257572667, 0.0033039965977933335, 0.45595153049548004, 0.049559948966900004, 0.4526475338976867, 0.07536759457416164, 0.9194846538047721, 0.6145243479981328, 0.010517531628329902, 0.3410685256615554, 0.033055099403322546, 0.38381289822693326, 0.0036380369500183247, 0.5347914316526937, 0.07639877595038481, 0.10997807331631156, 0.004488900951686186, 0.8214688741585721, 0.031422306661803304, 0.031422306661803304, 0.9928684877004142, 0.9781152132608976, 0.9849766328681132, 0.9090609069097728, 0.08762032837684558, 0.9901327168419554, 0.9861208822895384, 0.9887076413228988, 0.8708961941765129, 0.08937361171708798, 0.031777284166075725, 0.006951280911329065, 0.9777509541960199, 0.008240783717193636, 0.4897380037646504, 0.41557095030990765, 0.0859396016221622, 0.12450402677093504, 0.8559651840501784, 0.7930394046837488, 0.0243567542302661, 0.07967548417697215, 0.0024769580573151965, 0.0012384790286575982, 0.0012384790286575982, 0.020641317144293306, 0.0024769580573151965, 0.019402838115635705, 0.05573155628959192, 0.25868992804939867, 0.7362713336790578, 0.9806447002044755, 0.9996135676019072, 0.1171998822159653, 0.13033015947667512, 0.030151007043111407, 0.14832350238949968, 0.2519068007795437, 0.1381110645200587, 0.03695929895607205, 0.006321985347749166, 0.021883795434516344, 0.001458919695634423, 0.04522651056466711, 0.004863065652114743, 0.0549526418688966, 0.012643970695498332, 0.9871643160588004, 0.19016235867707074, 0.19500963448648626, 0.038032471735414144, 0.01155888846860626, 0.03318519592599862, 0.06376032026231195, 0.18382361338783504, 0.058167309712986344, 0.007084480029145772, 0.061523116042581705, 0.05555723812330106, 0.052574299163660736, 0.0238635116771226, 0.009321684248876016, 0.01640616427802179, 0.09189812046081135, 0.21801362619958436, 0.18770679923910402, 0.13882482027058735, 0.06843477055592334, 0.06647949139718268, 0.029329187381110004, 0.046926699809776005, 0.005377017686536834, 0.02541862906362867, 0.0043993781071665, 0.07087886950434917, 0.011242855162758834, 0.03568384464701717, 0.9823734273650874, 0.989485387627414, 0.011707844955465571, 0.008362746396761123, 0.11707844955465573, 0.055194126218623414, 0.10704315387854237, 0.6021177405668009, 0.0016725492793522245, 0.0953353089230768, 0.0016340948219008534, 0.13726396503967167, 0.07843655145124095, 0.6340287908975311, 0.14870262879297766, 0.99047742022934, 0.9739861141883939, 0.9947433592922518, 0.9946430008342554, 0.0064031745259907884, 0.16232912717241513, 0.07389609520535316, 0.21078558304477785, 0.1773852402470421, 0.10573890906433438, 0.009691291174472545, 0.01938258234894509, 0.02578575687493588, 0.07476138906021677, 0.008825997319608925, 0.11041149588059793, 0.005018704358208997, 0.00017305877097272403, 0.006922350838908961, 0.0024228227936181363, 0.12817664117913594, 0.030899725998541697, 0.10128243521744222, 0.009727691518059424, 0.22144803632288215, 0.005149954333090283, 0.0017166514443634276, 0.021744251628603415, 0.0005722171481211425, 0.00228886859248457, 0.010872125814301708, 0.07324379495950624, 0.0005722171481211425, 0.35878015187195633, 0.03376081173914741, 0.9933256743459468, 0.09849180349377677, 0.09752777279073817, 0.02715353146892051, 0.41003439235908373, 0.06941021061877906, 0.026992859685080747, 0.0069088867051099526, 0.010925681301104112, 0.12918011420717215, 0.019923301196131026, 0.00016067178383976635, 0.02779621860427958, 0.07535506662085041, 0.00016067178383976635, 0.0003213435676795327, 0.8850427957026284, 0.033189104838848564, 0.07744124462397999, 0.9750178516007875, 0.9951467978222579, 0.2315128213604051, 0.7593620540621288, 0.08034726143527832, 0.009652106081510707, 0.06234738793192051, 0.723907956113303, 0.0018260741235290527, 0.02191288948234863, 0.017999873503357803, 0.020608550822685024, 0.004173883710923549, 0.0005217354638654436, 0.008869502885712541, 0.011478180205039759, 0.035738879274782885, 0.04524783785236709, 0.11643041203474946, 0.0008277043509579346, 0.058491107467694044, 0.2753496474186729, 0.0670440524275927, 0.003310817403831738, 0.03310817403831738, 0.273694238716757, 0.017105889919797314, 0.011311959463091773, 0.09794501486335559, 0.9818124511227917, 0.9811217409842472, 0.9860582712238747, 0.05955256935510702, 0.93299025323001, 0.0962351411904865, 0.8994284349726238, 0.00028127141050884874, 0.9996385929484484, 0.9882980075244616, 0.9771440451229758, 0.26069514440131797, 0.07844340381084702, 0.07515535694452409, 0.01174302452258189, 0.054957354765683246, 0.037577678472262045, 0.2174808141582166, 0.1442043411373056, 0.014091629427098268, 0.033819910625035844, 0.031941026701422744, 0.015970513350711372, 0.0018788839236131025, 0.002348604904516378, 0.011273303541678614, 0.007985256675355686, 0.984687963073564, 0.992322543093957, 0.05692313373848452, 0.11384626747696903, 0.19827158942618203, 0.1771652589388788, 0.0031979288617126136, 0.014710472763878022, 0.28845318332647774, 0.07675029268110273, 0.011512543902165408, 0.03581680325118127, 0.006395857723425227, 0.008954200812795318, 0.0006395857723425228, 0.005756271951082704, 0.0006395857723425228, 0.42465069112540604, 0.08903966104242385, 0.03881215994156937, 0.05935977402828257, 0.05022750110085448, 0.3356110300829822, 0.9837030037411525, 0.9987290231045445, 0.9852115523947598, 0.989902370526458, 0.16070648260755782, 0.646894448977258, 0.0203425927351339, 0.0406851854702678, 0.0203425927351339, 0.02441111128216068, 0.02237685200864729, 0.01017129636756695, 0.02441111128216068, 0.02644537055567407, 0.9907052227874048, 0.9959853453447248, 0.7869525600011907, 0.21093573773227792, 0.961635374392673, 0.9647292014737723, 0.7546085343037757, 0.19053865491170335, 0.0528225974012643, 0.9673090563757392, 0.9670745114746748, 0.9979944831374019, 0.9587209189684509, 0.9900369872358068, 0.9943864718394773, 0.9742093726891654, 0.1260808739605332, 0.10750542291662406, 0.13467202006834117, 0.03668651581172052, 0.04040160602050235, 0.020897382424397766, 0.05549415999367851, 0.06106679530685125, 0.1286349984790707, 0.04736740016196827, 0.006501407865368194, 0.17275169470835486, 0.022058348114642086, 0.011377463764394339, 0.020432996148300037, 0.008358952969759106, 0.006249773952175663, 0.1687438967087429, 0.022915837824644097, 0.004166515968117109, 0.11874570509133761, 0.12082896307539616, 0.5562298817436341, 0.1030341987742733, 0.8929630560437021, 0.9768394805678702, 0.9840902160279962, 0.985783831756064, 0.9831717154540017, 0.9905415935450543, 0.9803961276370484, 0.1427560609104609, 0.85104574773544, 0.9933065510777283, 0.0188219244938417, 0.32223831841771583, 0.17811117437690943, 0.4613114271777684, 0.016904876628728197, 0.002439879101053554, 0.8288943311150261, 0.01509694792143586, 0.006470120537758226, 0.1488127723684392, 0.9779286799868265, 0.9914442218676599, 0.11846490894722429, 0.008775178440535132, 0.028519329931739182, 0.2391236125045824, 0.6010997231766566, 0.0008430064935571188, 0.0646304978393791, 0.0011240086580761584, 0.0001405010822595198, 0.004215032467785594, 0.9236541147740831, 0.0023885183984118366, 0.0014050108225951978, 0.0015455119048547177, 0.9713602981965528, 0.637106870226852, 0.3616011966152403, 0.12625255282919118, 0.8643444001383088, 0.1723689042931914, 0.8243730205326545, 0.997173367355471, 0.8524912267197228, 0.09450249164560437, 0.051188849641369036, 0.04073443341156912, 0.1508040726300644, 0.10053604842004293, 0.4498121476724335, 0.08926907747641744, 0.0416011234841557, 0.03293422275828993, 0.0008666900725865771, 0.05893492493588724, 0.019067181596904695, 0.012133661016212079, 0.004333450362932885, 0.8776278714829546, 0.0415190999559636, 0.008590158611578675, 0.044382486159823153, 0.027202168936665803, 0.8832948868684278, 0.11276104938745887, 0.9871319394547217, 0.9628356267610755, 0.09381399286836227, 0.10842436880687771, 0.023837981794419923, 0.17993831419013748, 0.1499485951584479, 0.4406181796194392, 0.0030758686186348285, 0.9843326027313022, 0.9773662385309215, 0.987992548404033, 0.31876346190277216, 0.12975446210424918, 0.0439002596786043, 0.17733109820914053, 0.008434040036776197, 0.035033704768147274, 0.01427299083146741, 0.013191703647265332, 0.10272228249919726, 0.035033704768147274, 0.0002162574368404153, 0.02984352628397731, 0.05017172534697635, 0.03871008119443434, 0.0025950892420849836, 0.17652863831392807, 0.0769483808035071, 0.11768575887595205, 0.013579126024148312, 0.6110606710866741, 0.9778995500139709, 0.10726316126817027, 0.25172241878256085, 0.0575241953575268, 0.00043251274704907367, 0.044765069319579125, 0.09601782984489436, 0.05319906788703606, 0.2629677502058368, 0.025950764822944422, 0.013407895158521284, 0.08282619105989761, 0.0017300509881962947, 0.0019463073617208314, 0.9602739049925212, 0.4756500838109091, 0.09228732686735232, 0.0452428110022161, 0.04203978013480257, 0.03503315011233548, 0.05164887273704316, 0.014814017761787573, 0.056053040179736766, 0.04384148499772268, 0.019218185204481177, 0.054451524746029996, 0.007407008880893786, 0.03423239239548209, 0.015614775478640956, 0.00500473573033364, 0.007607198310107133, 0.0240736766707687, 0.08458318830270084, 0.01951919730062327, 0.037086474871184216, 0.2199162895870222, 0.1203683833538435, 0.020169837210644047, 0.13598374119434212, 0.2680636429285596, 0.0035785195051142664, 0.06636527082211913, 0.9928798621247094, 0.9974264141943122, 0.9704330702041275, 0.9807777732478821, 0.001818018119401703, 0.8181081537307663, 0.10544505092529877, 0.07453874289546981, 0.16054982648964417, 0.10295834896713223, 0.049713398050092866, 0.17684930126016643, 0.06900110986187753, 0.05270163509135528, 0.07633587350861254, 0.07361929438019217, 0.01847273807325855, 0.04156366066483174, 0.10132840149007999, 0.04509521353177823, 0.004618184518314638, 0.014669527293470026, 0.0019016053898942627, 0.010866316513681501, 0.3958591326280369, 0.054618538552475976, 0.06464028874559083, 0.03908482575314794, 0.006514137625524658, 0.035076125675902, 0.015032625289672287, 0.0035076125675902003, 0.028561988050377345, 0.007015225135180401, 0.10322402698908303, 0.09370336430562393, 0.007015225135180401, 0.049106575946262804, 0.0045097875869016864, 0.09220010177665669, 0.17361192074787413, 0.13401621952467477, 0.0741150304947065, 0.04162625000387626, 0.06700810976233738, 0.07309975610436806, 0.05787064024929138, 0.0010152743903384452, 0.044672073174891594, 0.0010152743903384452, 0.3218419817372871, 0.0020305487806768904, 0.009137469513046007, 0.21840695374605343, 0.10748250517445467, 0.14221484309109067, 0.028787162957932544, 0.06930822386067455, 0.06305014495677617, 0.0710291955592466, 0.033637174108453786, 0.02002585249247481, 0.02378069983481384, 0.04443236021767849, 0.10670024531146736, 0.038017829341182655, 0.012672609780394218, 0.013924225561173894, 0.006570982849093298, 0.9681409385425608, 0.19347509619264894, 0.2625733448328807, 0.0011144878812940607, 0.006909824864023176, 0.006686927287764364, 0.045694003133056486, 0.13685911182291066, 0.12616002816248767, 0.029868275218680827, 0.06151973104743215, 0.08113471775820762, 0.014042547304305165, 0.033880431591339445, 0.1542054321298493, 0.1486182787918113, 0.2413650242032424, 0.4279759456937122, 0.02681833602258249, 0.573534426126959, 0.13596917978188847, 0.0004562724153754647, 0.0606842312449368, 0.007300358646007435, 0.05885914158343494, 0.017338351784267656, 0.05064623810667658, 0.013231900045888475, 0.021901075938022305, 0.0004562724153754647, 0.020075986276520446, 0.02737634492252788, 0.0063878138152565055, 0.0063878138152565055, 0.9986990596374141, 0.267010564654969, 0.09559637499992717, 0.013185706896541678, 0.006592853448270839, 0.6098389439650527, 0.9710333256251693, 0.486764982969185, 0.066713982437401, 0.019767105907378072, 0.06424309419897874, 0.11464921426279281, 0.0014825329430533554, 0.00840102001063568, 0.001976710590737807, 0.23522856029779907, 0.9910134026808669, 0.6700468846469436, 0.021384475041923732, 0.30793644060370173, 0.3721821693405693, 0.02365950220746895, 0.27208427538589297, 0.24660481147015714, 0.08371823858027476, 0.9948221766191552, 0.9915504995112305, 0.19162503320255028, 0.8024298265356794, 0.22385480203858382, 0.7710554292440109, 0.9989802573074662, 0.9986324605213804, 0.19245834894463126, 0.055987883329347274, 0.17321251405016813, 0.18720948488250494, 0.3884159405973467, 0.9963435124411731, 0.22128304864997203, 0.7785885045091608, 0.05145085185384679, 0.916220938781964, 0.029683183761834687, 0.006940332328542083, 0.14475550285244917, 0.34305071223936584, 0.4144369876186558, 0.0059488562816075, 0.015863616750953335, 0.0178465688448225, 0.049573802346729166, 0.47534029907700803, 0.023677665273572766, 0.0969444031012319, 0.020997174865243776, 0.0026804904083289924, 0.0696927506165538, 0.031719136498559744, 0.01563619404858579, 0.03127238809717158, 0.2314156719190697, 0.9883817191428307, 0.09504979350717464, 0.09504979350717464, 0.8079232448109845, 0.29972652097020275, 0.10247060545989838, 0.5943295116674105, 0.32923608404126686, 0.014787353840690983, 0.38882042157581587, 0.07045739182917468, 0.0021746108589251445, 0.05653988233205376, 0.08698443435700579, 0.04001283980422266, 0.010438132122840693, 0.9943794285002858, 0.0001890899764449001, 0.8702866165876527, 0.0014181748233367507, 0.11080672619671146, 0.013709023292255257, 0.003309074587785752, 9.454498822245005e-05, 0.9774357885574506, 0.9992299518573856, 0.000525426555465958, 0.1683921747581277, 0.13110162371215342, 0.04443682389450592, 0.09004303789149884, 0.24219368344841824, 0.04417695942728659, 0.04859465537001525, 0.008315662951018652, 0.04365723049284792, 0.1327907427490791, 0.013642884529014975, 0.016501393668427636, 0.0028585091394126615, 0.011434036557650646, 0.0019489835041449964, 0.1014066578186829, 0.03086289585786001, 0.6442017151283479, 0.0009797744716780955, 0.143536960100841, 0.003919097886712382, 0.0029393234150342866, 0.0004898872358390478, 0.03184267032953811, 0.016656166018527624, 0.023024700084435246, 0.998446862234902, 0.482976582287973, 0.0010245578750275202, 0.20573122130552604, 0.03954793397606228, 0.21085401068066364, 0.05758015257654663, 0.0018442041750495364, 0.9614307892860184, 0.9645524298756346, 0.03266755110095732, 0.4620785421159923, 0.05824519438436877, 0.477610593951824, 0.8895257269440183, 0.0020448867286069388, 0.06339148858681509, 0.03067330092910408, 0.012269320371641631, 0.9868332475925853, 0.9989881912956494, 0.07203578574459991, 0.9261743881448561, 0.9973714904261928, 0.1323526608812822, 0.10481106670945468, 0.27490591219657456, 0.036467110801586426, 0.14790856129314775, 0.024481417041624452, 0.032641889388832605, 0.006375369021256368, 0.07930959062442922, 0.015300885651015284, 0.04258746506199254, 0.0005100295217005095, 0.01657595945526656, 0.04921784884409916, 0.001020059043401019, 0.035957081279885915, 0.9966901483076023, 0.43064114288110134, 0.04760186186805562, 0.016015579693925256, 0.023578492327167737, 0.11299881228491708, 0.032476036601570654, 0.07963302125590613, 0.000444877213720146, 0.01557070248020511, 0.05338526564641752, 0.05560965171501825, 0.027137510036928904, 0.1045461452242343, 0.9375750496846957, 0.05814418912773307, 0.9689658614161759, 0.9974163281127985, 0.4579922299258895, 0.006034153226955066, 0.0002011384408985022, 0.3373091653867882, 0.007039845431447577, 0.14823903094219612, 0.0008045537635940088, 0.0008045537635940088, 0.04143451882509145, 0.9839048225423096, 0.1118345951871553, 0.05591729759357765, 0.8263333977717586, 0.9903002556117314, 0.3467916628545254, 0.03271619460891749, 0.4985948058399025, 0.0065432389217834975, 0.0026172955687133992, 0.06281509364912158, 0.019629716765350493, 0.007851886706140197, 0.009160534490496896, 0.011777830059210296, 0.0013086477843566996, 0.11281354468212348, 0.10687598969885383, 0.777819702808325, 0.046670164674009494, 0.9450708346486922, 0.9867542460556264, 0.988387808435319, 0.9864355471368823, 0.9840182323972227, 0.9816919383718795, 0.014024170548169708, 0.15913283526793812, 0.008375412382523059, 0.8291658258697828, 0.9032545243588316, 0.06948111725837167, 0.02592579002178047, 0.062310487159681155, 0.2955911287427239, 0.037908104257244446, 0.01918426328807917, 0.012891824929589204, 0.16974236157292452, 0.008287601740450203, 0.24110782100457906, 0.06906334783708502, 0.019337737394383808, 0.0046042231891390015, 0.001995163381960234, 0.03852200068246298, 0.0015347410630463338, 0.01810994454394674, 0.26036452508986696, 0.048105445588032564, 0.14034887733415688, 0.02082916200718936, 0.001983729714970415, 0.0937312290323521, 0.013886108004792905, 0.004959324287426038, 0.20829162007189359, 0.019837297149704152, 0.024300689008387586, 0.02777221600958581, 0.1284464990443344, 0.0069430540023964525, 0.020874643450436867, 0.011928367685963925, 0.10019828856209696, 0.035188684673593575, 0.0805164818802565, 0.011928367685963925, 0.013717622838858513, 0.022663898603331456, 0.0029820919214909813, 0.6494996205007357, 0.05009914428104848, 0.041565455880135195, 0.9560054852431095, 0.9706557052564606, 0.9543734546318905, 0.9837890594910279, 0.38097399970824336, 0.0045900481892559445, 0.5921162164140168, 0.02295024094627972, 0.9491229480245952, 0.04882947642570264, 0.014899654675043518, 0.14899654675043517, 0.04469896402513055, 0.7847151462189585, 0.996753598345558, 0.01901978385766082, 0.027171119796658313, 0.004075667969498747, 0.19699061852577276, 0.7309031225301087, 0.020378339847493734, 0.9944796534094362, 0.9743124177880088, 0.0943801084219043, 0.25617458000231164, 0.6404364500057792, 0.002633638826606299, 0.05943244952041547, 0.0003511518435475065, 0.03485182047209002, 0.7465488193819988, 0.007110824831837006, 0.1403729494581157, 0.005618429496760104, 0.0003511518435475065, 8.778796088687662e-05, 0.002545850865719422, 0.1169458819984733, 0.872596196450147, 0.11076578728893069, 0.15448912437666648, 0.731637173934779, 0.9984523285992888, 0.2874246919601052, 0.039809514121898225, 0.19427042891486335, 0.023089518190700972, 0.0007961902824379645, 0.10668949784668726, 0.31608754212787193, 0.0007961902824379645, 0.016719995931197256, 0.009554283389255574, 0.004777141694627787, 0.8418751658914939, 0.0018918543053741436, 0.15576267114247114, 0.1360405647749096, 0.1425809765429341, 0.0981061765203675, 0.0143889058896539, 0.0222374000112833, 0.078484941216294, 0.1334244000676998, 0.0366263059009372, 0.0209293176576784, 0.0091565764752343, 0.0170050705968637, 0.1111870000564165, 0.1805153647974762, 0.9876480371580113, 0.9850187586414144, 0.1359304299618647, 0.059809389183220464, 0.1250559955649155, 0.6742149326108489, 0.0024653128790321963, 0.03566485964999911, 0.933860518577396, 0.0009861251516128785, 0.019065086264515654, 0.007889001212903028, 0.997883635073007, 0.98699029485218, 0.9682035016280205, 0.3990395396068447, 0.008441027783171734, 0.258255254794659, 0.0008039074079211175, 0.002210745371783073, 0.017183520844313887, 0.05516814586858669, 0.043109534749769925, 0.004120025465595727, 0.009244935191092851, 0.12018415748420706, 0.021303546309909615, 0.036979740764371404, 0.012058611118816762, 0.0006029305559408382, 0.011355192136885786, 0.9948357561911781, 0.984458348394043, 0.008050392916238516, 0.019320942998972437, 0.08694424349537597, 0.057962828996917314, 0.44438168897636604, 0.017710864415724732, 0.003220157166495406, 0.11592565799383463, 0.24634202323689858, 0.39527867124732347, 0.08315025435003458, 0.21826941766884078, 0.012598523386368875, 0.0009448892539776657, 0.0503940935454755, 0.04252001642899496, 0.013228449555687319, 0.0100788187090951, 0.024252157518760087, 0.06740210011707348, 0.044094831852291065, 0.013543412640346541, 0.0100788187090951, 0.0009448892539776657, 0.012913486471028097, 0.9951800457406036, 0.42475918192566753, 0.03856012277861443, 0.25736640087121726, 0.20087133726534032, 0.0014945784022718774, 0.042446026624521314, 0.0002989156804543755, 0.000597831360908751, 0.000597831360908751, 0.023315423075441287, 0.009864217454994391, 0.31408954154027097, 0.6836066492347075, 0.9872576359415731, 0.00401012656822855, 0.0874207591873824, 0.00160405062729142, 0.11709569579227366, 0.060151898523428254, 0.6696911368941679, 0.060151898523428254, 0.9931775866178536, 0.8443575430465214, 0.15445564811826612, 0.9954670299840445, 0.2633288865721092, 0.06528815369556426, 0.11425426896723745, 0.09521189080603121, 0.10609324975529191, 0.041893231954653734, 0.021218649951058384, 0.015233902528964994, 0.14172970031412074, 0.006256781395824908, 0.014145766634038923, 0.0005440679474630355, 0.06365594985317514, 0.04923814924540471, 0.0019042378161206242, 0.14943401927128375, 0.007389594359568976, 0.014505500039153917, 0.1984242929884262, 0.1491603305912997, 0.027368867998403615, 0.257267359184994, 0.11221235879345483, 0.07854865115541838, 0.005200084919696687, 0.9947785721975181, 0.9925409982615019, 0.04507113806616694, 0.9510010131961224, 0.9884094616482854, 0.9724449757628142, 0.02614099397211866, 0.953162613188913, 0.6088217281676482, 0.026122823712972646, 0.00533118851285156, 0.15833629883169134, 0.0970276309338984, 0.08956396701590622, 0.0063974262154218725, 0.00799678276927734, 0.9877740404597277, 0.3751104008106762, 0.04655782033591334, 0.09686674467993343, 0.0655339935533946, 0.02912621935706427, 0.020741398633060917, 0.035304508311593055, 0.04810239257454554, 0.048543698928440446, 0.011694618378215199, 0.039717571850542185, 0.07325685474655558, 0.05229480293654721, 0.0218446645177982, 0.011915271555162655, 0.023389236756430398, 0.030602894149954787, 0.08743684042844224, 0.25138091623177145, 0.002185921010711056, 0.015301447074977393, 0.002185921010711056, 0.006557763032133169, 0.6055001199669625, 0.15240547897625925, 0.1632915846174206, 0.018143509401935622, 0.6640524441108439, 0.9778462817463398, 0.9930154725999912, 0.9955638156564289, 0.03007107092991637, 0.0281916289967966, 0.6089391863308066, 0.06578046765919207, 0.15035535464958186, 0.0018794419331197732, 0.0018794419331197732, 0.0639010257260723, 0.02255330319743728, 0.024432745130557054, 0.030338079773062077, 0.008126271367784484, 0.1543991559879052, 0.002167005698075863, 0.019503051282682763, 0.046590622508631045, 0.02979632834854311, 0.04767412535766898, 0.037380848291808634, 0.6143461154045071, 0.0037922599716327596, 0.005417514245189657, 0.9736114977585568, 0.996563888496097, 0.9881514679945529, 0.9745523571168112, 0.9817795256588456, 0.9651717389553096, 0.9985441426464784, 0.05669539954102397, 0.0008216724571162894, 0.9420474720838258, 0.9866391110434433, 0.9939688569148536, 0.26695929134302604, 0.050369677611891706, 0.057925129253675454, 0.021407112985053975, 0.4684380017905928, 0.011333177462675634, 0.03777725820891878, 0.0012592419402972926, 0.0843692099999186, 0.9700734941548952, 0.0283095377671662, 0.9974609177698907, 0.9861681944537047, 0.30599815915280637, 0.04019467344803813, 0.1880073435472751, 0.03889807107874657, 0.002593204738583105, 0.049270890033078996, 0.028525252124414154, 0.04538108292520433, 0.009076216585040866, 0.06742332320316073, 0.22171900514885545, 0.14707685781938268, 0.09192303613711417, 0.056088632219256106, 0.13336630327689786, 0.020565831813727238, 0.01121772644385122, 0.056088632219256106, 0.11404688551248741, 0.13211988922758106, 0.02243545288770244, 0.014956968591801628, 0.08257493076723815, 0.047363733874038486, 0.023993470449348447, 0.02617469503565285, 0.019942624789068837, 0.9800359799195107, 0.9945314447218019, 0.15010491413841817, 0.20206430749402446, 0.6408325180524775, 0.7990529619628112, 0.1412690319492263, 0.002207328624206661, 0.05518321560516652, 0.9893713106418358, 0.9504288229147664, 0.9900166823785455, 0.012756541914255463, 0.41246152189426, 0.5740443861414959, 0.9798018066182445, 0.997690911885419, 0.9774793363084872, 0.00867787179318897, 0.7940252690767907, 0.18223530765696835, 0.013016807689783454, 0.9910144781626754, 0.05580179829241146, 0.9374702113125125, 0.9769417404021626, 0.9971833543031917, 0.9849913334633025, 0.9978753264472665, 0.20208172092315319, 0.06913322031581556, 0.13294850060733762, 0.024817053446703024, 0.512294889006941, 0.04077087351958354, 0.005317940024293505, 0.012408526723351512, 0.9747454301940696, 0.2582021337644753, 0.1253464497245887, 0.15220640323700058, 0.03148102078336444, 0.03408037112327527, 0.04967647316274022, 0.06036269122681806, 0.11494904836494539, 0.02859285373901908, 0.03090338737449537, 0.022816519650328358, 0.05574162395586548, 0.015307285335030417, 0.01213030158625052, 0.005776334088690723, 0.0023105336354762892, 0.2174372143130661, 0.010113358805258888, 0.06068015283155333, 0.7079351163681221, 0.994937657259445, 0.9972857254926847, 0.9206939695629673, 0.06349613583192878, 0.9808886953460727, 0.9734117099295372, 0.3210653149227971, 0.3077230781399753, 0.001419386891789554, 0.013342236782821808, 0.04116221986189707, 0.1677715306095253, 0.13171910355807062, 0.013626114161179719, 0.0005677547567158216, 0.0017032642701474649, 0.9736473514820513, 0.8612732602999257, 0.1356335842992009, 0.0041338886915940065, 0.09301249556086515, 0.8267777383188013, 0.07647694079448912, 0.9487880545952081, 0.049785621682619484, 0.0005722485250875803, 0.7782994545960072, 0.011055389980056922, 0.06633233988034153, 0.14150899174472858, 0.9864644364107205, 0.9810834730157328, 0.10894604775580811, 0.03140786962329603, 0.004907479628640005, 0.8499754716804488, 0.004907479628640005, 0.9882413227887974, 0.9695365314862635, 0.993356115087416, 0.9896287055470406, 0.239854344314809, 0.14833816510585568, 0.1049021278096659, 0.04917287241078089, 0.04125057630015508, 0.0385187500551117, 0.052997429153841626, 0.0721202128691453, 0.042343306798172435, 0.05572925539888501, 0.03442101068754662, 0.043162854671685444, 0.014751861723234267, 0.06037336001545876, 0.0008195478735130149, 0.0008195478735130149, 0.9986071618718712, 0.973699151401504, 0.1583552091225412, 0.09843702188698507, 0.008559741033650876, 0.008559741033650876, 0.017119482067301753, 0.7104585057930227, 0.9938855109036975, 0.010113669397485895, 0.0658380047052023, 0.00019830724308795875, 0.005750910049550803, 0.8953572025421337, 0.00634583177881468, 0.016062886690124657, 0.9992445402994407, 0.974302989929145, 0.9915284927112321, 0.9813218280176783, 0.7163209388767825, 0.011912210735201482, 0.036530779587951215, 0.010323915970507951, 0.01985368455866914, 0.00873562120581442, 0.01429465288224178, 0.01588294764693531, 0.0007941473823467655, 0.11673966520497453, 0.01588294764693531, 0.025412716235096496, 0.00714732644112089, 0.00846978055173305, 0.018821734559406774, 0.30867644677427114, 0.15716148357104656, 0.344437742437144, 0.13457540209975843, 0.009410867279703387, 0.011293040735644065, 0.00846978055173305, 0.973705014486313, 0.9941852406735442, 0.11584430999992135, 0.8795586499994028, 0.987821115639781, 0.98687605665596, 0.9955409186505905, 0.9964797436257362, 0.9819632868077411, 0.8673415895651875, 0.02160637411728225, 0.10803187058641125, 0.035710532503587404, 0.8749080463378913, 0.02295677089516333, 0.06631956036380518, 0.15444298548204755, 0.8419633724666463, 0.10324283770665461, 0.0037106305306831467, 0.0030558133782096503, 0.0814155992908714, 0.0004365447683156643, 0.059370088490930346, 0.0019644514574204894, 0.7467098262039438, 0.06646952313917438, 0.9305733239484414, 0.974701603586506, 0.004771695812155082, 0.9941032941989755, 0.024780593594904164, 0.15859579900738666, 0.1982447487592333, 0.6145587211536233, 0.9645306543892268, 0.9883202716036353, 0.010869884445502449, 0.9891594845407228, 0.03842573740609687, 0.07685147481219375, 0.8837919603402281, 0.9916661442001202, 0.012625080461736058, 0.0420836015391202, 0.8332553104745799, 0.10941736400171251, 0.9520540330016873, 0.8130776251051879, 0.001922169326489806, 0.02498820124436748, 0.05382074114171457, 0.08649761969204127, 0.017299523938408255, 0.32783276405684353, 0.668956045575451, 0.9926573265474165, 0.9897054522230175, 0.0757112521987865, 0.05741860066082465, 0.06910557247674472, 0.13465424048777463, 0.04979666252000722, 0.0792681566645013, 0.10213397108695359, 0.25660525074085355, 0.027438977306942756, 0.05284543777633419, 0.006605679722041774, 0.08485757796776741, 0.002540646046939144, 0.9250390669741216, 0.06108748555489483, 0.9209981563552471, 0.07535439461088385, 0.07984534199745064, 0.9173342625040439, 0.9980844553726818, 0.14735879078824846, 0.10233249360295031, 0.036839697697062114, 0.7122341554765341, 0.045015014261779056, 0.17187550899952003, 0.004092274023798096, 0.06752252139266858, 0.13095276876153908, 0.053199562309375246, 0.5258572120580554, 0.06977902395120607, 0.1250207512459109, 0.18316993787191593, 0.08431632060770733, 0.008722377993900758, 0.05524172729470481, 0.008722377993900758, 0.45937857434543994, 0.13154400602143373, 0.0023351006986053325, 0.059155884364668426, 0.08873382654700264, 0.017902438689307548, 0.04203181257489599, 0.02023753938791288, 0.021794273186983106, 0.04514528017303643, 0.011675503493026663, 0.295001054923807, 0.06538281956094931, 0.0007783668995351108, 0.006226935196280887, 0.1922566241851724, 0.04691453688709278, 0.6157532966430928, 0.3342660753205361, 0.2204959764646245, 0.7418657730312243, 0.0010861870761804163, 0.035844173513953734, 0.02276137821106429, 0.012050141405857567, 0.6574021589195628, 0.17941321648721265, 0.01874466440911177, 0.03213371041562017, 0.0026778092013016812, 0.010711236805206725, 0.04552275642212858, 0.01740575980846093, 0.9759453594183536, 0.2143327840313854, 0.10367183575431141, 0.6802736188822233, 0.9785969932636525, 0.9802350597920021, 0.9805883669888895, 0.14492530469534304, 0.13643868775372384, 0.16320417195421513, 0.1024922199872471, 0.04112745133246221, 0.048308434898447675, 0.02545985082485756, 0.23697245767752037, 0.031988017703026166, 0.017626050571055235, 0.024154217449223837, 0.027418300888308142, 0.9885672533860125, 0.0007725218440366, 0.9971969470105778, 0.0019313046100915, 0.9826663397148871, 0.01228332924643609, 0.28627963046236354, 0.10978170785918011, 0.18496982288813626, 0.07307013995771795, 0.06142127706590784, 0.04200650557955766, 0.031063634378160287, 0.06389224798235241, 0.060362289530288736, 0.04059452219873219, 0.021179750712382015, 0.014119833808254675, 0.0035299584520636688, 0.0070599169041273375, 0.0003529958452063669, 0.0003529958452063669, 0.05849746725508561, 0.15911311093383287, 0.0070196960706102735, 0.2878075388950212, 0.03509848035305137, 0.45394034589946436, 0.9733126714234173, 0.12393832473016177, 0.8675682731111324, 0.009180616646678649, 0.9726140440241177, 0.026738530419907015, 0.9881237382447597, 0.016753497004589262, 0.002393356714941323, 0.4176407467572609, 0.5536631867230927, 0.009174534073941738, 0.971406245590615, 0.21529424766450023, 0.0032620340555227305, 0.08725941098523304, 0.013863644735971604, 0.07176474922150007, 0.017533433048434677, 0.11254017491553421, 0.036290128867690376, 0.18430492413703428, 0.003669788312463072, 0.0028542797985823894, 0.037513391638511404, 0.09582225038098022, 0.037513391638511404, 0.001223262770821024, 0.07951208010336656, 0.7750933131110236, 0.16111490216352736, 0.034835654521843756, 0.026126740891382817, 0.9985549811685884, 0.9873652827032547, 0.9886029969204279, 0.0007178609095742199, 0.9831105156618942, 0.012742031144942404, 0.00323037409308399, 0.9940167419883982, 0.9873558982644859, 0.989599842786057, 0.04953589939672695, 0.013701418982073412, 0.01897119551364011, 0.008431642450506715, 0.02107910612626679, 0.05058985470304029, 0.0042158212252533574, 0.59337683745441, 0.040050301639906895, 0.19919755289322114, 0.9917509250499519, 0.9065411416835478, 0.08729655438434164, 0.990033295402578, 0.03507762625165605, 0.9558653153576274, 0.9631400398762303, 0.986024505784059, 0.9876170168614088, 0.9773177311435981, 0.9641700366771853, 0.2693043624319629, 0.14462641686160968, 0.003324745215209418, 0.001662372607604709, 0.06483253169658365, 0.003324745215209418, 0.45216534926848084, 0.03823456997490831, 0.02161084389886122, 0.9724209498322436, 0.38928351624493124, 0.09338992556181948, 0.06003638071831253, 0.09196048792566919, 0.05598630741588668, 0.038356576570033, 0.02620635666275547, 0.005955990150626243, 0.07766611156416621, 0.021918043754304572, 0.0393095349941332, 0.0393095349941332, 0.01786797045187873, 0.01786797045187873, 0.025015158632630218, 0.03588068795021356, 0.7614679331656434, 0.06458523831038442, 0.02152841277012814, 0.04704356864583556, 0.015149623801201282, 0.0023920458633475707, 0.027907201739054994, 0.004784091726695141, 0.006378788968926856, 0.003986743105579285, 0.008770834832274426, 0.9843872253543339, 0.00955715752771198, 0.9885118445144653, 0.9894522445566619, 0.9853667135364593, 0.9036174426724555, 0.0874468492908828, 0.9512720405017888, 0.04299534646335769, 0.9808367996227947, 0.9810706114325081, 0.9885957840587005, 0.09397226385545239, 0.03166456716868504, 0.15832283584342524, 0.18488021475909655, 0.024514503614465843, 0.0010214376506027434, 0.505611637048358, 0.4074549756765987, 0.09334670847440472, 0.09062125713208634, 0.0074949911913755616, 0.016352708053910318, 0.04701403565499216, 0.02725451342318386, 0.008176354026955159, 0.006813628355795965, 0.010220442533693948, 0.23847699245285878, 0.02929860192992265, 0.017034070889489914, 0.012463226136147592, 0.0988749273467709, 0.009139699166508235, 0.23430865135957474, 0.09056610992267251, 0.001661763484819679, 0.07477935681688555, 0.08558081946821347, 0.33899975090321455, 0.05400731325663957, 0.0010195120969160422, 0.013253657259908548, 0.9848486856208968, 0.989759096997587, 0.0021142044818455645, 0.1374232913199617, 0.006342613445536694, 0.18182158543871857, 0.09936761064674154, 0.03805568067322016, 0.03171306722768347, 0.5010664621973988, 0.3598005775675827, 0.07649761673425566, 0.04392068489305173, 0.06224520905372895, 0.06253607451659683, 0.0677716528482189, 0.006108174720225738, 0.19662505289869517, 0.00029086546286789225, 0.050901456001881146, 0.05613703433350321, 0.004944712868754169, 0.0005817309257357845, 0.011052887588979906, 0.07057067218820354, 0.5428513245246426, 0.10585600828230529, 0.2795684321301909, 0.9879813033639621, 0.9382821310487895, 0.11160131301193814, 0.1618219038673103, 0.10602124736134122, 0.6138072215656597, 0.9848891443262263, 0.9854033871535521, 0.9933803501073122, 0.0017170788134698034, 0.12878091101023525, 0.01030247288081882, 0.2455422703261819, 0.10560034702839291, 0.03992208241317293, 0.25970817053730777, 0.10259545910482075, 0.03434157626939607, 0.0716880404623643, 0.9967578728161031, 0.9856177657360045, 0.9726169425875456, 0.992554677540734, 0.9914679694962701, 0.24290015940187823, 0.06477337584050086, 0.03598520880027826, 0.08996302200069564, 0.04858003188037564, 0.02518964616019478, 0.014394083520111303, 0.030587427480236518, 0.41023138032317213, 0.03598520880027826, 0.9756203881570321, 0.9600058785934663, 0.9613021936175004, 0.26753605146659615, 0.001807676023422947, 0.021692112281075364, 0.054230280702688406, 0.003615352046845894, 0.6507633684322609, 0.9922700375636883, 0.5875548042604408, 0.16191930202524346, 0.06012240384053309, 0.019448097360616066, 0.021559605074054383, 0.02444903668191734, 0.033561859445177436, 0.00711244703473959, 0.004000751457041019, 0.032339407611081575, 0.008112634898999844, 0.029227712033383, 0.00011113198491780609, 0.00022226396983561218, 0.008779426808506682, 0.0015558477888492853, 0.9844484378000238, 0.016168639107878788, 0.1536020715248485, 0.06736932961616163, 0.032337278215757576, 0.7275887598545455, 0.9922657034740312, 0.9902575770104944, 0.006038155957381064, 0.9995124590825447, 0.9973265271008082, 0.961246390776405, 0.3966732631271547, 0.12424663474485553, 0.034127196939431184, 0.09085812172186225, 0.052298821283803636, 0.06101529149777091, 0.05318524198352912, 0.012262153012869214, 0.03900251078792136, 0.027626778474777628, 0.022455991059712296, 0.02821772560792795, 0.018762571477522774, 0.010932521963280987, 0.017432940427934546, 0.010637048396705824, 0.9826762263243216, 0.9912555432150978, 0.008192194572025602, 0.04268917607781068, 0.1612702207383959, 0.7956788096725268, 0.09106204326908454, 0.8924080240370285, 0.739287285970246, 0.009542812347375992, 0.023015018014259744, 0.14931694614129493, 0.042100642709011725, 0.02638306943098068, 0.001684025708360469, 0.008420128541802345, 0.7404977972824331, 0.015990816220384767, 0.0061503139309172184, 0.19065973185843377, 0.0061503139309172184, 0.007380376717100662, 0.030751569654586093, 0.0012300627861834437, 0.0012300627861834437, 0.9649553734496656, 0.14767529339538238, 0.8438588194021851, 0.005274117621263657, 0.38127807605327674, 0.005030053773789931, 0.026156279623707642, 0.585498259269148, 0.0010060107547579863, 0.9920171187587632, 0.9356166314832332, 0.041582961399254804, 0.9766887370173019, 0.9873494590686663, 0.09844687636504416, 0.02376303912259687, 0.8758377276614274, 0.1361127904090006, 0.051628989465482986, 0.6735236352997099, 0.011733861242155225, 0.031681425353819105, 0.030508039229603583, 0.015254019614801792, 0.05045560334126747, 0.2828198228862332, 0.03043800784425828, 0.1255567823575654, 0.2621050675477796, 0.004650251198428349, 0.003804750980532285, 0.005495751416324412, 0.0029592507626362216, 0.06890826775852917, 0.011414252941596856, 0.0333972586068945, 0.018601004793713394, 0.046925262093231515, 0.023674006101089773, 0.0414295106769071, 0.03762475969637482, 0.9957358222409833, 0.9912768986731437, 0.9906531741085092, 0.9948850489294759, 0.9883331213544975, 0.9962586288218723, 0.04671374736566185, 0.05005044360606627, 0.0734073172888972, 0.7207263879273542, 0.11011097593334579, 0.07155780651151435, 0.9216645478683048, 0.005724624520921148, 0.8131282179784597, 0.1126806893827828, 0.05786305671007766, 0.012181696149490034, 0.9697884152057159, 0.7610447856830478, 0.23151524224662295, 0.0073887843270198815, 0.8878578317965704, 0.10445386256430239, 0.9870849835369712, 0.02916753922318303, 0.02029046206830124, 0.8407860219552326, 0.04184907801587131, 0.06784623254088228, 0.9849429988896804, 0.9957038962438441, 0.9875547410638215, 0.9946628520010756, 0.972499905759063, 0.09212644508260877, 0.0063535479367316395, 0.019060643810194917, 0.07941934920914549, 0.8005470400281866, 0.6637435976619247, 0.2651680377756076, 0.07082127716988278, 0.9748059196777308, 0.943113260578087, 0.990846131963237, 0.08462547185113335, 0.003385018874045334, 0.8970300016220135, 0.01692509437022667, 0.6867294060695123, 0.013823055677727703, 0.006635066725309297, 0.0342811780807647, 0.08072664515792978, 0.0005529222271091081, 0.01714058904038235, 0.004976300043981973, 0.15481822359055025, 0.9645052861322747, 0.03713181741426011, 0.013924431530347541, 0.12531988377312786, 0.15781022401060546, 0.5430528296835541, 0.051056248944607655, 0.0649806804749552, 0.9120777897569354, 0.08091012651069589, 0.9854504042778495, 0.9705854197426024, 0.9855201218483419, 0.9758283277947577, 0.9725046495422299, 0.09452186716730644, 0.066924241716998, 0.25251827287032236, 0.04139643817546268, 0.011728990816381091, 0.01724851590644278, 0.05174554771932835, 0.013798812725154225, 0.02069821908773134, 0.06554436044448257, 0.33462120858498995, 0.02690768481405074, 0.0013798812725154227, 0.4543885256939271, 0.1359975868222411, 0.0037696559247103077, 0.02145804141758175, 0.02609761794030213, 0.05219523588060426, 0.06698388604677546, 0.025807644407632106, 0.024937723809622038, 0.06379417718740521, 0.014788650166171207, 0.062054335991385066, 0.036536665116422985, 0.0011598941306800946, 0.007829285382090639, 0.002609761794030213, 0.9891603009226703, 0.9766874928084164, 0.9866878595909927, 0.02828446582326273, 0.022508060831187948, 0.1428166337695731, 0.021910501694076764, 0.1240931141400893, 0.059357540953044324, 0.021113756177928517, 0.01195118274222369, 0.2788609306518861, 0.03087388875074453, 0.11692240449475509, 0.02708934754904036, 0.033662498057263394, 0.04282507149296822, 0.03326412529918927, 0.0041829139597782915, 0.9956713883844165, 0.0011139307345299403, 0.03453185277042815, 0.5759021897519792, 0.2071911166225689, 0.11473486565658385, 0.06683584407179642, 0.9773504830516919, 0.9829230379688634, 0.9736513313685279, 0.028828815180038686, 0.9657653085312959, 0.9926558737924649, 0.10453834746105764, 0.8916506106972564, 0.9943502162318428, 0.9969432817103328, 0.9604723876397504, 0.9485731510395257, 0.04703668517551367, 0.0032193293385626787, 0.11589585618825643, 0.0016096646692813394, 0.8692189214119233, 0.006438658677125357, 0.06132004429163309, 0.2784261470539016, 0.004143246235921155, 0.08120762622405464, 0.2601958636158485, 0.0348032683817377, 0.03728921612329039, 0.08783682020152848, 0.11683954385297657, 0.014915686449316158, 0.024030828168342698, 0.9907638935842349, 0.9809039024456486, 0.9840913762634257, 0.9796667098181141, 0.9932475653353817, 0.0014071514334219521, 0.8034834684839347, 0.18855829207854158, 0.0056286057336878085, 0.31669310763134834, 0.007248257745083676, 0.04237442989433534, 0.12154770680217242, 0.17061283615350806, 0.04181687160625198, 0.01784186521866751, 0.22358087352142725, 0.0016726748642500791, 0.05631338709641933, 0.9813264296843649, 0.326755645019355, 0.12858080409708586, 0.014487977926432208, 0.062350047861967184, 0.06623075623511866, 0.05536477279029451, 0.07114632017444388, 0.11435154006219707, 0.014229264034888776, 0.06881789515055299, 0.009572413987106995, 0.012935694577171614, 0.042946505996209756, 0.005174277830868646, 0.0007761416746302969, 0.005950419505498942, 0.18246927362825327, 0.041996896311264645, 0.49817008038189786, 0.010137181868236294, 0.15785040337682227, 0.10426815635900187, 0.0057926753532778815, 0.33512767302484986, 0.09822403068097865, 0.07720126152443826, 0.057768449699064785, 0.040808904833284296, 0.029149217738060212, 0.04981866304323018, 0.07702459959875305, 0.014662939831872713, 0.02066944530516997, 0.04151555253602515, 0.060241716658657775, 0.03656901861683918, 0.024379345744559452, 0.010776377466798019, 0.026322626927096797, 0.9807000732510956, 0.05205417944887031, 0.008365850268568443, 0.939763846835855, 0.9998227901839242, 0.12360479893523008, 0.0879945175957144, 0.09101932913806708, 0.37878889996280185, 0.04440973309908711, 0.05293420199117195, 0.03437285843582594, 0.01058684039823439, 0.01567402344673663, 0.08895695763191754, 0.003024811542352683, 0.014161617675560288, 0.025710898109997802, 0.012236737603154035, 0.01581151488047993, 0.0006874571687165188, 0.2863356139544901, 0.06885169343180488, 0.5748569959544343, 0.020218354420450637, 0.011475282238634145, 0.024043448499995353, 0.005464420113635307, 0.001639326034090592, 0.0005464420113635307, 0.006010862124998838, 0.9992662939669416, 0.6875496799913136, 0.043019868245266546, 0.006913907396560695, 0.01843708639082852, 0.02304635798853565, 0.049933775641827244, 0.0007682119329511884, 0.11600000187562944, 0.029960265385096347, 0.02458278185443803, 0.985507995033695, 0.9900032407459863, 0.12399852454112789, 0.8620849801430795, 0.011809383289631227, 0.9996026390374124, 0.0003063446641242453, 0.00010211488804141511, 0.0020035175654432307, 0.16829547549723137, 0.18031658088989075, 0.6491396912036067, 0.9581271752151655, 0.04067521026856835, 0.17018316878648737, 0.10653198361043895, 0.024455455357113343, 0.003015056139918083, 0.004355081090992787, 0.04924591695199536, 0.0003350062377686759, 0.09380174657522926, 0.09011667795977382, 0.0006700124755373518, 0.007035130993142194, 0.44991337732333175, 0.0018699238343086923, 0.025954542820204648, 0.3143715950239773, 0.47862570462965287, 0.10920355192362763, 0.0014959390674469538, 0.0005235786736064338, 0.013463451607022585, 0.005460177596181381, 0.00680652275688364, 0.01840005052959753, 0.012865075980043803, 0.004039035482106775, 0.0005983756269787816, 0.006357741036649553, 0.9843089051676827, 0.9931673022050509, 0.9855877112354273, 0.9892470755726607, 0.4206950541896264, 0.13240297937161305, 0.10216460492532448, 0.027302609936940163, 0.009981599331784576, 0.060476748892577134, 0.02377969252572208, 0.02700903348600532, 0.021724657369178193, 0.02642188058413564, 0.06928404242062235, 0.015265975448611704, 0.02700903348600532, 0.01262378739019814, 0.01820173995796011, 0.006165105469631649, 0.05779306051784694, 0.9412012712906501, 0.9774694304820644, 0.9900458572525903, 0.019731391640969126, 0.254990291975601, 0.026940938586707843, 0.009865695820484563, 0.24702184535136348, 0.003415048553244656, 0.3953867324978813, 0.0049328479102422815, 0.00037944983924940626, 0.013660194212978625, 0.023525890033463188, 0.9858468924773274, 0.9776037654506159], \"Term\": [\"14f\", \"14f\", \"30f\", \"35k\", \"7th\", \"able\", \"able\", \"able\", \"able\", \"able\", \"able\", \"able\", \"able\", \"able\", \"able\", \"able\", \"able\", \"able\", \"able\", \"able\", \"ableist\", \"abnormal\", \"abort\", \"abortion\", \"absent\", \"academic\", \"academic\", \"accent\", \"accident\", \"accident\", \"accident\", \"accident\", \"accident\", \"accident\", \"accident\", \"accident\", \"accident\", \"accident\", \"accident\", \"accident\", \"accomplish\", \"account\", \"account\", \"account\", \"account\", \"account\", \"activity\", \"activity\", \"activity\", \"activity\", \"activity\", \"activity\", \"activity\", \"activity\", \"activity\", \"activity\", \"address\", \"address\", \"address\", \"address\", \"address\", \"address\", \"address\", \"address\", \"administrator\", \"adoption\", \"adoption\", \"adoption\", \"adoptive\", \"adore\", \"adult\", \"adult\", \"adult\", \"adult\", \"adult\", \"adult\", \"adult\", \"adult\", \"adult\", \"adult\", \"adult\", \"advanced\", \"advice\", \"advice\", \"advice\", \"advice\", \"advice\", \"advice\", \"advice\", \"advice\", \"advice\", \"advice\", \"advice\", \"affair\", \"affair\", \"age\", \"age\", \"age\", \"age\", \"age\", \"age\", \"age\", \"age\", \"age\", \"age\", \"age\", \"airline\", \"airport\", \"alarm\", \"alcohol\", \"alice\", \"alimony\", \"allergy\", \"allergy\", \"allergy\", \"allowance\", \"allowance\", \"allowance\", \"ally\", \"alter\", \"ambulance\", \"ancestor\", \"angel\", \"animal\", \"animal\", \"animal\", \"animal\", \"anime\", \"anniversary\", \"announcement\", \"announcement\", \"announcement\", \"anxiety\", \"anxiety\", \"anxiety\", \"apartment\", \"apartment\", \"apartment\", \"apartment\", \"appointment\", \"appointment\", \"appointment\", \"appointment\", \"appointment\", \"apt\", \"art\", \"art\", \"artist\", \"asperger\", \"assignment\", \"assignment\", \"assist\", \"asthma\", \"atheist\", \"attend\", \"attend\", \"attend\", \"attend\", \"attend\", \"attend\", \"attend\", \"attend\", \"attend\", \"attend\", \"attentive\", \"attic\", \"aunt\", \"aunt\", \"aunt\", \"autistic\", \"autistic\", \"autistic\", \"autonomy\", \"award\", \"award\", \"award\", \"award\", \"baby\", \"babysitting\", \"bachelorette\", \"backup\", \"bacon\", \"bad\", \"bad\", \"bad\", \"bad\", \"bad\", \"bad\", \"bad\", \"bad\", \"bad\", \"bad\", \"bad\", \"bad\", \"bad\", \"bad\", \"bad\", \"bad\", \"bag\", \"bag\", \"bag\", \"bag\", \"bag\", \"bake\", \"bald\", \"bar\", \"bar\", \"bar\", \"bar\", \"baseball\", \"basement\", \"basketball\", \"bath\", \"bathroom\", \"bathroom\", \"bear\", \"bear\", \"bear\", \"bear\", \"bear\", \"bear\", \"bear\", \"beautiful\", \"beautiful\", \"beautiful\", \"beautiful\", \"beautiful\", \"beautiful\", \"bed\", \"bed\", \"bed\", \"bedroom\", \"bedroom\", \"beer\", \"beer\", \"belief\", \"belief\", \"belief\", \"belief\", \"belief\", \"belief\", \"beloved\", \"bf\", \"bf\", \"bf\", \"bf\", \"bf\", \"big\", \"big\", \"big\", \"big\", \"big\", \"big\", \"big\", \"big\", \"big\", \"big\", \"big\", \"big\", \"big\", \"big\", \"big\", \"big\", \"bike\", \"bikini\", \"bil\", \"bil\", \"bil\", \"bill\", \"bill\", \"bill\", \"biological\", \"biological\", \"bird\", \"birth\", \"birth\", \"birth\", \"birth\", \"birthday\", \"birthday\", \"birthday\", \"birthday\", \"birthday\", \"birthday\", \"bit\", \"bit\", \"bit\", \"bit\", \"bit\", \"bit\", \"bit\", \"bit\", \"bit\", \"bit\", \"bit\", \"bit\", \"bit\", \"bit\", \"bit\", \"bit\", \"black\", \"black\", \"blanket\", \"blanket\", \"bleach\", \"blonde\", \"blue\", \"blue\", \"blue\", \"body\", \"body\", \"body\", \"body\", \"body\", \"bolt\", \"bond\", \"bond\", \"bond\", \"bond\", \"bond\", \"bond\", \"bone\", \"bone\", \"book\", \"book\", \"book\", \"book\", \"book\", \"book\", \"book\", \"book\", \"book\", \"boss\", \"bounce\", \"boy\", \"boy\", \"boy\", \"boy\", \"boy\", \"boyfriend\", \"boyfriend\", \"boyfriend\", \"boyfriend\", \"boyfriend\", \"brake\", \"bread\", \"breadwinner\", \"breakfast\", \"breakfast\", \"breastfeed\", \"bridal\", \"bride\", \"brother\", \"brother\", \"brother\", \"buck\", \"buck\", \"budget\", \"budget\", \"budget\", \"bus\", \"business\", \"business\", \"business\", \"business\", \"business\", \"business\", \"business\", \"business\", \"business\", \"business\", \"business\", \"business\", \"cabin\", \"cabin\", \"cable\", \"cage\", \"cake\", \"calculate\", \"calendar\", \"calorie\", \"camera\", \"camera\", \"camera\", \"campaign\", \"campus\", \"cancer\", \"cancer\", \"cancer\", \"cancer\", \"candy\", \"caption\", \"car\", \"car\", \"card\", \"card\", \"card\", \"card\", \"card\", \"card\", \"card\", \"care\", \"care\", \"care\", \"care\", \"care\", \"care\", \"care\", \"care\", \"care\", \"care\", \"care\", \"care\", \"care\", \"care\", \"care\", \"care\", \"carpet\", \"case\", \"case\", \"case\", \"case\", \"case\", \"case\", \"case\", \"case\", \"case\", \"case\", \"case\", \"case\", \"case\", \"case\", \"case\", \"case\", \"cash\", \"cash\", \"cashier\", \"cat\", \"category\", \"cater\", \"catholic\", \"catholic\", \"ceiling\", \"ceremony\", \"chair\", \"chair\", \"change\", \"change\", \"change\", \"change\", \"change\", \"change\", \"change\", \"change\", \"change\", \"change\", \"change\", \"change\", \"change\", \"change\", \"cheap\", \"cheap\", \"cheap\", \"cheap\", \"cheap\", \"cheap\", \"cheap\", \"cheap\", \"cheese\", \"chicken\", \"child\", \"child\", \"child\", \"child\", \"childfree\", \"childless\", \"chocolate\", \"chocolate\", \"choice\", \"choice\", \"choice\", \"choice\", \"choice\", \"choice\", \"choice\", \"choice\", \"choice\", \"choice\", \"choice\", \"choice\", \"chore\", \"chore\", \"chore\", \"chore\", \"church\", \"church\", \"class\", \"class\", \"classmate\", \"classy\", \"clause\", \"clean\", \"clean\", \"clean\", \"clean\", \"clean\", \"clean\", \"client\", \"client\", \"clinic\", \"close\", \"close\", \"close\", \"close\", \"close\", \"close\", \"close\", \"close\", \"close\", \"close\", \"close\", \"close\", \"close\", \"closing\", \"clothe\", \"clothe\", \"clothe\", \"clothe\", \"clothing\", \"coach\", \"coffee\", \"coffee\", \"coffee\", \"coffee\", \"cold_shoulder\", \"colleague\", \"college\", \"college\", \"college\", \"college\", \"college\", \"college\", \"college\", \"college\", \"college\", \"college\", \"color\", \"color\", \"colour\", \"comfortable\", \"comfortable\", \"comfortable\", \"comfortable\", \"comfortable\", \"comfortable\", \"comfortable\", \"comfortable\", \"comfortable\", \"comfortable\", \"comfortable\", \"comfortable\", \"comfortable\", \"comment\", \"comment\", \"comment\", \"comment\", \"comment\", \"comment\", \"comment\", \"comment\", \"comment\", \"comment\", \"comment\", \"comment\", \"comment\", \"comment\", \"commute\", \"company\", \"computer\", \"condition\", \"condition\", \"condition\", \"condition\", \"condition\", \"condition\", \"condition\", \"condition\", \"condom\", \"conscience\", \"constructive\", \"contact\", \"contact\", \"contact\", \"contact\", \"contact\", \"contact\", \"contact\", \"contact\", \"contact\", \"contract\", \"contract\", \"convenience\", \"convert\", \"cook\", \"cookie\", \"cooking\", \"cooking\", \"cool\", \"cool\", \"cool\", \"cool\", \"cool\", \"cool\", \"cool\", \"cool\", \"cost\", \"cost\", \"cost\", \"cost\", \"cost\", \"costume\", \"cottage\", \"couch\", \"couch\", \"couch\", \"counseling\", \"counseling\", \"counselling\", \"couple\", \"couple\", \"couple\", \"couple\", \"couple\", \"couple\", \"couple\", \"couple\", \"couple\", \"couple\", \"couple\", \"couple\", \"couple\", \"couple\", \"couple\", \"couple\", \"course\", \"course\", \"course\", \"course\", \"course\", \"course\", \"course\", \"course\", \"course\", \"course\", \"course\", \"course\", \"course\", \"course\", \"course\", \"cousin\", \"cousin\", \"cover\", \"cover\", \"cover\", \"cover\", \"cover\", \"cover\", \"cover\", \"coworker\", \"coworker\", \"crawl\", \"crop\", \"cruel\", \"cruel\", \"cruel\", \"cruel\", \"cruel\", \"cruel\", \"cruel\", \"cruel\", \"cupcake\", \"curfew\", \"curl\", \"curtain\", \"custody\", \"custody\", \"customer\", \"customer\", \"customer\", \"dad\", \"dad\", \"dad\", \"dad\", \"dad\", \"daddy\", \"daddy\", \"dairy\", \"daisy\", \"dark\", \"dark\", \"dark\", \"dark\", \"dark\", \"dark\", \"dark\", \"date\", \"date\", \"date\", \"date\", \"date\", \"date\", \"date\", \"date\", \"date\", \"daughter\", \"day\", \"day\", \"day\", \"day\", \"day\", \"day\", \"day\", \"day\", \"day\", \"day\", \"day\", \"day\", \"day\", \"day\", \"day\", \"day\", \"deaf\", \"debt\", \"deceased\", \"decision\", \"decision\", \"decision\", \"decision\", \"decision\", \"decision\", \"decision\", \"decision\", \"decision\", \"decision\", \"decision\", \"decorate\", \"decorate\", \"degree\", \"degree\", \"degree\", \"degree\", \"degree\", \"delete\", \"delete\", \"delivery\", \"delivery\", \"delivery\", \"delusional\", \"dental\", \"department\", \"deposit\", \"depression\", \"depression\", \"depression\", \"design\", \"design\", \"dessert\", \"destination\", \"device\", \"diagnosis\", \"diagnosis\", \"diagnosis\", \"diamond\", \"dice\", \"different\", \"different\", \"different\", \"different\", \"different\", \"different\", \"different\", \"different\", \"different\", \"different\", \"different\", \"different\", \"different\", \"different\", \"dinner\", \"dinner\", \"dinner\", \"dinner\", \"dinner\", \"dinner\", \"dinner\", \"dinner\", \"disability\", \"disability\", \"disability\", \"disability\", \"dish\", \"dish\", \"dish\", \"dismiss\", \"disorder\", \"disorder\", \"disown\", \"disrupt\", \"district\", \"disturb\", \"divorce\", \"divorce\", \"divorce\", \"divorce\", \"divorce\", \"dna\", \"dna_t\", \"doctor\", \"doctor\", \"doctor\", \"dog\", \"doll\", \"dollar\", \"dollar\", \"dollar\", \"donation\", \"donation\", \"donation\", \"donor\", \"door\", \"door\", \"door\", \"door\", \"door\", \"dorm\", \"dorm\", \"drawing\", \"dress\", \"dress\", \"drink\", \"drink\", \"drink\", \"drinking\", \"drive\", \"drive\", \"drive\", \"drive\", \"drive\", \"drive\", \"drive\", \"drive\", \"drive\", \"driver\", \"driver\", \"driveway\", \"drug\", \"drug\", \"drug\", \"drunk\", \"drunk\", \"drunk\", \"drunk\", \"dude\", \"dude\", \"dude\", \"dude\", \"dye\", \"early\", \"early\", \"early\", \"early\", \"early\", \"early\", \"early\", \"early\", \"early\", \"early\", \"early\", \"early\", \"early\", \"early\", \"eat\", \"eat\", \"ect\", \"edit\", \"edit\", \"edit\", \"edit\", \"edit\", \"edit\", \"edit\", \"edit\", \"edit\", \"edit\", \"edit\", \"edit\", \"edit\", \"edit\", \"edit\", \"edit\", \"egg\", \"egg\", \"egg\", \"electric\", \"elevator\", \"eligible\", \"email\", \"email\", \"email\", \"emma\", \"employee\", \"employee\", \"end\", \"end\", \"end\", \"end\", \"end\", \"end\", \"end\", \"end\", \"end\", \"end\", \"end\", \"end\", \"end\", \"end\", \"end\", \"end\", \"engage\", \"engage\", \"engage\", \"engagement\", \"engagement_ring\", \"era\", \"ethic\", \"event\", \"event\", \"event\", \"event\", \"event\", \"event\", \"event\", \"event\", \"exam\", \"exercise\", \"exhausted\", \"exhausted\", \"expense\", \"expensive\", \"expensive\", \"expensive\", \"expensive\", \"expensive\", \"expensive\", \"expensive\", \"expensive\", \"expensive\", \"explicit\", \"eye\", \"eye\", \"eye\", \"eye\", \"eye\", \"eye\", \"eye\", \"eye\", \"eye\", \"eye\", \"eye\", \"eye\", \"eye\", \"eye\", \"facetime\", \"facetime\", \"facetime\", \"faint\", \"fake\", \"fake\", \"fake\", \"fake\", \"fake\", \"fake\", \"fake\", \"fake\", \"family\", \"family\", \"family\", \"family\", \"family\", \"family\", \"family\", \"family\", \"family\", \"family\", \"family\", \"family\", \"family\", \"fat\", \"fat\", \"father\", \"father\", \"father\", \"father\", \"father\", \"father\", \"fee\", \"fee\", \"feed\", \"feed\", \"feed\", \"feed\", \"feed\", \"feed\", \"feed\", \"feed\", \"female\", \"female\", \"female\", \"female\", \"female\", \"fence\", \"fence\", \"fertility\", \"fiance\", \"fiancee\", \"fianc\\u00e9\", \"fianc\\u00e9\", \"fianc\\u00e9e\", \"fight\", \"fight\", \"fight\", \"fight\", \"fight\", \"fight\", \"fight\", \"fight\", \"fight\", \"fight\", \"fight\", \"fight\", \"fil\", \"finance\", \"financial\", \"financial\", \"financial\", \"financial\", \"fire\", \"fire\", \"fire\", \"flag\", \"flaw\", \"flight\", \"floor\", \"floor\", \"floor\", \"floor\", \"floor\", \"floor\", \"flower\", \"flower\", \"flush\", \"follower\", \"food\", \"food\", \"football\", \"football\", \"formula\", \"forum\", \"foster\", \"free\", \"free\", \"free\", \"free\", \"free\", \"free\", \"free\", \"free\", \"free\", \"free\", \"free\", \"free\", \"free\", \"free\", \"fridge\", \"fridge\", \"friend\", \"friend\", \"friend\", \"friend\", \"friend\", \"friend\", \"friend\", \"friend\", \"friend\", \"friend\", \"friend\", \"friend\", \"friend\", \"friendship\", \"friendship\", \"fruit\", \"fuck\", \"fuck\", \"fuck\", \"fuck\", \"fuck\", \"fuck\", \"fuck\", \"fuck\", \"fuck\", \"fuck\", \"fuck\", \"fuck\", \"fuck\", \"fume\", \"fume\", \"fund\", \"fund\", \"funny\", \"funny\", \"funny\", \"furniture\", \"furniture\", \"future\", \"future\", \"future\", \"future\", \"future\", \"future\", \"future\", \"future\", \"future\", \"future\", \"future\", \"future\", \"game\", \"game\", \"game\", \"game\", \"game\", \"garage\", \"garage\", \"garden\", \"garden\", \"garden\", \"garden\", \"gate\", \"gay\", \"gay\", \"gay\", \"gay\", \"german\", \"gift\", \"gift\", \"gift\", \"gift\", \"gift\", \"giggle\", \"girl\", \"girl\", \"girl\", \"girl\", \"girl\", \"girl\", \"girl\", \"girl\", \"girl\", \"girl\", \"girl\", \"girlfriend\", \"girlfriend\", \"girlfriend\", \"girlfriend\", \"girlfriend\", \"girlfriend\", \"girlfriend\", \"girlfriend\", \"girlfriend\", \"glass\", \"glass\", \"glass\", \"glitter\", \"golden\", \"golden\", \"good\", \"good\", \"good\", \"good\", \"good\", \"good\", \"good\", \"good\", \"good\", \"good\", \"good\", \"good\", \"good\", \"good\", \"good\", \"good\", \"gown\", \"grace\", \"grade\", \"graduate\", \"graduate\", \"graduate\", \"graduate\", \"graduate\", \"grandkid\", \"grandkid\", \"grandma\", \"grandma\", \"grandma\", \"grandma\", \"grandmother\", \"grandmother\", \"grandmother\", \"grandmother\", \"grandparent\", \"grandparent\", \"grandparent\", \"grandparent\", \"grandparent\", \"grandson\", \"grass\", \"greedy\", \"green\", \"green\", \"grieve\", \"grieving\", \"groom\", \"group\", \"group\", \"group\", \"group\", \"guardian\", \"guest\", \"guest\", \"guest\", \"guest\", \"guitar\", \"guitar\", \"guy\", \"guy\", \"guy\", \"guy\", \"guy\", \"guy\", \"guy\", \"guy\", \"guy\", \"guy\", \"gym\", \"gym\", \"h\", \"hair\", \"half\", \"half\", \"half\", \"half\", \"half\", \"half\", \"half\", \"half\", \"half\", \"half\", \"half\", \"half\", \"half\", \"half\", \"hangout\", \"happy\", \"happy\", \"happy\", \"happy\", \"happy\", \"happy\", \"happy\", \"happy\", \"happy\", \"happy\", \"happy\", \"happy\", \"happy\", \"happy\", \"happy\", \"hard\", \"hard\", \"hard\", \"hard\", \"hard\", \"hard\", \"hard\", \"hard\", \"hard\", \"hard\", \"hard\", \"hard\", \"hard\", \"hard\", \"hat\", \"heal\", \"health\", \"health\", \"health\", \"health\", \"health\", \"health\", \"health\", \"health\", \"healthy\", \"healthy\", \"healthy\", \"healthy\", \"healthy\", \"hearted\", \"hectic\", \"heel\", \"height\", \"help\", \"help\", \"help\", \"help\", \"help\", \"help\", \"help\", \"help\", \"help\", \"help\", \"help\", \"help\", \"help\", \"help\", \"help\", \"help\", \"high\", \"high\", \"high\", \"high\", \"high\", \"high\", \"high\", \"high\", \"high\", \"high\", \"high\", \"high\", \"high\", \"high\", \"high\", \"hiking\", \"home\", \"home\", \"home\", \"home\", \"home\", \"home\", \"home\", \"home\", \"home\", \"home\", \"home\", \"home\", \"home\", \"home\", \"home\", \"homeless\", \"homeless\", \"homeless\", \"homeowner\", \"honeymoon\", \"horse\", \"horse\", \"hour\", \"hour\", \"hour\", \"hour\", \"hour\", \"hour\", \"hour\", \"hour\", \"hour\", \"hour\", \"hour\", \"hour\", \"hour\", \"house\", \"house\", \"house\", \"house\", \"house\", \"house\", \"house\", \"house\", \"house\", \"house\", \"house\", \"house\", \"housewife\", \"housework\", \"hub\", \"hubby\", \"hubby\", \"hungry\", \"hungry\", \"husband\", \"husband\", \"hyphenate\", \"hypothetical\", \"idea\", \"idea\", \"idea\", \"idea\", \"idea\", \"idea\", \"idea\", \"idea\", \"idea\", \"idea\", \"idea\", \"idea\", \"idea\", \"idea\", \"idea\", \"idea\", \"impatient\", \"implant\", \"important\", \"important\", \"important\", \"important\", \"important\", \"important\", \"important\", \"important\", \"important\", \"important\", \"important\", \"important\", \"important\", \"important\", \"important\", \"inappropriate\", \"inappropriate\", \"inappropriate\", \"inappropriate\", \"inappropriate\", \"inappropriate\", \"incapable\", \"income\", \"infertile\", \"infertility\", \"information\", \"information\", \"information\", \"information\", \"information\", \"information\", \"information\", \"information\", \"information\", \"information\", \"ingredient\", \"inheritance\", \"insecure\", \"insecure\", \"inspection\", \"insulin\", \"insurance\", \"insurance\", \"insurance\", \"interfere\", \"interior\", \"interview\", \"invalidate\", \"investment\", \"invitation\", \"irritate\", \"issue\", \"issue\", \"issue\", \"issue\", \"issue\", \"issue\", \"issue\", \"issue\", \"issue\", \"issue\", \"issue\", \"issue\", \"issue\", \"issue\", \"issue\", \"issue\", \"item\", \"item\", \"item\", \"item\", \"item\", \"item\", \"item\", \"ivf\", \"ivf\", \"jack\", \"jake\", \"japanese\", \"jean\", \"jess\", \"jewellery\", \"jewelry\", \"jewelry\", \"jewish\", \"job\", \"job\", \"job\", \"job\", \"job\", \"job\", \"joke\", \"joke\", \"joke\", \"joke\", \"juice\", \"junk\", \"key\", \"key\", \"key\", \"key\", \"key\", \"kid\", \"kid\", \"kid\", \"kid\", \"kid\", \"kid\", \"kid\", \"kid\", \"kid\", \"kidney\", \"kitchen\", \"kitchen\", \"l\", \"l\", \"labor\", \"labor\", \"language\", \"laptop\", \"laptop\", \"laptop\", \"late\", \"late\", \"late\", \"late\", \"late\", \"late\", \"late\", \"late\", \"late\", \"late\", \"late\", \"late\", \"laugh\", \"laugh\", \"laugh\", \"laugh\", \"laugh\", \"laundry\", \"laundry\", \"lauren\", \"lavish\", \"law\", \"law\", \"law\", \"law\", \"law\", \"law\", \"law\", \"lawsuit\", \"lay\", \"leash\", \"leave\", \"leave\", \"leave\", \"leave\", \"leave\", \"leave\", \"leave\", \"leave\", \"leave\", \"leave\", \"leave\", \"leave\", \"leave\", \"leave\", \"leave\", \"lesson\", \"lesson\", \"lesson\", \"lesson\", \"lesson\", \"library\", \"life\", \"life\", \"life\", \"life\", \"life\", \"life\", \"life\", \"life\", \"life\", \"life\", \"life\", \"life\", \"life\", \"liquor\", \"little\", \"little\", \"little\", \"little\", \"little\", \"little\", \"little\", \"little\", \"little\", \"little\", \"little\", \"little\", \"little\", \"little\", \"little\", \"little\", \"live\", \"live\", \"live\", \"live\", \"live\", \"live\", \"live\", \"live\", \"live\", \"live\", \"live\", \"living_room\", \"loan\", \"lobby\", \"lobster\", \"lock\", \"lock\", \"lock\", \"lock\", \"long\", \"long\", \"long\", \"long\", \"long\", \"long\", \"long\", \"long\", \"long\", \"long\", \"long\", \"long\", \"long\", \"long\", \"long\", \"long\", \"look\", \"look\", \"look\", \"look\", \"look\", \"look\", \"look\", \"look\", \"look\", \"look\", \"look\", \"look\", \"look\", \"look\", \"look\", \"look\", \"lose\", \"lose\", \"lose\", \"lose\", \"lose\", \"lose\", \"lose\", \"lose\", \"lose\", \"lose\", \"lose\", \"lose\", \"lose\", \"lot\", \"lot\", \"lot\", \"lot\", \"lot\", \"lot\", \"lot\", \"lot\", \"lot\", \"lot\", \"lot\", \"lot\", \"lot\", \"lot\", \"lot\", \"lot\", \"lotion\", \"love\", \"love\", \"love\", \"love\", \"love\", \"love\", \"love\", \"love\", \"love\", \"love\", \"love\", \"love\", \"love\", \"lunch\", \"lunch\", \"lunch\", \"lunch\", \"lunch\", \"mad\", \"mad\", \"mad\", \"mad\", \"mad\", \"mad\", \"mad\", \"mad\", \"mad\", \"mad\", \"mad\", \"mad\", \"mad\", \"mad\", \"mad\", \"makeup\", \"male\", \"male\", \"male\", \"male\", \"male\", \"malice\", \"man\", \"man\", \"man\", \"man\", \"man\", \"man\", \"man\", \"man\", \"man\", \"management\", \"manager\", \"manager\", \"manager\", \"marriage\", \"marriage\", \"marriage\", \"marriage\", \"marriage\", \"mask\", \"massage\", \"maternity\", \"maternity\", \"math\", \"math\", \"meal\", \"meat\", \"medical\", \"medical\", \"medical\", \"medical\", \"medical\", \"medication\", \"medicine\", \"medicine\", \"meeting\", \"meeting\", \"meeting\", \"member\", \"member\", \"member\", \"member\", \"member\", \"member\", \"member\", \"member\", \"message\", \"message\", \"message\", \"message\", \"message\", \"message\", \"message\", \"message\", \"message\", \"message\", \"midnight\", \"mil\", \"mil\", \"mil\", \"milk\", \"milk\", \"milk\", \"minute\", \"minute\", \"minute\", \"minute\", \"minute\", \"minute\", \"minute\", \"minute\", \"minute\", \"miscarriage\", \"mom\", \"mom\", \"mom\", \"mom\", \"mom\", \"mom\", \"mom\", \"mommy\", \"money\", \"money\", \"month\", \"month\", \"month\", \"month\", \"month\", \"month\", \"month\", \"month\", \"month\", \"month\", \"month\", \"month\", \"month\", \"month\", \"month\", \"morning\", \"morning\", \"morning\", \"morning\", \"morning\", \"morning\", \"morning\", \"morning\", \"morning\", \"morning\", \"morning\", \"mortgage\", \"mother\", \"mother\", \"mother\", \"mother\", \"mother\", \"mother\", \"mother\", \"motorcycle\", \"movie\", \"movie\", \"music\", \"music\", \"music\", \"mutual\", \"mutual\", \"mutual\", \"mutual\", \"mutual\", \"necklace\", \"neighbor\", \"neighborhood\", \"neighborhood\", \"nephew\", \"new\", \"new\", \"new\", \"new\", \"new\", \"new\", \"new\", \"new\", \"new\", \"new\", \"new\", \"new\", \"new\", \"new\", \"new\", \"new\", \"newborn\", \"nice\", \"nice\", \"nice\", \"nice\", \"nice\", \"nice\", \"nice\", \"nice\", \"nice\", \"nice\", \"nice\", \"nice\", \"nice\", \"nickname\", \"nickname\", \"nicole\", \"niece\", \"night\", \"night\", \"night\", \"night\", \"night\", \"night\", \"night\", \"night\", \"night\", \"nipple\", \"noise\", \"noise\", \"noise\", \"noticeable\", \"number\", \"number\", \"number\", \"number\", \"number\", \"number\", \"number\", \"number\", \"number\", \"number\", \"number\", \"nurse\", \"nurse\", \"nurse\", \"nursery\", \"nursery\", \"nut\", \"o'clock\", \"obese\", \"obligate\", \"obnoxious\", \"obnoxious\", \"offensive\", \"offensive\", \"offensive\", \"office\", \"office\", \"office\", \"old\", \"old\", \"old\", \"old\", \"old\", \"old\", \"old\", \"old\", \"old\", \"old\", \"old\", \"old\", \"old\", \"old\", \"old\", \"open\", \"open\", \"open\", \"open\", \"open\", \"open\", \"open\", \"open\", \"open\", \"open\", \"open\", \"open\", \"open\", \"open\", \"order\", \"order\", \"order\", \"order\", \"order\", \"order\", \"order\", \"order\", \"order\", \"order\", \"order\", \"outfit\", \"outfit\", \"outing\", \"ovary\", \"overweight\", \"owner\", \"owner\", \"owner\", \"owner\", \"p.m.\", \"p.m.\", \"package\", \"package\", \"package\", \"package\", \"pad\", \"pain\", \"pain\", \"pain\", \"pain\", \"pain\", \"pain\", \"painting\", \"panic_attack\", \"pant\", \"pant\", \"pant\", \"parent\", \"parent\", \"parent\", \"parent\", \"parent\", \"parent\", \"parent\", \"parent\", \"parent\", \"parent\", \"parent\", \"parenting\", \"parenting\", \"park\", \"park\", \"park\", \"parking\", \"partner\", \"partner\", \"partner\", \"partner\", \"partner\", \"partner\", \"partner\", \"partner\", \"partner\", \"partner\", \"partner\", \"party\", \"party\", \"party\", \"pass\", \"pass\", \"pass\", \"pass\", \"pass\", \"pass\", \"pass\", \"pass\", \"pass\", \"pass\", \"pass\", \"pass\", \"pass\", \"pastor\", \"paternity_t\", \"patient\", \"patient\", \"patient\", \"patient\", \"pay\", \"pay\", \"pay\", \"pay\", \"pay\", \"pay\", \"payment\", \"pc\", \"pediatrician\", \"people\", \"people\", \"people\", \"people\", \"people\", \"people\", \"people\", \"people\", \"people\", \"people\", \"people\", \"people\", \"people\", \"people\", \"people\", \"people\", \"pepper\", \"perfume\", \"period\", \"period\", \"period\", \"period\", \"period\", \"period\", \"period\", \"period\", \"period\", \"person\", \"person\", \"person\", \"person\", \"person\", \"person\", \"person\", \"person\", \"person\", \"person\", \"person\", \"person\", \"person\", \"person\", \"person\", \"person\", \"pet\", \"phone\", \"phone\", \"phone\", \"phone\", \"phone\", \"phone\", \"phone\", \"phone\", \"phone\", \"phone\", \"phone\", \"photo\", \"photo\", \"piano\", \"picture\", \"picture\", \"picture\", \"picture\", \"picture\", \"picture\", \"picture\", \"pie\", \"pink\", \"pink\", \"pizza\", \"place\", \"place\", \"place\", \"place\", \"place\", \"place\", \"place\", \"place\", \"place\", \"place\", \"place\", \"place\", \"place\", \"place\", \"place\", \"plan\", \"plan\", \"plan\", \"plan\", \"plan\", \"plan\", \"plan\", \"plan\", \"plan\", \"plan\", \"plane\", \"planning\", \"plant\", \"plant\", \"plastic\", \"plate\", \"plate\", \"platinum\", \"play\", \"play\", \"play\", \"play\", \"play\", \"play\", \"play\", \"play\", \"playstation\", \"point\", \"point\", \"point\", \"point\", \"point\", \"point\", \"point\", \"point\", \"point\", \"point\", \"point\", \"point\", \"point\", \"point\", \"point\", \"point\", \"police\", \"police\", \"police\", \"police\", \"police\", \"police\", \"police\", \"police\", \"pool\", \"pool\", \"pool\", \"pool\", \"poop\", \"porch\", \"pork\", \"position\", \"position\", \"position\", \"position\", \"position\", \"position\", \"position\", \"position\", \"position\", \"position\", \"post\", \"post\", \"post\", \"post\", \"post\", \"post\", \"post\", \"post\", \"post\", \"post\", \"post\", \"post\", \"postpartum\", \"potato\", \"pour\", \"prank\", \"precaution\", \"precedent\", \"pregnancy\", \"pregnant\", \"pregnant\", \"pregnant\", \"premature\", \"prescription\", \"present\", \"present\", \"present\", \"present\", \"present\", \"present\", \"present\", \"present\", \"present\", \"price\", \"price\", \"principal\", \"print\", \"private\", \"private\", \"private\", \"private\", \"private\", \"private\", \"private\", \"private\", \"private\", \"private\", \"private\", \"problem\", \"problem\", \"problem\", \"problem\", \"problem\", \"problem\", \"problem\", \"problem\", \"problem\", \"problem\", \"problem\", \"problem\", \"problem\", \"problem\", \"problem\", \"problem\", \"production\", \"profile\", \"program\", \"program\", \"program\", \"project\", \"project\", \"project\", \"project\", \"promotion\", \"prone\", \"pronoun\", \"property\", \"property\", \"property\", \"proposal\", \"propose\", \"prospective\", \"punishment\", \"punishment\", \"punishment\", \"punishment\", \"purse\", \"r_amitheasshole_comment\", \"r_amitheasshole_comment\", \"rabbit\", \"race\", \"racism\", \"racist\", \"raise\", \"raise\", \"raise\", \"raise\", \"raise\", \"raise\", \"raise\", \"raise\", \"reader\", \"reason\", \"reason\", \"reason\", \"reason\", \"reason\", \"reason\", \"reason\", \"reason\", \"reason\", \"reason\", \"reason\", \"reason\", \"reason\", \"reason\", \"reason\", \"reason\", \"receipt\", \"receipt\", \"receipt\", \"receipt\", \"reception\", \"recipe\", \"reconcile\", \"reconcile\", \"reduce\", \"registration\", \"relationship\", \"relationship\", \"relationship\", \"relationship\", \"relationship\", \"relationship\", \"relationship\", \"relationship\", \"relationship\", \"relationship\", \"reliable\", \"religion\", \"religion\", \"religious\", \"religious\", \"religious\", \"religious\", \"rent\", \"rent\", \"rent\", \"report\", \"report\", \"report\", \"report\", \"rescue\", \"resident\", \"restaurant\", \"restaurant\", \"restaurant\", \"restaurant\", \"restaurant\", \"restroom\", \"retaliation\", \"retirement\", \"rice\", \"right\", \"right\", \"right\", \"right\", \"right\", \"right\", \"right\", \"right\", \"right\", \"right\", \"right\", \"right\", \"right\", \"right\", \"right\", \"right\", \"ring\", \"risky\", \"road\", \"road\", \"road\", \"road\", \"road\", \"road\", \"romantic\", \"room\", \"room\", \"room\", \"room\", \"room\", \"room\", \"room\", \"roommate\", \"rotate\", \"row\", \"rsvp\", \"rude\", \"rude\", \"rude\", \"rude\", \"rude\", \"rude\", \"rude\", \"rude\", \"rude\", \"rude\", \"rude\", \"rude\", \"rude\", \"rule\", \"rule\", \"rule\", \"rule\", \"rule\", \"rule\", \"rule\", \"rule\", \"rule\", \"russian\", \"salad\", \"salary\", \"salary\", \"salt\", \"sandwich\", \"sauce\", \"saving\", \"scar\", \"scene\", \"scene\", \"scene\", \"schedule\", \"schedule\", \"schedule\", \"schedule\", \"scholarship\", \"scholarship\", \"school\", \"school\", \"school\", \"school\", \"school\", \"school\", \"school\", \"school\", \"screenshot\", \"screenshot\", \"sd\", \"seat\", \"seat\", \"section\", \"section\", \"section\", \"section\", \"seed\", \"seizure\", \"semester\", \"semester\", \"senior\", \"senior\", \"senior\", \"settlement\", \"severe\", \"severe\", \"severe\", \"severe\", \"sewing\", \"sex\", \"sex\", \"sex\", \"sex\", \"sex\", \"sex\", \"sexist\", \"sexist\", \"shaky\", \"shampoo\", \"share\", \"share\", \"share\", \"share\", \"share\", \"share\", \"share\", \"share\", \"share\", \"share\", \"share\", \"share\", \"share\", \"sheet\", \"sheet\", \"shelf\", \"shelf\", \"shift\", \"shift\", \"shirt\", \"shoe\", \"shoe\", \"shoe\", \"shoe\", \"shop\", \"shop\", \"shop\", \"shop\", \"shop\", \"shop\", \"shop\", \"shopping\", \"shopping\", \"shopping\", \"shopping\", \"shopping\", \"shopping\", \"shopping\", \"shopping\", \"short\", \"short\", \"short\", \"short\", \"short\", \"short\", \"short\", \"short\", \"short\", \"short\", \"short\", \"short\", \"short\", \"short\", \"short\", \"shower\", \"shower\", \"shower\", \"sibling\", \"sibling\", \"sibling\", \"sibling\", \"sign\", \"sign\", \"sign\", \"sign\", \"sign\", \"sign\", \"sign\", \"sign\", \"sign\", \"sign\", \"signature\", \"sil\", \"sil\", \"sil\", \"sin\", \"sing\", \"singer\", \"single\", \"single\", \"single\", \"single\", \"single\", \"single\", \"single\", \"single\", \"single\", \"single\", \"single\", \"single\", \"sis\", \"sister\", \"sister\", \"sister\", \"sitter\", \"sitter\", \"situation\", \"situation\", \"situation\", \"situation\", \"situation\", \"situation\", \"situation\", \"situation\", \"situation\", \"situation\", \"situation\", \"situation\", \"situation\", \"situation\", \"situation\", \"situation\", \"size\", \"size\", \"size\", \"size\", \"size\", \"size\", \"skate\", \"skill\", \"skill\", \"skill\", \"skin\", \"skin\", \"slack\", \"sleep\", \"sleep\", \"sleep\", \"sleep\", \"sleep\", \"slur\", \"small\", \"small\", \"small\", \"small\", \"small\", \"small\", \"small\", \"small\", \"small\", \"small\", \"small\", \"small\", \"small\", \"small\", \"small\", \"small\", \"smell\", \"smell\", \"smell\", \"smell\", \"snack\", \"snake\", \"soda\", \"son\", \"son\", \"son\", \"son\", \"song\", \"sooo\", \"soup\", \"space\", \"space\", \"space\", \"space\", \"space\", \"space\", \"space\", \"space\", \"space\", \"space\", \"spanish\", \"speech\", \"speech\", \"speechless\", \"speed\", \"speed\", \"sperm\", \"spice\", \"spicy\", \"spoiler\", \"spontaneous\", \"spot\", \"spot\", \"spot\", \"spot\", \"spot\", \"spot\", \"spot\", \"spot\", \"spot\", \"stability\", \"start\", \"start\", \"start\", \"start\", \"start\", \"start\", \"start\", \"start\", \"start\", \"start\", \"start\", \"start\", \"start\", \"start\", \"start\", \"step\", \"step\", \"step\", \"step\", \"step\", \"step\", \"step\", \"step\", \"step\", \"step\", \"step\", \"step\", \"stepbrother\", \"stepbrother\", \"stepdad\", \"stepdaughter\", \"stepmom\", \"stepmother\", \"stepmother\", \"stepsister\", \"stepsister\", \"stereotype\", \"sticker\", \"storage\", \"store\", \"store\", \"store\", \"store\", \"store\", \"store\", \"store\", \"story\", \"story\", \"story\", \"story\", \"story\", \"story\", \"story\", \"story\", \"story\", \"story\", \"story\", \"story\", \"story\", \"struggle\", \"struggle\", \"struggle\", \"struggle\", \"struggle\", \"struggle\", \"struggle\", \"struggle\", \"struggle\", \"struggle\", \"student\", \"student\", \"student\", \"studio\", \"study\", \"study\", \"study\", \"study\", \"study\", \"study\", \"study\", \"study\", \"stuff\", \"stuff\", \"stuff\", \"stuff\", \"stuff\", \"stuff\", \"stuff\", \"stuff\", \"stuff\", \"stuff\", \"stuff\", \"stuff\", \"stuff\", \"stuff\", \"style\", \"style\", \"style\", \"style\", \"subreddit\", \"suffering\", \"suit\", \"suit\", \"suit\", \"suit\", \"suite\", \"supervise\", \"supervisor\", \"support\", \"support\", \"support\", \"support\", \"support\", \"support\", \"support\", \"support\", \"support\", \"support\", \"surgery\", \"surname\", \"surrogate\", \"sweater\", \"sweep\", \"sweet\", \"sweet\", \"sweet\", \"sweet\", \"sweet\", \"sweet\", \"sweet\", \"sweet\", \"sweet\", \"sweet\", \"swim\", \"sympathize\", \"t\", \"table\", \"table\", \"table\", \"table\", \"table\", \"table\", \"tablet\", \"talk\", \"talk\", \"talk\", \"talk\", \"talk\", \"talk\", \"talk\", \"talk\", \"talk\", \"talk\", \"talk\", \"talk\", \"talk\", \"talk\", \"talk\", \"talk\", \"tampon\", \"taste\", \"taste\", \"taste\", \"taste\", \"taste\", \"tattoo\", \"tea\", \"tea\", \"teacher\", \"team\", \"technical\", \"tell\", \"tell\", \"tell\", \"tell\", \"tell\", \"tell\", \"tell\", \"tell\", \"tell\", \"tell\", \"tell\", \"tell\", \"tell\", \"tell\", \"tell\", \"tell\", \"temp\", \"tenant\", \"tenant\", \"test\", \"test\", \"test\", \"testing\", \"testing\", \"text\", \"text\", \"text\", \"text\", \"text\", \"text\", \"text\", \"text\", \"texte\", \"texte\", \"texte\", \"texte\", \"texte\", \"texte\", \"texte\", \"texte\", \"texte\", \"theater\", \"therapist\", \"therapist\", \"therapist\", \"therapy\", \"therapy\", \"therapy\", \"therapy\", \"therapy\", \"throw_tantrum\", \"tidy\", \"tidy\", \"timing\", \"tinder\", \"tip\", \"tip\", \"tip\", \"tired\", \"tired\", \"tired\", \"tired\", \"tired\", \"tired\", \"tired\", \"tired\", \"today\", \"today\", \"today\", \"today\", \"today\", \"today\", \"today\", \"today\", \"today\", \"today\", \"today\", \"today\", \"today\", \"today\", \"today\", \"today\", \"toilet\", \"tooth\", \"topless\", \"tour\", \"tow\", \"towel\", \"toy\", \"toy\", \"toy\", \"toy\", \"toy\", \"tradition\", \"tradition\", \"tradition\", \"traditional\", \"traditional\", \"traditional\", \"traditional\", \"traumatize\", \"tree\", \"tree\", \"tree\", \"trick\", \"trick\", \"trimester\", \"trip\", \"trip\", \"trip\", \"trip\", \"trip\", \"triplet\", \"truck\", \"trunk\", \"tuition\", \"tutor\", \"tv\", \"tv\", \"tv\", \"tv\", \"tv\", \"twin\", \"twin\", \"twin\", \"typo\", \"unborn\", \"uncalled\", \"uncle\", \"uncle\", \"uncle\", \"uncle\", \"uncomfortable\", \"uncomfortable\", \"uncomfortable\", \"uncomfortable\", \"uncomfortable\", \"uncomfortable\", \"uncomfortable\", \"uncomfortable\", \"uncomfortable\", \"undermine\", \"ungrateful\", \"ungrateful\", \"ungrateful\", \"ungrateful\", \"ungrateful\", \"ungrateful\", \"ungrateful\", \"unhealthy\", \"unhealthy\", \"uniform\", \"uninvite\", \"unprofessional\", \"unstable\", \"unwell\", \"update\", \"update\", \"update\", \"update\", \"update\", \"update\", \"update\", \"update\", \"update\", \"update\", \"update\", \"update\", \"update\", \"upset\", \"upset\", \"upset\", \"upset\", \"upset\", \"upset\", \"upset\", \"upset\", \"upset\", \"upset\", \"upset\", \"upset\", \"upset\", \"upset\", \"upset\", \"upset\", \"upstage\", \"upstairs\", \"usable\", \"use\", \"use\", \"use\", \"use\", \"use\", \"use\", \"use\", \"use\", \"use\", \"use\", \"use\", \"use\", \"use\", \"use\", \"use\", \"use\", \"utility\", \"vacation\", \"vacation\", \"vacation\", \"vacation\", \"vacation\", \"vacation\", \"vacuum\", \"vain\", \"vasectomy\", \"vegetable\", \"vegetable\", \"vegetarian\", \"vehicle\", \"vehicle\", \"venue\", \"vet\", \"viable\", \"vibe\", \"vibe\", \"video\", \"video\", \"video\", \"video\", \"video\", \"visit\", \"visit\", \"visit\", \"visit\", \"visit\", \"visit\", \"visit\", \"visit\", \"visit\", \"visit\", \"visit\", \"visitation\", \"vodka\", \"waiter\", \"waiting\", \"waitress\", \"wake\", \"wake\", \"wake\", \"wake\", \"walk\", \"walk\", \"walk\", \"walk\", \"walk\", \"walk\", \"walk\", \"walk\", \"walk\", \"walk\", \"wander\", \"want\", \"want\", \"want\", \"want\", \"want\", \"want\", \"want\", \"want\", \"want\", \"want\", \"want\", \"want\", \"want\", \"want\", \"want\", \"want\", \"water\", \"water\", \"water\", \"water\", \"water\", \"water\", \"water\", \"way\", \"way\", \"way\", \"way\", \"way\", \"way\", \"way\", \"way\", \"way\", \"way\", \"way\", \"way\", \"way\", \"way\", \"way\", \"way\", \"wealth\", \"wear\", \"wear\", \"wear\", \"wedding\", \"week\", \"week\", \"week\", \"week\", \"week\", \"week\", \"week\", \"week\", \"week\", \"week\", \"week\", \"week\", \"week\", \"week\", \"week\", \"week\", \"weekend\", \"weekend\", \"weekend\", \"weekend\", \"weekend\", \"weekend\", \"weekend\", \"weekend\", \"weekend\", \"weekend\", \"weight\", \"weird\", \"weird\", \"weird\", \"weird\", \"weird\", \"weird\", \"weird\", \"weird\", \"weird\", \"weird\", \"wet\", \"whisper\", \"white\", \"white\", \"white\", \"wife\", \"wife\", \"wife\", \"window\", \"window\", \"window\", \"window\", \"wipe\", \"wipe\", \"woman\", \"woman\", \"woman\", \"woman\", \"woman\", \"woman\", \"woman\", \"woman\", \"woman\", \"woman\", \"woman\", \"woman\", \"work\", \"work\", \"work\", \"work\", \"work\", \"work\", \"work\", \"work\", \"work\", \"work\", \"work\", \"work\", \"work\", \"work\", \"work\", \"workout\", \"workplace\", \"wrestling\", \"writer\", \"wrong\", \"wrong\", \"wrong\", \"wrong\", \"wrong\", \"wrong\", \"wrong\", \"wrong\", \"wrong\", \"wrong\", \"wrong\", \"wrong\", \"wrong\", \"wrong\", \"wrong\", \"wrong\", \"yard\", \"yard\", \"yarn\", \"yellow\", \"young\", \"young\", \"young\", \"young\", \"young\", \"young\", \"young\", \"young\", \"young\", \"young\", \"young\", \"youth\", \"\\u00a3\"]}, \"R\": 30, \"lambda.step\": 0.01, \"plot.opts\": {\"xlab\": \"PC1\", \"ylab\": \"PC2\"}, \"topic.order\": [16, 7, 9, 14, 12, 11, 5, 6, 2, 4, 3, 15, 10, 1, 8, 13]};\n",
       "\n",
       "function LDAvis_load_lib(url, callback){\n",
       "  var s = document.createElement('script');\n",
       "  s.src = url;\n",
       "  s.async = true;\n",
       "  s.onreadystatechange = s.onload = callback;\n",
       "  s.onerror = function(){console.warn(\"failed to load library \" + url);};\n",
       "  document.getElementsByTagName(\"head\")[0].appendChild(s);\n",
       "}\n",
       "\n",
       "if(typeof(LDAvis) !== \"undefined\"){\n",
       "   // already loaded: just create the visualization\n",
       "   !function(LDAvis){\n",
       "       new LDAvis(\"#\" + \"ldavis_el4850140290241015472473124981\", ldavis_el4850140290241015472473124981_data);\n",
       "   }(LDAvis);\n",
       "}else if(typeof define === \"function\" && define.amd){\n",
       "   // require.js is available: use it to load d3/LDAvis\n",
       "   require.config({paths: {d3: \"https://d3js.org/d3.v5\"}});\n",
       "   require([\"d3\"], function(d3){\n",
       "      window.d3 = d3;\n",
       "      LDAvis_load_lib(\"https://cdn.jsdelivr.net/gh/bmabey/pyLDAvis@3.3.1/pyLDAvis/js/ldavis.v3.0.0.js\", function(){\n",
       "        new LDAvis(\"#\" + \"ldavis_el4850140290241015472473124981\", ldavis_el4850140290241015472473124981_data);\n",
       "      });\n",
       "    });\n",
       "}else{\n",
       "    // require.js not available: dynamically load d3 & LDAvis\n",
       "    LDAvis_load_lib(\"https://d3js.org/d3.v5.js\", function(){\n",
       "         LDAvis_load_lib(\"https://cdn.jsdelivr.net/gh/bmabey/pyLDAvis@3.3.1/pyLDAvis/js/ldavis.v3.0.0.js\", function(){\n",
       "                 new LDAvis(\"#\" + \"ldavis_el4850140290241015472473124981\", ldavis_el4850140290241015472473124981_data);\n",
       "            })\n",
       "         });\n",
       "}\n",
       "</script>"
      ],
      "text/plain": [
       "PreparedData(topic_coordinates=              x         y  topics  cluster       Freq\n",
       "topic                                                \n",
       "15    -0.009904 -0.066799       1        1  19.240640\n",
       "6      0.172488  0.032844       2        1  10.191730\n",
       "8     -0.009917 -0.028770       3        1   9.329693\n",
       "13    -0.087884  0.132429       4        1   7.352649\n",
       "11    -0.022299  0.140750       5        1   6.720075\n",
       "10     0.185417  0.074224       6        1   6.491933\n",
       "4      0.120132 -0.053379       7        1   5.835890\n",
       "5      0.171571 -0.025763       8        1   5.695920\n",
       "1     -0.159991  0.099255       9        1   5.278807\n",
       "3      0.152859  0.026013      10        1   4.332233\n",
       "2     -0.004799 -0.213537      11        1   4.244993\n",
       "14     0.055341 -0.086146      12        1   3.916134\n",
       "9     -0.166936 -0.003075      13        1   3.814625\n",
       "0     -0.188820  0.126893      14        1   2.916226\n",
       "7     -0.021875  0.095442      15        1   2.549234\n",
       "12    -0.185382 -0.250381      16        1   2.089219, topic_info=         Term          Freq         Total Category  logprob  loglift\n",
       "523   husband  10665.000000  10665.000000  Default  30.0000  30.0000\n",
       "147      wife   9792.000000   9792.000000  Default  29.0000  29.0000\n",
       "134    parent  11391.000000  11391.000000  Default  28.0000  28.0000\n",
       "894    sister   7766.000000   7766.000000  Default  27.0000  27.0000\n",
       "259     money   7612.000000   7612.000000  Default  26.0000  26.0000\n",
       "..        ...           ...           ...      ...      ...      ...\n",
       "130      nice    234.736021   2247.811237  Topic16  -4.6770   1.6091\n",
       "33       girl    267.564685   3958.019367  Topic16  -4.5461   1.1742\n",
       "507     small    195.476792   2452.457535  Topic16  -4.8601   1.3390\n",
       "50       look    183.709607   1995.659402  Topic16  -4.9221   1.4830\n",
       "474  business    171.192273   1329.315608  Topic16  -4.9927   1.8187\n",
       "\n",
       "[1115 rows x 6 columns], token_table=      Topic      Freq   Term\n",
       "term                        \n",
       "4870      2  0.911786    14f\n",
       "4870     11  0.082890    14f\n",
       "2136     11  0.990093    30f\n",
       "3147     12  0.969005    35k\n",
       "4833      5  0.961063    7th\n",
       "...     ...       ...    ...\n",
       "149      10  0.000379  young\n",
       "149      12  0.013660  young\n",
       "149      16  0.023526  young\n",
       "4121      8  0.985847  youth\n",
       "1569      6  0.977604      £\n",
       "\n",
       "[3299 rows x 3 columns], R=30, lambda_step=0.01, plot_opts={'xlab': 'PC1', 'ylab': 'PC2'}, topic_order=[16, 7, 9, 14, 12, 11, 5, 6, 2, 4, 3, 15, 10, 1, 8, 13])"
      ]
     },
     "execution_count": 43,
     "metadata": {},
     "output_type": "execute_result"
    },
    {
     "name": "stderr",
     "output_type": "stream",
     "text": [
      "/Users/tomvannuenen/opt/anaconda3/lib/python3.8/site-packages/past/builtins/misc.py:45: DeprecationWarning: the imp module is deprecated in favour of importlib; see the module's documentation for alternative uses\n",
      "  from imp import reload\n",
      "/Users/tomvannuenen/opt/anaconda3/lib/python3.8/site-packages/past/builtins/misc.py:45: DeprecationWarning: the imp module is deprecated in favour of importlib; see the module's documentation for alternative uses\n",
      "  from imp import reload\n",
      "/Users/tomvannuenen/opt/anaconda3/lib/python3.8/site-packages/past/builtins/misc.py:45: DeprecationWarning: the imp module is deprecated in favour of importlib; see the module's documentation for alternative uses\n",
      "  from imp import reload\n",
      "/Users/tomvannuenen/opt/anaconda3/lib/python3.8/site-packages/past/builtins/misc.py:45: DeprecationWarning: the imp module is deprecated in favour of importlib; see the module's documentation for alternative uses\n",
      "  from imp import reload\n",
      "/Users/tomvannuenen/opt/anaconda3/lib/python3.8/site-packages/past/builtins/misc.py:45: DeprecationWarning: the imp module is deprecated in favour of importlib; see the module's documentation for alternative uses\n",
      "  from imp import reload\n",
      "/Users/tomvannuenen/opt/anaconda3/lib/python3.8/site-packages/past/builtins/misc.py:45: DeprecationWarning: the imp module is deprecated in favour of importlib; see the module's documentation for alternative uses\n",
      "  from imp import reload\n",
      "/Users/tomvannuenen/opt/anaconda3/lib/python3.8/site-packages/past/builtins/misc.py:45: DeprecationWarning: the imp module is deprecated in favour of importlib; see the module's documentation for alternative uses\n",
      "  from imp import reload\n",
      "/Users/tomvannuenen/opt/anaconda3/lib/python3.8/site-packages/past/builtins/misc.py:45: DeprecationWarning: the imp module is deprecated in favour of importlib; see the module's documentation for alternative uses\n",
      "  from imp import reload\n"
     ]
    }
   ],
   "source": [
    "import pyLDAvis\n",
    "import pyLDAvis.gensim_models as gensimvis\n",
    "pyLDAvis.enable_notebook()\n",
    "\n",
    "# feed the LDA model into the pyLDAvis instance\n",
    "lda_viz = gensimvis.prepare(optimal_lda_model, pos_corpus, pos_dictionary)\n",
    "lda_viz"
   ]
  },
  {
   "cell_type": "markdown",
   "metadata": {},
   "source": [
    "In case you want to load these models from disk again:"
   ]
  },
  {
   "cell_type": "code",
   "execution_count": 155,
   "metadata": {},
   "outputs": [],
   "source": [
    "# LOAD MODEL\n",
    "optimal_lda_model = LdaModel.load('aita_pos_lda_optimal.model')\n",
    "\n",
    "# LOAD DICT\n",
    "pos_dictionary = corpora.Dictionary.load('aita_pos_lda.dict')\n",
    "\n",
    "# LOAD CORPUS\n",
    "pos_corpus = [pos_dictionary.doc2bow(text) for text in pos_lemmas_split]"
   ]
  },
  {
   "cell_type": "markdown",
   "metadata": {},
   "source": [
    "## Naming our topics\n",
    "\n",
    "The next thing we should do is name our topics. This is the most important interpretative step in the process: after all, our model has no semantic knowledge of the data. We will print out the top words of each topic, then go over all of them and give them names."
   ]
  },
  {
   "cell_type": "code",
   "execution_count": 157,
   "metadata": {
    "colab": {
     "base_uri": "https://localhost:8080/"
    },
    "executionInfo": {
     "elapsed": 325,
     "status": "ok",
     "timestamp": 1639940904382,
     "user": {
      "displayName": "Tom van Nuenen",
      "photoUrl": "https://lh3.googleusercontent.com/a-/AOh14GhuBmxDvW5I_LJfZtwlPqMFD8QGLVPP3skvpkTnuQ=s64",
      "userId": "10012302451096885058"
     },
     "user_tz": -60
    },
    "id": "h3IDZcmfZW1A",
    "outputId": "9eff0a15-579a-4d68-afb7-e29d7f3d6bb8"
   },
   "outputs": [
    {
     "name": "stdout",
     "output_type": "stream",
     "text": [
      "[(0,\n",
      "  '0.096*\"car\" + 0.087*\"dog\" + 0.033*\"cat\" + 0.026*\"drive\" + 0.015*\"neighbor\" '\n",
      "  '+ 0.013*\"home\" + 0.012*\"property\" + 0.011*\"walk\" + 0.011*\"door\" + '\n",
      "  '0.010*\"animal\" + 0.010*\"house\" + 0.010*\"yard\" + 0.009*\"window\" + '\n",
      "  '0.009*\"parking\" + 0.008*\"police\" + 0.008*\"accident\" + 0.008*\"key\" + '\n",
      "  '0.008*\"spot\" + 0.008*\"vet\" + 0.008*\"neighborhood\"'),\n",
      " (1,\n",
      "  '0.071*\"room\" + 0.022*\"use\" + 0.022*\"sleep\" + 0.020*\"bathroom\" + 0.018*\"bed\" '\n",
      "  '+ 0.018*\"apartment\" + 0.017*\"bedroom\" + 0.016*\"house\" + 0.015*\"door\" + '\n",
      "  '0.015*\"roommate\" + 0.014*\"clean\" + 0.013*\"live\" + 0.013*\"home\" + '\n",
      "  '0.012*\"night\" + 0.011*\"stuff\" + 0.009*\"space\" + 0.009*\"issue\" + 0.008*\"bag\" '\n",
      "  '+ 0.008*\"place\" + 0.008*\"share\"'),\n",
      " (2,\n",
      "  '0.040*\"hair\" + 0.036*\"comment\" + 0.023*\"people\" + 0.022*\"post\" + '\n",
      "  '0.016*\"picture\" + 0.011*\"use\" + 0.011*\"video\" + 0.010*\"message\" + '\n",
      "  '0.009*\"update\" + 0.009*\"color\" + 0.009*\"makeup\" + 0.009*\"black\" + '\n",
      "  '0.009*\"edit\" + 0.009*\"white\" + 0.008*\"photo\" + 0.007*\"short\" + 0.007*\"long\" '\n",
      "  '+ 0.007*\"girl\" + 0.007*\"story\" + 0.007*\"change\"'),\n",
      " (3,\n",
      "  '0.204*\"husband\" + 0.108*\"baby\" + 0.044*\"pregnant\" + 0.020*\"month\" + '\n",
      "  '0.017*\"child\" + 0.016*\"pregnancy\" + 0.013*\"family\" + 0.012*\"week\" + '\n",
      "  '0.011*\"sil\" + 0.011*\"law\" + 0.010*\"birth\" + 0.008*\"help\" + 0.006*\"talk\" + '\n",
      "  '0.005*\"plan\" + 0.005*\"mother\" + 0.005*\"woman\" + 0.005*\"want\" + 0.005*\"day\" '\n",
      "  '+ 0.005*\"support\" + 0.004*\"doctor\"'),\n",
      " (4,\n",
      "  '0.077*\"wedding\" + 0.057*\"family\" + 0.016*\"day\" + 0.013*\"plan\" + '\n",
      "  '0.012*\"ring\" + 0.011*\"date\" + 0.009*\"fiance\" + 0.009*\"love\" + '\n",
      "  '0.008*\"relationship\" + 0.008*\"people\" + 0.008*\"good\" + 0.007*\"attend\" + '\n",
      "  '0.007*\"happy\" + 0.007*\"idea\" + 0.006*\"event\" + 0.006*\"big\" + 0.006*\"lot\" + '\n",
      "  '0.006*\"important\" + 0.006*\"fiancée\" + 0.006*\"member\"'),\n",
      " (5,\n",
      "  '0.096*\"kid\" + 0.093*\"child\" + 0.023*\"parent\" + 0.023*\"old\" + 0.018*\"life\" + '\n",
      "  '0.017*\"family\" + 0.015*\"young\" + 0.015*\"mother\" + 0.012*\"boy\" + 0.011*\"age\" '\n",
      "  '+ 0.009*\"support\" + 0.008*\"love\" + 0.007*\"good\" + 0.007*\"care\" + '\n",
      "  '0.007*\"relationship\" + 0.007*\"different\" + 0.006*\"want\" + 0.006*\"way\" + '\n",
      "  '0.006*\"people\" + 0.006*\"decision\"'),\n",
      " (6,\n",
      "  '0.080*\"wife\" + 0.075*\"mom\" + 0.069*\"daughter\" + 0.045*\"son\" + 0.023*\"dad\" + '\n",
      "  '0.019*\"mother\" + 0.017*\"family\" + 0.016*\"old\" + 0.012*\"talk\" + 0.010*\"love\" '\n",
      "  '+ 0.009*\"life\" + 0.009*\"relationship\" + 0.008*\"month\" + 0.008*\"step\" + '\n",
      "  '0.008*\"good\" + 0.008*\"help\" + 0.007*\"tell\" + 0.007*\"bad\" + 0.006*\"father\" + '\n",
      "  '0.006*\"lot\"'),\n",
      " (7,\n",
      "  '0.111*\"school\" + 0.046*\"class\" + 0.042*\"teacher\" + 0.031*\"student\" + '\n",
      "  '0.022*\"test\" + 0.022*\"doctor\" + 0.020*\"high\" + 0.019*\"grade\" + '\n",
      "  '0.015*\"college\" + 0.012*\"appointment\" + 0.010*\"bad\" + 0.009*\"nurse\" + '\n",
      "  '0.008*\"medication\" + 0.008*\"drug\" + 0.008*\"study\" + 0.007*\"principal\" + '\n",
      "  '0.007*\"medical\" + 0.007*\"candy\" + 0.006*\"senior\" + 0.006*\"leave\"'),\n",
      " (8,\n",
      "  '0.037*\"work\" + 0.023*\"people\" + 0.016*\"job\" + 0.011*\"company\" + 0.010*\"new\" '\n",
      "  '+ 0.008*\"lot\" + 0.008*\"office\" + 0.008*\"phone\" + 0.006*\"email\" + '\n",
      "  '0.006*\"use\" + 0.006*\"good\" + 0.006*\"person\" + 0.006*\"coworker\" + '\n",
      "  '0.006*\"week\" + 0.005*\"issue\" + 0.005*\"fire\" + 0.005*\"talk\" + 0.005*\"team\" + '\n",
      "  '0.005*\"reason\" + 0.005*\"situation\"'),\n",
      " (9,\n",
      "  '0.097*\"food\" + 0.040*\"dinner\" + 0.025*\"meal\" + 0.024*\"order\" + 0.022*\"cook\" '\n",
      "  '+ 0.019*\"restaurant\" + 0.016*\"table\" + 0.014*\"eat\" + 0.014*\"meat\" + '\n",
      "  '0.014*\"cake\" + 0.009*\"snack\" + 0.009*\"dish\" + 0.008*\"lunch\" + 0.008*\"plate\" '\n",
      "  '+ 0.008*\"people\" + 0.007*\"drink\" + 0.006*\"pizza\" + 0.006*\"taste\" + '\n",
      "  '0.006*\"recipe\" + 0.006*\"coffee\"'),\n",
      " (10,\n",
      "  '0.109*\"parent\" + 0.099*\"sister\" + 0.081*\"brother\" + 0.072*\"family\" + '\n",
      "  '0.018*\"dad\" + 0.017*\"gift\" + 0.015*\"mom\" + 0.014*\"old\" + 0.013*\"mother\" + '\n",
      "  '0.011*\"birthday\" + 0.011*\"cousin\" + 0.009*\"sibling\" + 0.008*\"young\" + '\n",
      "  '0.008*\"help\" + 0.007*\"care\" + 0.006*\"aunt\" + 0.006*\"life\" + 0.005*\"tell\" + '\n",
      "  '0.005*\"lot\" + 0.005*\"twin\"'),\n",
      " (11,\n",
      "  '0.094*\"money\" + 0.070*\"pay\" + 0.033*\"job\" + 0.023*\"month\" + 0.020*\"rent\" + '\n",
      "  '0.018*\"work\" + 0.013*\"college\" + 0.013*\"help\" + 0.012*\"house\" + '\n",
      "  '0.011*\"cost\" + 0.011*\"bill\" + 0.009*\"expensive\" + 0.008*\"income\" + '\n",
      "  '0.008*\"live\" + 0.008*\"car\" + 0.008*\"use\" + 0.008*\"good\" + 0.007*\"new\" + '\n",
      "  '0.007*\"support\" + 0.007*\"able\"'),\n",
      " (12,\n",
      "  '0.079*\"dress\" + 0.053*\"woman\" + 0.040*\"wear\" + 0.020*\"store\" + 0.019*\"man\" '\n",
      "  '+ 0.015*\"clothe\" + 0.012*\"female\" + 0.012*\"shirt\" + 0.011*\"body\" + '\n",
      "  '0.011*\"uncomfortable\" + 0.011*\"girl\" + 0.011*\"item\" + 0.010*\"shop\" + '\n",
      "  '0.010*\"short\" + 0.010*\"clothing\" + 0.010*\"customer\" + 0.009*\"comfortable\" + '\n",
      "  '0.009*\"nice\" + 0.009*\"manager\" + 0.008*\"small\"'),\n",
      " (13,\n",
      "  '0.072*\"work\" + 0.039*\"day\" + 0.031*\"hour\" + 0.031*\"week\" + 0.029*\"home\" + '\n",
      "  '0.019*\"night\" + 0.015*\"trip\" + 0.015*\"morning\" + 0.014*\"help\" + '\n",
      "  '0.012*\"weekend\" + 0.012*\"sleep\" + 0.012*\"job\" + 0.010*\"minute\" + '\n",
      "  '0.009*\"leave\" + 0.009*\"care\" + 0.008*\"plan\" + 0.008*\"month\" + '\n",
      "  '0.008*\"schedule\" + 0.008*\"phone\" + 0.007*\"long\"'),\n",
      " (14,\n",
      "  '0.017*\"bad\" + 0.016*\"weight\" + 0.016*\"issue\" + 0.014*\"lot\" + 0.013*\"help\" + '\n",
      "  '0.012*\"therapy\" + 0.012*\"body\" + 0.012*\"surgery\" + 0.011*\"pain\" + '\n",
      "  '0.010*\"art\" + 0.010*\"comment\" + 0.010*\"anxiety\" + 0.009*\"struggle\" + '\n",
      "  '0.008*\"good\" + 0.008*\"healthy\" + 0.008*\"life\" + 0.008*\"love\" + '\n",
      "  '0.008*\"health\" + 0.007*\"way\" + 0.007*\"point\"'),\n",
      " (15,\n",
      "  '0.064*\"friend\" + 0.023*\"talk\" + 0.017*\"people\" + 0.015*\"good\" + '\n",
      "  '0.013*\"boyfriend\" + 0.012*\"tell\" + 0.011*\"girl\" + 0.010*\"little\" + '\n",
      "  '0.010*\"date\" + 0.010*\"night\" + 0.009*\"day\" + 0.009*\"bad\" + 0.008*\"guy\" + '\n",
      "  '0.008*\"way\" + 0.007*\"point\" + 0.007*\"start\" + 0.007*\"bit\" + 0.007*\"upset\" + '\n",
      "  '0.007*\"couple\" + 0.006*\"leave\"')]\n"
     ]
    }
   ],
   "source": [
    "from pprint import pprint\n",
    "\n",
    "# Select the ideal model and print the topics\n",
    "model_topics = optimal_lda_model.show_topics(formatted=False)\n",
    "pprint(optimal_lda_model.print_topics(num_words=20))"
   ]
  },
  {
   "cell_type": "markdown",
   "metadata": {},
   "source": [
    "**Important**: If you are using your own data, make sure to replace the following names with those of your own!"
   ]
  },
  {
   "cell_type": "code",
   "execution_count": 286,
   "metadata": {
    "id": "VWep2BUPAc97"
   },
   "outputs": [],
   "source": [
    "# giving names to our topics\n",
    "topic_names = {0: 'around the house', \n",
    "               1: 'home',\n",
    "               2: 'physical appearance',\n",
    "               3: 'pregnancy & newborns',\n",
    "               4: 'marriage & weddings',\n",
    "               5: 'children',\n",
    "               6: 'family',\n",
    "               7: 'school & medicine',\n",
    "               8: 'work',\n",
    "               9: 'food',\n",
    "               10: 'family',\n",
    "               11: 'money',\n",
    "               12: 'clothes & shopping',\n",
    "               13: 'general',\n",
    "               14: 'lifestyle & psychology',\n",
    "               15: 'friends & dating'}\n",
    "               "
   ]
  },
  {
   "cell_type": "markdown",
   "metadata": {},
   "source": [
    "Naming topics is a heavily iterative process, based on looking closer at particular posts (see below). This process also means renaming topics: for instance, I had originally named topic 0 \"pets\" based on the top words, but upon looking closer at the posts associated with this topic, I changed it to a more general \"around the house\" category, where said pets often can be fou."
   ]
  },
  {
   "cell_type": "markdown",
   "metadata": {
    "id": "9fK6uo1EZW1M"
   },
   "source": [
    "## Finding most dominant topics per submission\n",
    "\n",
    "Topic modeling has several practical applications. One of them is to determine what topic a Reddit post is about. To figure this out, we find the topic number that has the highest percentage contribution to that thread. We'll write a `dominant_topic()` function that aggregates this information in a DataFrame."
   ]
  },
  {
   "cell_type": "code",
   "execution_count": 287,
   "metadata": {
    "colab": {
     "base_uri": "https://localhost:8080/",
     "height": 467
    },
    "executionInfo": {
     "elapsed": 118204,
     "status": "ok",
     "timestamp": 1639923042784,
     "user": {
      "displayName": "Tom van Nuenen",
      "photoUrl": "https://lh3.googleusercontent.com/a-/AOh14GhuBmxDvW5I_LJfZtwlPqMFD8QGLVPP3skvpkTnuQ=s64",
      "userId": "10012302451096885058"
     },
     "user_tz": -60
    },
    "id": "iz_TBN_dZW1Q",
    "outputId": "49fef3dd-409f-444e-dc75-fd443d24ca0f",
    "scrolled": true
   },
   "outputs": [
    {
     "data": {
      "text/html": [
       "<div>\n",
       "<style scoped>\n",
       "    .dataframe tbody tr th:only-of-type {\n",
       "        vertical-align: middle;\n",
       "    }\n",
       "\n",
       "    .dataframe tbody tr th {\n",
       "        vertical-align: top;\n",
       "    }\n",
       "\n",
       "    .dataframe thead th {\n",
       "        text-align: right;\n",
       "    }\n",
       "</style>\n",
       "<table border=\"1\" class=\"dataframe\">\n",
       "  <thead>\n",
       "    <tr style=\"text-align: right;\">\n",
       "      <th></th>\n",
       "      <th>Dominant_Topic</th>\n",
       "      <th>Dominant_Topic_Name</th>\n",
       "      <th>Topic_Perc_Contrib</th>\n",
       "      <th>Keywords</th>\n",
       "      <th>Text</th>\n",
       "    </tr>\n",
       "  </thead>\n",
       "  <tbody>\n",
       "    <tr>\n",
       "      <th>0</th>\n",
       "      <td>15.0</td>\n",
       "      <td>friends &amp; dating</td>\n",
       "      <td>0.5187</td>\n",
       "      <td>friend, talk, people, good, boyfriend, tell, g...</td>\n",
       "      <td>My girlfriend recently went to the beach with ...</td>\n",
       "    </tr>\n",
       "    <tr>\n",
       "      <th>1</th>\n",
       "      <td>0.0</td>\n",
       "      <td>around the house</td>\n",
       "      <td>0.3273</td>\n",
       "      <td>car, dog, cat, drive, neighbor, home, property...</td>\n",
       "      <td>My parents smoke like chimneys. I used to as w...</td>\n",
       "    </tr>\n",
       "    <tr>\n",
       "      <th>2</th>\n",
       "      <td>12.0</td>\n",
       "      <td>clothes &amp; shopping</td>\n",
       "      <td>0.4028</td>\n",
       "      <td>dress, woman, wear, store, man, clothe, female...</td>\n",
       "      <td>Hi guys. Throwaway for obv reasons.\\n\\nI'm a f...</td>\n",
       "    </tr>\n",
       "    <tr>\n",
       "      <th>3</th>\n",
       "      <td>9.0</td>\n",
       "      <td>food</td>\n",
       "      <td>0.5047</td>\n",
       "      <td>food, dinner, meal, order, cook, restaurant, t...</td>\n",
       "      <td>Yesterday night, me and my GF decided to go ou...</td>\n",
       "    </tr>\n",
       "    <tr>\n",
       "      <th>4</th>\n",
       "      <td>9.0</td>\n",
       "      <td>food</td>\n",
       "      <td>0.3251</td>\n",
       "      <td>food, dinner, meal, order, cook, restaurant, t...</td>\n",
       "      <td>My wife and I are vegetarians, much to my in-l...</td>\n",
       "    </tr>\n",
       "    <tr>\n",
       "      <th>...</th>\n",
       "      <td>...</td>\n",
       "      <td>...</td>\n",
       "      <td>...</td>\n",
       "      <td>...</td>\n",
       "      <td>...</td>\n",
       "    </tr>\n",
       "    <tr>\n",
       "      <th>16305</th>\n",
       "      <td>11.0</td>\n",
       "      <td>money</td>\n",
       "      <td>0.7398</td>\n",
       "      <td>money, pay, job, month, rent, work, college, h...</td>\n",
       "      <td>My (29m) good friend (26f) is currently house ...</td>\n",
       "    </tr>\n",
       "    <tr>\n",
       "      <th>16306</th>\n",
       "      <td>11.0</td>\n",
       "      <td>money</td>\n",
       "      <td>0.2970</td>\n",
       "      <td>money, pay, job, month, rent, work, college, h...</td>\n",
       "      <td>So I have a Degree in Fashion which some peopl...</td>\n",
       "    </tr>\n",
       "    <tr>\n",
       "      <th>16307</th>\n",
       "      <td>5.0</td>\n",
       "      <td>children</td>\n",
       "      <td>0.5170</td>\n",
       "      <td>kid, child, parent, old, life, family, young, ...</td>\n",
       "      <td>My husband and I have been friends since middl...</td>\n",
       "    </tr>\n",
       "    <tr>\n",
       "      <th>16308</th>\n",
       "      <td>5.0</td>\n",
       "      <td>children</td>\n",
       "      <td>0.3039</td>\n",
       "      <td>kid, child, parent, old, life, family, young, ...</td>\n",
       "      <td>I (30F) and my husband (30M) recently moved in...</td>\n",
       "    </tr>\n",
       "    <tr>\n",
       "      <th>16309</th>\n",
       "      <td>4.0</td>\n",
       "      <td>marriage &amp; weddings</td>\n",
       "      <td>0.4135</td>\n",
       "      <td>wedding, family, day, plan, ring, date, fiance...</td>\n",
       "      <td>I'm getting married in 7 months and one week a...</td>\n",
       "    </tr>\n",
       "  </tbody>\n",
       "</table>\n",
       "<p>16310 rows × 5 columns</p>\n",
       "</div>"
      ],
      "text/plain": [
       "       Dominant_Topic  Dominant_Topic_Name  Topic_Perc_Contrib  \\\n",
       "0                15.0     friends & dating              0.5187   \n",
       "1                 0.0     around the house              0.3273   \n",
       "2                12.0   clothes & shopping              0.4028   \n",
       "3                 9.0                 food              0.5047   \n",
       "4                 9.0                 food              0.3251   \n",
       "...               ...                  ...                 ...   \n",
       "16305            11.0                money              0.7398   \n",
       "16306            11.0                money              0.2970   \n",
       "16307             5.0             children              0.5170   \n",
       "16308             5.0             children              0.3039   \n",
       "16309             4.0  marriage & weddings              0.4135   \n",
       "\n",
       "                                                Keywords  \\\n",
       "0      friend, talk, people, good, boyfriend, tell, g...   \n",
       "1      car, dog, cat, drive, neighbor, home, property...   \n",
       "2      dress, woman, wear, store, man, clothe, female...   \n",
       "3      food, dinner, meal, order, cook, restaurant, t...   \n",
       "4      food, dinner, meal, order, cook, restaurant, t...   \n",
       "...                                                  ...   \n",
       "16305  money, pay, job, month, rent, work, college, h...   \n",
       "16306  money, pay, job, month, rent, work, college, h...   \n",
       "16307  kid, child, parent, old, life, family, young, ...   \n",
       "16308  kid, child, parent, old, life, family, young, ...   \n",
       "16309  wedding, family, day, plan, ring, date, fiance...   \n",
       "\n",
       "                                                    Text  \n",
       "0      My girlfriend recently went to the beach with ...  \n",
       "1      My parents smoke like chimneys. I used to as w...  \n",
       "2      Hi guys. Throwaway for obv reasons.\\n\\nI'm a f...  \n",
       "3      Yesterday night, me and my GF decided to go ou...  \n",
       "4      My wife and I are vegetarians, much to my in-l...  \n",
       "...                                                  ...  \n",
       "16305  My (29m) good friend (26f) is currently house ...  \n",
       "16306  So I have a Degree in Fashion which some peopl...  \n",
       "16307  My husband and I have been friends since middl...  \n",
       "16308  I (30F) and my husband (30M) recently moved in...  \n",
       "16309  I'm getting married in 7 months and one week a...  \n",
       "\n",
       "[16310 rows x 5 columns]"
      ]
     },
     "execution_count": 287,
     "metadata": {},
     "output_type": "execute_result"
    }
   ],
   "source": [
    "def dominant_topic(ldamodel=optimal_lda_model, corpus=corpus, texts=df['selftext']):\n",
    "    # Create DF\n",
    "    topics_df = pd.DataFrame()\n",
    "\n",
    "    # Get main topic in each document\n",
    "    for i, row in enumerate(ldamodel[corpus]):\n",
    "        row = sorted(row, key=lambda x: (x[1]), reverse=True)\n",
    "        # Get the Dominant topic, Perc Contribution and Keywords for each thread\n",
    "        for j, (topic_num, prop_topic) in enumerate(row):\n",
    "            if j == 0:  # => dominant topic\n",
    "                wp = ldamodel.show_topic(topic_num)\n",
    "                # get value of topic_names dict based on key\n",
    "                topic_name = topic_names[topic_num]\n",
    "                topic_keywords = \", \".join([word for word, prop in wp])\n",
    "                topics_df = topics_df.append(pd.Series([int(topic_num), topic_name, round(prop_topic,4), topic_keywords]), ignore_index=True)\n",
    "            else:\n",
    "                break\n",
    "    topics_df.columns = ['Dominant_Topic', 'Dominant_Topic_Name', 'Perc_Contribution', 'Topic_Keywords']\n",
    "\n",
    "    # Add original text to the end of the output\n",
    "    contents = pd.Series(texts)\n",
    "    topics_df = pd.concat([topics_df, contents], axis=1)\n",
    "    return topics_df \n",
    "\n",
    "# Run function\n",
    "df_topic_keywords = dominant_topic(ldamodel=optimal_lda_model, corpus=pos_corpus, texts=df['selftext'])\n",
    "\n",
    "# Format\n",
    "df_dominant_topic = df_topic_keywords.reset_index(drop=True)\n",
    "df_dominant_topic.columns = ['Dominant_Topic', 'Dominant_Topic_Name', 'Topic_Perc_Contrib', 'Keywords', 'Text']\n",
    "\n",
    "# Show\n",
    "df_dominant_topic"
   ]
  },
  {
   "cell_type": "markdown",
   "metadata": {
    "id": "v_OLtA9Wtq2F"
   },
   "source": [
    "We can now find the posts with a dominant topic using `.loc`"
   ]
  },
  {
   "cell_type": "code",
   "execution_count": 288,
   "metadata": {
    "colab": {
     "base_uri": "https://localhost:8080/",
     "height": 467
    },
    "executionInfo": {
     "elapsed": 9,
     "status": "ok",
     "timestamp": 1639923059054,
     "user": {
      "displayName": "Tom van Nuenen",
      "photoUrl": "https://lh3.googleusercontent.com/a-/AOh14GhuBmxDvW5I_LJfZtwlPqMFD8QGLVPP3skvpkTnuQ=s64",
      "userId": "10012302451096885058"
     },
     "user_tz": -60
    },
    "id": "bQBSqG5QtSud",
    "outputId": "ed2a055a-ca20-4e9d-9717-7a13000ab208"
   },
   "outputs": [
    {
     "data": {
      "text/html": [
       "<div>\n",
       "<style scoped>\n",
       "    .dataframe tbody tr th:only-of-type {\n",
       "        vertical-align: middle;\n",
       "    }\n",
       "\n",
       "    .dataframe tbody tr th {\n",
       "        vertical-align: top;\n",
       "    }\n",
       "\n",
       "    .dataframe thead th {\n",
       "        text-align: right;\n",
       "    }\n",
       "</style>\n",
       "<table border=\"1\" class=\"dataframe\">\n",
       "  <thead>\n",
       "    <tr style=\"text-align: right;\">\n",
       "      <th></th>\n",
       "      <th>Dominant_Topic</th>\n",
       "      <th>Dominant_Topic_Name</th>\n",
       "      <th>Topic_Perc_Contrib</th>\n",
       "      <th>Keywords</th>\n",
       "      <th>Text</th>\n",
       "    </tr>\n",
       "  </thead>\n",
       "  <tbody>\n",
       "    <tr>\n",
       "      <th>1</th>\n",
       "      <td>0.0</td>\n",
       "      <td>around the house</td>\n",
       "      <td>0.3273</td>\n",
       "      <td>car, dog, cat, drive, neighbor, home, property...</td>\n",
       "      <td>My parents smoke like chimneys. I used to as w...</td>\n",
       "    </tr>\n",
       "    <tr>\n",
       "      <th>14</th>\n",
       "      <td>0.0</td>\n",
       "      <td>around the house</td>\n",
       "      <td>0.2965</td>\n",
       "      <td>car, dog, cat, drive, neighbor, home, property...</td>\n",
       "      <td>So as the title says, i was minding my own bus...</td>\n",
       "    </tr>\n",
       "    <tr>\n",
       "      <th>32</th>\n",
       "      <td>0.0</td>\n",
       "      <td>around the house</td>\n",
       "      <td>0.4200</td>\n",
       "      <td>car, dog, cat, drive, neighbor, home, property...</td>\n",
       "      <td>Within the past year, my girlfriend moved in w...</td>\n",
       "    </tr>\n",
       "    <tr>\n",
       "      <th>67</th>\n",
       "      <td>0.0</td>\n",
       "      <td>around the house</td>\n",
       "      <td>0.3717</td>\n",
       "      <td>car, dog, cat, drive, neighbor, home, property...</td>\n",
       "      <td>I was walking home from school about two weeks...</td>\n",
       "    </tr>\n",
       "    <tr>\n",
       "      <th>71</th>\n",
       "      <td>0.0</td>\n",
       "      <td>around the house</td>\n",
       "      <td>0.5967</td>\n",
       "      <td>car, dog, cat, drive, neighbor, home, property...</td>\n",
       "      <td>I pay $85 a month for this spot in my apartmen...</td>\n",
       "    </tr>\n",
       "    <tr>\n",
       "      <th>...</th>\n",
       "      <td>...</td>\n",
       "      <td>...</td>\n",
       "      <td>...</td>\n",
       "      <td>...</td>\n",
       "      <td>...</td>\n",
       "    </tr>\n",
       "    <tr>\n",
       "      <th>16236</th>\n",
       "      <td>0.0</td>\n",
       "      <td>around the house</td>\n",
       "      <td>0.3814</td>\n",
       "      <td>car, dog, cat, drive, neighbor, home, property...</td>\n",
       "      <td>Background: neighbours have a pedigree cat tha...</td>\n",
       "    </tr>\n",
       "    <tr>\n",
       "      <th>16244</th>\n",
       "      <td>0.0</td>\n",
       "      <td>around the house</td>\n",
       "      <td>0.4617</td>\n",
       "      <td>car, dog, cat, drive, neighbor, home, property...</td>\n",
       "      <td>My wife left to go shopping for about 2 hours ...</td>\n",
       "    </tr>\n",
       "    <tr>\n",
       "      <th>16254</th>\n",
       "      <td>0.0</td>\n",
       "      <td>around the house</td>\n",
       "      <td>0.4054</td>\n",
       "      <td>car, dog, cat, drive, neighbor, home, property...</td>\n",
       "      <td>I(25F) and my girlfriend(24F) recently moved i...</td>\n",
       "    </tr>\n",
       "    <tr>\n",
       "      <th>16280</th>\n",
       "      <td>0.0</td>\n",
       "      <td>around the house</td>\n",
       "      <td>0.6071</td>\n",
       "      <td>car, dog, cat, drive, neighbor, home, property...</td>\n",
       "      <td>My brother’s car got messed up so he asked me ...</td>\n",
       "    </tr>\n",
       "    <tr>\n",
       "      <th>16297</th>\n",
       "      <td>0.0</td>\n",
       "      <td>around the house</td>\n",
       "      <td>0.3770</td>\n",
       "      <td>car, dog, cat, drive, neighbor, home, property...</td>\n",
       "      <td>So this is what happened. My son who is 15 app...</td>\n",
       "    </tr>\n",
       "  </tbody>\n",
       "</table>\n",
       "<p>468 rows × 5 columns</p>\n",
       "</div>"
      ],
      "text/plain": [
       "       Dominant_Topic Dominant_Topic_Name  Topic_Perc_Contrib  \\\n",
       "1                 0.0    around the house              0.3273   \n",
       "14                0.0    around the house              0.2965   \n",
       "32                0.0    around the house              0.4200   \n",
       "67                0.0    around the house              0.3717   \n",
       "71                0.0    around the house              0.5967   \n",
       "...               ...                 ...                 ...   \n",
       "16236             0.0    around the house              0.3814   \n",
       "16244             0.0    around the house              0.4617   \n",
       "16254             0.0    around the house              0.4054   \n",
       "16280             0.0    around the house              0.6071   \n",
       "16297             0.0    around the house              0.3770   \n",
       "\n",
       "                                                Keywords  \\\n",
       "1      car, dog, cat, drive, neighbor, home, property...   \n",
       "14     car, dog, cat, drive, neighbor, home, property...   \n",
       "32     car, dog, cat, drive, neighbor, home, property...   \n",
       "67     car, dog, cat, drive, neighbor, home, property...   \n",
       "71     car, dog, cat, drive, neighbor, home, property...   \n",
       "...                                                  ...   \n",
       "16236  car, dog, cat, drive, neighbor, home, property...   \n",
       "16244  car, dog, cat, drive, neighbor, home, property...   \n",
       "16254  car, dog, cat, drive, neighbor, home, property...   \n",
       "16280  car, dog, cat, drive, neighbor, home, property...   \n",
       "16297  car, dog, cat, drive, neighbor, home, property...   \n",
       "\n",
       "                                                    Text  \n",
       "1      My parents smoke like chimneys. I used to as w...  \n",
       "14     So as the title says, i was minding my own bus...  \n",
       "32     Within the past year, my girlfriend moved in w...  \n",
       "67     I was walking home from school about two weeks...  \n",
       "71     I pay $85 a month for this spot in my apartmen...  \n",
       "...                                                  ...  \n",
       "16236  Background: neighbours have a pedigree cat tha...  \n",
       "16244  My wife left to go shopping for about 2 hours ...  \n",
       "16254  I(25F) and my girlfriend(24F) recently moved i...  \n",
       "16280  My brother’s car got messed up so he asked me ...  \n",
       "16297  So this is what happened. My son who is 15 app...  \n",
       "\n",
       "[468 rows x 5 columns]"
      ]
     },
     "execution_count": 288,
     "metadata": {},
     "output_type": "execute_result"
    }
   ],
   "source": [
    "df_dominant_topic.loc[df_dominant_topic['Dominant_Topic_Name'] == 'around the house']"
   ]
  },
  {
   "cell_type": "markdown",
   "metadata": {
    "id": "tYGRZAxdqcdp"
   },
   "source": [
    "## Topic distribution across submissions\n",
    "\n",
    "We can also inspect the volume and distribution of topics in order to judge how widely each topic is discussed in our posts. The below table exposes that information."
   ]
  },
  {
   "cell_type": "code",
   "execution_count": 292,
   "metadata": {
    "colab": {
     "base_uri": "https://localhost:8080/",
     "height": 394
    },
    "executionInfo": {
     "elapsed": 303,
     "status": "ok",
     "timestamp": 1639923218416,
     "user": {
      "displayName": "Tom van Nuenen",
      "photoUrl": "https://lh3.googleusercontent.com/a-/AOh14GhuBmxDvW5I_LJfZtwlPqMFD8QGLVPP3skvpkTnuQ=s64",
      "userId": "10012302451096885058"
     },
     "user_tz": -60
    },
    "id": "XbA0yZsfqcd2",
    "outputId": "f56ceec6-3c4e-4bfa-8da2-0621c01f8676"
   },
   "outputs": [
    {
     "data": {
      "text/html": [
       "<div>\n",
       "<style scoped>\n",
       "    .dataframe tbody tr th:only-of-type {\n",
       "        vertical-align: middle;\n",
       "    }\n",
       "\n",
       "    .dataframe tbody tr th {\n",
       "        vertical-align: top;\n",
       "    }\n",
       "\n",
       "    .dataframe thead th {\n",
       "        text-align: right;\n",
       "    }\n",
       "</style>\n",
       "<table border=\"1\" class=\"dataframe\">\n",
       "  <thead>\n",
       "    <tr style=\"text-align: right;\">\n",
       "      <th></th>\n",
       "      <th>Dominant_Topic</th>\n",
       "      <th>Dominant_Topic_Name</th>\n",
       "      <th>Topic_Keywords</th>\n",
       "      <th>Num_Documents</th>\n",
       "      <th>Perc_Documents</th>\n",
       "    </tr>\n",
       "  </thead>\n",
       "  <tbody>\n",
       "    <tr>\n",
       "      <th>0.0</th>\n",
       "      <td>15.0</td>\n",
       "      <td>friends &amp; dating</td>\n",
       "      <td>friend, talk, people, good, boyfriend, tell, g...</td>\n",
       "      <td>468.0</td>\n",
       "      <td>0.03</td>\n",
       "    </tr>\n",
       "    <tr>\n",
       "      <th>1.0</th>\n",
       "      <td>0.0</td>\n",
       "      <td>around the house</td>\n",
       "      <td>car, dog, cat, drive, neighbor, home, property...</td>\n",
       "      <td>848.0</td>\n",
       "      <td>0.05</td>\n",
       "    </tr>\n",
       "    <tr>\n",
       "      <th>2.0</th>\n",
       "      <td>12.0</td>\n",
       "      <td>clothes &amp; shopping</td>\n",
       "      <td>dress, woman, wear, store, man, clothe, female...</td>\n",
       "      <td>470.0</td>\n",
       "      <td>0.03</td>\n",
       "    </tr>\n",
       "    <tr>\n",
       "      <th>3.0</th>\n",
       "      <td>9.0</td>\n",
       "      <td>food</td>\n",
       "      <td>food, dinner, meal, order, cook, restaurant, t...</td>\n",
       "      <td>538.0</td>\n",
       "      <td>0.03</td>\n",
       "    </tr>\n",
       "    <tr>\n",
       "      <th>4.0</th>\n",
       "      <td>9.0</td>\n",
       "      <td>food</td>\n",
       "      <td>food, dinner, meal, order, cook, restaurant, t...</td>\n",
       "      <td>937.0</td>\n",
       "      <td>0.06</td>\n",
       "    </tr>\n",
       "    <tr>\n",
       "      <th>5.0</th>\n",
       "      <td>15.0</td>\n",
       "      <td>friends &amp; dating</td>\n",
       "      <td>friend, talk, people, good, boyfriend, tell, g...</td>\n",
       "      <td>686.0</td>\n",
       "      <td>0.04</td>\n",
       "    </tr>\n",
       "    <tr>\n",
       "      <th>6.0</th>\n",
       "      <td>11.0</td>\n",
       "      <td>money</td>\n",
       "      <td>money, pay, job, month, rent, work, college, h...</td>\n",
       "      <td>1973.0</td>\n",
       "      <td>0.12</td>\n",
       "    </tr>\n",
       "    <tr>\n",
       "      <th>7.0</th>\n",
       "      <td>15.0</td>\n",
       "      <td>friends &amp; dating</td>\n",
       "      <td>friend, talk, people, good, boyfriend, tell, g...</td>\n",
       "      <td>214.0</td>\n",
       "      <td>0.01</td>\n",
       "    </tr>\n",
       "    <tr>\n",
       "      <th>8.0</th>\n",
       "      <td>15.0</td>\n",
       "      <td>friends &amp; dating</td>\n",
       "      <td>friend, talk, people, good, boyfriend, tell, g...</td>\n",
       "      <td>1390.0</td>\n",
       "      <td>0.09</td>\n",
       "    </tr>\n",
       "    <tr>\n",
       "      <th>9.0</th>\n",
       "      <td>8.0</td>\n",
       "      <td>work</td>\n",
       "      <td>work, people, job, company, new, lot, office, ...</td>\n",
       "      <td>801.0</td>\n",
       "      <td>0.05</td>\n",
       "    </tr>\n",
       "    <tr>\n",
       "      <th>10.0</th>\n",
       "      <td>2.0</td>\n",
       "      <td>physical appearance</td>\n",
       "      <td>hair, comment, people, post, picture, use, vid...</td>\n",
       "      <td>749.0</td>\n",
       "      <td>0.05</td>\n",
       "    </tr>\n",
       "  </tbody>\n",
       "</table>\n",
       "</div>"
      ],
      "text/plain": [
       "      Dominant_Topic  Dominant_Topic_Name  \\\n",
       "0.0             15.0     friends & dating   \n",
       "1.0              0.0     around the house   \n",
       "2.0             12.0   clothes & shopping   \n",
       "3.0              9.0                 food   \n",
       "4.0              9.0                 food   \n",
       "5.0             15.0     friends & dating   \n",
       "6.0             11.0                money   \n",
       "7.0             15.0     friends & dating   \n",
       "8.0             15.0     friends & dating   \n",
       "9.0              8.0                 work   \n",
       "10.0             2.0  physical appearance   \n",
       "\n",
       "                                         Topic_Keywords  Num_Documents  \\\n",
       "0.0   friend, talk, people, good, boyfriend, tell, g...          468.0   \n",
       "1.0   car, dog, cat, drive, neighbor, home, property...          848.0   \n",
       "2.0   dress, woman, wear, store, man, clothe, female...          470.0   \n",
       "3.0   food, dinner, meal, order, cook, restaurant, t...          538.0   \n",
       "4.0   food, dinner, meal, order, cook, restaurant, t...          937.0   \n",
       "5.0   friend, talk, people, good, boyfriend, tell, g...          686.0   \n",
       "6.0   money, pay, job, month, rent, work, college, h...         1973.0   \n",
       "7.0   friend, talk, people, good, boyfriend, tell, g...          214.0   \n",
       "8.0   friend, talk, people, good, boyfriend, tell, g...         1390.0   \n",
       "9.0   work, people, job, company, new, lot, office, ...          801.0   \n",
       "10.0  hair, comment, people, post, picture, use, vid...          749.0   \n",
       "\n",
       "      Perc_Documents  \n",
       "0.0             0.03  \n",
       "1.0             0.05  \n",
       "2.0             0.03  \n",
       "3.0             0.03  \n",
       "4.0             0.06  \n",
       "5.0             0.04  \n",
       "6.0             0.12  \n",
       "7.0             0.01  \n",
       "8.0             0.09  \n",
       "9.0             0.05  \n",
       "10.0            0.05  "
      ]
     },
     "execution_count": 292,
     "metadata": {},
     "output_type": "execute_result"
    }
   ],
   "source": [
    "# Number of posts for each topic\n",
    "topic_counts = df_topic_keywords['Dominant_Topic'].value_counts()\n",
    "\n",
    "# Percentage of posts for each topic\n",
    "topic_contribution = round(topic_counts/topic_counts.sum(), 2)\n",
    "\n",
    "# Topic Number and Keywords\n",
    "topic_num_keywords = df_topic_keywords[['Dominant_Topic', 'Dominant_Topic_Name', 'Topic_Keywords']]\n",
    "\n",
    "# Concatenate Column wise\n",
    "df_dominant_topic_dist = pd.concat([topic_num_keywords, topic_counts, topic_contribution], axis=1)\n",
    "\n",
    "# Change Column names\n",
    "df_dominant_topic_dist.columns = ['Dominant_Topic', 'Dominant_Topic_Name', 'Topic_Keywords', 'Num_Documents', 'Perc_Documents']\n",
    "\n",
    "# Show\n",
    "df_dominant_topic_dist[:10]"
   ]
  },
  {
   "cell_type": "markdown",
   "metadata": {},
   "source": [
    "As you can see, the \"money\" topic is the most pervasive dominant topic across our data."
   ]
  },
  {
   "cell_type": "markdown",
   "metadata": {
    "id": "AcbnUBXA79fN"
   },
   "source": [
    "## Text classification with LDA\n",
    "\n",
    "Beyond data exploration, one of the key uses for an LDA model is providing a compact, quantitative description of natural language text. Once an LDA model has been trained, it can be used to represent free text as a mixture of the topics the model learned from the original corpus. This mixture can be interpreted as a probability distribution across the topics, so the LDA representation of a paragraph of text might look like 50% Topic A, 20% Topic B, 20% Topic C, and 10% Topic D.\n",
    "\n",
    "First, let's create a little helper function that can retrieve a sample of our original dataframe:"
   ]
  },
  {
   "cell_type": "code",
   "execution_count": 293,
   "metadata": {
    "id": "qPQxr9_mgNCC"
   },
   "outputs": [],
   "source": [
    "def get_sample(i):\n",
    "    return df.iloc[i].selftext"
   ]
  },
  {
   "cell_type": "code",
   "execution_count": 294,
   "metadata": {
    "colab": {
     "base_uri": "https://localhost:8080/",
     "height": 157
    },
    "executionInfo": {
     "elapsed": 219,
     "status": "ok",
     "timestamp": 1639923941763,
     "user": {
      "displayName": "Tom van Nuenen",
      "photoUrl": "https://lh3.googleusercontent.com/a-/AOh14GhuBmxDvW5I_LJfZtwlPqMFD8QGLVPP3skvpkTnuQ=s64",
      "userId": "10012302451096885058"
     },
     "user_tz": -60
    },
    "id": "zXzQfahOgPuK",
    "outputId": "d2dbfe50-4f54-4bd0-84c1-b52cec784db9"
   },
   "outputs": [
    {
     "data": {
      "text/plain": [
       "'Yesterday night, me and my GF decided to go out to eat. She is vegan and I’m not. This was her first day going vegan. When we were asking for our for our food, I asked if I could have a meal that is basically Steak, Asparagus, and Rice, My girlfriend was offended that I would eat meat on her first day vegan. I told her I’m not vegan and I can order whatever I want, but she wouldn’t listen. AITA in this situation?'"
      ]
     },
     "execution_count": 294,
     "metadata": {},
     "output_type": "execute_result"
    }
   ],
   "source": [
    "sample = get_sample(3)\n",
    "sample"
   ]
  },
  {
   "cell_type": "markdown",
   "metadata": {
    "id": "HVS2MtAIn9RG"
   },
   "source": [
    "To use an LDA model to generate a vector representation of new text, we need our previously preprocessed \"pos_lemmas\" column."
   ]
  },
  {
   "cell_type": "code",
   "execution_count": 295,
   "metadata": {
    "colab": {
     "base_uri": "https://localhost:8080/"
    },
    "executionInfo": {
     "elapsed": 48532,
     "status": "ok",
     "timestamp": 1639923336137,
     "user": {
      "displayName": "Tom van Nuenen",
      "photoUrl": "https://lh3.googleusercontent.com/a-/AOh14GhuBmxDvW5I_LJfZtwlPqMFD8QGLVPP3skvpkTnuQ=s64",
      "userId": "10012302451096885058"
     },
     "user_tz": -60
    },
    "id": "969CBnR78pzH",
    "outputId": "f9cfb321-6595-461a-c632-cd69b857f1d4"
   },
   "outputs": [],
   "source": [
    "lemmas_s = [doc.split(\" \") for doc in df.pos_lemmas]"
   ]
  },
  {
   "cell_type": "markdown",
   "metadata": {
    "id": "yuLis9AFpQ_b"
   },
   "source": [
    "Let's do the rest of our preprocessing using spaCy. We also need to create a bag-of-words representation using LDA.\n",
    "\n",
    "Once our LDA model is trained, we can use it to classify any input text as a mixture of topics. "
   ]
  },
  {
   "cell_type": "code",
   "execution_count": 296,
   "metadata": {
    "id": "uNQpT05NgzB_"
   },
   "outputs": [],
   "source": [
    "import spacy\n",
    "nlp = spacy.load('en_core_web_sm')\n",
    "\n",
    "def lda_classifier(text, min_topic_freq=0.1, allowed_postags = ['NOUN', 'ADJ']):\n",
    "    parsed_text = nlp(text)\n",
    "    unigram_text = [token.lemma_ for token in parsed_text if token.pos_ in allowed_postags\n",
    "                  and not token.is_punct or token.is_space or token.is_digit]\n",
    "    bigram_text = bigram_phraser[unigram_text]\n",
    "    trigram_text = trigram_phraser[bigram_text]\n",
    "    trigram_text = [term for term in trigram_text if not term in spacy.lang.en.stop_words.STOP_WORDS]\n",
    "    text_bow = dictionary.doc2bow(trigram_text)\n",
    "    text_lda = optimal_lda_model[text_bow]\n",
    "    text_lda = sorted(text_lda, key=lambda x:x[1], reverse=True)\n",
    "    for topic_number, freq in text_lda:\n",
    "        if freq < min_topic_freq:\n",
    "            break    \n",
    "        print('{:10} {}'.format(topic_names[topic_number],round(freq, 3)) )\n"
   ]
  },
  {
   "cell_type": "code",
   "execution_count": 297,
   "metadata": {
    "colab": {
     "base_uri": "https://localhost:8080/"
    },
    "executionInfo": {
     "elapsed": 214,
     "status": "ok",
     "timestamp": 1639923948958,
     "user": {
      "displayName": "Tom van Nuenen",
      "photoUrl": "https://lh3.googleusercontent.com/a-/AOh14GhuBmxDvW5I_LJfZtwlPqMFD8QGLVPP3skvpkTnuQ=s64",
      "userId": "10012302451096885058"
     },
     "user_tz": -60
    },
    "id": "r-zU5AY8hifI",
    "outputId": "bb3dae88-774f-46be-8b91-4a25a6c90ed7"
   },
   "outputs": [
    {
     "name": "stdout",
     "output_type": "stream",
     "text": [
      "friends & dating 0.4699999988079071\n",
      "general    0.22200000286102295\n",
      "clothes & shopping 0.11699999868869781\n"
     ]
    }
   ],
   "source": [
    "lda_classifier(sample)"
   ]
  },
  {
   "cell_type": "markdown",
   "metadata": {},
   "source": [
    "Looking a bit closer at posts of particular topics, we can get a better insight into what our topic model \"thinks\" our posts are about. As you see, our LDA model classified this post fairly well: it's about dating and lifestyle choices. However, not all posts will be classified well. \n",
    "\n",
    "Using this information, we could go back to our `topic_names` and rename topics that we now have better insights into. "
   ]
  },
  {
   "cell_type": "markdown",
   "metadata": {},
   "source": [
    "### Classifying new text\n",
    "Finally let's throw in a new text, to see how our topic model classifies it!"
   ]
  },
  {
   "cell_type": "code",
   "execution_count": 299,
   "metadata": {},
   "outputs": [],
   "source": [
    "new = \"\"\"I went to dinner with my boyfriend last night. He told me he'd like to have children \n",
    "and is looking into buying a house for us. Then he showed me a ring, and wants to get engaged! \n",
    "We only known each other for three months so I told him I wasn't sure. AITA?\"\"\""
   ]
  },
  {
   "cell_type": "code",
   "execution_count": 300,
   "metadata": {},
   "outputs": [
    {
     "name": "stdout",
     "output_type": "stream",
     "text": [
      "marriage & weddings 0.28600001335144043\n",
      "children   0.2029999941587448\n",
      "home       0.11900000274181366\n",
      "general    0.11800000071525574\n",
      "friends & dating 0.10000000149011612\n"
     ]
    }
   ],
   "source": [
    "lda_classifier(new)"
   ]
  },
  {
   "cell_type": "markdown",
   "metadata": {},
   "source": [
    "## Adding topics to original DF\n",
    "\n",
    "Once we are happy with your topic names, we can add the dominant topic names to our original DataFrame and save it."
   ]
  },
  {
   "cell_type": "code",
   "execution_count": 290,
   "metadata": {},
   "outputs": [],
   "source": [
    "df['dom_topic'] = df_dominant_topic['Dominant_Topic_Name']\n",
    "df['dom_topic_num'] = df_dominant_topic['Dominant_Topic']\n",
    "\n",
    "df.to_csv('aita_sub_top_sm_pos_lemmas_topics.csv', index=False)"
   ]
  },
  {
   "cell_type": "code",
   "execution_count": 291,
   "metadata": {},
   "outputs": [
    {
     "data": {
      "text/html": [
       "<div>\n",
       "<style scoped>\n",
       "    .dataframe tbody tr th:only-of-type {\n",
       "        vertical-align: middle;\n",
       "    }\n",
       "\n",
       "    .dataframe tbody tr th {\n",
       "        vertical-align: top;\n",
       "    }\n",
       "\n",
       "    .dataframe thead th {\n",
       "        text-align: right;\n",
       "    }\n",
       "</style>\n",
       "<table border=\"1\" class=\"dataframe\">\n",
       "  <thead>\n",
       "    <tr style=\"text-align: right;\">\n",
       "      <th></th>\n",
       "      <th>idint</th>\n",
       "      <th>idstr</th>\n",
       "      <th>created</th>\n",
       "      <th>created_datetime</th>\n",
       "      <th>nsfw</th>\n",
       "      <th>author</th>\n",
       "      <th>title</th>\n",
       "      <th>selftext</th>\n",
       "      <th>lemmas</th>\n",
       "      <th>pos_lemmas</th>\n",
       "      <th>score</th>\n",
       "      <th>distinguish</th>\n",
       "      <th>textlen</th>\n",
       "      <th>num_comments</th>\n",
       "      <th>flair_text</th>\n",
       "      <th>flair_css_class</th>\n",
       "      <th>dom_topic</th>\n",
       "      <th>dom_topic_num</th>\n",
       "    </tr>\n",
       "  </thead>\n",
       "  <tbody>\n",
       "    <tr>\n",
       "      <th>0</th>\n",
       "      <td>427576402</td>\n",
       "      <td>t3_72kg2a</td>\n",
       "      <td>1506433689</td>\n",
       "      <td>2017-09-26 13:48:09</td>\n",
       "      <td>0.0</td>\n",
       "      <td>Ritsku</td>\n",
       "      <td>AITA for breaking up with my girlfriend becaus...</td>\n",
       "      <td>My girlfriend recently went to the beach with ...</td>\n",
       "      <td>girlfriend recently beach friend tiny bikini b...</td>\n",
       "      <td>beach friend tiny bikini hate public wear wear...</td>\n",
       "      <td>679.0</td>\n",
       "      <td>NaN</td>\n",
       "      <td>4917.0</td>\n",
       "      <td>434.0</td>\n",
       "      <td>no a--holes here</td>\n",
       "      <td>NaN</td>\n",
       "      <td>friends &amp; dating</td>\n",
       "      <td>15.0</td>\n",
       "    </tr>\n",
       "    <tr>\n",
       "      <th>1</th>\n",
       "      <td>551887974</td>\n",
       "      <td>t3_94kvhi</td>\n",
       "      <td>1533404095</td>\n",
       "      <td>2018-08-04 17:34:55</td>\n",
       "      <td>0.0</td>\n",
       "      <td>hhhhhhffff678</td>\n",
       "      <td>AITA for banning smoking in my house and telli...</td>\n",
       "      <td>My parents smoke like chimneys. I used to as w...</td>\n",
       "      <td>parent smoke like chimney use quit wife young ...</td>\n",
       "      <td>parent smoke son week invite parent hour night...</td>\n",
       "      <td>832.0</td>\n",
       "      <td>NaN</td>\n",
       "      <td>2076.0</td>\n",
       "      <td>357.0</td>\n",
       "      <td>asshole</td>\n",
       "      <td>ass</td>\n",
       "      <td>around the house</td>\n",
       "      <td>0.0</td>\n",
       "    </tr>\n",
       "    <tr>\n",
       "      <th>2</th>\n",
       "      <td>552654542</td>\n",
       "      <td>t3_951az2</td>\n",
       "      <td>1533562299</td>\n",
       "      <td>2018-08-06 13:31:39</td>\n",
       "      <td>0.0</td>\n",
       "      <td>creepatthepool</td>\n",
       "      <td>AITA? Creep wears skimpy bathing suit to pool</td>\n",
       "      <td>Hi guys. Throwaway for obv reasons.\\n\\nI'm a f...</td>\n",
       "      <td>hi guy throwaway obv reason i'm female child b...</td>\n",
       "      <td>obv reason female child area wear thong penis ...</td>\n",
       "      <td>23.0</td>\n",
       "      <td>NaN</td>\n",
       "      <td>1741.0</td>\n",
       "      <td>335.0</td>\n",
       "      <td>Shitpost</td>\n",
       "      <td>NaN</td>\n",
       "      <td>clothes &amp; shopping</td>\n",
       "      <td>12.0</td>\n",
       "    </tr>\n",
       "  </tbody>\n",
       "</table>\n",
       "</div>"
      ],
      "text/plain": [
       "       idint      idstr     created     created_datetime  nsfw  \\\n",
       "0  427576402  t3_72kg2a  1506433689  2017-09-26 13:48:09   0.0   \n",
       "1  551887974  t3_94kvhi  1533404095  2018-08-04 17:34:55   0.0   \n",
       "2  552654542  t3_951az2  1533562299  2018-08-06 13:31:39   0.0   \n",
       "\n",
       "           author                                              title  \\\n",
       "0          Ritsku  AITA for breaking up with my girlfriend becaus...   \n",
       "1   hhhhhhffff678  AITA for banning smoking in my house and telli...   \n",
       "2  creepatthepool      AITA? Creep wears skimpy bathing suit to pool   \n",
       "\n",
       "                                            selftext  \\\n",
       "0  My girlfriend recently went to the beach with ...   \n",
       "1  My parents smoke like chimneys. I used to as w...   \n",
       "2  Hi guys. Throwaway for obv reasons.\\n\\nI'm a f...   \n",
       "\n",
       "                                              lemmas  \\\n",
       "0  girlfriend recently beach friend tiny bikini b...   \n",
       "1  parent smoke like chimney use quit wife young ...   \n",
       "2  hi guy throwaway obv reason i'm female child b...   \n",
       "\n",
       "                                          pos_lemmas  score distinguish  \\\n",
       "0  beach friend tiny bikini hate public wear wear...  679.0         NaN   \n",
       "1  parent smoke son week invite parent hour night...  832.0         NaN   \n",
       "2  obv reason female child area wear thong penis ...   23.0         NaN   \n",
       "\n",
       "   textlen  num_comments        flair_text flair_css_class  \\\n",
       "0   4917.0         434.0  no a--holes here             NaN   \n",
       "1   2076.0         357.0           asshole             ass   \n",
       "2   1741.0         335.0          Shitpost             NaN   \n",
       "\n",
       "            dom_topic  dom_topic_num  \n",
       "0    friends & dating           15.0  \n",
       "1    around the house            0.0  \n",
       "2  clothes & shopping           12.0  "
      ]
     },
     "execution_count": 291,
     "metadata": {},
     "output_type": "execute_result"
    }
   ],
   "source": [
    "df.head(3)"
   ]
  },
  {
   "cell_type": "markdown",
   "metadata": {
    "id": "5t8WVkZ2134h"
   },
   "source": [
    "# Reflection: The hermeneutics of topic modeling \n",
    "\n",
    "One thought to end with: for most topic models you will create, it will be hard to apply a meaningful interpretation to each topic. Not every topic will have some meaningful insight \"fall out of it\" upon first inspection. This is a typical issue in machine learning, which can pick up on patterns that might not make sense to humans.\n",
    "\n",
    "It is an open question to which extent you should let yourself be surprised by particular combinations of words in a topic, or if topic models primarily should follow the intuitions you already have as a researcher. What makes for a \"good\" topic model probably straddles the boundaries of surprise and expectation."
   ]
  }
 ],
 "metadata": {
  "colab": {
   "collapsed_sections": [],
   "name": "Week 3-1 Topic Modeling.ipynb",
   "provenance": []
  },
  "kernelspec": {
   "display_name": "Python 3",
   "language": "python",
   "name": "python3"
  },
  "language_info": {
   "codemirror_mode": {
    "name": "ipython",
    "version": 3
   },
   "file_extension": ".py",
   "mimetype": "text/x-python",
   "name": "python",
   "nbconvert_exporter": "python",
   "pygments_lexer": "ipython3",
   "version": "3.7.6"
  }
 },
 "nbformat": 4,
 "nbformat_minor": 4
}
