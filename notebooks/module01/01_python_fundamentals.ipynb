{
 "cells": [
  {
   "cell_type": "markdown",
   "metadata": {},
   "source": [
    "# Data Science for Social Justice Workshop: Module 1"
   ]
  },
  {
   "cell_type": "markdown",
   "metadata": {
    "id": "IRQJkLmpWt86"
   },
   "source": [
    "## Python Fundamentals\n",
    "\n",
    "Welcome! In Module 1, we aim to cover Python fundamentals.\n",
    "\n",
    "Specifically, in this notebook, we'll go over basic syntax and data structures when interacting with Python.\n",
    "\n",
    "If this is your first time working with a programming language, this first module may be overwhelming. **That is totally normal**. Learning how to program well takes months, if not years. Our goal is to help put you in a position to learn more in the future. So, things might not always make sense, or be totally clear, and that's fine! Lean into the discomfort, and ask questions whenever something doesn't make sense.\n",
    "\n",
    "This notebook is designed to help you:\n",
    "\n",
    "* be comfortable running **Jupyter Notebooks**,\n",
    "* know what **variables**, **functions**, and **methods** are,\n",
    "* know how to use **`for` loops**, and\n",
    "* know how to use **`if` and `else` statements**.\n",
    "\n",
    "Let's get started."
   ]
  },
  {
   "cell_type": "markdown",
   "metadata": {},
   "source": [
    "## Python and Jupyter Notebooks\n",
    "\n",
    "Python is the name of a programming language created by [Guido van Rossum](https://en.wikipedia.org/wiki/Guido_van_Rossum) in the early 1990s. It is one of many programming languages available. Python is a **general purpose programming language**. This means that it can be used in a wide range of settings.\n",
    "\n",
    "Python has become arguably the main programming language used for data science and machine learning. One of the most common ways to run Python - in general, but specifically when conducting data-driven work - is with a **Jupyter Notebook**. This is what we are interacting with right now.\n",
    "\n",
    "A Jupyter Notebook is powerful because it allows a user to use **cells** to interact with the programming language. These cells allow you to run blocks of code one at a time, increasing the interactivity. You can also have other types of cells, like Markdown cells (this one) which improve readability. The combination of code and Markdown cells makes Jupyter Notebooks a powerful tool for creating data-driven narratives.\n",
    "\n",
    "Code is the vehicle we use to make our ideas \"go\", via the \"kernel\" (the computational engine that runs the code). Markdown is used to organize our work and research narrative. This text is essential to introduce the reader/audience to the problem or topic being investigated, our research question/hypothesis, materials and methods, results, discussion, and conclusions. \n",
    "\n",
    "[Click here to check out the Jupyter Notebooks beginner guide](https://jupyter-notebook.readthedocs.io/en/stable/examples/Notebook/What%20is%20the%20Jupyter%20Notebook.html)."
   ]
  },
  {
   "cell_type": "markdown",
   "metadata": {},
   "source": [
    "### Run a Cell\n",
    "\n",
    "Press `Shift + Enter` to render a cell of Markdown or a cell of code and advance to the next cell.\n",
    "\n",
    "Press `Control + Enter` to run the cell but not advance to the next cell."
   ]
  },
  {
   "cell_type": "markdown",
   "metadata": {
    "id": "6AOcazd7Wt9F"
   },
   "source": [
    "### Hello, World!\n",
    "\n",
    "Even if programming is a [comparatively young art](https://en.wikipedia.org/wiki/History_of_programming_languages), it still has its traditions. One of these traditions is the `Hello, World!` program which is the first program that most people ever write whilst learning how to program.\n",
    "\n",
    "In the cell below, you will now write your own `Hello, World!` program. Click on the block below this one, then run it by either pressing `Shift + Enter` or using the button marked <i class=\"fa-step-forward fa\"></i> `Run`. What happens?"
   ]
  },
  {
   "cell_type": "code",
   "execution_count": null,
   "metadata": {
    "colab": {
     "base_uri": "https://localhost:8080/"
    },
    "executionInfo": {
     "elapsed": 8,
     "status": "ok",
     "timestamp": 1647446180706,
     "user": {
      "displayName": "Tom van Nuenen",
      "photoUrl": "https://lh3.googleusercontent.com/a-/AOh14GhuBmxDvW5I_LJfZtwlPqMFD8QGLVPP3skvpkTnuQ=s64",
      "userId": "10012302451096885058"
     },
     "user_tz": 300
    },
    "id": "jNo9B2EkWt9F",
    "outputId": "5f7415be-2abf-4f99-afdd-00f076f3d5e9",
    "scrolled": true
   },
   "outputs": [],
   "source": [
    "print('Hello, World!')"
   ]
  },
  {
   "cell_type": "markdown",
   "metadata": {
    "id": "Nn9yXxHCWt9L"
   },
   "source": [
    "### Exercise 1\n",
    "\n",
    "Now, write your own line of code here. Use the `print()` function to print out any line of text (don't forget to use quotation marks!)."
   ]
  },
  {
   "cell_type": "code",
   "execution_count": null,
   "metadata": {
    "id": "XTsLW-FgWt9N"
   },
   "outputs": [],
   "source": [
    "# YOUR CODE HERE\n"
   ]
  },
  {
   "cell_type": "markdown",
   "metadata": {
    "id": "tswS8mefWt9S"
   },
   "source": [
    "### Navigating Your Notebook\n",
    "\n",
    "Congratulations, you're now a programmer! Before we go on though, a quick word about Python itself, and how notebooks will work throughout this course.\n",
    "\n",
    "Every cell has to be <i class=\"fa-step-forward fa\"></i> `Run` to work. For more complex programs, it will be important to run the cells in the right order, too (i.e., run the cell at the top first, then the next one down etc.). \n",
    "\n",
    "You can also insert cells using the `Insert` menu, and move them up and down relative to one another using the <i class=\"fa-arrow-up fa\"></i> and <i class=\"fa-arrow-down fa\"></i> buttons.\n",
    "\n",
    "Finally, notebooks like these run on what's called a **kernel**. Sometimes this kernel breaks or stops functioning. In such cases, you'll want to restart it. Do this by clicking the `Kernel` menu and clicking the `Restart` button."
   ]
  },
  {
   "cell_type": "markdown",
   "metadata": {},
   "source": [
    "### Comments\n",
    "\n",
    "You'll also find that a lot of cells have comments in them. A comment is a note we leave for ourselves when writing code, explaining what we're thinking or doing. Python ignores these comments entirely, so we can write in human languages.\n",
    "\n",
    "A comment is anything that starts with the hash (`#`) symbol. It can take up an entire line, or just the rest of a line containing code. See the two comments below."
   ]
  },
  {
   "cell_type": "code",
   "execution_count": null,
   "metadata": {
    "colab": {
     "base_uri": "https://localhost:8080/"
    },
    "executionInfo": {
     "elapsed": 288,
     "status": "ok",
     "timestamp": 1647446296299,
     "user": {
      "displayName": "Tom van Nuenen",
      "photoUrl": "https://lh3.googleusercontent.com/a-/AOh14GhuBmxDvW5I_LJfZtwlPqMFD8QGLVPP3skvpkTnuQ=s64",
      "userId": "10012302451096885058"
     },
     "user_tz": 300
    },
    "id": "kNfbGqqRWt9T",
    "outputId": "53b90fda-8dbe-4bc8-9442-d081300a03a0"
   },
   "outputs": [],
   "source": [
    "# Here's a dog\n",
    "print('Woof!')\n",
    "print('Meow!')  # And that was a cat\n",
    "# But let's hide the mouse\n",
    "# print('Peep!')"
   ]
  },
  {
   "cell_type": "markdown",
   "metadata": {
    "id": "UjHukylgWt9X"
   },
   "source": [
    "## Variables and Data Types\n",
    "\n",
    "In Python, we call something we literally write into the code a **literal**. This is as opposed to a **variable**, which is simply a name or placeholder for something that can take any value.\n",
    "\n",
    "In Python, we create a variable by **assigning** it a value. We do this using the **assignment operator**, otherwise known as the equals (`=`) symbol. For example, to assign the value `\"woof\"` to the variable `dog` we would write `dog = \"woof\"`."
   ]
  },
  {
   "cell_type": "markdown",
   "metadata": {},
   "source": [
    "### Exercise 2\n",
    "\n",
    "In the cell below, write code which assigns a text value to a variable, then print the variable."
   ]
  },
  {
   "cell_type": "code",
   "execution_count": null,
   "metadata": {
    "colab": {
     "base_uri": "https://localhost:8080/",
     "height": 35
    },
    "executionInfo": {
     "elapsed": 8,
     "status": "ok",
     "timestamp": 1647446354495,
     "user": {
      "displayName": "Tom van Nuenen",
      "photoUrl": "https://lh3.googleusercontent.com/a-/AOh14GhuBmxDvW5I_LJfZtwlPqMFD8QGLVPP3skvpkTnuQ=s64",
      "userId": "10012302451096885058"
     },
     "user_tz": 300
    },
    "id": "ZpU-Pbx5Wt9Y",
    "outputId": "cd5d91ae-1ccd-406b-e887-c4f53254edfd"
   },
   "outputs": [],
   "source": [
    "# YOUR CODE HERE\n"
   ]
  },
  {
   "cell_type": "markdown",
   "metadata": {
    "id": "1LOilZ35Wt9b"
   },
   "source": [
    "Variables in Python have **types**. So far we have only come across one type: strings (which are what we call text, i.e., strings of characters). You can tell that it is a string as it is in between quotation marks. "
   ]
  },
  {
   "cell_type": "markdown",
   "metadata": {
    "id": "lQV_SJCYWt9j"
   },
   "source": [
    "Other data types are integers (whole numbers), floats (numbers with a decimal point), lists (a mutable, or changeable, ordered sequence of elements) and dictionaries (an unordered, changeable and indexed collection).\n",
    "\n",
    "These data types are referred to in Python as follows:\n",
    "* `str`: strings, or text\n",
    "* `int`: whole numbers\n",
    "* `float`: numbers with a decimal point e.g., 1.0 or 1.5\n",
    "* `list`: mutable, or changeable, ordered sequence of elements\n",
    "* `dict`: unordered, changeable and indexed collection of elements"
   ]
  },
  {
   "cell_type": "markdown",
   "metadata": {
    "id": "tzDc85KgWt9k"
   },
   "source": [
    "To find out a variable's type, we can use a **function** called `type()`. Try the example below."
   ]
  },
  {
   "cell_type": "code",
   "execution_count": null,
   "metadata": {
    "id": "JSdLdiM2Wt9k",
    "scrolled": true
   },
   "outputs": [],
   "source": [
    "print(type(\"Hello, World!\"))"
   ]
  },
  {
   "cell_type": "markdown",
   "metadata": {
    "id": "Nb2freRXWt9n"
   },
   "source": [
    "### Exercise 3\n",
    "\n",
    "In the cell below there are some variables. Using `print()` statements, print out the type of each variable."
   ]
  },
  {
   "cell_type": "code",
   "execution_count": null,
   "metadata": {
    "id": "89WqaZaWWt9o"
   },
   "outputs": [],
   "source": [
    "lumberjack = \"okay\"\n",
    "my_age = 30\n",
    "i_deserve = 10000.00\n",
    "my_list = [1, 2, 3]\n",
    "my_dict = {\"eggs\": 12, \"cheese wheels\": 3}\n",
    "\n",
    "# YOUR CODE HERE\n",
    "\n"
   ]
  },
  {
   "cell_type": "markdown",
   "metadata": {
    "id": "R9eKdd4DWt9r"
   },
   "source": [
    "Variables are fundamental to programming and you will use them throughout the course and during the rest of your programming career.\n",
    "\n",
    "One way to use them is as follows. Make sure you understand how this works!"
   ]
  },
  {
   "cell_type": "code",
   "execution_count": null,
   "metadata": {
    "id": "KkLYEOuHWt9s",
    "scrolled": true
   },
   "outputs": [],
   "source": [
    "pronoun = \"He\"\n",
    "occupation = \"lumberjack\"\n",
    "judgement = \"okay!\"\n",
    "print(pronoun, \"is a\", occupation, \"and\", pronoun, \"is\", judgement)"
   ]
  },
  {
   "cell_type": "markdown",
   "metadata": {
    "id": "F8bjjUKzWt9x"
   },
   "source": [
    "## Functions and Methods"
   ]
  },
  {
   "cell_type": "markdown",
   "metadata": {
    "id": "1dwLuVN-Wt9y"
   },
   "source": [
    "**Functions** are blocks of code that can be repeatedly run with when they are called. We've already used one called `print()`, which is built into Python. Functions usually accept some input and often have some output.\n",
    "\n",
    "**Methods** are functions that only work on certain data types. Two much-used methods to work with strings are `lower()`, which turns a given string into lowercase, and `split()`, which splits a string into a list. The reason we distinguish methods is because we use **dot notation** to use them. For example, the `print()` function exists on its own. But something like `lower()` needs to be called *on* a string, and we do so by using a dot between the variable and function call:"
   ]
  },
  {
   "cell_type": "code",
   "execution_count": null,
   "metadata": {
    "colab": {
     "base_uri": "https://localhost:8080/",
     "height": 35
    },
    "executionInfo": {
     "elapsed": 198,
     "status": "ok",
     "timestamp": 1647446501227,
     "user": {
      "displayName": "Tom van Nuenen",
      "photoUrl": "https://lh3.googleusercontent.com/a-/AOh14GhuBmxDvW5I_LJfZtwlPqMFD8QGLVPP3skvpkTnuQ=s64",
      "userId": "10012302451096885058"
     },
     "user_tz": 300
    },
    "id": "u6-LWHuXWt9z",
    "outputId": "39dbf7e5-2e48-4700-8549-aea38341673b"
   },
   "outputs": [],
   "source": [
    "test = \"some Kind of String\"\n",
    "test.lower()"
   ]
  },
  {
   "cell_type": "code",
   "execution_count": null,
   "metadata": {
    "id": "Y8n5SjBSWt92"
   },
   "outputs": [],
   "source": [
    "dashes = \"I-am-a-string\"\n",
    "dashes.split('-')"
   ]
  },
  {
   "cell_type": "markdown",
   "metadata": {
    "id": "yDkDzYPGWt-B"
   },
   "source": [
    "## Lists: Ordered Collections of Data\n",
    "\n",
    "Let's discuss the list, which is an ordered collection of data. We tell Python to create a list by using brackets:"
   ]
  },
  {
   "cell_type": "code",
   "execution_count": null,
   "metadata": {
    "id": "UJysNDDBWt-B"
   },
   "outputs": [],
   "source": [
    "shopping_list = [\"bread\", \"eggs\", \"milk\"]\n",
    "print(shopping_list)"
   ]
  },
  {
   "cell_type": "markdown",
   "metadata": {
    "id": "7nGntGGMWt-F"
   },
   "source": [
    "Lists are **mutable**, meaning that list values can be changed without reassigning the name.\n",
    "\n",
    "Lists also have methods, some of which are `append()`, `count()`, `pop()` or `index()`. The most common method you'll likely use is `append()`:"
   ]
  },
  {
   "cell_type": "code",
   "execution_count": null,
   "metadata": {
    "id": "MPD3SovFWt-G"
   },
   "outputs": [],
   "source": [
    "shopping_list.append(\"cereal\")\n",
    "print(shopping_list)"
   ]
  },
  {
   "cell_type": "markdown",
   "metadata": {},
   "source": [
    "As you see, when used like this, this method adds an element to the back of the list."
   ]
  },
  {
   "cell_type": "markdown",
   "metadata": {},
   "source": [
    "To access values in lists, use the square brackets for **slicing** along with the **index or indices** to obtain the value(s) available at that index. For example, to get the first item we use brackets along with an index value. Python is **zero-indexed**, which means that the first entry has index zero:"
   ]
  },
  {
   "cell_type": "code",
   "execution_count": null,
   "metadata": {
    "id": "HhSJ-NdgWt-S"
   },
   "outputs": [],
   "source": [
    "# Python starts counting indices at zero\n",
    "shopping_list[0]"
   ]
  },
  {
   "cell_type": "code",
   "execution_count": null,
   "metadata": {},
   "outputs": [],
   "source": [
    "# More indices\n",
    "print(shopping_list[1])\n",
    "print(shopping_list[2])"
   ]
  },
  {
   "cell_type": "markdown",
   "metadata": {},
   "source": [
    "We can use this index notation to update an element in a list:"
   ]
  },
  {
   "cell_type": "code",
   "execution_count": null,
   "metadata": {},
   "outputs": [],
   "source": [
    "shopping_list[0] = 'donuts'\n",
    "print(shopping_list)"
   ]
  },
  {
   "cell_type": "markdown",
   "metadata": {},
   "source": [
    "You can use **colon notation** to create a slice of indices, which will allow you to select multiple values from the list:"
   ]
  },
  {
   "cell_type": "code",
   "execution_count": null,
   "metadata": {},
   "outputs": [],
   "source": [
    "shopping_list[2:4]"
   ]
  },
  {
   "cell_type": "markdown",
   "metadata": {},
   "source": [
    "Finally, let's `.sort()` our list (by default in ascending order)."
   ]
  },
  {
   "cell_type": "code",
   "execution_count": null,
   "metadata": {},
   "outputs": [],
   "source": [
    "shopping_list.sort()\n",
    "shopping_list"
   ]
  },
  {
   "cell_type": "markdown",
   "metadata": {},
   "source": [
    "As you can see, lists have these special functions attached to them which allow us to change them easily (e.g. how we used `append()` and `sort()` above). \n",
    "\n",
    "Let's recap on this terminology. \n",
    "\n",
    "* `shopping_list` is a *variable name* pointing to a *list*.\n",
    "* Lists have a **method** called sort, this can be *accessed* as an **attribute** of any list, using a dot: `shopping_list.sort`\n",
    "* We can **call** this function using a pair of parentheses.\n",
    "\n",
    "So, this becomes: `shopping_list.sort()`\n",
    "\n",
    "Methods called like this act *in place*, meaning that rather than *returning* a new variable, they *change the variable itself*, in our previous example, `shopping_list` was sorted in place.\n",
    "\n",
    "Familiarise yourself with the [Python List Methods](https://docs.python.org/3/tutorial/datastructures.html)."
   ]
  },
  {
   "cell_type": "markdown",
   "metadata": {
    "id": "acAcpa63Wt-U"
   },
   "source": [
    "## Dictionaries: Associated Collections of Data\n",
    "\n",
    "Dictionaries consist of pairs of _keys_ and _values_. A _key_ is used to retrieve a _value_. For example, if I have a dictionary called `shopping_dict`, it will look like this: "
   ]
  },
  {
   "cell_type": "code",
   "execution_count": null,
   "metadata": {
    "colab": {
     "base_uri": "https://localhost:8080/"
    },
    "executionInfo": {
     "elapsed": 3,
     "status": "ok",
     "timestamp": 1647446626038,
     "user": {
      "displayName": "Tom van Nuenen",
      "photoUrl": "https://lh3.googleusercontent.com/a-/AOh14GhuBmxDvW5I_LJfZtwlPqMFD8QGLVPP3skvpkTnuQ=s64",
      "userId": "10012302451096885058"
     },
     "user_tz": 300
    },
    "id": "gw5LBCkwWt-U",
    "outputId": "47e0f791-5883-4b03-b0cf-e2de84cbe238"
   },
   "outputs": [],
   "source": [
    "shopping_dict = {\"apples\": 3, \"eggs\": 12, \"cheese wheels\": 19}\n",
    "shopping_dict"
   ]
  },
  {
   "cell_type": "markdown",
   "metadata": {
    "id": "T3nRLz2cWt-W"
   },
   "source": [
    "As you can see, dictionary items are presented in `key:value` pairs, and can be referred to by using the key name (using square brackets). Note that dictionaries cannot have two items with the same key!"
   ]
  },
  {
   "cell_type": "code",
   "execution_count": null,
   "metadata": {
    "colab": {
     "base_uri": "https://localhost:8080/"
    },
    "executionInfo": {
     "elapsed": 175,
     "status": "ok",
     "timestamp": 1647446637871,
     "user": {
      "displayName": "Tom van Nuenen",
      "photoUrl": "https://lh3.googleusercontent.com/a-/AOh14GhuBmxDvW5I_LJfZtwlPqMFD8QGLVPP3skvpkTnuQ=s64",
      "userId": "10012302451096885058"
     },
     "user_tz": 300
    },
    "id": "xs8i6NmXWt-W",
    "outputId": "6b9a9004-9526-49f2-fe7f-6f6e1c3cebd1"
   },
   "outputs": [],
   "source": [
    "shopping_dict[\"apples\"]"
   ]
  },
  {
   "cell_type": "markdown",
   "metadata": {
    "id": "K4eqGtmHWt-Y"
   },
   "source": [
    "We can easily add something new to a dictionary:"
   ]
  },
  {
   "cell_type": "code",
   "execution_count": null,
   "metadata": {
    "id": "PGMpvR6QWt-Z",
    "scrolled": true
   },
   "outputs": [],
   "source": [
    "shopping_dict[\"sandwiches\"] = 5\n",
    "print(shopping_dict)"
   ]
  },
  {
   "cell_type": "markdown",
   "metadata": {},
   "source": [
    "Getting a list of all the keys in a dict is as easy as running the `.keys()` method."
   ]
  },
  {
   "cell_type": "code",
   "execution_count": null,
   "metadata": {},
   "outputs": [],
   "source": [
    "shopping_dict.keys()"
   ]
  },
  {
   "cell_type": "markdown",
   "metadata": {},
   "source": [
    "...and the same goes for its values:"
   ]
  },
  {
   "cell_type": "code",
   "execution_count": null,
   "metadata": {},
   "outputs": [],
   "source": [
    "shopping_dict.values()"
   ]
  },
  {
   "cell_type": "markdown",
   "metadata": {
    "id": "kxzj1lzkWt-p"
   },
   "source": [
    "## Operators\n",
    "\n",
    "We can do things with variables, and sometimes change their values using operators. So far, we've only covered one operator, the assignment operator (=). Python actually has lots of different operators.\n",
    "\n",
    "Here are some basic operators:\n",
    "\n",
    "| Symbol  | Name              | Example  | Used For                                                           |\n",
    "|---------|-------------------|----------|--------------------------------------------------------------------|\n",
    "| `=`     | Assignment        | `a = 1`  | Assigning the value on the right to the variable on the left       |\n",
    "| `+`     | Addition          | `1 + 2`  | Returns the sum of the right and left hand sides                   |\n",
    "| `-`     | Subtraction       | `3 - 1`  | Returns the left hand side minus the right hand side               |\n",
    "| `*`     | Multiplication    | `2 * 3`  | Returns the product of the left and right hand sides               |\n",
    "| `**`    | Power             | `2 ** 2` | Returns the left hand side to the power of the right hand side     |\n",
    "| `+=`    | In place addition | `a += 1` | Sums the left and right hand sides, assigns sum to left hand side  |\n",
    "\n",
    "Most of these operators will not change the value of a variable, but rather return a new value. For example, check out the code below."
   ]
  },
  {
   "cell_type": "code",
   "execution_count": null,
   "metadata": {
    "id": "P3N5nElSWt-q"
   },
   "outputs": [],
   "source": [
    "a = 10 # Note: we don't put integers in quotes!\n",
    "b = 20 \n",
    "print('a * b =', a * b)\n",
    "print('a =', a)\n",
    "print('b =', b)"
   ]
  },
  {
   "cell_type": "markdown",
   "metadata": {
    "id": "B71ebKc_Wt-t"
   },
   "source": [
    "If we want to keep the value returned by an operator like `+` or `*`, we need to use it in conjunction with the assignment operator to assign the value to a new variable, or to an old variable. Check out the examples below:"
   ]
  },
  {
   "cell_type": "code",
   "execution_count": null,
   "metadata": {
    "id": "RLvjqBPiWt-v"
   },
   "outputs": [],
   "source": [
    "c = 20\n",
    "d = c + 10\n",
    "print('d is', d)\n",
    "print('and c is still', c)\n",
    "f = 100\n",
    "print('f is currently', f)\n",
    "f = f * d\n",
    "print('but we multiplied it by d and assigned the product to f, now f is', f)"
   ]
  },
  {
   "cell_type": "markdown",
   "metadata": {
    "id": "WO9-SEH0Wt-9"
   },
   "source": [
    "### Exercise 4\n",
    "\n",
    "So far, we've only used operators on integers. However, you can also use some operators on strings, too.\n",
    "\n",
    "In the cells below, try using the addition and and multiplication operators on strings. What do you expect to happen?\n"
   ]
  },
  {
   "cell_type": "code",
   "execution_count": null,
   "metadata": {
    "id": "i7V6oQlHWt--"
   },
   "outputs": [],
   "source": [
    "# Define a string variable\n",
    "dog = \"woof!\"\n",
    "cat = \"meow!\"\n",
    "\n",
    "# Multiply the variable 'dog' by two and print the result\n",
    "# YOUR CODE HERE\n",
    "\n",
    "# Add the variables 'dog' and 'cat' and print the result\n",
    "# YOUR CODE HERE"
   ]
  },
  {
   "cell_type": "markdown",
   "metadata": {
    "id": "m52YvgfnWt_N"
   },
   "source": [
    "## Casting: Converting between Types\n",
    "\n",
    "We've defined several data types thus far. There are scenarios where we might want to take a variable in one data type, and express it in another. For example, we might have a string variable that could be interpreted as a number: `num = '2'`. How could we change this into the integer 2?\n",
    "\n",
    "The term we use for this is **casting**. Python comes with built-in functions capable of performing casting for us. So, we need to **cast** the **string** value into an **integer**.\n",
    "\n",
    "Casting doesn't always work the way you expect. It's easy to see how the string `\"2\"` can be converted to the integer `2`, or how the integer `123` can be converted to the string `\"123\"`, but how would you convert the string `\"woof\"` into an integer? Hint - you can't.\n",
    "\n",
    "If a casting function can't convert a value, it will let you know by **raising an error**. We'll go more into detail about errors at the end of this lesson.\n",
    "\n",
    "Here are some examples of casting: "
   ]
  },
  {
   "cell_type": "code",
   "execution_count": null,
   "metadata": {},
   "outputs": [],
   "source": [
    "# String to integer\n",
    "int('22')"
   ]
  },
  {
   "cell_type": "code",
   "execution_count": null,
   "metadata": {},
   "outputs": [],
   "source": [
    "# Integer to string\n",
    "str(100)"
   ]
  },
  {
   "cell_type": "code",
   "execution_count": null,
   "metadata": {},
   "outputs": [],
   "source": [
    "# Float to integer\n",
    "int(24.5)"
   ]
  },
  {
   "cell_type": "code",
   "execution_count": null,
   "metadata": {},
   "outputs": [],
   "source": [
    "# Integer to float\n",
    "float(24)"
   ]
  },
  {
   "cell_type": "code",
   "execution_count": null,
   "metadata": {},
   "outputs": [],
   "source": [
    "# Float to string\n",
    "str(3.1415)"
   ]
  },
  {
   "cell_type": "code",
   "execution_count": null,
   "metadata": {},
   "outputs": [],
   "source": [
    "# Raise an error\n",
    "int(\"twenty two\")"
   ]
  },
  {
   "cell_type": "markdown",
   "metadata": {
    "id": "Od-t2e7PWt_V"
   },
   "source": [
    "## Loops\n",
    "\n",
    "The strength of using computers is their speed. We can leverage this by facilitating repeated computation with loops. In programming, there are generally two kinds of loops: **for loops** and **while loops**. We will only focus on for loops in this section, because they are more naturally suited for Python. We will not use while loops throughout these notebooks.\n",
    "\n",
    "A for loop tells Python to execute some statements once for each value in a list, a character string, or some other set of values. Specifically, we structure our computation as: \"for each thing in this group, do these operations\".\n",
    "\n",
    "The syntax for a for loop is shown below:"
   ]
  },
  {
   "cell_type": "code",
   "execution_count": null,
   "metadata": {},
   "outputs": [],
   "source": [
    "this_list = [0, 1, 2, 3]"
   ]
  },
  {
   "cell_type": "code",
   "execution_count": null,
   "metadata": {
    "id": "ROYEw7eRWt_V"
   },
   "outputs": [],
   "source": [
    "for each_thing in this_list:\n",
    "    # Do something with each thing\n",
    "    print(each_thing)"
   ]
  },
  {
   "cell_type": "markdown",
   "metadata": {
    "id": "s39dQl1pWt_Z"
   },
   "source": [
    "### Looping over Lists and Dictionaries\n",
    "\n",
    "We have already seen a for loop in action, but let's take a closer look at operating on lists and dictionaries:"
   ]
  },
  {
   "cell_type": "code",
   "execution_count": null,
   "metadata": {
    "id": "-SIFuKlcWt_Z"
   },
   "outputs": [],
   "source": [
    "shopping_list = [\"bread\", \"eggs\", \"milk\"]\n",
    "for idx in shopping_list:\n",
    "    print(\"We need to get\", idx)"
   ]
  },
  {
   "cell_type": "code",
   "execution_count": null,
   "metadata": {
    "id": "uRNfpP7kWt_b",
    "scrolled": true
   },
   "outputs": [],
   "source": [
    "shopping_dict = {\"apples\": 3, \"eggs\": 12, \"cheese wheels\": 19}\n",
    "\n",
    "for key in shopping_dict.keys(): \n",
    "    val = shopping_dict[key]\n",
    "    print(key, \"costs\", val)"
   ]
  },
  {
   "cell_type": "markdown",
   "metadata": {
    "id": "avlysnnXWt_c"
   },
   "source": [
    "As you see, this retrieved the **keys**."
   ]
  },
  {
   "cell_type": "code",
   "execution_count": null,
   "metadata": {
    "id": "tuaC43JZWt_d"
   },
   "outputs": [],
   "source": [
    "for j in shopping_dict.values():\n",
    "    print(j)"
   ]
  },
  {
   "cell_type": "markdown",
   "metadata": {
    "id": "dYw7sITUWt_g"
   },
   "source": [
    "...and this retrieved the **values**."
   ]
  },
  {
   "cell_type": "markdown",
   "metadata": {
    "id": "fQqR0n_nWt_i"
   },
   "source": [
    "Here, we loop over both keys and values of the dict using the `items()` method, then print out both in a string. Note that we have to convert the value, which is an integer, into a string! "
   ]
  },
  {
   "cell_type": "code",
   "execution_count": null,
   "metadata": {
    "id": "g8qEDMa2Wt_g",
    "scrolled": true
   },
   "outputs": [],
   "source": [
    "total = 0\n",
    "\n",
    "for key, val in shopping_dict.items():\n",
    "    total += val\n",
    "    print(key, \"costs\", val)\n",
    "\n",
    "print(\"The total cost is\", total)"
   ]
  },
  {
   "cell_type": "markdown",
   "metadata": {
    "id": "wDF_1HNzWt_p"
   },
   "source": [
    "### Exercise 5\n",
    "\n",
    "Create a dictionary containing different items (keys) and their quantity (values) in this classroom, and write some code that loops over this dictionary and prints out both these keys and values."
   ]
  },
  {
   "cell_type": "code",
   "execution_count": null,
   "metadata": {
    "id": "NMGgzXZ_Wt_p"
   },
   "outputs": [],
   "source": [
    "# YOUR CODE HERE\n"
   ]
  },
  {
   "cell_type": "markdown",
   "metadata": {
    "id": "6CoHZIwBWt_r"
   },
   "source": [
    "## Creating a Custom Function\n",
    "\n",
    "We've learned a lot about different functions such as `print()`. The great thing about functions is that you can create them yourself, to do whatever you want. All we do when we create a function is use the `def` keyword to **define** a new function and give it a **name** (and specify what arguments it will take, if any). We then write the code for the function below the `def` statement. \n",
    "\n",
    "In Python, functions make use of **indentation**, where you put **tabs** before your code. On most keyboards, the tab key is towards the top left: `⇥`. Then, whenever we **call** the function, the indented block of code is executed. \n",
    "\n",
    "The `def` keyword is special as it allows us to define a block of code and give it a name so we can use it again and again. This is the point of defining a function.\n",
    "\n",
    "See the examples below."
   ]
  },
  {
   "cell_type": "code",
   "execution_count": null,
   "metadata": {
    "id": "oHrFuKNRWt_r"
   },
   "outputs": [],
   "source": [
    "# Let's create our first function\n",
    "def my_first_function():  # Notice the colon! this is part of the syntax\n",
    "    # Notice how this code is indented\n",
    "    print('Thanks for calling me!')\n",
    "\n",
    "# The code is no longer indented, so we say it is in a different 'block'\n",
    "\n",
    "# Let's call our function\n",
    "my_first_function()\n",
    "\n",
    "# And, let's see what kind of type it is\n",
    "print(type(my_first_function))"
   ]
  },
  {
   "cell_type": "markdown",
   "metadata": {
    "id": "FXwDvXURWt_w"
   },
   "source": [
    "### Arguments in Functions\n",
    "\n",
    "Often, we'll want a function to take arguments. To do this, we put a list of variables inside the brackets when we define our function. Now, whenever you call the function, you must supply it with arguments, and these variables will have the values the function was called with. \n",
    "\n",
    "See the example below."
   ]
  },
  {
   "cell_type": "code",
   "execution_count": null,
   "metadata": {
    "id": "KoEZO-ZLWt_w"
   },
   "outputs": [],
   "source": [
    "# Create our function with arguments\n",
    "def say_hello(x):  # x is an argument here\n",
    "    # Inside this block, x is whatever we called the function with\n",
    "    print('Hello,', x)\n",
    "    \n",
    "# Let's call our function\n",
    "say_hello(\"Berkeley\")"
   ]
  },
  {
   "cell_type": "markdown",
   "metadata": {
    "id": "R0VpACFCWt_y"
   },
   "source": [
    "### Exercise 6\n",
    "\n",
    "In the code cell below, write two functions, one (called `multiply_together()` which takes three arguments, multiplies them together and prints out the result, and another (called `add_together()`) which takes two arguments, adds them together and prints the result. When you have finished and run the cell without any errors, the code in the next cell should work and print out the correct values. "
   ]
  },
  {
   "cell_type": "code",
   "execution_count": null,
   "metadata": {
    "id": "fG2vOIlGWt_z"
   },
   "outputs": [],
   "source": [
    "# YOUR CODE HERE\n",
    " "
   ]
  },
  {
   "cell_type": "code",
   "execution_count": null,
   "metadata": {
    "id": "RI_-9SpAWt_3"
   },
   "outputs": [],
   "source": [
    "multiply_together(2, 3, 4)  # Should print 24\n",
    "add_together(10, 90)  # Should print 100 "
   ]
  },
  {
   "cell_type": "markdown",
   "metadata": {
    "id": "mCie3a6BWt_5"
   },
   "source": [
    "Functions which return a value are generally much more useful than ones that just print them out, because it allows us to assign the value they return to a variable.\n",
    "\n",
    "Unless a function explicitly returns a value using the `return` keyword, the value returned is simply `None`. `None` is a special value that has its own type, `NoneType`. \n",
    "\n",
    "To demonstrate this let's look at the `say_hello()` function from the earlier example *(tip: this cell will only work if you have run the cell above which defined the `say_hello()` function)*."
   ]
  },
  {
   "cell_type": "code",
   "execution_count": null,
   "metadata": {
    "id": "-plQbib1Wt_5"
   },
   "outputs": [],
   "source": [
    "val = say_hello('student')\n",
    "print('say_hello() returned ', val)\n",
    "print(val, 'has the type', type(val))"
   ]
  },
  {
   "cell_type": "markdown",
   "metadata": {
    "id": "E-__vJyoWt_7"
   },
   "source": [
    "Returning `None` in this context isn't very useful. Instead, as we said above, it is better generally to avoid printing things in our functions, and instead `return` a value which we can then do whatever we want with (if we like, we can pass it as an argument to the `print()` function to print it out). The `return` keyword will **return** a value from the function, and then **stop executing the function**. \n",
    "\n",
    "For example, see the new, improved function `return_hello()`. Make sure you understand the difference!"
   ]
  },
  {
   "cell_type": "code",
   "execution_count": null,
   "metadata": {
    "id": "O_8id4bqWt_8"
   },
   "outputs": [],
   "source": [
    "# Define the function\n",
    "def return_hello(name):\n",
    "    # This is a new block\n",
    "    return 'Hello, ' + name\n",
    "    # Any code below here (but in the same block) will never run\n",
    "    \n",
    "greeting = return_hello('Berkeley')\n",
    "print(greeting)"
   ]
  },
  {
   "cell_type": "markdown",
   "metadata": {
    "id": "IYVVWQqWWt_9"
   },
   "source": [
    "## Conditional Execution\n",
    "\n",
    "Conditionals, such as `if`, `else` and so on, are what's called **Boolean Logic** or **Boolean Algebra**, formalized by [George Boole](https://en.wikipedia.org/wiki/George_Boole). Python has a special type, called `bool`, which can only ever have one of two values: `True` or `False`.\n",
    "\n",
    "Let's imagine we have a variable which was somehow set to whether a shop had eggs, call it `shop_has_eggs`, it can be either `True` or `False`. This is called **conditional execution**. Conditional execution allows us to control the flow of a program. In Python, we can write out two blocks of code, and then execute only one block, depending on some **condition**.\n",
    "\n",
    "This is where two keywords come in: `if`, and `else` (you can think of `else` as simply meaning \"otherwise\"). We use these like below. Run the code and change the value of `shop_has_eggs` to see how the execution differs."
   ]
  },
  {
   "cell_type": "code",
   "execution_count": null,
   "metadata": {
    "id": "oGQdndrKWt_-"
   },
   "outputs": [],
   "source": [
    "# First, define our \"shop has eggs\" variable\n",
    "shop_has_eggs = False  # Change this to False and see what happens when you run it again\n",
    "\n",
    "# Everything above will always execute\n",
    "print('I am going to the shop.')\n",
    "\n",
    "# Conditional execution\n",
    "if shop_has_eggs:\n",
    "    # When shop_has_eggs is True, this block executes\n",
    "    print('The shop has eggs. Therefore, I will buy eggs.')\n",
    "else:\n",
    "    # When it's False, this block executes\n",
    "    print('The shop has no eggs. Therefore, I will buy 1 loaf of bread.')\n",
    "    \n",
    "# Everything below will always execute\n",
    "print('Now I am walking home.')"
   ]
  },
  {
   "cell_type": "markdown",
   "metadata": {
    "id": "yGUhjrttWuAA"
   },
   "source": [
    "Here we can see that the `if` block requires a Boolean value. If the value is `True`, it will execute the block of code below it, if it is `False`, it will skip the block below it and not execute it. \n",
    "\n",
    "Furtermore, `if` can be combined with `else`, so that if the condition passed to `if` is `False`, then the block below `if` won't execute, but the block below `else` will. **You can use `if` on its own without `else`, but you can never use `else` on its own without `if`; this is because `if` must take a condition, but `else` can't.**"
   ]
  },
  {
   "cell_type": "markdown",
   "metadata": {
    "id": "LizSoBQzWuAB"
   },
   "source": [
    "### Exercise 7\n",
    "\n",
    "Change the code below so that it always says it's buying a loaf of bread, but will buy either 6 eggs or no eggs depending on whether `shop_has_eggs` is `True` or `False`."
   ]
  },
  {
   "cell_type": "code",
   "execution_count": null,
   "metadata": {
    "id": "s_dBy4urWuAC"
   },
   "outputs": [],
   "source": [
    "# First, define our \"shop has eggs\" variable\n",
    "shop_has_eggs = False  # Change this to False and see what happens when you run it again\n",
    "\n",
    "# Everything above will always execute\n",
    "print('I am going to the shop.')\n",
    "\n",
    "# Conditional execution\n",
    "if shop_has_eggs:\n",
    "    # When shop_has_eggs is True, this block executes\n",
    "    print('The shop has eggs. Therefore, I will buy eggs.')\n",
    "else:\n",
    "    # When it's False, this block executes\n",
    "    print('The shop has no eggs. Therefore, I will buy 1 loaf of bread.')\n",
    "    \n",
    "# Everything below will always execute\n",
    "print('Now I am walking home.')"
   ]
  },
  {
   "cell_type": "markdown",
   "metadata": {
    "id": "0nWb1mWNWuAG"
   },
   "source": [
    "### Comparison Operations\n",
    "\n",
    "In a real life database management system, it would be much more probable that there was a variable called something like `egg_count`, which tells us the *number* of eggs in stock, rather than simply *whether* there are eggs or not. If that number is 0, there are no eggs, if it's 1 or more, then there are eggs.\n",
    "\n",
    "So, we need a way to **compare** values (in this case an integer number of eggs) to evaluate to `True` or `False`. This is where Python's [comparison operators](https://www.tutorialspoint.com/python/python_basic_operators.htm) come in.\n",
    "\n",
    "Comparison operators are like arithmetic operators, in that they take the value on the left, and compare it to the value on the right, and then, depending on the result of the comparison, return `True` or `False`. We can either assign the Boolean value to a variable, or, more commonly, just pass the condition to `if`. \n",
    "\n",
    "Perhaps the simplest of all these operators is `==`, or the **equality** operator. Note the two equals signs, which is intentional, as it means Python can understand the different between **assignment** and **equality**.\n",
    "\n",
    "The code below is an example which uses both the assignment operator and the equality operator."
   ]
  },
  {
   "cell_type": "code",
   "execution_count": null,
   "metadata": {
    "id": "C7vYtbhUWuAH"
   },
   "outputs": [],
   "source": [
    "# Test variable\n",
    "test_var = 9\n",
    "\n",
    "# Check if test_var is equal to 10\n",
    "if test_var == 10:\n",
    "    print('test_var is equal to ten')\n",
    "else:\n",
    "    print('test_var is not equal to ten')"
   ]
  },
  {
   "cell_type": "markdown",
   "metadata": {
    "id": "CbdxLtBMWuAL"
   },
   "source": [
    "The equality operator is just one of Python's comparison operators:\n",
    "\n",
    "\n",
    "| Symbol | Name                     | Example: `True`    | Example: `False`   |\n",
    "|:------:|:------------------------:|:------------------:|:------------------:|\n",
    "| `==`   | Equality                 | `'woof' == 'woof'`   | `23 == 20`           |\n",
    "| `!=`   | Inequality               | `'woof' != 'meow'`   | `23 != 23`           |\n",
    "| `>`    | Greater than             | `123 > 12.3`         | `100 > 1000`         |\n",
    "| `<`    | Less than                | `1000 < 10000`       | `1 < 0.1`            |\n",
    "| `>=`   | Greater than or equal to | `10 >= 10`           | `100 >= 1000`        |\n",
    "| `<=`   | Less than or equal to    | `10 <= 100`          | `101 <= 100.0`       |\n",
    "| `is`   | Identity                 | `10 is 10`         | `10 is 10.0`         |\n",
    "\n",
    "\n",
    "Take a moment to go over these in your head so you are confident you understand them. "
   ]
  },
  {
   "cell_type": "markdown",
   "metadata": {
    "id": "O1yXIXahWuAM"
   },
   "source": [
    "### Else if\n",
    "\n",
    "Finally, what do we do when we want to apply several `if` statements? We use `elif`.\n",
    "`elif`, like `else`, can only be used after an `if` statement, and like `else`, it is also optional. So, the following combinations are allowed:\n",
    "\n",
    "* `if` on its own\n",
    "* `if` and `elif` with no `else`\n",
    "* `if`, `elif`, and `else`\n",
    "\n",
    "You may also include as many `elif` statements as desired. See below, and make sure you understand!"
   ]
  },
  {
   "cell_type": "code",
   "execution_count": null,
   "metadata": {
    "id": "tL5d9tlbWuAN",
    "scrolled": true
   },
   "outputs": [],
   "source": [
    "# Get the value from the shop\n",
    "egg_count = 5  # change this value to whatever you like, and see how the execution changes\n",
    "\n",
    "# How many eggs do we want?\n",
    "number_of_eggs_wanted = 6\n",
    "\n",
    "# Does the shop have eggs?\n",
    "if egg_count >= number_of_eggs_wanted:\n",
    "    # Yes\n",
    "    print('I will buy', number_of_eggs_wanted ,'eggs.')\n",
    "elif egg_count > 2:\n",
    "    print('I will buy only', egg_count ,'eggs.')\n",
    "elif egg_count > 1:\n",
    "    print('I will buy the last pair of eggs.')\n",
    "elif egg_count > 0:\n",
    "    print('Lucky me, I got the last egg!')\n",
    "else:\n",
    "    # No eggs\n",
    "    print('No eggs for me today.')"
   ]
  },
  {
   "cell_type": "markdown",
   "metadata": {},
   "source": [
    "## Errors in Python\n",
    "\n",
    "So far, we have seen a couple examples where things go wrong, and the code generate an error. Understanding errors in Python, and how you can use them to debug your code, is a skill itself. Part of that skill is parsing the error messages. Python has the difficult task of telling you what wrong in a flexible way, no matter how your code looks. A consequence of this is that sometimes it can be hard to understand what an error message is trying to tell you.\n",
    "\n",
    "Let's look at a few types of errors you might run into in Python:"
   ]
  },
  {
   "cell_type": "markdown",
   "metadata": {},
   "source": [
    "### NameErrors\n",
    "\n",
    "`NameError`s usually occur when something is referenced that Python doesn't recognize. For example, try printing the following variable:"
   ]
  },
  {
   "cell_type": "code",
   "execution_count": null,
   "metadata": {
    "id": "br7IeauLWt9c",
    "scrolled": true
   },
   "outputs": [],
   "source": [
    "print(does_not_exist)"
   ]
  },
  {
   "cell_type": "markdown",
   "metadata": {
    "id": "qNCdeXyOWt9i"
   },
   "source": [
    "The red background implies that Python **raised** an error. In this case, Python raised a `NameError`. That means it's trying to find something, but it can't find the name in its memory. The error message, called a **traceback**, points to the literal that it can't identify, and Python informs you that it's not defined."
   ]
  },
  {
   "cell_type": "markdown",
   "metadata": {
    "id": "9tCYwHzRWt-c"
   },
   "source": [
    "### SyntaxErrors\n",
    "\n",
    "A syntax error occurs when Python encounters characters that don't make sense in the context of the surrounding code. This might happen if you don't use the right symbol in the right place - you can think of it as a spelling or grammar error in an essay.\n",
    "\n",
    "Why does the following line of code raise a syntax error?"
   ]
  },
  {
   "cell_type": "code",
   "execution_count": null,
   "metadata": {
    "colab": {
     "base_uri": "https://localhost:8080/",
     "height": 131
    },
    "executionInfo": {
     "elapsed": 245,
     "status": "error",
     "timestamp": 1647446675696,
     "user": {
      "displayName": "Tom van Nuenen",
      "photoUrl": "https://lh3.googleusercontent.com/a-/AOh14GhuBmxDvW5I_LJfZtwlPqMFD8QGLVPP3skvpkTnuQ=s64",
      "userId": "10012302451096885058"
     },
     "user_tz": 300
    },
    "id": "EiRmPHI_Wt-c",
    "outputId": "fb302f57-563a-4d98-ee0a-e2c3090d5275"
   },
   "outputs": [],
   "source": [
    "print('Oh, I'm a lumberjack, and I'm okay,')"
   ]
  },
  {
   "cell_type": "markdown",
   "metadata": {
    "id": "L7HBd3y6Wt_K"
   },
   "source": [
    "### TypeErrors\n",
    " \n",
    "Type errors occur when Python doesn't know what to do with variables of a provided data type. Often this occurs when you try and apply an operator or function to a data type it was not designed or meant to handle. Consider the following example:"
   ]
  },
  {
   "cell_type": "code",
   "execution_count": null,
   "metadata": {
    "id": "26Xq--2_Wt_K"
   },
   "outputs": [],
   "source": [
    "# Define two variables\n",
    "a = '2'\n",
    "b = 'hello'\n",
    "# Multiply them together\n",
    "result = a * b\n",
    "# And finally print them out\n",
    "print(a, '*', b, '=', result)"
   ]
  },
  {
   "cell_type": "markdown",
   "metadata": {
    "id": "HE5wGejOWt_N"
   },
   "source": [
    "Uh oh! We ran into a `TypeError`. The program is complaining that it \"can't multiply sequence by non-int of type 'str'\". What this means is that the `*` operator is not defined for two strings."
   ]
  },
  {
   "cell_type": "markdown",
   "metadata": {
    "id": "CGZ1lYSnWuAQ"
   },
   "source": [
    "# Well done! \n",
    "\n",
    "That was a lot to get through! If not everything made sense, that's totally fine! You might need to go through this notebook multiple times, or look for additional resources, before things begin to click. As you work through your project and these exercises, you'll begin to internalize the concepts, making the process easier the next time."
   ]
  }
 ],
 "metadata": {
  "colab": {
   "collapsed_sections": [
    "s39dQl1pWt_Z"
   ],
   "name": "Week 1 OPTIONAL - Python Basics I.ipynb",
   "provenance": []
  },
  "kernelspec": {
   "display_name": "Python 3 (ipykernel)",
   "language": "python",
   "name": "python3"
  },
  "language_info": {
   "codemirror_mode": {
    "name": "ipython",
    "version": 3
   },
   "file_extension": ".py",
   "mimetype": "text/x-python",
   "name": "python",
   "nbconvert_exporter": "python",
   "pygments_lexer": "ipython3",
   "version": "3.8.12"
  }
 },
 "nbformat": 4,
 "nbformat_minor": 4
}
