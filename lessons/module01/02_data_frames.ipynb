{
 "cells": [
  {
   "cell_type": "markdown",
   "metadata": {},
   "source": [
    "# Data Science for Social Justice Workshop: Module 1"
   ]
  },
  {
   "cell_type": "markdown",
   "metadata": {},
   "source": [
    "## DataFrames in Python\n",
    "\n",
    "In the previous notebook, we learned about the fundamentals to Python. Now, we'll learn about DataFrames, which are a data structure that facilitate the interaction with **tabular data**, or data you might expect to see in Excel. Tabular data has many rows (data samples), and columns describing different aspects of those samples. \n",
    "\n",
    "This notebook is designed to help you:\n",
    "\n",
    "* Load data from a `csv` file into a `pandas` dataframe.\n",
    "* Query data from a dataframe based on a condition.\n",
    "* Plot your findings using Seaborn."
   ]
  },
  {
   "cell_type": "markdown",
   "metadata": {},
   "source": [
    "## Manipulating DataFrames with `pandas`\n",
    "\n",
    "`pandas` is a Python package that allows us to more easily perform complicated analysis using datasets. Think of it like a spreadsheet tool, but for programming in Python. We will use two additional packages: `numpy`, which is built for performing fast operations on arrays (effectively, more flexible lists) and `seaborn`, a visualization library for Python.\n",
    "\n",
    "First let's import `pandas`, `numpy` and `seaborn`:"
   ]
  },
  {
   "cell_type": "code",
   "execution_count": null,
   "metadata": {},
   "outputs": [],
   "source": [
    "import pandas as pd    # pandas is conventionally shortened to pd\n",
    "import numpy as np     # numpy provides useful array manipulations\n",
    "import seaborn as sns  # seaborn lets us draw graphs easily\n",
    "sns.set_theme()"
   ]
  },
  {
   "cell_type": "markdown",
   "metadata": {},
   "source": [
    "Now, let's create a **dataframe**. Think of a dataframe like a table with columns that contain different features on a sample.\n",
    "\n",
    "Pandas makes opening a `csv` file and seeing a summary of the data easy. We use the `read_csv()` method for this.\n",
    "\n",
    "**Remember: you need to give the correct path (i.e., a roadmap on your filesystem) to the file you are trying to read**. If the `csv` file is in the same folder as this `ipynb` file, then you just have to give the filename.)\n",
    "\n",
    "We'll store our dataframe as `df`, which is the conventional name for a dataframe. You can call it whatever you want, but keep it short and informative!"
   ]
  },
  {
   "cell_type": "code",
   "execution_count": null,
   "metadata": {},
   "outputs": [],
   "source": [
    "import os\n",
    "# We include two ../ because we want to go two levels up in the file structure\n",
    "os.chdir('../../data')"
   ]
  },
  {
   "cell_type": "markdown",
   "metadata": {},
   "source": [
    "## Coding for Social Justice\n",
    "\n",
    "Even if you’re new to programming, the ability to collect and analyze data independently means you no longer have to people in power at their word when they tell you what “the data” says. You can find data, evalute it, analyze it, and present your own findings. This will help you decide who you can trust, and help you find a voice in speaking truth to power.\n",
    "\n",
    "Working through these kinds of exercises early on can also help you think about how you might use what you’re learning about programming to address systemic issues at a personal, local, national, and international level.\n",
    "\n",
    "One of the most famous datasets that allows us to start thinking about social justice is the Titanic dataset. It contains information of all the passengers aboard the RMS Titanic, which unfortunately was shipwrecked. This dataset can be used to predict whether a given passenger survived or not. Specifically, the titanic dataset allows us to explore the impact of a number of demographic attributes, such as socioeconomic status, gender, and age on the likelihood of surviving the wreck.\n",
    "\n",
    "As we go through this, I want you to reflect on one particularity of working with data about terrifying events: the ways in which it comes to seem as something \"distant\". These abstracted datapoints allow us to pursue all kinds of hypotheses about why passengers survived the Titanic's disaster – but what remains buried under all this analysis is the voices of these people. "
   ]
  },
  {
   "cell_type": "code",
   "execution_count": null,
   "metadata": {},
   "outputs": [],
   "source": [
    "df = pd.read_csv('titanic.csv')\n",
    "df.head()"
   ]
  },
  {
   "cell_type": "markdown",
   "metadata": {},
   "source": [
    "Notice how it printed this without us even needing to use the `print()` function!\n",
    "\n",
    "The `head()` method shows the top 5 'series' (aka rows). You can ask it to show more than 5 by passing it an integer:"
   ]
  },
  {
   "cell_type": "code",
   "execution_count": null,
   "metadata": {},
   "outputs": [],
   "source": [
    "df.head(10)"
   ]
  },
  {
   "cell_type": "markdown",
   "metadata": {},
   "source": [
    "The `tail()` method works the same way, but works from the bottom instead of the top."
   ]
  },
  {
   "cell_type": "markdown",
   "metadata": {},
   "source": [
    "### Exercise 1\n",
    "\n",
    "Using the `tail()` method, print the bottom three rows."
   ]
  },
  {
   "cell_type": "code",
   "execution_count": null,
   "metadata": {},
   "outputs": [],
   "source": [
    "# YOUR CODE HERE\n"
   ]
  },
  {
   "cell_type": "markdown",
   "metadata": {},
   "source": [
    "When working dataframes with loads of columns, `pandas` will hide some of the columns. Remember that you can print out all names of the columns using the `.columns` method:"
   ]
  },
  {
   "cell_type": "code",
   "execution_count": null,
   "metadata": {},
   "outputs": [],
   "source": [
    "df.columns"
   ]
  },
  {
   "cell_type": "markdown",
   "metadata": {},
   "source": [
    "We interact with columns in dataframes by using lists and bracket notation:"
   ]
  },
  {
   "cell_type": "code",
   "execution_count": null,
   "metadata": {},
   "outputs": [],
   "source": [
    "# Select one column\n",
    "df['Name'].head()"
   ]
  },
  {
   "cell_type": "code",
   "execution_count": null,
   "metadata": {},
   "outputs": [],
   "source": [
    "# Select multiple columns\n",
    "df[['Name', 'Pclass']].head()"
   ]
  },
  {
   "cell_type": "markdown",
   "metadata": {},
   "source": [
    "`pandas` also makes it easy to select a specific row in a dataframe using a conditional. For example, if we wanted to select people above the age of 60, we can use the conditional selection below.  You can additionally use `==`, `<`, `<=`, `>` or `>=` `&` or `|` for other conditional selections."
   ]
  },
  {
   "cell_type": "code",
   "execution_count": null,
   "metadata": {},
   "outputs": [],
   "source": [
    "# Conditional selection\n",
    "df[df['Age'] > 60]"
   ]
  },
  {
   "cell_type": "markdown",
   "metadata": {},
   "source": [
    "That's nice, but it'd be better if the rows were ordered according to age. We can use `.sort_values()` method to sort the rows by a particular column. The arguments it takes are the name of the column (as a string), and `ascending=False` if you'd like the rows in descending roder:"
   ]
  },
  {
   "cell_type": "code",
   "execution_count": null,
   "metadata": {},
   "outputs": [],
   "source": [
    "df[df['Age'] > 60].sort_values(\"Age\", ascending=False)"
   ]
  },
  {
   "cell_type": "markdown",
   "metadata": {},
   "source": [
    "### Exercise 2\n",
    "\n",
    "Using the `sort_values()` method, sort the fare paid in descending order."
   ]
  },
  {
   "cell_type": "code",
   "execution_count": null,
   "metadata": {},
   "outputs": [],
   "source": [
    "# YOUR CODE HERE\n"
   ]
  },
  {
   "cell_type": "markdown",
   "metadata": {},
   "source": [
    "## Grouping and Aggregating Data\n",
    "\n",
    "A common operation with dataframes consists of 1) grouping samples by a column and 2) aggregating the samples by group into a useful statistic.\n",
    "\n",
    "Using the `groupby()` method, we can group our data by passenger class. We can then aggregate each person using the `mean()` method to get the mean survival rate of each class."
   ]
  },
  {
   "cell_type": "code",
   "execution_count": null,
   "metadata": {},
   "outputs": [],
   "source": [
    "df[['Pclass', 'Survived']].groupby(['Pclass']).mean()"
   ]
  },
  {
   "cell_type": "markdown",
   "metadata": {},
   "source": [
    "Lets also include details about the passengers' sex. \n",
    "\n",
    "Remember: datasets are construct by humans, and thus reflect their own biases, judgements, and norms. This dataset makes no distinction between sex assignment and gender identity, and further only reflects a gender binary. "
   ]
  },
  {
   "cell_type": "code",
   "execution_count": null,
   "metadata": {},
   "outputs": [],
   "source": [
    "df[['Sex', 'Pclass', 'Survived']].groupby(['Pclass', 'Sex']).mean()"
   ]
  },
  {
   "cell_type": "markdown",
   "metadata": {},
   "source": [
    "It turns out the sex of the passenger and the class in which they travelled (Pclass) seem to correlate strongly with survival."
   ]
  },
  {
   "cell_type": "markdown",
   "metadata": {},
   "source": [
    "## Data Visualisation"
   ]
  },
  {
   "cell_type": "markdown",
   "metadata": {},
   "source": [
    "Next, let's visualise our dataframes using the `seaborn` library. To improve your skills, you'll want to read `seaborn`'s [documentation](https://seaborn.pydata.org) yourself.\n",
    "\n",
    "`seaborn` has three basic level graphing methods: `relplot()`, `distplot()` and `catplot()`, which each has a number of submethods which are basically shorthands for the main methods.\n",
    "\n",
    "<img src=\"https://seaborn.pydata.org/_images/function_overview_8_0.png\">"
   ]
  },
  {
   "cell_type": "markdown",
   "metadata": {},
   "source": [
    "### Categorical Plots\n",
    "Let's begin with a categorical plot - a one dimentional graph - which allows us to place a categorical (non-numerical) value on the x-axis. Let's also add information about whether a passenger survived using `hue=`.\n",
    "\n",
    "What happens when you remove the `hue=` argument? What information is it providing?"
   ]
  },
  {
   "cell_type": "code",
   "execution_count": null,
   "metadata": {},
   "outputs": [],
   "source": [
    "sns.catplot(\n",
    "    x=\"Sex\",\n",
    "    hue=\"Survived\", \n",
    "    kind=\"count\",\n",
    "    data=df)"
   ]
  },
  {
   "cell_type": "markdown",
   "metadata": {},
   "source": [
    "Just by observing the graph, it can be approximated that the survival rate of men is around 20% and that of women is around 75%. Therefore, whether a passenger is a male or female correlates with survival rate."
   ]
  },
  {
   "cell_type": "markdown",
   "metadata": {
    "tags": []
   },
   "source": [
    "### Heatmaps\n",
    "\n",
    "Using `seaborn`, we can also create a heatmap – a plot that shows how a continuous quantity varies as a function or two categorical quantities. This time, we'll look at the counts of passenger class versus survival:"
   ]
  },
  {
   "cell_type": "code",
   "execution_count": null,
   "metadata": {},
   "outputs": [],
   "source": [
    "group = df.groupby(['Pclass', 'Survived'])\n",
    "pclass_survived = group.size().unstack()\n",
    " \n",
    "# Heatmap - Color encoded 2D representation of data.\n",
    "sns.heatmap(pclass_survived, annot=True, fmt=\"d\")"
   ]
  },
  {
   "cell_type": "markdown",
   "metadata": {},
   "source": [
    "This heatmap helps in determining if higher-class passengers had more survival rate than the lower class ones or vice versa. Class 1 passengers have a higher survival chance compared to classes 2 and 3. It implies that `Pclass` contributes a lot to a passenger’s survival rate."
   ]
  },
  {
   "cell_type": "markdown",
   "metadata": {},
   "source": [
    "### Violinplot\n",
    "\n",
    "Next, let's plot whether sex and age relate to survival rate with a violin plot. The violin plot allows us to view the distribution of a continuous variable:"
   ]
  },
  {
   "cell_type": "code",
   "execution_count": null,
   "metadata": {},
   "outputs": [],
   "source": [
    "sns.violinplot(\n",
    "    x=\"Sex\",\n",
    "    y=\"Age\",\n",
    "    hue=\"Survived\",\n",
    "    split=True,\n",
    "    data=df)"
   ]
  },
  {
   "cell_type": "markdown",
   "metadata": {},
   "source": [
    "This graph gives a summary of the age range of people who were saved. The survival rate appears to be:\n",
    "\n",
    "- Higher for children.\n",
    "- High for women in the age range 20-50.\n",
    "- Lower for men as age increases."
   ]
  },
  {
   "cell_type": "markdown",
   "metadata": {},
   "source": [
    "### Barplot\n",
    "\n",
    "Finally, let's use a barplot to have a look at whether the fare paid influences changes of survival:"
   ]
  },
  {
   "cell_type": "code",
   "execution_count": null,
   "metadata": {},
   "outputs": [],
   "source": [
    "# What does this function do? Take a look at the documentation!\n",
    "df['Fare_Range'] = pd.qcut(df['Fare'], 4)\n",
    " \n",
    "# Barplot - Shows approximate values based on the height of bars\n",
    "sns.barplot(\n",
    "    x='Fare_Range',\n",
    "    y='Survived',\n",
    "    data=df)"
   ]
  },
  {
   "cell_type": "markdown",
   "metadata": {},
   "source": [
    "Fare denotes the fare paid by a passenger. As the values in this column are continuous, they need to be put in separate bins (as done for the Age feature) to get a clear idea. It can be concluded that if a passenger paid a higher fare, the survival rate increases."
   ]
  },
  {
   "cell_type": "markdown",
   "metadata": {},
   "source": [
    "### Exercise 3\n",
    "\n",
    "Create a `scatterplot` to visualize the age against the fare paid."
   ]
  },
  {
   "cell_type": "code",
   "execution_count": null,
   "metadata": {},
   "outputs": [],
   "source": [
    "# YOUR CODE HERE\n"
   ]
  },
  {
   "cell_type": "markdown",
   "metadata": {},
   "source": [
    "## Correlations\n",
    "\n",
    "It's not enough to just use visualization to describe our findings in data analysis. They merely *illustrate* an argument which we make with numbers. \n",
    "\n",
    "Can we find correlation between passenger class and survival rate? We can calculate a correlation using the `corr` method:"
   ]
  },
  {
   "cell_type": "code",
   "execution_count": null,
   "metadata": {},
   "outputs": [],
   "source": [
    "df['Survived'].corr(df['Age'])"
   ]
  },
  {
   "cell_type": "code",
   "execution_count": null,
   "metadata": {},
   "outputs": [],
   "source": [
    "df['Sex']"
   ]
  },
  {
   "cell_type": "markdown",
   "metadata": {},
   "source": [
    "Next, let's look at sex and survival rate. We're going to create a new column that indicates whether the passenger was recorded as a male, and find the correlation with that column and the survival:"
   ]
  },
  {
   "cell_type": "code",
   "execution_count": null,
   "metadata": {},
   "outputs": [],
   "source": [
    "df['male'] = df['Sex'] == 'male'\n",
    "df['male'].corr(df['Survived'])"
   ]
  },
  {
   "cell_type": "markdown",
   "metadata": {},
   "source": [
    "So it turns out that a passenger's being a man was strongly negatively correlated with his survival aboard the Titanic, and a passenger's being older was very weakly negatively correlated with survival."
   ]
  },
  {
   "cell_type": "markdown",
   "metadata": {},
   "source": [
    "# Police Shootings Database\n",
    "\n",
    "<font color=red>**Content warning.** The datasets in the following part of the notebook refers to people killed by police. It is highly sensitive data and you should only engage with it if you feel you are able to.</font>\n",
    "\n",
    "Retrieving information from community-based data can and often is an extractive exercise, where not enough time is spent thinking about how to give back to the community that data is taken from. This is something to always consider when beginning a data science project. Science is never \"objective\" in the sense that we, as scientists, do not invoke our politics or values in practicing our work. Our activism should tie hand in hand with our work - our values drive the analyses we do - and so we must think critically about which data we use, what analyses we apply to it, and whether we should even be attempting to answer questions with that data.\n",
    "\n",
    "At the same time, we must understand the limitations of our data, and the historical power structures that generated its patterns. For example,the inclusion of certain features can change our perception of the data. It is to think through which kinds of features could be important when trying to answer a question.\n",
    "\n",
    "With this in mind, we turn to a police shooting database. The Washington Post maintains a database containing records of every fatal shooting in the United States by a police officer in the line of duty since Jan. 1, 2015.\n",
    "See [here](https://www.washingtonpost.com/graphics/investigations/police-shootings-database/) for more information. \n",
    "\n",
    "This dataset contains valuable information that could be used to hold powerful institutions accountable. At the same time, sloppy or incomplete analyses can hurt communities we aim to support. Our values, and support for Black lives, should drive how we use this data.\n",
    "\n",
    "We briefly introduce this dataset, and leave you to think critically on what questions you can answer with it."
   ]
  },
  {
   "cell_type": "code",
   "execution_count": null,
   "metadata": {},
   "outputs": [],
   "source": [
    "df = pd.read_csv('fatal-police-shootings-data.csv')\n",
    "df.head()"
   ]
  },
  {
   "cell_type": "markdown",
   "metadata": {},
   "source": [
    "Each row has the following variables:\n",
    "\n",
    "- `id`: A unique identifier for each victim.\n",
    "- `name`: The name of the victim.\n",
    "- `date`: The date of the fatal shooting in YYYY-MM-DD format.\n",
    "- `manner_of_death`:\n",
    "    - shot\n",
    "    - shot and tasered\n",
    "    - armed: indicates that the victim was armed with some sort of implement that a police officer believed could inflict harm\n",
    "    - undetermined: it is not known whether or not the victim had a weapon\n",
    "    - unknown: the victim was armed, but it is not known what the object was\n",
    "    - unarmed: the victim was not armed\n",
    "- `age`: The age of the victim.\n",
    "- `gender`: The gender of the victim. The Post identifies victims by the gender they identify with if reports indicate that it differs from their biological sex.\n",
    "    - M: Male\n",
    "    - F: Female\n",
    "    - None: unknown\n",
    "- `race`:\n",
    "    - W: White, non-Hispanic\n",
    "    - B: Black, non-Hispanic\n",
    "    - A: Asian\n",
    "    - N: Native American\n",
    "    - H: Hispanic\n",
    "    - O: Other\n",
    "    - None: unknown\n",
    "- `city`: The municipality where the fatal shooting took place. Note that in some cases this field may contain a county name if a more specific municipality is unavailable or unknown.\n",
    "- `state`: Two-letter postal code abbreviation.\n",
    "- `signs_of_mental_illness`: News reports have indicated the victim had a history of mental health issues, expressed suicidal intentions or was experiencing mental distress at the time of the shooting.\n",
    "- `threat_level`: The threat_level column was used to flag incidents for the [story](http://www.washingtonpost.com/sf/investigative/2015/10/24/on-duty-under-fire/) by Amy Brittain in October 2015. As described in the story, the general criteria for the attack label was that there was the most direct and immediate threat to life. That would include incidents where officers or others were shot at, threatened with a gun, attacked with other weapons or physical force, etc. The attack category is meant to flag the highest level of threat. The other and undetermined categories represent all remaining cases. Other includes many incidents where officers or others faced significant threats.\n",
    "- `flee`: News reports have indicated the victim was moving away from officers:\n",
    "    - Foot\n",
    "    - Car\n",
    "    - Not fleeing\n",
    "The threat column and the fleeing column are not necessarily related. For example, there is an incident in which the suspect is fleeing and at the same time turns to fire at gun at the officer. Also, attacks represent a status immediately before fatal shots by police while fleeing could begin slightly earlier and involve a chase.\n",
    "- `body_camera`: News reports have indicated an officer was wearing a body camera and it may have recorded some portion of the incident.\n",
    "- `latitude_and_longitude`: The location of the shooting expressed as WGS84 coordinates, geocoded from addresses. The coordinates are rounded to 3 decimal places, meaning they have a precision of about 80-100 meters within the contiguous U.S.\n",
    "- `is_geocoding_exact`: Reflects the accuracy of the coordinates. true means that the coordinates are for the location of the shooting (within approximately 100 meters), while false means that coordinates are for the centroid of a larger region, such as the city or county where the shooting happened."
   ]
  },
  {
   "cell_type": "markdown",
   "metadata": {},
   "source": [
    "Let's first examine the distribution of police killings by race and gender:"
   ]
  },
  {
   "cell_type": "code",
   "execution_count": null,
   "metadata": {},
   "outputs": [],
   "source": [
    "sns.countplot(x=\"race\", hue=\"gender\",data=df)"
   ]
  },
  {
   "cell_type": "markdown",
   "metadata": {},
   "source": [
    "Let's have a look at the mean age and sign of mental illness. The latter is stored in boolean yes/no values, which we can average as well."
   ]
  },
  {
   "cell_type": "code",
   "execution_count": null,
   "metadata": {},
   "outputs": [],
   "source": [
    "df[['age','race', 'signs_of_mental_illness']].groupby(['race']).mean()"
   ]
  },
  {
   "cell_type": "markdown",
   "metadata": {},
   "source": [
    "It appears mental illness was most often reported among white and asian vicitims, but the relative values are somewhat close. "
   ]
  },
  {
   "cell_type": "markdown",
   "metadata": {},
   "source": [
    "What other questions can you ask and answer with this dataset? What questions do you want answered but **cannot** answer with this dataset? What are the limitations of this dataset?"
   ]
  },
  {
   "cell_type": "markdown",
   "metadata": {},
   "source": [
    "## Another Dataset: Mapping Police Violence\n",
    "\n",
    "Finally, let's have a quick look at Mapping Police Violence, another comprehensive accounting of people killed by police since 2013. Please see the [website](https://mappingpoliceviolence.org/) for more information. \n",
    "\n",
    "If you’re curious about the data, it’s well worth reading the descriptions of the data collection methods, and following links to other projects that Mapping Police Violence is built on. Following these links will also lead you to a variety of projects with similar aims."
   ]
  },
  {
   "cell_type": "code",
   "execution_count": null,
   "metadata": {
    "scrolled": true
   },
   "outputs": [],
   "source": [
    "df = pd.read_csv('mapping_police_violence.csv')\n",
    "df.head()"
   ]
  },
  {
   "cell_type": "code",
   "execution_count": null,
   "metadata": {},
   "outputs": [],
   "source": [
    "df.columns"
   ]
  },
  {
   "cell_type": "markdown",
   "metadata": {},
   "source": [
    "There are a lot of columns / features here that are worthy of exploration, and I will leave it up to you to decide if you want to engage with this. "
   ]
  }
 ],
 "metadata": {
  "kernelspec": {
   "display_name": "Python 3 (ipykernel)",
   "language": "python",
   "name": "python3"
  },
  "language_info": {
   "codemirror_mode": {
    "name": "ipython",
    "version": 3
   },
   "file_extension": ".py",
   "mimetype": "text/x-python",
   "name": "python",
   "nbconvert_exporter": "python",
   "pygments_lexer": "ipython3",
   "version": "3.8.12"
  }
 },
 "nbformat": 4,
 "nbformat_minor": 4
}
